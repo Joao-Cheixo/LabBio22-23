{
 "cells": [
  {
   "cell_type": "markdown",
   "id": "2a41de01",
   "metadata": {},
   "source": [
    "## Análise da literatura"
   ]
  },
  {
   "cell_type": "code",
   "execution_count": 1,
   "id": "07b3c638",
   "metadata": {},
   "outputs": [],
   "source": [
    "from Bio import Entrez\n",
    "from Bio import Medline"
   ]
  },
  {
   "cell_type": "code",
   "execution_count": 2,
   "id": "c4a8c83d",
   "metadata": {},
   "outputs": [],
   "source": [
    "Entrez.email = \"a91006@alunos.uminho.pt\"\n",
    "handle = Entrez.einfo()"
   ]
  },
  {
   "cell_type": "code",
   "execution_count": 3,
   "id": "a330619f",
   "metadata": {},
   "outputs": [],
   "source": [
    "result = Entrez.read(handle)\n",
    "#handle.close()"
   ]
  },
  {
   "cell_type": "code",
   "execution_count": 4,
   "id": "4813f2e1",
   "metadata": {},
   "outputs": [
    {
     "data": {
      "text/plain": [
       "['pubmed', 'protein', 'nuccore', 'ipg', 'nucleotide', 'structure', 'genome', 'annotinfo', 'assembly', 'bioproject', 'biosample', 'blastdbinfo', 'books', 'cdd', 'clinvar', 'gap', 'gapplus', 'grasp', 'dbvar', 'gene', 'gds', 'geoprofiles', 'homologene', 'medgen', 'mesh', 'nlmcatalog', 'omim', 'orgtrack', 'pmc', 'popset', 'proteinclusters', 'pcassay', 'protfam', 'pccompound', 'pcsubstance', 'seqannot', 'snp', 'sra', 'taxonomy', 'biocollections', 'gtr']"
      ]
     },
     "execution_count": 4,
     "metadata": {},
     "output_type": "execute_result"
    }
   ],
   "source": [
    "result[\"DbList\"]"
   ]
  },
  {
   "cell_type": "code",
   "execution_count": 5,
   "id": "4d4cf2b3",
   "metadata": {},
   "outputs": [
    {
     "data": {
      "text/plain": [
       "'PubMed bibliographic record'"
      ]
     },
     "execution_count": 5,
     "metadata": {},
     "output_type": "execute_result"
    }
   ],
   "source": [
    "handle = Entrez.einfo(db=\"pubmed\")\n",
    "record = Entrez.read(handle)\n",
    "record[\"DbInfo\"][\"Description\"]"
   ]
  },
  {
   "cell_type": "code",
   "execution_count": 6,
   "id": "96e40866",
   "metadata": {},
   "outputs": [
    {
     "name": "stdout",
     "output_type": "stream",
     "text": [
      "ALL, All Fields, All terms from all searchable fields\n",
      "UID, UID, Unique number assigned to publication\n",
      "FILT, Filter, Limits the records\n",
      "TITL, Title, Words in title of publication\n",
      "WORD, Text Word, Free text associated with publication\n",
      "MESH, MeSH Terms, Medical Subject Headings assigned to publication\n",
      "MAJR, MeSH Major Topic, MeSH terms of major importance to publication\n",
      "AUTH, Author, Author(s) of publication\n",
      "JOUR, Journal, Journal abbreviation of publication\n",
      "AFFL, Affiliation, Author's institutional affiliation and address\n",
      "ECNO, EC/RN Number, EC number for enzyme or CAS registry number\n",
      "SUBS, Supplementary Concept, CAS chemical name or MEDLINE Substance Name\n",
      "PDAT, Date - Publication, Date of publication\n",
      "EDAT, Date - Entrez, Date publication first accessible through Entrez\n",
      "VOL, Volume, Volume number of publication\n",
      "PAGE, Pagination, Page number(s) of publication\n",
      "PTYP, Publication Type, Type of publication (e.g., review)\n",
      "LANG, Language, Language of publication\n",
      "ISS, Issue, Issue number of publication\n",
      "SUBH, MeSH Subheading, Additional specificity for MeSH term\n",
      "SI, Secondary Source ID, Cross-reference from publication to other databases\n",
      "MHDA, Date - MeSH, Date publication was indexed with MeSH terms\n",
      "TIAB, Title/Abstract, Free text associated with Abstract/Title\n",
      "OTRM, Other Term, Other terms associated with publication\n",
      "INVR, Investigator, Investigator\n",
      "COLN, Author - Corporate, Corporate Author of publication\n",
      "CNTY, Place of Publication, Country of publication\n",
      "PAPX, Pharmacological Action, MeSH pharmacological action pre-explosions\n",
      "GRNT, Grant Number, NIH Grant Numbers\n",
      "MDAT, Date - Modification, Date of last modification\n",
      "CDAT, Date - Completion, Date of completion\n",
      "PID, Publisher ID, Publisher ID\n",
      "FAUT, Author - First, First Author of publication\n",
      "FULL, Author - Full, Full Author Name(s) of publication\n",
      "FINV, Investigator - Full, Full name of investigator\n",
      "TT, Transliterated Title, Words in transliterated title of publication\n",
      "LAUT, Author - Last, Last Author of publication\n",
      "PPDT, Print Publication Date, Date of print publication\n",
      "EPDT, Electronic Publication Date, Date of Electronic publication\n",
      "LID, Location ID, ELocation ID\n",
      "CRDT, Date - Create, Date publication first accessible through Entrez\n",
      "BOOK, Book, ID of the book that contains the document\n",
      "ED, Editor, Section's Editor\n",
      "ISBN, ISBN, ISBN\n",
      "PUBN, Publisher, Publisher's name\n",
      "AUCL, Author Cluster ID, Author Cluster ID\n",
      "EID, Extended PMID, Extended PMID\n",
      "DSO, DSO, Additional text from the summary\n",
      "AUID, Author - Identifier, Author Identifier\n",
      "PS, Subject - Personal Name, Personal Name as Subject\n",
      "COIS, Conflict of Interest Statements, Conflict of Interest Statements\n"
     ]
    }
   ],
   "source": [
    "for field in record[\"DbInfo\"][\"FieldList\"]:\n",
    "    print(\"%(Name)s, %(FullName)s, %(Description)s\" %field)"
   ]
  },
  {
   "cell_type": "code",
   "execution_count": 8,
   "id": "f0673160",
   "metadata": {},
   "outputs": [],
   "source": [
    "handle = Entrez.esearch(db = \"pubmed\", term = \"HHEX[title]\", retmax =\"40\")\n",
    "record = Entrez.read(handle)"
   ]
  },
  {
   "cell_type": "code",
   "execution_count": 9,
   "id": "7fcb2793",
   "metadata": {},
   "outputs": [
    {
     "data": {
      "text/plain": [
       "['36008411', '35887298', '35787684', '35641029', '35434453', '35385752', '35248949', '35197747', '34849419', '34399652', '34321041', '34011403', '33677034', '33447064', '33442279', '33425911', '33086067', '33002120', '32922661', '32770145', '32601467', '32492700', '32195947', '32090320', '32019914', '31843982', '31792183', '31697936', '31237015', '30428031', '30207601', '30121926', '30006544', '29871606', '29720110', '29453249', '29263042', '28604763', '28577303', '28189604']"
      ]
     },
     "execution_count": 9,
     "metadata": {},
     "output_type": "execute_result"
    }
   ],
   "source": [
    "id_list = record[\"IdList\"]\n",
    "id_list"
   ]
  },
  {
   "cell_type": "code",
   "execution_count": 10,
   "id": "789ac0ae",
   "metadata": {},
   "outputs": [
    {
     "data": {
      "text/plain": [
       "'128'"
      ]
     },
     "execution_count": 10,
     "metadata": {},
     "output_type": "execute_result"
    }
   ],
   "source": [
    "record[\"Count\"]"
   ]
  },
  {
   "cell_type": "code",
   "execution_count": 11,
   "id": "4debe843",
   "metadata": {},
   "outputs": [
    {
     "name": "stdout",
     "output_type": "stream",
     "text": [
      "\n",
      "Titulo: CK2-induced cooperation of HHEX with the YAP-TEAD4 complex promotes colorectal tumorigenesis.\n",
      "\n",
      "Abstract: Dysregulation of Hippo pathway leads to hyperactivation of YAP-TEAD transcriptional complex in various cancers, including colorectal cancer (CRC). In this study, we observed that HHEX (Hematopoietically expressed homeobox) may enhance transcription activity of the YAP-TEAD complex. HHEX associates with and stabilizes the YAP-TEAD complex on the regulatory genomic loci to coregulate the expression of a group of YAP/TEAD target genes. Also, HHEX may indirectly regulate these target genes by controlling YAP/TAZ expression. Importantly, HHEX is required for the pro-tumorigenic effects of YAP during CRC progression. In response to serum stimulation, CK2 (Casein Kinase 2) phosphorylates HHEX and enhances its interaction with TEAD4. A CK2 inhibitor CX-4945 diminishes the interaction between HHEX and TEAD4, leading to decreased expression of YAP/TEAD target genes. CX-4945 synergizes the antitumor activity of YAP-TEAD inhibitors verteporfin and Super-TDU. Elevated expression of HHEX is correlated with hyperactivation of YAP/TEAD and associated with poor prognosis of CRC patients. Overall, our study identifies HHEX as a positive modulator of YAP/TEAD to promote colorectal tumorigenesis, providing a new therapeutic strategy for targeting YAP/TEAD in CRC.\n",
      "Autores: ['Guo Y', 'Zhu Z', 'Huang Z', 'Cui L', 'Yu W', 'Hong W', 'Zhou Z', 'Du P', 'Liu CY']\n",
      "Fonte: Nat Commun. 2022 Aug 25;13(1):4995. doi: 10.1038/s41467-022-32674-6.\n",
      "============================================================================================================================================\n",
      "\n",
      "Titulo: Unraveling the Influence of HHEX Risk Polymorphism rs7923837 on Multiple Sclerosis Pathogenesis.\n",
      "\n",
      "Abstract: One of the multiple sclerosis (MS) risk polymorphisms, rs7923837, maps near the HHEX (hematopoietically-expressed homeobox) gene. This variant has also been associated with type 2 diabetes susceptibility and with triglyceride levels, suggesting its metabolic involvement. HHEX plays a relevant role as a negative regulator of inflammatory genes in microglia. A reciprocal repression was reported between HHEX and BCL6, another putative risk factor in MS. The present study evidenced statistically significant lower HHEX mRNA levels in lymphocytes of MS patients compared to those of controls, showing a similar trend in MS patients to the already described eQTL effect in blood from healthy individuals. Even though no differences were found in protein expression according to HHEX genotypes, statistically significant divergent subcellular distributions of HHEX appeared in patients and controls. The epistatic interaction detected between BCL6 and HHEX MS-risk variants in healthy individuals was absent in patients, indicative of a perturbed reciprocal regulation in the latter. Lymphocytes from MS carriers of the homozygous mutant genotype exhibited a distinctive, more energetic profile, both in resting and activated conditions, and significantly increased glycolytic rates in resting conditions when compared to controls sharing the HHEX genotype. In contrast, significantly higher mitochondrial mass was evidenced in homozygous mutant controls.\n",
      "Autores: ['Gonzalez-Jimenez A', 'Lopez-Cotarelo P', 'Agudo-Jimenez T', 'Martinez-Gines M', 'Garcia-Dominguez JM', 'Urcelay E', 'Espino-Paisan L']\n",
      "Fonte: Int J Mol Sci. 2022 Jul 19;23(14):7956. doi: 10.3390/ijms23147956.\n",
      "============================================================================================================================================\n",
      "\n",
      "Titulo: CRISPR screening uncovers a central requirement for HHEX in pancreatic lineage commitment and plasticity restriction.\n",
      "\n",
      "Abstract: The pancreas and liver arise from a common pool of progenitors. However, the underlying mechanisms that drive their lineage diversification from the foregut endoderm are not fully understood. To tackle this question, we undertook a multifactorial approach that integrated human pluripotent-stem-cell-guided differentiation, genome-scale CRISPR-Cas9 screening, single-cell analysis, genomics and proteomics. We discovered that HHEX, a transcription factor (TF) widely recognized as a key regulator of liver development, acts as a gatekeeper of pancreatic lineage specification. HHEX deletion impaired pancreatic commitment and unleashed an unexpected degree of cellular plasticity towards the liver and duodenum fates. Mechanistically, HHEX cooperates with the pioneer TFs FOXA1, FOXA2 and GATA4, shared by both pancreas and liver differentiation programmes, to promote pancreas commitment, and this cooperation restrains the shared TFs from activating alternative lineages. These findings provide a generalizable model for how gatekeeper TFs like HHEX orchestrate lineage commitment and plasticity restriction in broad developmental contexts.\n",
      "Autores: ['Yang D', 'Cho H', 'Tayyebi Z', 'Shukla A', 'Luo R', 'Dixon G', 'Ursu V', 'Stransky S', 'Tremmel DM', 'Sackett SD', 'Koche R', 'Kaplan SJ', 'Li QV', 'Park J', 'Zhu Z', 'Rosen BP', 'Pulecio J', 'Shi ZD', 'Bram Y', 'Schwartz RE', 'Odorico JS', 'Sidoli S', 'Wright CV', 'Leslie CS', 'Huangfu D']\n",
      "Fonte: Nat Cell Biol. 2022 Jul;24(7):1064-1076. doi: 10.1038/s41556-022-00946-4. Epub 2022 Jul 4.\n",
      "============================================================================================================================================\n",
      "\n",
      "Titulo: The transcription factor Hhex regulates inflammation-related genes in microglia.\n",
      "\n",
      "Abstract: Microglia have diverse physiological and pathological functions. However, the transcriptional mechanisms remain elusive. Here we sought new transcription factors relevant to microglial functions from the microglial transcriptome of stressed mice and evaluated their roles in primary microglia. TLR2 and TLR4 agonists increased Rel, Atf3, and Cebpb and decreased Hhex in primary microglia as repeated social defeat stress. Although Hhex was not studied in microglia, TLR2 and TLR4 agonists decreased Hhex, and Hhex overexpression attenuated TLR4-increased expression of inflammation-related genes. These findings suggest that Hhex negatively regulates inflammation-related genes in microglia and that TLR2/4 activation reduces Hhex, facilitating TLR4-mediated neuroinflammation.\n",
      "Autores: ['Sakate R', 'Nishiyama M', 'Fukuda Y', 'Kitaoka S', 'Furuyashiki T']\n",
      "Fonte: J Pharmacol Sci. 2022 Jul;149(3):166-171. doi: 10.1016/j.jphs.2022.04.006. Epub 2022 May 7.\n",
      "============================================================================================================================================\n",
      "\n",
      "Titulo: Transcription Factor Hematopoietically Expressed Homeobox Protein (Hhex) Negatively Regulates Osteoclast Differentiation by Controlling Cyclin-Dependent Kinase Inhibitors.\n",
      "\n",
      "Abstract: We investigated the role of hematopoietically expressed homeobox protein (Hhex) in osteoclast development. Trimethylation of lysine 27 of histone H3 at the cis-regulatory element of Hhex was maintained and that of lysine 4 was reduced during receptor activator of nuclear factor kappaB ligand (RANKL)-induced osteoclastogenesis, which was associated with a reduction of Hhex expression. Overexpression of Hhex in bone marrow-derived macrophages inhibited, whereas Hhex suppression promoted, RANKL-induced osteoclastogenesis in vitro. Conditional deletion of Hhex in osteoclast-lineage cells promoted osteoclastogenesis and reduced cancellous bone volume in mice, confirming the negative regulatory role of Hhex in osteoclast differentiation. Expression of cyclin-dependent kinase inhibitors such as Cdkn2a and Cdkn1b in osteoclast precursors was negatively regulated by Hhex, and Hhex deletion increased the ratio of cells at the G1 phase of the cell cycle. In conclusion, Hhex is an inhibitor of osteoclast differentiation that is regulated in an epigenetic manner and regulates the cell cycle of osteoclast precursors and the skeletal homeostasis. (c) 2022 The Authors. JBMR Plus published by Wiley Periodicals LLC on behalf of American Society for Bone and Mineral Research.\n",
      "Autores: ['Watanabe H', 'Okada H', 'Hirose J', 'Omata Y', 'Matsumoto T', 'Matsumoto M', 'Nakamura M', 'Saito T', 'Miyamoto T', 'Tanaka S']\n",
      "Fonte: JBMR Plus. 2022 Feb 14;6(4):e10608. doi: 10.1002/jbm4.10608. eCollection 2022 Apr.\n",
      "============================================================================================================================================\n",
      "\n",
      "Titulo: Tel2 regulates redifferentiation of bipotential progenitor cells via Hhex during zebrafish liver regeneration.\n",
      "\n",
      "Abstract: Upon extensive hepatocyte loss or impaired hepatocyte proliferation, liver regeneration occurs via biliary epithelial cell (BEC) transdifferentiation, which includes dedifferentiation of BECs into bipotential progenitor cells (BP-PCs) and then redifferentiation of BP-PCs to nascent hepatocytes and BECs. This BEC-driven liver regeneration involves reactivation of hepatoblast markers, but the underpinning mechanisms and their effects on liver regeneration remain largely unknown. Using a zebrafish extensive hepatocyte ablation model, we perform an N-ethyl-N-nitrosourea (ENU) forward genetic screen and identify a liver regeneration mutant, liver logan (lvl), in which the telomere maintenance 2 (tel2) gene is mutated. During liver regeneration, the tel2 mutation specifically inhibits transcriptional activation of a hepatoblast marker, hematopoietically expressed homeobox (hhex), in BEC-derived cells, which blocks BP-PC redifferentiation. Mechanistic studies show that Tel2 associates with the hhex promoter region and promotes hhex transcription. Our results reveal roles of Tel2 in the BP-PC redifferentiation process of liver regeneration by activating hhex.\n",
      "Autores: ['Zhang J', 'Zhou Y', 'Li S', 'Mo D', 'Ma J', 'Ni R', 'Yang Q', 'He J', 'Luo L']\n",
      "Fonte: Cell Rep. 2022 Apr 5;39(1):110596. doi: 10.1016/j.celrep.2022.110596.\n",
      "============================================================================================================================================\n",
      "\n",
      "Titulo: Liver progenitor cells may construct cysts having heterogeneous gene expression of liver-enriched transcription factors in mice with conditional knockout of the Hhex gene.\n",
      "\n",
      "Abstract: The deletion of the Hhex (Hematopoietically expressed homeobox) gene causes agenesis of the liver and polycystic liver disease depending on its timing. The present study was undertaken to determine the role of the Hhex gene in not only signaling cascades to cyst and abnormal bile duct formation but also the liver progenitor contribution to cystic development. Liver-specific Hhex knockout mice (Alb-Cre/Hhex(loxP/loxP)) in adult stages were used. Wild-type and conditional knockout (cKO) livers were immunohistologically compared for cell growth, and gene expression of liver functions, biliary markers and cystic markers. In Hhex cKO livers, cyst formation and dilated intrahepatic bile ducts were noted, which resembled the histology of the von Meyenburg complex. Ki67 immunohistochemistry showed that the growth activity in bile ducts and cysts of cKO livers was elevated compared with that of wild-type livers. There were far fewer liver progenitor cells or bile ductule cells around portal veins of cKO livers than in wild-type livers. Several liver-enriched transcription factors, including Foxa1 and Foxa2, were heterogeneously expressed in bile ducts and cysts of cKO livers whereas their expression in wild-type bile ducts was comparatively homogeneous. PC1 and PC2 immunohistochemistry revealed their up-regulation in cysts of cKO livers. These data indicate that Hhex is not only required for proper bile duct morphogenesis, but is also involved in cyst formation through promoted cell growth. Liver progenitor cells may form cysts. Unbalanced expression of liver-enriched transcription factors might be involved in cyst formation. Hhex cKO mice may be a good animal model for hepatic cystic diseases.\n",
      "Autores: ['Fukuchi T', 'Ueno T', 'Yamamoto T', 'Noguchi T', 'Shiojiri N']\n",
      "Fonte: Biochem Biophys Res Commun. 2022 Apr 30;602:49-56. doi: 10.1016/j.bbrc.2022.02.076. Epub 2022 Feb 24.\n",
      "============================================================================================================================================\n",
      "\n",
      "Titulo: Contribution of genetic variant identified in HHEX gene in the overweight Saudi patients confirmed with type 2 diabetes mellitus.\n",
      "\n",
      "Abstract: BACKGROUND: The rs7932837 polymorphism in the Hematopoietically expressed homeobox (HHEX) gene was discovered through genome-wide association studies and is a promising candidate for type 2 diabetes mellitus (T2DM), which is one of the risk factors for obesity and other complications. T2DM has been identified as a heterogeneous and multifactorial disease characterized by insulin resistance and secretion. AIM: The aim of this study was to investigate the rs7932837 polymorphism in the HHEX gene in overweight patients diagnosed with T2DM in the Saudi Population. METHODS: In this case-control study, one hundred T2DM cases and 100 controls were selected based on inclusion and exclusion criteria. Genotyping was performed with polymerase chair reaction-restriction fragment length polymorphism analysis and statistical analysis was performed between T2DM cases and controls for clinical characteristics, genotype and allele frequencies and multiple logistic regression analysis. RESULTS: In this study, T2DM cases were compared with healthy control subjects. Clinical characteristic analysis revealed the statistical analysis between age, weight, BMI, FBG, HDL-c, TC, TG and family history (p < 0.05). HWE analysis was in the accordance (p < 0.05). The rs7932837 polymorphism in the recessive model showed the positive association (AA + AG vs AA: 2.22 [1.25-3.96] & p = 0.006) and none of the genotypes or alleles were in the statistical association. Multiple logistic regression analysis revealed positive association with age, BMI and FBG (p < 0.05). CONCLUSION: This study concludes as rs7932837 polymorphism in the HHEX gene showed positive association with recessive model and future studies recommend to carry out with large number of sample size with additional polymorphisms in HHEX gene.\n",
      "Autores: ['Alfaifi M']\n",
      "Fonte: Saudi J Biol Sci. 2022 Feb;29(2):804-808. doi: 10.1016/j.sjbs.2021.10.028. Epub 2021 Oct 22.\n",
      "============================================================================================================================================\n",
      "\n",
      "Titulo: Risk of type 2 diabetes mellitus and cardiovascular complications in KCNJ11, HHEX and SLC30A8 genetic polymorphisms carriers: A case-control study.\n",
      "\n",
      "Abstract: BACKGROUND: Type 2 diabetes mellitus (T2DM) and cardiovascular disease (CVD) are two deadly diseases caused by the complex interaction of multiple genetic loci, lifestyle and environmental factors. Genome-wide association studies described hundreds of susceptibility loci for T2DM and T2DM-related CVD, but it remains uncertain due to geographic and ethnic variations. The objective of this study was to evaluate the associations of KCNJ11 rs5219, SLC30A8 rs13266634 and HHEX rs1111875 polymorphisms with T2DM and related CVD. METHODS: Genotyping of all three polymorphisms was performed using polymerase chain reaction-restriction fragment length polymorphism (PCR-RFLP) method on 250 T2DM cases and 246 healthy controls. Both descriptive and inferential statistical methods were applied using MedCalc and IBM SPSS software programs for statistical analyses. RESULTS: A significantly increased association of KCNJ11 rs5219 (p<0.05) with T2DM was found in dominant, recessive, heterozygote, homozygote, and allele model (aOR = 2.23, 2.03, 1.90, 3.09, and 1.80, respectively). For SLC30A8 rs13266634, only dominant, heterozygote, and allele model (aOR = 3.37, 3.59, and 1.79, respectively) showed significantly increased association with T2DM. SNP rs1111875 (HHEX) also revealed 2.08, 4.18, 5.93, and 2.08-times significant association in dominant, recessive, homozygote, and allele models. Besides, a significantly reduced correlation of KCNJ11 rs5219 was found with T2DM-related CVD in the recessive and allele model (aOR = 0.40 and 0.65, respectively). Again, a significant difference was observed between T2DM-related CVD and non-CVD patients in terms of gender distribution, fasting blood glucose (FBG), systolic blood pressure (SBP), diastolic blood pressure (DBP), total cholesterol (TC), and triglycerides (TG). CONCLUSIONS: Our investigation indicates that KCNJ11 rs5219, SLC30A8 rs13266634 and HHEX rs1111875 polymorphisms are associated with T2DM. Moreover, KCNJ11 rs5219 polymorphism is correlated with the risk of T2DM-related CVD.\n",
      "Autores: ['Aka TD', 'Saha U', 'Shati SA', 'Aziz MA', 'Begum M', 'Hussain MS', 'Millat MS', 'Uddin MS', 'Islam MS']\n",
      "Fonte: Heliyon. 2021 Nov 17;7(11):e08376. doi: 10.1016/j.heliyon.2021.e08376. eCollection 2021 Nov.\n",
      "============================================================================================================================================\n",
      "\n",
      "Titulo: Identification and genetic characterization of a NUP98-HHEX molecular rearrangement in a pediatric acute myeloid leukemia.\n",
      "\n",
      "Abstract: Vazio\n",
      "Autores: ['Sorel N', 'Raimbault A', 'Brizard F', 'Depaire T', 'Pierini V', 'Dupraz C', 'Millot F', 'Mecucci C', 'Chomel JC']\n",
      "Fonte: Leuk Lymphoma. 2021 Dec;62(14):3531-3535. doi: 10.1080/10428194.2021.1966784. Epub 2021 Aug 17.\n",
      "============================================================================================================================================\n",
      "\n",
      "Titulo: Hhex inhibits cell migration via regulating RHOA/CDC42-CFL1 axis in human lung cancer cells.\n",
      "\n",
      "Abstract: BACKGROUND: Hhex(human hematopoietically expressed homeobox), also known as PRH, is originally considered as a transcription factor to regulate gene expression due to its homebox domain. Increasing studies show that Hhex plays a significant role in development, including anterior-posterior axis formation, vascular development and HSCs self-renewal etc. Hhex is linked to many diseases such as cancers, leukemia, and type-2 diabetes. Although Hhex is reported to inhibit cell migration and invasion of breast and prostate epithelial cells by upregulating Endoglin expression, the effect and molecular mechanism for lung cancer cell motility regulation remains elusive. METHODS: Human non-small cell lung cancer cells and HEK293FT cells were used to investigate the molecular mechanism of Hhex regulating lung cancer cell migration by using Western blot, immunoprecipitation, wound-healing scratch assay, laser confocal. RESULTS: Our data indicated that Hhex could inhibit cell migration and cell protrusion formation in lung cancer cells. In addition, Hhex inhibited CFL1 phosphorylation to keep its F-actin-severing activity. RHOGDIA was involved in Hhex-induced CFL1 phosphorylation regulation. Hhex enhanced RHOGDIA interaction with RHOA/CDC42, thus maintaining RHOA/CDC42 at an inactive form. CONCLUSION: Collectively, these data indicate that Hhex inhibited the activation of RHOA/CDC42 by enhancing interaction of RHOGDIA with RHOA/CDC42, and then RHOA/ CDC42-p-CFL1 signaling pathway was blocked. Consequently, the formation of Filopodium and Lamellipodium on the cell surface was suppressed, and thus the ability of lung cancer cells to migrate was decreased accordingly. Our findings show Hhex plays an important role in regulating migration of lung cancer cells and may provide a potential target for lung cancer therapy. Video abstract.\n",
      "Autores: ['Li X', 'Ma G', 'Guo W', 'Mu N', 'Wang Y', 'Liu X', 'Su L']\n",
      "Fonte: Cell Commun Signal. 2021 Jul 28;19(1):80. doi: 10.1186/s12964-021-00763-6.\n",
      "============================================================================================================================================\n",
      "\n",
      "Titulo: Liver development is restored by blastocyst complementation of HHEX knockout in mice and pigs.\n",
      "\n",
      "Abstract: BACKGROUND: There are over 17,000 patients in the US waiting to receive liver transplants, and these numbers are increasing dramatically. Significant effort is being made to obtain functional hepatocytes and liver tissue that can for therapeutic use in patients. Blastocyst complementation is a challenging, innovative technology that could fundamentally change the future of organ transplantation. It requires the knockout (KO) of genes essential for cell or organ development in early stage host embryos followed by injection of donor pluripotent stem cells (PSCs) into host blastocysts to generate chimeric offspring in which progeny of the donor cells populate the open niche to develop functional tissues and organs. METHODS: The HHEX gene is necessary for proper liver development. We engineered loss of HHEX gene expression in early mouse and pig embryos and performed intraspecies blastocyst complementation of HHEX KO embryos with eGFP-labeled PSCs in order to rescue the loss of liver development. RESULTS: Loss of HHEX gene expression resulted in embryonic lethality at day 10.5 in mice and produced characteristics of lethality at day 18 in pigs, with absence of liver tissue in both species. Analyses of mouse and pig HHEX KO fetuses confirmed significant loss of liver-specific gene and protein expression. Intraspecies blastocyst complementation restored liver formation and liver-specific proteins in both mouse and pig. Livers in complemented chimeric fetuses in both species were comprised of eGFP-labeled donor-derived cells and survived beyond the previously observed time of HHEX KO embryonic lethality. CONCLUSIONS: This work demonstrates that loss of liver development in the HHEX KO can be rescued via blastocyst complementation in both mice and pigs. This complementation strategy is the first step towards generating interspecies chimeras for the goal of producing human liver cells, tissues, and potentially complete organs for clinical transplantation.\n",
      "Autores: ['Ruiz-Estevez M', 'Crane AT', 'Rodriguez-Villamil P', 'Ongaratto FL', 'You Y', 'Steevens AR', 'Hill C', 'Goldsmith T', 'Webster DA', 'Sherry L', 'Lim S', 'Denman N', 'Low WC', 'Carlson DF', 'Dutton JR', 'Steer CJ', 'Gafni O']\n",
      "Fonte: Stem Cell Res Ther. 2021 May 19;12(1):292. doi: 10.1186/s13287-021-02348-z.\n",
      "============================================================================================================================================\n",
      "\n",
      "Titulo: Hematopoietically-expressed homeobox protein HHEX regulates adipogenesis in preadipocytes.\n",
      "\n",
      "Abstract: Obesity is a key health problem and is associated with a high risk of type 2 diabetes and other metabolic diseases. Increased weight as well as dysregulation of adipocyte homeostasis are the main drivers of obesity. Pathological adipogenesis plays a central role in obesity-related complications such as type 2 diabetes, hypertension and others. Thus, an understanding of the molecular mechanisms involved in physiological and pathogenic adipogenesis can help to develop new strategies to prevent or cure obesity and related diseases. Previously, genetic polymorphisms in the HHEX gene that encodes the homeobox transcription factor HEX (PRH) were found to be associated with type 2 diabetes and high body mass index at birth by GWAS in distinct human populations. To understand whether HHEX has a regulatory function in adipogenesis, we performed RNAi-mediated knockdown of Hhex in preadipocyte cell line 3T3-L1 in vitro, and studied changes in the efficacy of adipogenesis. We found that Hhex knockdown blocks adipogenesis in preadipocytes in a dose-dependent manner and leads to a significant decrease of PPAR-gamma protein - the main regulator of adipogenesis. We also propose that Hhex can play an important role in adipocyte differentiation by affecting the level of the PPAR-gamma protein. Our study supports the claim that Hhex plays an important role in adipocyte differentiation program and can contribute to fat tissue homeostasis.\n",
      "Autores: ['Evseeva MN', 'Dyikanov DT', 'Karagyaur MN', 'Prikazchikova TA', 'Sheptulina AF', 'Balashova MS', 'Zatsepin TS', 'Rubtsov YP', 'Kulebyakin KY']\n",
      "Fonte: Biochimie. 2021 Jun;185:68-77. doi: 10.1016/j.biochi.2021.02.011. Epub 2021 Mar 4.\n",
      "============================================================================================================================================\n",
      "\n",
      "Titulo: Association Between Single Nucleotide Polymorphisms in CDKAL1 and HHEX and Type 2 Diabetes in Chinese Population.\n",
      "\n",
      "Abstract: PURPOSE: Type 2 diabetes mellitus (T2DM) has a high global prevalence, and the interaction of environmental factors and genetic factors may contribute to the risk of T2DM. We aimed to investigate the association between T2DM and the single nucleotide polymorphisms (SNPs) in genes (CDKAL1 and HHEX) associated with insulin secretion. SUBJECTS AND METHODS: T2DM (n=1,169) and nondiabetic (NDM) (n=1,277) subjects were enrolled and the eight SNPs in CDKAL1 and HHEX genes associated with insulin secretion were genotyped in a Chinese population using MassARRAY. Then, the association of these SNPs with T2DM was analyzed. RESULTS: Our results revealed that four SNPs (rs4712524, rs10946398, rs7754840 in CDKAL1, and rs5015480 in HHEX) showed significantly different distributions between the T2DM and NDM groups (P<0.00625). The G allele of rs4712524 (P=0.004, OR=1.184; 95% CI=1.057-1.327), C allele of rs10946398 (P<0.001, OR=1.247; 95% CI=1.112-1.398), and C allele of rs775480 in CDKAL1 (P<0.001, OR=1.229; 95% CI=1.096-1.387) functioned as risk alleles of T2DM. The C allele of rs5015480 in HHEX (P<0.001, OR=1.295; 95% CI=1.124-1.493) was also the risk factor for T2DM. The haplotype analysis revealed that CDKAL1 haplotype rs4712524G-rs10946398C-rs7754840C-rs9460546G (P=0.001, OR=1.210; 95% CI=1.076-1.360) and HHEX haplotype rs1111875C-rs5015480C (P<0.001, OR=1.364; 95% CI=1.180-1.576) were the risk factors of T2DM. CONCLUSION: Our results revealed that genetic variations in CDKAL1 and HHEX were associated with T2DM susceptibility in Chinese population.\n",
      "Autores: ['Li C', 'Shen K', 'Yang M', 'Yang Y', 'Tao W', 'He S', 'Shi L', 'Yao Y', 'Li Y']\n",
      "Fonte: Diabetes Metab Syndr Obes. 2021 Jan 5;13:5113-5123. doi: 10.2147/DMSO.S288587. eCollection 2020.\n",
      "============================================================================================================================================\n",
      "\n",
      "Titulo: Association Between CDKAL1, HHEX, CDKN2A/2B and IGF2BP2 Gene Polymorphisms and Susceptibility to Type 2 Diabetes in Uttarakhand, India.\n",
      "\n",
      "Abstract: INTRODUCTION: Current study aimed to find the association of genes polymorphism of CDKAL1, HHEX, CDKN2A/2B, and IGF2BP2 with type 2 diabetes (T2DM) in the population of Uttarakhand. RESEARCH DESIGN AND METHODS: Overall 469 persons comprising 369 recently diagnosed T2DM cases and 100 healthy control were enrolled in the present study. The polymorphisms were analyzed through the PCR-RFLP technique. RESULTS: For the rs10440833 variant (CDKAL1), CC genotype's frequency was significantly high among T2DM subjects than controls and increase the T2DM risk (OR: 4.46, 95% CI: 2.22-8.99, p <0.0001). The c allele was significantly found to increase the T2DM risk (OR: 2.20, 95% CI: 1.54-3.14, p <0.001). In the rs1111875 variant (HHEX), the difference of genotype frequencies among T2DM cases and control was statistically non-significant (p-0.138). We did not observe significant differences in allelic frequencies among T2DM cases and control (p-0.444). In the case of rs10811661 variant (CDKN2A/2B), frequency of both TC (OR: 3.16, 95% CI: 1.84-5.42, p <0.0001) and TT (OR: 5.84, 95% CI: 1.75-19.45, p -0.004) genotype were significantly higher in T2DM cases in comparison with control and significantly associated with higher T2DM risk. Compared to the C allele, a significant increase in T2DM risk was documented with the T allele (OR: 2.47, 95% CI: 1.55-3.92, p <0.001). For rs4402960 variant (IGF2BP2), TT genotype contributed to increased T2DM risk (OR: 4.25, 95% CI: 2.02-8.93, p -0.0001). T allele's frequency was significantly high in T2DM cases in comparison with healthy control. Except WHR, HDL-C, exercise, household chores, standing work more than 3 hours, and family history, significant differences were found between T2DM cases and healthy individuals in all other parameters. CONCLUSION: Our study concluded a significant association of CDKAL1, CDKN2A/2B, and IGF2BP2 polymorphism with T2DM in the Uttarakhand population. For HHEX, the genotype and allelic frequencies difference between T2DM cases and control were statistically non-significant. However, a significant association of HHEX gene polymorphism with T2DM was observed only under the dominant model.\n",
      "Autores: ['Verma AK', 'Goyal Y', 'Bhatt D', 'Beg MMA', 'Dev K', 'Alsahli MA', 'Rahmani AH']\n",
      "Fonte: Diabetes Metab Syndr Obes. 2021 Jan 6;14:23-36. doi: 10.2147/DMSO.S284998. eCollection 2021.\n",
      "============================================================================================================================================\n",
      "\n",
      "Titulo: Clinicopathological Significances of Cancer Stem Cell-Associated HHEX Expression in Breast Cancer.\n",
      "\n",
      "Abstract: Aberrant expression of the transcription factor hematopoietic ally expressed homeobox/proline-rich homeodomain (HHEX/PRH) is implicated in numerous cancers. However, the association of HHEX with breast cancer (BC) remains unclear. In this study, HHEX mRNA and protein expression were analyzed using the Oncomine, UALCAN, GEPIA, TCGAportal, and HPA databases. We evaluated the effect of HHEX on clinicopathological parameters using Kaplan-Meier plotter, OncoLnc, TCGAportal, PROGgeneV2, and BC-GenExMiner. Western blotting was performed to compare the level of HHEX in breast samples of Tientsin Albino 2 mice, human breast precancerous lesions, benign breast tumors, and BC. The correlation between HHEX and cancer stem cells was investigated using the GEO (GSE52327 and GSE94865) and GEPIA datasets. Networks between HHEX and survival-related gene marker sets and microRNAs were analyzed using GEPIA, StarBase, and Cytoscape. Results of this study showed that HHEX expression in BC was significantly lower than those in breast precancerous lesions and benign breast tumors at both mRNA and protein levels. BC patients with lower HHEX expression had significantly worse overall survival and disease-free survival. Moreover, HHEX significantly affected the clinicopathology of BC. Specifically, low HHEX expression was correlated with the following groups of patients: age </=51 years, ER-negative or PR-negative patients, HER-2 positive, triple-negative breast cancer, and basal-like BC. Immunohistochemical analysis of the breast samples showed significant differences of HHEX staining index (P < 0.001) among the three groups. To further investigate the mechanism, we determined the intersection of differentially expressed genes related to BC stem cells and those genes after HHEX expression was altered. This led to the identification of four potentially regulated genes-CXL12, BLNK, PAG1, and LPXN. Using StarBase and km-plotter, the negative regulation of HHEX expression and survival trends, including miR-130b, miR-30e, and miR-301b were joined into miRNA-HHEX-mRNA potential regulatory network. The abilities of proliferation, migration and invasion increased in MDA-MB-231 and BT-549 breast cancer cell lines after HHEX down expression and decreased after HHEX overexpression compared them in the control cells. In conclusion, these data suggest that HHEX expression is downregulated in BC and HHEX may regulate the development of BC through the stem cell-related genes.\n",
      "Autores: ['Zhang K', 'Zhao Q', 'Li Z', 'Fu F', 'Zhang H', 'Fu J', 'Zheng M', 'Zhang S']\n",
      "Fonte: Front Cell Dev Biol. 2020 Dec 23;8:605744. doi: 10.3389/fcell.2020.605744. eCollection 2020.\n",
      "============================================================================================================================================\n",
      "\n",
      "Titulo: Hhex Directly Represses BIM-Dependent Apoptosis to Promote NK Cell Development and Maintenance.\n",
      "\n",
      "Abstract: Hhex encodes a homeobox transcriptional regulator important for embryonic development and hematopoiesis. Hhex is highly expressed in NK cells, and its germline deletion results in significant defects in lymphoid development, including NK cells. To determine if Hhex is intrinsically required throughout NK cell development or for NK cell function, we generate mice that specifically lack Hhex in NK cells. NK cell frequency is dramatically reduced, while NK cell differentiation, IL-15 responsiveness, and function at the cellular level remain largely normal in the absence of Hhex. Increased IL-15 availability fails to fully reverse NK lymphopenia following conditional Hhex deletion, suggesting that Hhex regulates developmental pathways extrinsic to those dependent on IL-15. Gene expression and functional genetic approaches reveal that Hhex regulates NK cell survival by directly binding Bcl2l11 (Bim) and repressing expression of this key apoptotic mediator. These data implicate Hhex as a transcriptional regulator of NK cell homeostasis and immunity.\n",
      "Autores: ['Goh W', 'Scheer S', 'Jackson JT', 'Hediyeh-Zadeh S', 'Delconte RB', 'Schuster IS', 'Andoniou CE', 'Rautela J', 'Degli-Esposti MA', 'Davis MJ', 'McCormack MP', 'Nutt SL', 'Huntington ND']\n",
      "Fonte: Cell Rep. 2020 Oct 20;33(3):108285. doi: 10.1016/j.celrep.2020.108285.\n",
      "============================================================================================================================================\n",
      "\n",
      "Titulo: HHEX expression drives AML development.\n",
      "\n",
      "Abstract: Vazio\n",
      "Autores: ['Starczynowski DT']\n",
      "Fonte: Blood. 2020 Oct 1;136(14):1575-1576. doi: 10.1182/blood.2020007049.\n",
      "============================================================================================================================================\n",
      "\n",
      "Titulo: The NKL-code for innate lymphoid cells reveals deregulated expression of NKL homeobox genes HHEX and HLX in anaplastic large cell lymphoma (ALCL).\n",
      "\n",
      "Abstract: NKL homeobox genes encode developmental transcription factors and display an NKL-code according to their physiological expression pattern in hematopoiesis. Here, we analyzed public transcriptome data from primary innate lymphoid cells (ILCs) for NKL homeobox gene activities and found that ILC3 expressed exclusively HHEX while in ILC1 and ILC2 these genes were silenced. Deregulation of the NKL-code promotes hematopoietic malignancies, including anaplastic large cell lymphoma (ALCL) which reportedly may derive from ILC3. Accordingly, we analyzed NKL homeobox gene activities in ALCL cell lines and investigated their role in this malignancy. Transcriptome analyses demonstrated low expression levels of HHEX but powerfully activated HLX. Forced expression of HHEX in ALCL cell lines induced genes involved in apoptosis and ILC3 differentiation, indicating tumor suppressor activity. ALCL associated NPM1-ALK and JAK-STAT3-signalling drove enhanced expression of HLX while discounting HHEX. Genomic profiling revealed copy number gains at the loci of HLX and STAT3 in addition to genes encoding both STAT3 regulators (AURKA, BCL3, JAK3, KPNB1, NAMPT, NFAT5, PIM3, ROCK1, SIX1, TPX2, WWOX) and targets (BATF3, IRF4, miR135b, miR21, RORC). Transcriptome data of ALCL cell lines showed absence of STAT3 mutations while MGA was mutated and downregulated, encoding a novel potential STAT3 repressor. Furthermore, enhanced IL17F-signalling activated HLX while TGFbeta-signalling inhibited HHEX expression. Taken together, our data extend the scope of the NKL-code for ILCs and spotlight aberrant expression of NKL homeobox gene HLX in ALCL. HLX represents a direct target of ALCL hallmark factor STAT3 and deregulates cell survival and differentiation in this malignancy.\n",
      "Autores: ['Nagel S', 'Pommerenke C', 'MacLeod RAF', 'Meyer C', 'Kaufmann M', 'Drexler HG']\n",
      "Fonte: Oncotarget. 2020 Aug 25;11(34):3208-3226. doi: 10.18632/oncotarget.27683. eCollection 2020 Aug 25.\n",
      "============================================================================================================================================\n",
      "\n",
      "Titulo: Hhex drives B cells down memory lane.\n",
      "\n",
      "Abstract: Vazio\n",
      "Autores: ['Good-Jacobson KL', 'Groom JR']\n",
      "Fonte: Nat Immunol. 2020 Sep;21(9):968-969. doi: 10.1038/s41590-020-0763-9.\n",
      "============================================================================================================================================\n",
      "\n",
      "Titulo: The transcription factor Hhex cooperates with the corepressor Tle3 to promote memory B cell development.\n",
      "\n",
      "Abstract: Memory B cells (MBCs) are essential for long-lived humoral immunity. However, the transcription factors involved in MBC differentiation are poorly defined. Here, using single-cell RNA sequencing analysis, we identified a population of germinal center (GC) B cells in the process of differentiating into MBCs. Using an inducible CRISPR-Cas9 screening approach, we identified the hematopoietically expressed homeobox protein Hhex as a transcription factor regulating MBC differentiation. The corepressor Tle3 was also identified in the screen and was found to interact with Hhex to promote MBC development. Bcl-6 directly repressed Hhex in GC B cells. Reciprocally, Hhex-deficient MBCs exhibited increased Bcl6 expression and reduced expression of the Bcl-6 target gene Bcl2. Overexpression of Bcl-2 was able to rescue MBC differentiation in Hhex-deficient cells. We also identified Ski as an Hhex-induced transcription factor involved in MBC differentiation. These findings establish an important role for Hhex-Tle3 in regulating the transcriptional circuitry governing MBC differentiation.\n",
      "Autores: ['Laidlaw BJ', 'Duan L', 'Xu Y', 'Vazquez SE', 'Cyster JG']\n",
      "Fonte: Nat Immunol. 2020 Sep;21(9):1082-1093. doi: 10.1038/s41590-020-0713-6. Epub 2020 Jun 29.\n",
      "============================================================================================================================================\n",
      "\n",
      "Titulo: HHEX promotes myeloid transformation in cooperation with mutant ASXL1.\n",
      "\n",
      "Abstract: Additional sex combs-like 1 (ASXL1), an epigenetic modulator, is frequently mutated in myeloid neoplasms. Recent analyses of mutant ASXL1 conditional knockin (ASXL1-MT-KI) mice suggested that ASXL1-MT alone is insufficient for myeloid transformation. In our previous study, we used retrovirus-mediated insertional mutagenesis, which exhibited the susceptibility of ASXL1-MT-KI hematopoietic cells to transform into myeloid leukemia cells. In this screening, we identified the hematopoietically expressed homeobox (HHEX) gene as one of the common retrovirus integration sites. In this study, we investigated the potential cooperation between ASXL1-MT and HHEX in myeloid leukemogenesis. Expression of HHEX enhanced proliferation of ASXL1-MT-expressing HSPCs by inhibiting apoptosis and blocking differentiation, whereas it showed only modest effect in normal HSPCs. Moreover, ASXL1-MT and HHEX accelerated the development of RUNX1-ETO9a and FLT3-ITD leukemia. Conversely, HHEX depletion profoundly attenuated the colony-forming activity and leukemogenicity of ASXL1-MT-expressing leukemia cells. Mechanistically, we identified MYB and ETV5 as downstream targets for ASXL1-MT and HHEX by using transcriptome and chromatin immunoprecipitation-next-generation sequencing analyses. Moreover, we found that expression of ASXL1-MT enhanced the binding of HHEX to the promoter loci of MYB or ETV5 via reducing H2AK119ub. Depletion of MYB or ETV5 induced apoptosis or differentiation in ASXL1-MT-expressing leukemia cells, respectively. In addition, ectopic expression of MYB or ETV5 reversed the reduced colony-forming activity of HHEX-depleted ASXL1-MT-expressing leukemia cells. These findings indicate that the HHEX-MYB/ETV5 axis promotes myeloid transformation in ASXL1-mutated preleukemia cells.\n",
      "Autores: ['Takeda R', 'Asada S', 'Park SJ', 'Yokoyama A', 'Becker HJ', 'Kanai A', 'Visconte V', 'Hershberger C', 'Hayashi Y', 'Yonezawa T', 'Tamura M', 'Fukushima T', 'Tanaka Y', 'Fukuyama T', 'Matsumoto A', 'Yamasaki S', 'Nakai K', 'Yamazaki S', 'Inaba T', 'Shibata T', 'Inoue D', 'Honda H', 'Goyama S', 'Maciejewski JP', 'Kitamura T']\n",
      "Fonte: Blood. 2020 Oct 1;136(14):1670-1684. doi: 10.1182/blood.2019004613.\n",
      "============================================================================================================================================\n",
      "\n",
      "Titulo: The association between HHEX single-nucleotide polymorphism rs5015480 and gestational diabetes mellitus: A meta-analysis.\n",
      "\n",
      "Abstract: OBJECTIVE: To evaluate the association between the rs5015480 single-nucleotide polymorphism of hematopoietically expressed homeobox (HHEX) and gestational diabetes mellitus (GDM) via meta-analysis. METHODS: A comprehensive electronic search was performed of the PubMed, Springer, Science Direct, China National Knowledge Infrastructure (CNKI), Wanfang, and VIP databases for studies worldwide on the relationship between HHEX rs5015480 and GDM published up to July 2019. Rigorous inclusion and exclusion criteria were developed, and the quality of studies was assessed using the Newcastle-Ottawa scale, followed by heterogeneity evaluation using the Q test and I statistic and data pooling. A meta-analysis was then performed on the included studies using RevMan 5.3. RESULTS: A total of 4 eligible case-control studies were included, involving a total of 1651 patients and 3513 controls. The meta-analysis showed the following odds ratios: C allele vs T allele, 1.24 (95% confidence interval [CI]: 1.12-1.38); CC genotype vs TT genotype, 1.65 (95% CI: 1.26-2.17); CC genotype vs CT genotype, 1.22 (95% CI: 1.00-1.50); and CC genotype vs CT + TT genotype, 1.32 (95% CI: 1.09-1.61). CONCLUSIONS: HHEX rs5015480 represents a risk factor for the development of GDM, and pregnant women carrying the CC genotype have an increased risk of GDM.\n",
      "Autores: ['Wang X', 'Ding Y', 'Zhang X', 'Rao J', 'Yu H', 'Pan H']\n",
      "Fonte: Medicine (Baltimore). 2020 Mar;99(12):e19478. doi: 10.1097/MD.0000000000019478.\n",
      "============================================================================================================================================\n",
      "\n",
      "Titulo: Hhex regulates murine lymphoid progenitor survival independently of Stat5 and Cdkn2a.\n",
      "\n",
      "Abstract: The transcription factor Hhex (hematopoietically expressed homeobox gene) is critical for development of multiple lymphoid lineages beyond the common lymphoid progenitor. In addition, Hhex regulates hematopoietic stem cell (HSC) self-renewal, emergency hematopoiesis, and acute myeloid leukemia initiation and maintenance. Hhex mediates its effects on HSCs and acute myeloid leukemia stem cells via repression of the Cdkn2a tumor suppressor locus. However, we report here that loss of Cdkn2a does not rescue the failure of lymphoid development caused by loss of Hhex. As loss of Hhex causes apoptosis of lymphoid progenitors associated with impaired Bcl2 expression and defective Stat5b signaling, we tested the effects of rescuing these pathways using transgenic mice. Expression of the anti-apoptotic factor Bcl2, but not activated Stat5, rescued the development of T-, B-, and NK-cell lineages in the absence of Hhex. These results indicate that Bcl2 expression, but not Stat5b signaling or loss of Cdkn2a, can overcome the lymphoid deficiencies caused by the absence of Hhex, suggesting that the primary role of this transcription factor is to promote survival of lymphoid progenitors during early lymphoid development.\n",
      "Autores: ['Jackson JT', \"O'Donnell K\", 'Light A', 'Goh W', 'Huntington ND', 'Tarlinton DM', 'McCormack MP']\n",
      "Fonte: Eur J Immunol. 2020 Jul;50(7):959-971. doi: 10.1002/eji.201948371. Epub 2020 Mar 4.\n",
      "============================================================================================================================================\n",
      "\n",
      "Titulo: Blood platelets stimulate cancer extravasation through TGFbeta-mediated downregulation of PRH/HHEX.\n",
      "\n",
      "Abstract: Cancer cells go through a process known as epithelial-mesenchymal transition (EMT) during which they acquire the ability to migrate and invade extracellular matrix. Some cells also acquire the ability to move across a layer of endothelial cells to enter and exit the bloodstream; intra- and extravasation, respectively. The transcription factor PRH/HHEX (proline-rich homeodomain/haematopoietically expressed homeobox) controls cell proliferation and cell migration/invasion in a range of cell types. Our previous work showed that PRH activity is downregulated in prostate cancer cells owing to increased inhibitory PRH phosphorylation and that this increases cell proliferation and invasion. PRH inhibits migration and invasion by prostate and breast epithelial cells in part by activating the transcription of Endoglin, a transforming growth factor beta (TGFbeta) co-receptor. Here we show that depletion of PRH in immortalised prostate epithelial cells results in increased extravasation in vitro. We show that blood platelets stimulate extravasation of cells with depleted PRH and that inhibition of TGFbeta signalling blocks the effects of platelets on these cells. Moreover, TGFbeta induces changes characteristic of EMT including decreased E-Cadherin expression and increased Snail expression. We show that in prostate cells PRH regulates multiple genes involved in EMT and TGFbeta signalling. However, both platelets and TGFbeta increase PRH phosphorylation. In addition, TGFbeta increases binding of its effector pSMAD3 to the PRH/HHEX promoter and downregulates PRH protein and mRNA levels. Thus, TGFbeta signalling downregulates PRH activity by multiple mechanisms and induces an EMT that facilitates extravasation and sensitises cells to TGFbeta.\n",
      "Autores: ['Marcolino E', 'Siddiqui YH', 'van den Bosch M', 'Poole AW', 'Jayaraman PS', 'Gaston K']\n",
      "Fonte: Oncogenesis. 2020 Feb 4;9(2):10. doi: 10.1038/s41389-020-0189-0.\n",
      "============================================================================================================================================\n",
      "\n",
      "Titulo: A Runaway PRH/HHEX-Notch3-Positive Feedback Loop Drives Cholangiocarcinoma and Determines Response to CDK4/6 Inhibition.\n",
      "\n",
      "Abstract: Aberrant Notch and Wnt signaling are known drivers of cholangiocarcinoma (CCA), but the underlying factors that initiate and maintain these pathways are not known. Here, we show that the proline-rich homeodomain protein/hematopoietically expressed homeobox (PRH/HHEX) transcription factor forms a positive transcriptional feedback loop with Notch3 that is critical in CCA. PRH/HHEX expression is elevated in CCA, and depletion of PRH reduces CCA tumor growth in a xenograft model. Overexpression of PRH in primary human biliary epithelial cells is sufficient to increase cell proliferation and produce an invasive phenotype. Interrogation of the gene networks regulated by PRH and Notch3 reveals that unlike Notch3, PRH directly activates canonical Wnt signaling. These data indicate that hyperactivation of Notch and Wnt signaling is independent of the underlying mutational landscape and has a common origin in dysregulation of PRH. Moreover, they suggest new therapeutic options based on the dependence of specific Wnt, Notch, and CDK4/6 inhibitors on PRH activity. SIGNIFICANCE: The PRH/HHEX transcription factor is an oncogenic driver in cholangiocarcinoma that confers sensitivity to CDK4/6 inhibitors.\n",
      "Autores: ['Kitchen P', 'Lee KY', 'Clark D', 'Lau N', 'Lertsuwan J', 'Sawasdichai A', 'Satayavivad J', 'Oltean S', 'Afford S', 'Gaston K', 'Jayaraman PS']\n",
      "Fonte: Cancer Res. 2020 Feb 15;80(4):757-770. doi: 10.1158/0008-5472.CAN-19-0942. Epub 2019 Dec 16.\n",
      "============================================================================================================================================\n",
      "\n",
      "Titulo: Homeobox protein Hhex negatively regulates Treg cells by inhibiting Foxp3 expression and function.\n",
      "\n",
      "Abstract: Regulatory T (Treg) cells play an essential role in maintaining immune homeostasis, but the suppressive function of Treg cells can be an obstacle in the treatment of cancer and chronic infectious diseases. Here, we identified the homeobox protein Hhex as a negative regulator of Treg cells. The expression of Hhex was lower in Treg cells than in conventional T (Tconv) cells. Hhex expression was repressed in Treg cells by TGF-beta/Smad3 signaling. Retroviral overexpression of Hhex inhibited the differentiation of induced Treg (iTreg) cells and the stability of thymic Treg (tTreg) cells by significantly reducing Foxp3 expression. Moreover, Hhex-overexpressing Treg cells lost their immunosuppressive activity and failed to prevent colitis in a mouse model of inflammatory bowel disease (IBD). Hhex expression was increased; however, Foxp3 expression was decreased in Treg cells in a delayed-type hypersensitivity (DTH) reaction, a type I immune reaction. Hhex directly bound to the promoters of Foxp3 and other Treg signature genes, including Il2ra and Ctla4, and repressed their transactivation. The homeodomain and N-terminal repression domain of Hhex were critical for inhibiting Foxp3 and other Treg signature genes. Thus, Hhex plays an essential role in inhibiting Treg cell differentiation and function via inhibition of Foxp3.\n",
      "Autores: ['Jang SW', 'Hwang SS', 'Kim HS', 'Kim MK', 'Lee WH', 'Hwang SU', 'Gwak J', 'Yew SK', 'Flavell RA', 'Lee GR']\n",
      "Fonte: Proc Natl Acad Sci U S A. 2019 Dec 17;116(51):25790-25799. doi: 10.1073/pnas.1907224116. Epub 2019 Dec 2.\n",
      "============================================================================================================================================\n",
      "\n",
      "Titulo: Hhex regulates the specification and growth of the hepatopancreatic ductal system.\n",
      "\n",
      "Abstract: Significant efforts have advanced our understanding of foregut-derived organ development; however, little is known about the molecular mechanisms that underlie the formation of the hepatopancreatic ductal (HPD) system. Here, we report a role for the homeodomain transcription factor Hhex in directing HPD progenitor specification in zebrafish. Loss of Hhex function results in impaired HPD system formation. We found that Hhex specifies a distinct population of HPD progenitors that gives rise to the cystic duct, common bile duct, and extra-pancreatic duct. Since hhex is not uniquely expressed in the HPD region but is also expressed in endothelial cells and the yolk syncytial layer (YSL), we tested the role of blood vessels as well as the YSL in HPD formation. We found that blood vessels are required for HPD patterning, but not for HPD progenitor specification. In addition, we found that Hhex is required in both the endoderm and the YSL for HPD development. Our results shed light on the mechanisms directing endodermal progenitors towards the HPD fate and emphasize the tissue specific requirement of Hhex during development.\n",
      "Autores: ['Villasenor A', 'Gauvrit S', 'Collins MM', 'Maischein HM', 'Stainier DYR']\n",
      "Fonte: Dev Biol. 2020 Feb 15;458(2):228-236. doi: 10.1016/j.ydbio.2019.10.021. Epub 2019 Nov 4.\n",
      "============================================================================================================================================\n",
      "\n",
      "Titulo: HHEX gene polymorphisms and type 2 diabetes mellitus: A case-control report from Iran.\n",
      "\n",
      "Abstract: Genome-wide association studies indicated that hematopoietically-expressed homeobox (HHEX) gene is a remarkable candidate for type 2 diabetes (T2D) mellitus susceptibility in spite of the fact that the results are ambiguous in some cases. So, this study aimed to evaluate the possible correlation between HHEX gene polymorphisms and T2D development in a sample of the Iranian population. The rs1111875G/A, rs7923837A/G, and rs5015480C/T HHEX gene polymorphisms were genotyped in 250 cases and 250 matched (age and sex) healthy controls using tetra-amplification-refractory mutation system-polymerase chain reaction method. The finding revealed the all measured inheritance models of rs1111875G/A and of rs5015480C/T variants dramatically increase the risk of T2D while another polymorphism (rs7923837A/G) was not associated with risk/protective role in T2D. The results indicated that rs1111875G/A and rs5015480C/T may contribute to the enhancement of T2D risk in a sample of the southeast Iranian population.\n",
      "Autores: ['Galavi H', 'Mollashahee-Kohkan F', 'Saravani R', 'Sargazi S', 'Noorzehi N', 'Shahraki H']\n",
      "Fonte: J Cell Biochem. 2019 Oct;120(10):16445-16451. doi: 10.1002/jcb.28788. Epub 2019 Jun 25.\n",
      "============================================================================================================================================\n",
      "\n",
      "Titulo: Zebrafish hhex-null mutant develops an intrahepatic intestinal tube due to de-repression of cdx1b and pdx1.\n",
      "\n",
      "Abstract: The hepatopancreatic duct (HPD) system links the liver and pancreas to the intestinal tube and is composed of the extrahepatic biliary duct, gallbladder, and pancreatic duct. Haematopoietically expressed-homeobox (Hhex) protein plays an essential role in the establishment of HPD; however, the molecular mechanism remains elusive. Here, we show that zebrafish hhex-null mutants fail to develop the HPD system characterized by lacking the biliary marker Annexin A4 and the HPD marker sox9b. The hepatobiliary duct part of the mutant HPD system is replaced by an intrahepatic intestinal tube characterized by expressing the intestinal marker fatty acid-binding protein 2a (fabp2a). Cell lineage analysis showed that this intrahepatic intestinal tube is not originated from hepatocytes or cholangiocytes. Further analysis revealed that cdx1b and pdx1 are expressed ectopically in the intrahepatic intestinal tube and knockdown of cdx1b and pdx1 could restore the expression of sox9b in the mutant. Chromatin-immunoprecipitation analysis showed that Hhex binds to the promoters of pdx1 and cdx1b genes to repress their expression. We therefore propose that Hhex, Cdx1b, Pdx1, and Sox9b form a genetic network governing the patterning and morphogenesis of the HPD and digestive tract systems in zebrafish.\n",
      "Autores: ['Gao C', 'Huang W', 'Gao Y', 'Lo LJ', 'Luo L', 'Huang H', 'Chen J', 'Peng J']\n",
      "Fonte: J Mol Cell Biol. 2019 Jun 1;11(6):448-462. doi: 10.1093/jmcb/mjy068.\n",
      "============================================================================================================================================\n",
      "\n",
      "Titulo: Alcohol Intake Interacts with CDKAL1, HHEX, and OAS3 Genetic Variants, Associated with the Risk of Type 2 Diabetes by Lowering Insulin Secretion in Korean Adults.\n",
      "\n",
      "Abstract: BACKGROUND: Since alcohol intake increases the prevalence of type 2 diabetes (T2DM) in Koreans, we tested the hypothesis that the interactions of genetic variants involved in beta-cell function and mass with alcohol intake increase the T2DM risk. METHODS: The single nucleotide polymorphisms (SNPs) were selected by genome-wide association study for insulin secretion after adjusting for age, gender, area of residence, body mass index, and alcohol intake (p < 1 x 10(-4) ) in 8,842 middle-aged adults in the Ansan/Ansung cohort. Genetic risk scores (GRSs) were calculated by summing the risk alleles of 4 selected SNPs, CDKAL1 rs7754840 and rs9460546, HHEX rs5015480, and OAS3 rs2072134. The GRSs were categorized into 3 groups by tertiles, and the association between GRS and insulin secretion was measured using logistic regression after adjusting for confounding factors in the Ansan/Ansung cohort. The results were confirmed by the Rural cohort. RESULTS: HOMA-IR was higher and HOMA-B was much lower in the High-GRS than the Low-GRS in both cohorts. T2DM risk was higher by approximately 1.5-fold in the High-GRS than in the Low-GRS in both cohorts. In the High-GRS group, HOMA-B decreased by 0.89- and 0.62-fold in comparison with the Low-GRS in the Ansan/Ansung cohort and Rural cohort. The GRS interacted with alcohol intake to increase the risk of developing T2DM in the Ansan/Ansung cohort (p = 0.036) and Rural cohort (p = 0.071). The risk of T2DM increased in the High-GRS group with high alcohol intake and it was associated with decreased HOMA-B. High alcohol intake decreased HOMA-B regardless of GRS, and HOMA-B was lower in the descending order of Medium-GRS, Low-GRS, and High-GRS. However, HOMA-IR was not altered by alcohol intake, but was elevated in the High-GRS more than in the other groups. CONCLUSIONS: Subjects with a High-GRS had an elevated risk of T2DM even with moderate alcohol intakes due to lower HOMA-B. High alcohol intake appears to be a risk factor for all Asians regardless of alcohol intake.\n",
      "Autores: ['Park S', 'Liu M', 'Kang S']\n",
      "Fonte: Alcohol Clin Exp Res. 2018 Dec;42(12):2326-2336. doi: 10.1111/acer.13888. Epub 2018 Oct 3.\n",
      "============================================================================================================================================\n",
      "\n",
      "Titulo: Expression of Transcription Factor PRH/Hhex in Adrenal Chromaffin Cells in the Postnatal Development and Its Role in the Regulation of Proliferative Processes.\n",
      "\n",
      "Abstract: Transcription factor PRH/Hhex suppresses cell proliferation and contributes to regulation of prenatal and postnatal ontogeny. Neurons of the peripheral nervous system and chromaffin cells were previously considered as non-expressing PRH/Hhex in postnatal development. In our study, the expression of PRH/Hhex in chromaffin cells of rat adrenal glands and association between the decrease of proliferation and activation of PRH/Hhex expression were demonstrated.\n",
      "Autores: ['Yaglova NV', 'Obernikhin SS', 'Tsomartova DA', 'Nazimova SV', 'Yaglov VV']\n",
      "Fonte: Bull Exp Biol Med. 2018 Aug;165(4):508-511. doi: 10.1007/s10517-018-4205-8. Epub 2018 Aug 18.\n",
      "============================================================================================================================================\n",
      "\n",
      "Titulo: HHEX is a transcriptional regulator of the VEGFC/FLT4/PROX1 signaling axis during vascular development.\n",
      "\n",
      "Abstract: Formation of the lymphatic system requires the coordinated expression of several key regulators: vascular endothelial growth factor C (VEGFC), its receptor FLT4, and a key transcriptional effector, PROX1. Yet, how expression of these signaling components is regulated remains poorly understood. Here, using a combination of genetic and molecular approaches, we identify the transcription factor hematopoietically expressed homeobox (HHEX) as an upstream regulator of VEGFC, FLT4, and PROX1 during angiogenic sprouting and lymphatic formation in vertebrates. By analyzing zebrafish mutants, we found that hhex is necessary for sprouting angiogenesis from the posterior cardinal vein, a process required for lymphangiogenesis. Furthermore, studies of mammalian HHEX using tissue-specific genetic deletions in mouse and knockdowns in cultured human endothelial cells reveal its highly conserved function during vascular and lymphatic development. Our findings that HHEX is essential for the regulation of the VEGFC/FLT4/PROX1 axis provide insights into the molecular regulation of lymphangiogenesis.\n",
      "Autores: ['Gauvrit S', 'Villasenor A', 'Strilic B', 'Kitchen P', 'Collins MM', 'Marin-Juez R', 'Guenther S', 'Maischein HM', 'Fukuda N', 'Canham MA', 'Brickman JM', 'Bogue CW', 'Jayaraman PS', 'Stainier DYR']\n",
      "Fonte: Nat Commun. 2018 Jul 13;9(1):2704. doi: 10.1038/s41467-018-05039-1.\n",
      "============================================================================================================================================\n",
      "\n",
      "Titulo: Impact of KCNQ1, CDKN2A/2B, CDKAL1, HHEX, MTNR1B, SLC30A8, TCF7L2, and UBE2E2 on risk of developing type 2 diabetes in Thai population.\n",
      "\n",
      "Abstract: BACKGROUND: Several type 2 diabetes (T2D) susceptibility loci identified via genome-wide association studies were found to be replicated among various populations. However, the influence of these loci on T2D in Thai population is unknown. The aim of this study was to investigate the influence of eight single nucleotide polymorphisms (SNPs) reported in GWA studies on T2D and related quantitative traits in Thai population. METHODS: Eight SNPs in or near the KCNQ1, CDKN2A/2B, SLC30A8, HHEX, CDKAL1, TCF7L2, MTNR1B, and UBE2E2 genes were genotyped. A case-control association study comprising 500 Thai patients with T2D and 500 ethnically-matched control subjects was conducted. Associations between SNPs and T2D were examined by logistic regression analysis. The impact of these SNPs on quantitative traits was examined by linear regression among case and control subjects. RESULTS: Five SNPs in KCNQ1 (rs2237892), CDK2A/2B (rs108116610, SLC30A8 (rs13266634), TCF7L2 (rs7903146) and MTNR1B (rs1387153) were found to be marginally associated with risk of developing T2D, with odds ratios ranging from 1.43 to 2.02 (p = 0.047 to 3.0 x 10-4) with adjustments for age, sex, and body mass index. Interestingly, SNP rs13266634 of SLC30A8 gene reached statistical significance after correcting for multiple testing (p = 0.0003) (p < 0.006 after Bonferroni correction). However, no significant association was detected between HHEX (rs1111875), CDKAL1 (rs7756992), or UBE2E2 (rs7612463) and T2D. We also observed association between rs10811661 and both waist circumference and waist-hip ratio (p = 0.007 and p = 0.023, respectively). In addition, rs13266634 in SLC30A8 was associated with glycated hemoglobin (p = 0.018), and rs7903146 in TCF7L2 was associated with high-density lipoprotein cholesterol level (p = 0.023). CONCLUSION: Of the eight genes included in our analysis, significant association was observed between KCNQ1, CDKN2A/2B, SLC30A8, TCF7L2, and MTNR1B loci and T2D in our Thai study population. Of these, CDKN2A/2B, SLC30A8, and TCF7L2 genes were also significantly associated with anthropometric, glycemic and lipid characteristics. Larger cohort studies and meta-analyses are needed to further confirm the effect of these variants in Thai population.\n",
      "Autores: ['Plengvidhya N', 'Chanprasert C', 'Chongjaroen N', 'Yenchitsomanus PT', 'Homsanit M', 'Tangjittipokin W']\n",
      "Fonte: BMC Med Genet. 2018 Jun 5;19(1):93. doi: 10.1186/s12881-018-0614-9.\n",
      "============================================================================================================================================\n",
      "\n",
      "Titulo: Effect of smoking on the association of HHEX (rs5015480) with diabetes among Korean women and heavy smoking men.\n",
      "\n",
      "Abstract: BACKGROUND: Several genome-wide association studies (GWAS) for serum fasting glucose levels have reported HHEX as possibly causal. The objective of this study was to examine the joint effect of smoking on the association of diabetes with the HHEX rs5015480 polymorphism among Korean subjects. METHODS: This replication study included a total of 4240 individuals, and multivariate linear regression and multiple logistic regression models were used. We examined the combined effect of smoking on the relationship between HHEX rs5015480 and diabetes. RESULTS: The rs5015480 SNP in the HHEX gene was related to the mean FBS level (effect per allele, 1.572 mg/dL, p = 0.0122). Females with the CC genotype had a 2.68 times higher (range, 1.05-6.82 times) risk of diabetes than those with the TT/TC genotype. Although the association was stronger in female subjects (OR, 4.46; 95% CI, 1.15-17.3, p = 0.0304) among healthy individuals (N = 2461), the association between HHEX and diabetes was much stronger in male heavy smokers (OR, 4.03; 95% CI, 1.19-13.6, p = 0.0247) than in nonsmokers (p = 0.9709) and ex-smokers (p = 0.2399). The interaction of smoking was also statistically significant (P for interaction =0.0182). CONCLUSIONS: This study clearly demonstrates that a genetic variant in HHEX influences fasting glucose levels in Korean women and male heavy smokers.\n",
      "Autores: ['Sull JW', 'Lee TY', 'Jee SH']\n",
      "Fonte: BMC Med Genet. 2018 May 2;19(1):68. doi: 10.1186/s12881-018-0582-0.\n",
      "============================================================================================================================================\n",
      "\n",
      "Titulo: Hhex induces promyelocyte self-renewal and cooperates with growth factor independence to cause myeloid leukemia in mice.\n",
      "\n",
      "Abstract: The hematopoietically expressed homeobox (Hhex) transcription factor is overexpressed in human myeloid leukemias. Conditional knockout models of murine acute myeloid leukemia indicate that Hhex maintains leukemia stem cell self-renewal by enabling Polycomb-mediated epigenetic repression of the Cdkn2a tumor suppressor locus, encoding p16(Ink4a) and p19(Arf) However, whether Hhex overexpression also affects hematopoietic differentiation is unknown. To study this, we retrovirally overexpressed Hhex in hematopoietic progenitors. This enabled serial replating of myeloid progenitors, leading to the rapid establishment of interleukin-3 (IL-3)-dependent promyelocytic cell lines. Use of a Hhex-ERT2 fusion protein demonstrated that continuous nuclear Hhex is required for transformation, and structure function analysis demonstrated a requirement of the DNA-binding and N-terminal-repressive domains of Hhex for promyelocytic transformation. This included the N-terminal promyelocytic leukemia protein (Pml) interaction domain, although deletion of Pml failed to prevent Hhex-induced promyelocyte transformation, implying other critical partners. Furthermore, deletion of p16(Ink4a) or p19(Arf) did not promote promyelocyte transformation, indicating that repression of distinct Hhex target genes is required for this process. Indeed, transcriptome analysis showed that Hhex overexpression resulted in repression of several myeloid developmental genes. To test the potential for Hhex overexpression to contribute to leukemic transformation, Hhex-transformed promyelocyte lines were rendered growth factor-independent using a constitutively active IL-3 receptor common beta subunit (betacV449E). The resultant cell lines resulted in a rapid promyelocytic leukemia in vivo. Thus, Hhex overexpression can contribute to myeloid leukemia via multiple mechanisms including differentiation blockade and enabling epigenetic repression of the Cdkn2a locus.\n",
      "Autores: ['Jackson JT', 'Ng AP', 'Shields BJ', 'Haupt S', 'Haupt Y', 'McCormack MP']\n",
      "Fonte: Blood Adv. 2018 Feb 27;2(4):347-360. doi: 10.1182/bloodadvances.2017013243.\n",
      "============================================================================================================================================\n",
      "\n",
      "Titulo: Overexpression of HHEX in Acute Myeloid Leukemia with t(8;21)(q22;q22) Translocation.\n",
      "\n",
      "Abstract: BACKGROUND: The hematopoietically expressed homeobox (HHEX) is widely expressed in hematopoietic stem cells and is an essential transcription factor in embryonic development; however its role in hematopoiesis and leukemogenesis is poorly understood. We are thus exploring the association of HHEX and acute myeloid leukemia (AML). METHODS: The study included 56 AML patients and 12 normal bone marrows (NBMs). Real-time quantitative polymerase chain reaction (Q-PCR) was used to assess HHEX expression. The functional consequences of this gene were explored in the Kasumi-1 cell-line following dampened expression of HHEX. This was done by transfecting small interfering RNA (siRNA). RESULTS: Expression levels of HHEX in AML were similar to that found in controls (0.094+/-0.103 vs. 0.078+/-0.112; p=0.203), but AML with t(8;21) was more prevalent than other types of AMLs (p<0.01) or controls (p<0.05). Expression levels of HHEX in AML (non-M3) did not significantly affect overall survival (p=0.555). In vitro studies carried out in Kasumi-1 cells suggest that after decreasing HHEX, cell viability at 48 and 72 h were significantly reduced compared to controls (p<0.05). The apoptotic rate was also significantly increased at 48 and 72 h compared to controls (p<0.05). CONCLUSIONS: HHEX is expressed in multiple types of AML, with the highest levels seen in t(8;21) AML. HHEX was essential for Kasumi-1 cell proliferation and may represent a potential therapeutic target enabling against AML.\n",
      "Autores: ['Zhang S', 'Ma L', 'Chen Y', 'Xu H', 'Chen S', 'Wu W']\n",
      "Fonte: Ann Clin Lab Sci. 2017 Nov;47(6):687-697.\n",
      "============================================================================================================================================\n",
      "\n",
      "Titulo: Proline-Rich Homeodomain protein (PRH/HHEX) is a suppressor of breast tumour growth.\n",
      "\n",
      "Abstract: Breast tumours progress from hyperplasia to ductal carcinoma in situ (DCIS) and invasive breast carcinoma (IBC). PRH/HHEX (proline-rich homeodomain/haematopoietically expressed homeobox) is a transcription factor that displays both tumour suppressor and oncogenic activity in different disease contexts; however, the role of PRH in breast cancer is poorly understood. Here we show that nuclear localization of the PRH protein is decreased in DCIS and IBC compared with normal breast. Our previous work has shown that PRH phosphorylation by protein kinase CK2 prevents PRH from binding to DNA and regulating the transcription of multiple genes encoding growth factors and growth factor receptors. Here we show that transcriptionally inactive phosphorylated PRH is elevated in DCIS and IBC compared with normal breast. To determine the consequences of PRH loss of function in breast cancer cells, we generated inducible PRH depletion in MCF-7 cells. We show that PRH depletion results in increased MCF-7 cell proliferation in part at least due to increased vascular endothelial growth factor signalling. Moreover, we demonstrate that PRH depletion increases the formation of breast cancer cells with cancer stem cell-like properties. Finally, and in keeping with these findings, we show that PRH overexpression inhibits the growth of mammary tumours in mice. Collectively, these data indicate that PRH plays a tumour suppressive role in the breast and they provide an explanation for the finding that low PRH mRNA levels are associated with a poor prognosis in breast cancer.\n",
      "Autores: ['Kershaw RM', 'Roberts D', 'Wragg J', 'Shaaban AM', 'Humphreys E', 'Halsall J', 'Price L', 'Bicknell R', 'Gaston K', 'Jayaraman PS']\n",
      "Fonte: Oncogenesis. 2017 Jun 12;6(6):e346. doi: 10.1038/oncsis.2017.42.\n",
      "============================================================================================================================================\n",
      "\n",
      "Titulo: Hhex Regulates Hematopoietic Stem Cell Self-Renewal and Stress Hematopoiesis via Repression of Cdkn2a.\n",
      "\n",
      "Abstract: The hematopoietically expressed homeobox transcription factor (Hhex) is important for the maturation of definitive hematopoietic progenitors and B-cells during development. We have recently shown that in adult hematopoiesis, Hhex is dispensable for maintenance of hematopoietic stem cells (HSCs) and myeloid lineages but essential for the commitment of common lymphoid progenitors (CLPs) to lymphoid lineages. Here, we show that during serial bone marrow transplantation, Hhex-deleted HSCs are progressively lost, revealing an intrinsic defect in HSC self-renewal. Moreover, Hhex-deleted mice show markedly impaired hematopoietic recovery following myeloablation, due to a failure of progenitor expansion. In vitro, Hhex-null blast colonies were incapable of replating, implying a specific requirement for Hhex in immature progenitors. Transcriptome analysis of Hhex-null Lin(-) Sca(+) Kit(+) cells showed that Hhex deletion leads to derepression of polycomb repressive complex 2 (PRC2) and PRC1 target genes, including the Cdkn2a locus encoding the tumor suppressors p16(Ink) 4(a) and p19(Arf) . Indeed, loss of Cdkn2a restored the capacity of Hhex-null blast colonies to generate myeloid progenitors in vitro, as well as hematopoietic reconstitution following myeloablation in vivo. Thus, HSCs require Hhex to promote PRC2-mediated Cdkn2a repression to enable continued self-renewal and response to hematopoietic stress. Stem Cells 2017;35:1948-1957.\n",
      "Autores: ['Jackson JT', 'Shields BJ', 'Shi W', 'Di Rago L', 'Metcalf D', 'Nicola NA', 'McCormack MP']\n",
      "Fonte: Stem Cells. 2017 Aug;35(8):1948-1957. doi: 10.1002/stem.2648. Epub 2017 Jun 19.\n",
      "============================================================================================================================================\n",
      "\n",
      "Titulo: Transcriptional regulation of Hhex in hematopoiesis and hematopoietic stem cell ontogeny.\n",
      "\n",
      "Abstract: Hematopoietic stem cells (HSCs) emerge during development via an endothelial-to-hematopoietic transition from hemogenic endothelium of the dorsal aorta (DA). Using in situ hybridization and analysis of a knock-in RedStar reporter, we show that the transcriptional regulator Hhex is expressed in endothelium of the dorsal aorta (DA) and in clusters of putative HSCs as they are specified during murine development. We exploited this observation, using the Hhex locus to define cis regulatory elements, enhancers and interacting transcription factors that are both necessary and sufficient to support gene expression in the emerging HSC. We identify an evolutionarily conserved non-coding region (ECR) in the Hhex locus with the capacity to bind the hematopoietic-affiliated transcriptional regulators Gata2, SCL, Fli1, Pu.1 and Ets1/2. This region is sufficient to drive the expression of a transgenic GFP reporter in the DA endothelium and intra-aortic hematopoietic clusters. GFP-positive AGM cells co-expressed HSC-associated markers c-Kit, CD34, VE-Cadherin, and CD45, and were capable of multipotential differentiation and long term engraftment when transplanted into myelo-ablated recipients. The Hhex ECR was also sufficient to drive expression at additional blood sites including the yolk sac blood islands, fetal liver, vitelline and umbilical arteries and the adult bone marrow, suggesting a common mechanism for Hhex regulation throughout ontogenesis of the blood system. To explore the physiological requirement for the Hhex ECR region during hematoendothelial development, we deleted the ECR element from the endogenous locus in the context of a targeted Hhex-RedStar reporter allele. Results indicate a specific requirement for the ECR in blood-associated Hhex expression during development and further demonstrate a requirement for this region in the adult HSC compartment. Taken together, our results identified the ECR region as an enhancer both necessary and sufficient for gene expression in HSC development and homeostasis. The Hhex ECR thus appears to be a core node for the convergence of the transcription factor network that governs the emergence of HSCs.\n",
      "Autores: ['Migueles RP', 'Shaw L', 'Rodrigues NP', 'May G', 'Henseleit K', 'Anderson KG', 'Goker H', 'Jones CM', 'de Bruijn MF', 'Brickman JM', 'Enver T']\n",
      "Fonte: Dev Biol. 2017 Apr 15;424(2):236-245. doi: 10.1016/j.ydbio.2016.12.021. Epub 2017 Feb 9.\n",
      "============================================================================================================================================\n",
      "\n"
     ]
    }
   ],
   "source": [
    "handle = Entrez.efetch(db = \"pubmed\", id = id_list, rettype = \"medline\", retmode = \"text\")\n",
    "records = Medline.parse(handle)\n",
    "print()\n",
    "for record in records:\n",
    "    print(\"Titulo:\", record.get(\"TI\", \"Vazio\"))                                     \n",
    "    print()\n",
    "    print(\"Abstract:\", record.get(\"AB\", \"Vazio\"))\n",
    "    print(\"Autores:\", record.get(\"AU\", \"Vazio\"))\n",
    "    print(\"Fonte:\", record.get(\"SO\", \"Vazio\"))\n",
    "    print(\"=\"*140)\n",
    "    print()"
   ]
  },
  {
   "cell_type": "code",
   "execution_count": 12,
   "id": "fb8cd5e2",
   "metadata": {},
   "outputs": [],
   "source": [
    "handle = Entrez.esearch(db=\"nucleotide\", term = \"Homo sapiens[Orgn] AND HHEX[Gene]\", idtype='acc')"
   ]
  },
  {
   "cell_type": "code",
   "execution_count": 13,
   "id": "5a151c01",
   "metadata": {},
   "outputs": [],
   "source": [
    "record = Entrez.read(handle)"
   ]
  },
  {
   "cell_type": "code",
   "execution_count": 14,
   "id": "74ed500b",
   "metadata": {},
   "outputs": [
    {
     "data": {
      "text/plain": [
       "['NM_002729.5', 'NC_060934.1', 'NC_000010.11', 'EU446478.1', 'CM000261.1', 'CH471066.2', 'BC050638.1', 'BC015110.1', 'BC014336.1', 'AY404673.1', 'AB528006.1']"
      ]
     },
     "execution_count": 14,
     "metadata": {},
     "output_type": "execute_result"
    }
   ],
   "source": [
    "record[\"IdList\"]\n"
   ]
  },
  {
   "cell_type": "markdown",
   "id": "d04f9a91",
   "metadata": {},
   "source": [
    "## Análise da sequência e das features presentes no NCBI"
   ]
  },
  {
   "cell_type": "markdown",
   "id": "989f7c6b",
   "metadata": {},
   "source": [
    "a) Aceder ao NCBI e guardar os ficheiros correspondentes aos genes escolhidos, podendo explorar possíveis variantes"
   ]
  },
  {
   "cell_type": "code",
   "execution_count": 15,
   "id": "c36fc7fe",
   "metadata": {},
   "outputs": [],
   "source": [
    "from Bio import Seq\n",
    "from Bio import SeqIO\n"
   ]
  },
  {
   "cell_type": "code",
   "execution_count": 16,
   "id": "2255143c",
   "metadata": {},
   "outputs": [
    {
     "data": {
      "text/plain": [
       "SeqRecord(seq=Seq('AGCTCTGCGAGGGGCCGGAGCGCGGCGGAGCCATGCAGTACCCGCACCCCGGGC...GTT'), id='NM_002729.5', name='NM_002729', description='Homo sapiens hematopoietically expressed homeobox (HHEX), mRNA', dbxrefs=[])"
      ]
     },
     "execution_count": 16,
     "metadata": {},
     "output_type": "execute_result"
    }
   ],
   "source": [
    "record = SeqIO.read(\"mRNA_seq_HHEX.gb\", \"genbank\")\n",
    "record"
   ]
  },
  {
   "cell_type": "code",
   "execution_count": 17,
   "id": "8ddbbede",
   "metadata": {},
   "outputs": [
    {
     "data": {
      "text/plain": [
       "Seq('AGCTCTGCGAGGGGCCGGAGCGCGGCGGAGCCATGCAGTACCCGCACCCCGGGC...GTT')"
      ]
     },
     "execution_count": 17,
     "metadata": {},
     "output_type": "execute_result"
    }
   ],
   "source": [
    "record.seq"
   ]
  },
  {
   "cell_type": "code",
   "execution_count": 19,
   "id": "1066a63b",
   "metadata": {},
   "outputs": [
    {
     "name": "stdout",
     "output_type": "stream",
     "text": [
      "NM_002729.5\n",
      "NM_002729\n",
      "Homo sapiens hematopoietically expressed homeobox (HHEX), mRNA\n",
      "13\n",
      "Homo sapiens (human)\n",
      "13\n"
     ]
    }
   ],
   "source": [
    "print(record.id)\n",
    "print(record.name)\n",
    "print(record.description)\n",
    "print(len(record.annotations))\n",
    "print(record.annotations[\"source\"] )\n",
    "print(len(record.features))"
   ]
  },
  {
   "cell_type": "code",
   "execution_count": 20,
   "id": "65f85d4a",
   "metadata": {},
   "outputs": [
    {
     "data": {
      "text/plain": [
       "1724"
      ]
     },
     "execution_count": 20,
     "metadata": {},
     "output_type": "execute_result"
    }
   ],
   "source": [
    "len(record)"
   ]
  },
  {
   "cell_type": "markdown",
   "id": "40f46323",
   "metadata": {},
   "source": [
    "b) Verificar as anotações dos genes de interesse"
   ]
  },
  {
   "cell_type": "code",
   "execution_count": 21,
   "id": "ca2e8248",
   "metadata": {},
   "outputs": [
    {
     "data": {
      "text/plain": [
       "{'molecule_type': 'mRNA',\n",
       " 'topology': 'linear',\n",
       " 'data_file_division': 'PRI',\n",
       " 'date': '21-OCT-2022',\n",
       " 'accessions': ['NM_002729', 'NM_001529'],\n",
       " 'sequence_version': 5,\n",
       " 'keywords': ['RefSeq', 'MANE Select'],\n",
       " 'source': 'Homo sapiens (human)',\n",
       " 'organism': 'Homo sapiens',\n",
       " 'taxonomy': ['Eukaryota',\n",
       "  'Metazoa',\n",
       "  'Chordata',\n",
       "  'Craniata',\n",
       "  'Vertebrata',\n",
       "  'Euteleostomi',\n",
       "  'Mammalia',\n",
       "  'Eutheria',\n",
       "  'Euarchontoglires',\n",
       "  'Primates',\n",
       "  'Haplorrhini',\n",
       "  'Catarrhini',\n",
       "  'Hominidae',\n",
       "  'Homo'],\n",
       " 'references': [Reference(title='CK2-induced cooperation of HHEX with the YAP-TEAD4 complex promotes colorectal tumorigenesis', ...),\n",
       "  Reference(title='Unraveling the Influence of HHEX Risk Polymorphism rs7923837 on Multiple Sclerosis Pathogenesis', ...),\n",
       "  Reference(title='Integrated single-cell transcriptomics and epigenomics reveals strong germinal center-associated etiology of autoimmune risk loci', ...),\n",
       "  Reference(title='Hhex inhibits cell migration via regulating RHOA/CDC42-CFL1 axis in human lung cancer cells', ...),\n",
       "  Reference(title='Interactome Mapping Provides a Network of Neurodegenerative Disease Proteins and Uncovers Widespread Protein Aggregation in Affected Brains', ...),\n",
       "  Reference(title='Differential expression of a novel proline-rich homeobox gene (Prh) in human hematolymphopoietic cells', ...),\n",
       "  Reference(title='A homology-based molecular model of the proline-rich homeodomain protein Prh, from haematopoietic cells', ...),\n",
       "  Reference(title='PCR cloning of an orphan homeobox gene (PRH) preferentially expressed in myeloid and liver cells', ...),\n",
       "  Reference(title='HEX: a novel homeobox gene expressed during haematopoiesis and conserved between mouse and human', ...),\n",
       "  Reference(title='Identification of a novel vertebrate homeobox gene expressed in haematopoietic cells', ...)],\n",
       " 'comment': 'REVIEWED REFSEQ: This record has been curated by NCBI staff. The\\nreference sequence was derived from BC015110.1 and BM543214.1.\\nOn Nov 22, 2018 this sequence version replaced NM_002729.4.\\nSummary: This gene encodes a member of the homeobox family of\\ntranscription factors, many of which are involved in developmental\\nprocesses. Expression in specific hematopoietic lineages suggests\\nthat this protein may play a role in hematopoietic differentiation.\\n[provided by RefSeq, Jul 2008].\\nPublication Note:  This RefSeq record includes a subset of the\\npublications that are available for this gene. Please see the Gene\\nrecord to access additional publications.\\nCOMPLETENESS: full length.',\n",
       " 'structured_comment': defaultdict(dict,\n",
       "             {'Evidence-Data': {'Transcript exon combination': 'BC050638.1, BC015110.1 [ECO:0000332]',\n",
       "               'RNAseq introns': 'single sample supports all introns SAMEA1965299, SAMEA1966682 [ECO:0000348]'},\n",
       "              'RefSeq-Attributes': {'MANE Ensembl match': 'ENST00000282728.10/ ENSP00000282728.5',\n",
       "               'RefSeq Select criteria': 'based on single protein-coding transcript'}})}"
      ]
     },
     "execution_count": 21,
     "metadata": {},
     "output_type": "execute_result"
    }
   ],
   "source": [
    "record.annotations"
   ]
  },
  {
   "cell_type": "code",
   "execution_count": 22,
   "id": "77eab057",
   "metadata": {},
   "outputs": [
    {
     "name": "stdout",
     "output_type": "stream",
     "text": [
      "REVIEWED REFSEQ: This record has been curated by NCBI staff. The\n",
      "reference sequence was derived from BC015110.1 and BM543214.1.\n",
      "On Nov 22, 2018 this sequence version replaced NM_002729.4.\n",
      "Summary: This gene encodes a member of the homeobox family of\n",
      "transcription factors, many of which are involved in developmental\n",
      "processes. Expression in specific hematopoietic lineages suggests\n",
      "that this protein may play a role in hematopoietic differentiation.\n",
      "[provided by RefSeq, Jul 2008].\n",
      "Publication Note:  This RefSeq record includes a subset of the\n",
      "publications that are available for this gene. Please see the Gene\n",
      "record to access additional publications.\n",
      "COMPLETENESS: full length.\n"
     ]
    }
   ],
   "source": [
    "print(record.annotations[\"comment\"] )"
   ]
  },
  {
   "cell_type": "markdown",
   "id": "052d1387",
   "metadata": {},
   "source": [
    "c) Verificar e analisar a informação complementar fornecida pela lista de features e seus \n",
    "qualifiers"
   ]
  },
  {
   "cell_type": "code",
   "execution_count": 23,
   "id": "245cf188",
   "metadata": {
    "scrolled": false
   },
   "outputs": [
    {
     "name": "stdout",
     "output_type": "stream",
     "text": [
      "--> type: source\n",
      "location: [0:1724](+)\n",
      "qualifiers:\n",
      "    Key: chromosome, Value: ['10']\n",
      "    Key: db_xref, Value: ['taxon:9606']\n",
      "    Key: map, Value: ['10q23.33']\n",
      "    Key: mol_type, Value: ['mRNA']\n",
      "    Key: organism, Value: ['Homo sapiens']\n",
      "\n",
      "--> type: gene\n",
      "location: [0:1724](+)\n",
      "qualifiers:\n",
      "    Key: db_xref, Value: ['GeneID:3087', 'HGNC:HGNC:4901', 'MIM:604420']\n",
      "    Key: gene, Value: ['HHEX']\n",
      "    Key: gene_synonym, Value: ['HEX; HMPH; HOX11L-PEN; PRH; PRHX']\n",
      "    Key: note, Value: ['hematopoietically expressed homeobox']\n",
      "\n",
      "--> type: exon\n",
      "location: [0:393](+)\n",
      "qualifiers:\n",
      "    Key: gene, Value: ['HHEX']\n",
      "    Key: gene_synonym, Value: ['HEX; HMPH; HOX11L-PEN; PRH; PRHX']\n",
      "    Key: inference, Value: ['alignment:Splign:2.1.0']\n",
      "\n",
      "--> type: CDS\n",
      "location: [32:845](+)\n",
      "qualifiers:\n",
      "    Key: codon_start, Value: ['1']\n",
      "    Key: db_xref, Value: ['CCDS:CCDS7423.1', 'GeneID:3087', 'HGNC:HGNC:4901', 'MIM:604420']\n",
      "    Key: gene, Value: ['HHEX']\n",
      "    Key: gene_synonym, Value: ['HEX; HMPH; HOX11L-PEN; PRH; PRHX']\n",
      "    Key: note, Value: ['homeobox, hematopoietically expressed; proline-rich homeodomain-containing transcription factor; homeobox protein HEX; homeobox protein PRH']\n",
      "    Key: product, Value: ['hematopoietically-expressed homeobox protein HHEX']\n",
      "    Key: protein_id, Value: ['NP_002720.1']\n",
      "    Key: translation, Value: ['MQYPHPGPAAGAVGVPLYAPTPLLQPAHPTPFYIEDILGRGPAAPTPAPTLPSPNSSFTSLVSPYRTPVYEPTPIHPAFSHHSAAALAAAYGPGGFGGPLYPFPRTVNDYTHALLRHDPLGKPLLWSPFLQRPLHKRKGGQVRFSNDQTIELEKKFETQKYLSPPERKRLAKMLQLSERQVKTWFQNRRAKWRRLKQENPQSNKKEELESLDSSCDQRQDLPSEQNKGASLDSSQCSPSPASQEDLESEISEDSDQEVDIEGDKSYFNAG']\n",
      "\n",
      "--> type: misc_feature\n",
      "location: [32:443](+)\n",
      "qualifiers:\n",
      "    Key: gene, Value: ['HHEX']\n",
      "    Key: gene_synonym, Value: ['HEX; HMPH; HOX11L-PEN; PRH; PRHX']\n",
      "    Key: note, Value: ['propagated from UniProtKB/Swiss-Prot (Q03014.1); Region: Interaction with SOX13. /evidence=ECO:0000269|PubMed:20028982']\n",
      "\n",
      "--> type: misc_feature\n",
      "location: [188:191](+)\n",
      "qualifiers:\n",
      "    Key: gene, Value: ['HHEX']\n",
      "    Key: gene_synonym, Value: ['HEX; HMPH; HOX11L-PEN; PRH; PRHX']\n",
      "    Key: note, Value: ['Phosphoserine. /evidence=ECO:0007744|PubMed:23186163; propagated from UniProtKB/Swiss-Prot (Q03014.1); phosphorylation site']\n",
      "\n",
      "--> type: misc_feature\n",
      "location: [440:842](+)\n",
      "qualifiers:\n",
      "    Key: gene, Value: ['HHEX']\n",
      "    Key: gene_synonym, Value: ['HEX; HMPH; HOX11L-PEN; PRH; PRHX']\n",
      "    Key: note, Value: ['propagated from UniProtKB/Swiss-Prot (Q03014.1); Region: Required for WNT signaling induction. /evidence=ECO:0000269|PubMed:20028982']\n",
      "\n",
      "--> type: misc_feature\n",
      "location: [611:842](+)\n",
      "qualifiers:\n",
      "    Key: gene, Value: ['HHEX']\n",
      "    Key: gene_synonym, Value: ['HEX; HMPH; HOX11L-PEN; PRH; PRHX']\n",
      "    Key: note, Value: ['propagated from UniProtKB/Swiss-Prot (Q03014.1); Region: Disordered. /evidence=ECO:0000256|SAM:MobiDB-lite']\n",
      "\n",
      "--> type: exon\n",
      "location: [393:572](+)\n",
      "qualifiers:\n",
      "    Key: gene, Value: ['HHEX']\n",
      "    Key: gene_synonym, Value: ['HEX; HMPH; HOX11L-PEN; PRH; PRHX']\n",
      "    Key: inference, Value: ['alignment:Splign:2.1.0']\n",
      "\n",
      "--> type: exon\n",
      "location: [572:623](+)\n",
      "qualifiers:\n",
      "    Key: gene, Value: ['HHEX']\n",
      "    Key: gene_synonym, Value: ['HEX; HMPH; HOX11L-PEN; PRH; PRHX']\n",
      "    Key: inference, Value: ['alignment:Splign:2.1.0']\n",
      "\n",
      "--> type: exon\n",
      "location: [623:1724](+)\n",
      "qualifiers:\n",
      "    Key: gene, Value: ['HHEX']\n",
      "    Key: gene_synonym, Value: ['HEX; HMPH; HOX11L-PEN; PRH; PRHX']\n",
      "    Key: inference, Value: ['alignment:Splign:2.1.0']\n",
      "\n",
      "--> type: regulatory\n",
      "location: [1691:1697](+)\n",
      "qualifiers:\n",
      "    Key: gene, Value: ['HHEX']\n",
      "    Key: gene_synonym, Value: ['HEX; HMPH; HOX11L-PEN; PRH; PRHX']\n",
      "    Key: note, Value: ['hexamer: AATAAA']\n",
      "    Key: regulatory_class, Value: ['polyA_signal_sequence']\n",
      "\n",
      "--> type: polyA_site\n",
      "location: [1723:1724](+)\n",
      "qualifiers:\n",
      "    Key: gene, Value: ['HHEX']\n",
      "    Key: gene_synonym, Value: ['HEX; HMPH; HOX11L-PEN; PRH; PRHX']\n",
      "    Key: note, Value: ['major polyA site']\n",
      "\n",
      "Número de features: 13\n"
     ]
    }
   ],
   "source": [
    "# print(record.features)\n",
    "for feat in record.features:\n",
    "    print(\"-->\" , feat)\n",
    "print(f\"Número de features: {len(record.features)}\")"
   ]
  },
  {
   "cell_type": "markdown",
   "id": "403cf127",
   "metadata": {},
   "source": [
    "i) Localização e tipo"
   ]
  },
  {
   "cell_type": "code",
   "execution_count": 24,
   "id": "95c3ae3d",
   "metadata": {},
   "outputs": [
    {
     "name": "stdout",
     "output_type": "stream",
     "text": [
      "source\n",
      "[0:1724](+)\n",
      "gene\n",
      "[0:1724](+)\n",
      "exon\n",
      "[0:393](+)\n",
      "CDS\n",
      "[32:845](+)\n",
      "misc_feature\n",
      "[32:443](+)\n",
      "misc_feature\n",
      "[188:191](+)\n",
      "misc_feature\n",
      "[440:842](+)\n",
      "misc_feature\n",
      "[611:842](+)\n",
      "exon\n",
      "[393:572](+)\n",
      "exon\n",
      "[572:623](+)\n",
      "exon\n",
      "[623:1724](+)\n",
      "regulatory\n",
      "[1691:1697](+)\n",
      "polyA_site\n",
      "[1723:1724](+)\n"
     ]
    }
   ],
   "source": [
    "from Bio.SeqFeature import SeqFeature, FeatureLocation\n",
    "for feat in record.features:\n",
    "    print(feat.type)\n",
    "    print(feat.location)"
   ]
  },
  {
   "cell_type": "markdown",
   "id": "b0b58021",
   "metadata": {},
   "source": [
    "ii ) Regiões codificantes"
   ]
  },
  {
   "cell_type": "code",
   "execution_count": 25,
   "id": "b9f98382",
   "metadata": {},
   "outputs": [
    {
     "name": "stdout",
     "output_type": "stream",
     "text": [
      "[32:845](+)\n",
      "ATGCAGTACCCGCACCCCGGGCCGGCGGCGGGCGCCGTGGGGGTGCCGCTGTACGCGCCCACGCCGCTGCTGCAACCCGCACACCCGACGCCCTTTTACATCGAGGACATCCTGGGCCGCGGGCCCGCCGCGCCCACGCCCGCCCCCACGCTGCCGTCCCCCAACTCCTCCTTCACCAGCCTCGTGTCCCCCTACCGGACCCCGGTGTACGAGCCCACGCCGATCCATCCAGCCTTCTCGCACCACTCCGCCGCCGCGCTGGCCGCTGCCTACGGACCCGGCGGCTTCGGGGGCCCTCTGTACCCCTTCCCGCGGACGGTGAACGACTACACGCACGCCCTGCTCCGCCACGACCCCCTGGGCAAACCTCTACTCTGGAGCCCCTTCTTGCAGAGGCCTCTGCATAAAAGGAAAGGCGGCCAGGTGAGATTCTCCAACGACCAGACCATCGAGCTGGAGAAGAAATTCGAGACGCAGAAATATCTCTCTCCGCCCGAGAGGAAGCGTCTGGCCAAGATGCTGCAGCTCAGCGAGAGACAGGTCAAAACCTGGTTTCAGAATCGACGCGCTAAATGGAGGAGACTAAAACAGGAGAACCCTCAAAGCAATAAAAAAGAAGAACTGGAAAGTTTGGACAGTTCCTGTGATCAGAGGCAAGATTTGCCCAGTGAACAGAATAAAGGTGCTTCTTTGGATAGCTCTCAATGTTCGCCCTCCCCTGCCTCCCAGGAAGACCTTGAATCAGAGATTTCAGAGGATTCTGATCAGGAAGTGGACATTGAGGGCGATAAAAGCTATTTTAATGCTGGATGA\n"
     ]
    }
   ],
   "source": [
    "featcds = [ ]\n",
    "for i in range(len(record.features)):\n",
    "    if record.features[i].type == \"CDS\":\n",
    "        featcds.append(i)\n",
    "for k in featcds:\n",
    "    print (record.features[k].location)\n",
    "for k in featcds:\n",
    "    print (record.features[k].extract(record.seq))"
   ]
  },
  {
   "cell_type": "code",
   "execution_count": 26,
   "id": "a6202ad7",
   "metadata": {},
   "outputs": [
    {
     "data": {
      "text/plain": [
       "[3]"
      ]
     },
     "execution_count": 26,
     "metadata": {},
     "output_type": "execute_result"
    }
   ],
   "source": [
    "featcds"
   ]
  },
  {
   "cell_type": "markdown",
   "id": "1439caa6",
   "metadata": {},
   "source": [
    "iii ) Proteína codificada e seu significado biológico (anotações do gene)"
   ]
  },
  {
   "cell_type": "code",
   "execution_count": 27,
   "id": "0ce1f056",
   "metadata": {},
   "outputs": [
    {
     "name": "stdout",
     "output_type": "stream",
     "text": [
      "['hematopoietically-expressed homeobox protein HHEX']\n"
     ]
    }
   ],
   "source": [
    "from Bio.SeqFeature import SeqFeature, FeatureLocation\n",
    "for feat in record.features:\n",
    "    if feat.type == 'CDS':\n",
    "        print(feat.qualifiers['product'])"
   ]
  },
  {
   "cell_type": "code",
   "execution_count": 28,
   "id": "17516d14",
   "metadata": {},
   "outputs": [
    {
     "name": "stdout",
     "output_type": "stream",
     "text": [
      "['hematopoietically expressed homeobox']\n"
     ]
    }
   ],
   "source": [
    "for feat in record.features:\n",
    "    if feat.type == 'gene':\n",
    "        print(feat.qualifiers[\"note\"])"
   ]
  },
  {
   "cell_type": "code",
   "execution_count": 29,
   "id": "78c70298",
   "metadata": {},
   "outputs": [
    {
     "name": "stdout",
     "output_type": "stream",
     "text": [
      "type: CDS\n",
      "location: [32:845](+)\n",
      "qualifiers:\n",
      "    Key: codon_start, Value: ['1']\n",
      "    Key: db_xref, Value: ['CCDS:CCDS7423.1', 'GeneID:3087', 'HGNC:HGNC:4901', 'MIM:604420']\n",
      "    Key: gene, Value: ['HHEX']\n",
      "    Key: gene_synonym, Value: ['HEX; HMPH; HOX11L-PEN; PRH; PRHX']\n",
      "    Key: note, Value: ['homeobox, hematopoietically expressed; proline-rich homeodomain-containing transcription factor; homeobox protein HEX; homeobox protein PRH']\n",
      "    Key: product, Value: ['hematopoietically-expressed homeobox protein HHEX']\n",
      "    Key: protein_id, Value: ['NP_002720.1']\n",
      "    Key: translation, Value: ['MQYPHPGPAAGAVGVPLYAPTPLLQPAHPTPFYIEDILGRGPAAPTPAPTLPSPNSSFTSLVSPYRTPVYEPTPIHPAFSHHSAAALAAAYGPGGFGGPLYPFPRTVNDYTHALLRHDPLGKPLLWSPFLQRPLHKRKGGQVRFSNDQTIELEKKFETQKYLSPPERKRLAKMLQLSERQVKTWFQNRRAKWRRLKQENPQSNKKEELESLDSSCDQRQDLPSEQNKGASLDSSQCSPSPASQEDLESEISEDSDQEVDIEGDKSYFNAG']\n",
      "\n"
     ]
    }
   ],
   "source": [
    "for feat in record.features:\n",
    "    if feat.type == \"CDS\":\n",
    "        print(feat)"
   ]
  },
  {
   "cell_type": "markdown",
   "id": "cfefff12",
   "metadata": {},
   "source": [
    "iv) Converter a FASTA"
   ]
  },
  {
   "cell_type": "code",
   "execution_count": 30,
   "id": "44d4e196",
   "metadata": {},
   "outputs": [
    {
     "name": "stdout",
     "output_type": "stream",
     "text": [
      "Foi convertido 1 registo.\n"
     ]
    }
   ],
   "source": [
    "from Bio import SeqIO\n",
    "records = SeqIO.parse(\"mRNA_seq_HHEX.gb\",\"genbank\")\n",
    "count = SeqIO.write(records, \"HHEX.fasta\",\"fasta\")\n",
    "print(f'Foi convertido {count} registo.')"
   ]
  },
  {
   "cell_type": "markdown",
   "id": "de26222e",
   "metadata": {},
   "source": [
    "## Análise de homologias por BLAST"
   ]
  },
  {
   "cell_type": "markdown",
   "id": "9e5724a6",
   "metadata": {},
   "source": [
    "##### Nesta parte também devemos ter que ir à base de dados NCBI para confirmar os resultados (rever aula 5)"
   ]
  },
  {
   "cell_type": "markdown",
   "id": "513fded5",
   "metadata": {},
   "source": [
    "As ferramentas de procura de homologias serão de especial relevo, nomeadamente para a \n",
    "procura de genes homólogos, bem como para a caracterização funcional dos genes \n",
    "selecionados. No primeiro caso, deverá configurar adequadamente as suas pesquisas ao nível \n",
    "da base de dados e desenvolver código para automatizar a decisão de existência de homologias \n",
    "significativas. No segundo caso, poderá analisar a lista de sequências homólogas e identificar \n",
    "padrões consistentes ao nível da função desempenhada por estas"
   ]
  },
  {
   "cell_type": "code",
   "execution_count": 31,
   "id": "27babb91",
   "metadata": {},
   "outputs": [],
   "source": [
    "from Bio.Blast import NCBIXML \n",
    "from Bio.Blast import NCBIWWW \n",
    "from Bio import SeqIO"
   ]
  },
  {
   "cell_type": "code",
   "execution_count": 32,
   "id": "5367371b",
   "metadata": {},
   "outputs": [
    {
     "name": "stdout",
     "output_type": "stream",
     "text": [
      "1724\n"
     ]
    }
   ],
   "source": [
    "record = SeqIO.read(open(\"HHEX.fasta\"), format= \"fasta\")\n",
    "print(len(record.seq))"
   ]
  },
  {
   "cell_type": "code",
   "execution_count": 33,
   "id": "fe8dcfd3",
   "metadata": {},
   "outputs": [],
   "source": [
    "result_handle = NCBIWWW.qblast(\"blastn\",\"nt\", record.seq)"
   ]
  },
  {
   "cell_type": "code",
   "execution_count": 34,
   "id": "996ecd71",
   "metadata": {},
   "outputs": [],
   "source": [
    "save_file = open(\"HHEX_b.xml\",\"w\")\n",
    "save_file.write(result_handle.read())\n",
    "save_file.close()\n",
    "result_handle.close()"
   ]
  },
  {
   "cell_type": "code",
   "execution_count": 36,
   "id": "ea1cf1f3",
   "metadata": {},
   "outputs": [
    {
     "name": "stdout",
     "output_type": "stream",
     "text": [
      "Database: nt\n",
      "Gap penalty: (5, 2)\n"
     ]
    }
   ],
   "source": [
    "result_handle = open(\"HHEX_b.xml\")\n",
    "blast_record = NCBIXML.parse(result_handle)\n",
    "for br in blast_record:\n",
    "    print(f\"Database: {br.database}\")\n",
    "    print(f\"Gap penalty: {br.gap_penalties}\")"
   ]
  },
  {
   "cell_type": "markdown",
   "id": "d31e483e",
   "metadata": {},
   "source": [
    "Número de alinhamentos do registo\n",
    "\n",
    "Acession number, ID do hit, definicao\n",
    "\n",
    "nºs de HSP (high scoring pair) do alinhamento, e-value, score, tamanho do alinhamento, numero de caracteres iguais"
   ]
  },
  {
   "cell_type": "code",
   "execution_count": 37,
   "id": "860f2d2f",
   "metadata": {},
   "outputs": [
    {
     "name": "stdout",
     "output_type": "stream",
     "text": [
      "50\n"
     ]
    }
   ],
   "source": [
    "print(len(br.alignments))"
   ]
  },
  {
   "cell_type": "code",
   "execution_count": 38,
   "id": "20f1e206",
   "metadata": {
    "scrolled": false
   },
   "outputs": [
    {
     "name": "stdout",
     "output_type": "stream",
     "text": [
      "Acession number: NM_002729\n",
      "ID do hit: gi|1519245767|ref|NM_002729.5|\n",
      "Definição: Homo sapiens hematopoietically expressed homeobox (HHEX), mRNA\n",
      "HSP: [<Bio.Blast.Record.HSP object at 0x0000019DCFD44070>]\n"
     ]
    }
   ],
   "source": [
    "for br_x in br.alignments:\n",
    "    print(f\"Acession number: {br_x.accession}\")\n",
    "    print(f\"ID do hit: {br_x.hit_id}\")\n",
    "    print(f\"Definição: {br_x.hit_def}\")\n",
    "    print(f\"HSP: {br_x.hsps}\")\n",
    "    break\n",
    "    #apenas escolhi o primeiro que é o que se refere ao organismo Human"
   ]
  },
  {
   "cell_type": "code",
   "execution_count": 39,
   "id": "c14cbedb",
   "metadata": {
    "scrolled": true
   },
   "outputs": [
    {
     "name": "stdout",
     "output_type": "stream",
     "text": [
      "        ***ALINHAMENTO***\n",
      "E-value: 0.0\n",
      "Score: 3448.0\n",
      "Tamanho: 1724\n",
      "Caracteres iguais: 1724\n",
      "Query GCTGCAACCCGCACACCCGACGCCCTTTTACATCGAGGACATCCTGGGCCGCGGGCCCGCCGCGCCCACGCCCGCCCCCACGCTGCCGTCCCCCAACTCC...\n",
      "Match ||||||||||||||||||||||||||||||||||||||||||||||||||||||||||||||||||||||||||||||||||||||||||||||||||||...\n",
      "Sbjct GCTGCAACCCGCACACCCGACGCCCTTTTACATCGAGGACATCCTGGGCCGCGGGCCCGCCGCGCCCACGCCCGCCCCCACGCTGCCGTCCCCCAACTCC...\n",
      "\n",
      "        ***ALINHAMENTO***\n",
      "E-value: 0.0\n",
      "Score: 3446.0\n",
      "Tamanho: 1723\n",
      "Caracteres iguais: 1723\n",
      "Query GCTGCAACCCGCACACCCGACGCCCTTTTACATCGAGGACATCCTGGGCCGCGGGCCCGCCGCGCCCACGCCCGCCCCCACGCTGCCGTCCCCCAACTCC...\n",
      "Match ||||||||||||||||||||||||||||||||||||||||||||||||||||||||||||||||||||||||||||||||||||||||||||||||||||...\n",
      "Sbjct GCTGCAACCCGCACACCCGACGCCCTTTTACATCGAGGACATCCTGGGCCGCGGGCCCGCCGCGCCCACGCCCGCCCCCACGCTGCCGTCCCCCAACTCC...\n",
      "\n",
      "        ***ALINHAMENTO***\n",
      "E-value: 0.0\n",
      "Score: 3429.0\n",
      "Tamanho: 1717\n",
      "Caracteres iguais: 1717\n",
      "Query GCTGCAACCCGCACACCCGACGCCCTTTTACATCGAGGACATCCTGGGCCGCGGGCCCGCCGCGCCCACGCCCGCCCCCACGCTGCCGTCCCCCAACTCC...\n",
      "Match ||||||||||||||||||||||||||||||||||||||||||||||||||||||||||||||||||||||||||||||||||||||||||||||||||||...\n",
      "Sbjct GCTGCAACCCGCACACCCGACGCCCTTTTACATCGAGGACATCCTGGGCCGCGGGCCCGCCGCGCCCACGCCCGCCCCCACGCTGCCGTCCCCCAACTCC...\n",
      "\n",
      "        ***ALINHAMENTO***\n",
      "E-value: 0.0\n",
      "Score: 3392.0\n",
      "Tamanho: 1724\n",
      "Caracteres iguais: 1724\n",
      "Query GCTGCAACCCGCACACCCGACGCCCTTTTACATCGAGGACATCCTGGGCCGCGGGCCCGCCGCGCCCACGCCCGCCCCCACGCTGCCGTCCCCCAACTCC...\n",
      "Match ||||||||||||||||||||||||||||||||||||||||||||||||||||||||||||||||||||||||||||||||||||||||||||||||||||...\n",
      "Sbjct GCTGCAACCCGCACACCCGACGCCCTTTTACATCGAGGACATCCTGGGCCGCGGGCCCGCCGCGCCCACGCCCGCCCCCACGCTGCCGTCCCCCAACTCC...\n",
      "\n",
      "        ***ALINHAMENTO***\n",
      "E-value: 0.0\n",
      "Score: 3381.0\n",
      "Tamanho: 1693\n",
      "Caracteres iguais: 1693\n",
      "Query TTTTACATCGAGGACATCCTGGGCCGCGGGCCCGCCGCGCCCACGCCCGCCCCCACGCTGCCGTCCCCCAACTCCTCCTTCACCAGCCTCGTGTCCCCCT...\n",
      "Match ||||||||||||||||||||||||||||||||||||||||||||||||||||||||||||||||||||||||||||||||||||||||||||||||||||...\n",
      "Sbjct TTTTACATCGAGGACATCCTGGGCCGCGGGCCCGCCGCGCCCACGCCCGCCCCCACGCTGCCGTCCCCCAACTCCTCCTTCACCAGCCTCGTGTCCCCCT...\n",
      "\n",
      "        ***ALINHAMENTO***\n",
      "E-value: 0.0\n",
      "Score: 3381.0\n",
      "Tamanho: 1695\n",
      "Caracteres iguais: 1695\n",
      "Query ACATCGAGGACATCCTGGGCCGCGGGCCCGCCGCGCCCACGCCCGCCCCCACGCTGCCGTCCCCCAACTCCTCCTTCACCAGCCTCGTGTCCCCCTACCG...\n",
      "Match ||||||||||||||||||||||||||||||||||||||||||||||||||||||||||||||||||||||||||||||||||||||||||||||||||||...\n",
      "Sbjct ACATCGAGGACATCCTGGGCCGCGGGCCCGCCGCGCCCACGCCCGCCCCCACGCTGCCGTCCCCCAACTCCTCCTTCACCAGCCTCGTGTCCCCCTACCG...\n",
      "\n",
      "        ***ALINHAMENTO***\n",
      "E-value: 0.0\n",
      "Score: 3372.0\n",
      "Tamanho: 1727\n",
      "Caracteres iguais: 1727\n",
      "Query GCTGCAACCCGCACACCCGACGCCCTTTTACATCGAGGACATCCTGGGCCGCGGGCCCGCCGCGCCCACGCCCGCCCCCACGCTGCCGTCCCCCAACTCC...\n",
      "Match ||||||||||||||||||||||||||||||||||||||||||||||||||||||||||||||||||||||||||||||||||||||||||||||||||||...\n",
      "Sbjct GCTGCAACCCGCACACCCGACGCCCTTTTACATCGAGGACATCCTGGGCCGCGGGCCCGCCGCGCCCACGCCCGCCCCCACGCTGCCGTCCCCCAACTCC...\n",
      "\n",
      "        ***ALINHAMENTO***\n",
      "E-value: 0.0\n",
      "Score: 3355.0\n",
      "Tamanho: 1725\n",
      "Caracteres iguais: 1725\n",
      "Query GCTGCAACCCGCACACCCGACGCCCTTTTACATCGAGGACATCCTGGGCCGCGGGCCCGCCGCGCCCACGCCCGCCCCCACGCTGCCGTCCCCCAACTCC...\n",
      "Match ||||||||||||||||||||||||||||||||||||||||||||||||||||||||||||||||||||||||||||||||||||||||||||||||||||...\n",
      "Sbjct GCTGCAACCCGCACACCCGACGCCCTTTTACATCGAGGACATCCTGGGCCGCGGGCCCGCCGCGCCCACGCCCGCCCCCACGCTGCCGTCCCCCAACTCC...\n",
      "\n",
      "        ***ALINHAMENTO***\n",
      "E-value: 0.0\n",
      "Score: 3288.0\n",
      "Tamanho: 1726\n",
      "Caracteres iguais: 1726\n",
      "Query GCTGCAACCCGCACACCCGACGCCCTTTTACATCGAGGACATCCTGGGCCGCGGGCCCGCCGCGCCCACGCCCGCCCCCACGCTGCCGTCCCCCAACTCC...\n",
      "Match |||||| || ||||||||||||||||| ||||||||||||||||||||||||||||||||||||||||||||||||||||||||||||||||||||||||...\n",
      "Sbjct GCTGCAGCCTGCACACCCGACGCCCTTCTACATCGAGGACATCCTGGGCCGCGGGCCCGCCGCGCCCACGCCCGCCCCCACGCTGCCGTCCCCCAACTCC...\n",
      "\n",
      "        ***ALINHAMENTO***\n",
      "E-value: 0.0\n",
      "Score: 3277.0\n",
      "Tamanho: 1703\n",
      "Caracteres iguais: 1703\n",
      "Query ACCCGCACACCCGACGCCCTTTTACATCGAGGACATCCTGGGCCGCGGGCCCGCCGCGCCCACGCCCGCCCCCACGCTGCCGTCCCCCAACTCCTCCTTC...\n",
      "Match ||||||||||||||||||||||||||||||||||||||||||||||||||||||||||||||||||||||||||||||||||||||||||||||||||||...\n",
      "Sbjct ACCCGCACACCCGACGCCCTTTTACATCGAGGACATCCTGGGCCGCGGGCCCGCCGCGCCCACGCCCGCCCCCACGCTGCCGTCCCCCAACTCCTCCTTC...\n",
      "\n",
      "        ***ALINHAMENTO***\n",
      "E-value: 0.0\n",
      "Score: 3224.0\n",
      "Tamanho: 1729\n",
      "Caracteres iguais: 1729\n",
      "Query GCTGCAACCCGCACACCCGACGCCCTTTTACATCGAGGACATCCTGGGCCGCGGGCCCGCCGCGCCCACGCCCGCCCCCACGCTGCCGTCCCCCAACTCC...\n",
      "Match |||||| |||||||||||||||||||| ||||||||||||||||||||||||||||||||||||||||||||| |||| |||||||||||||||||||||...\n",
      "Sbjct GCTGCAGCCCGCACACCCGACGCCCTTCTACATCGAGGACATCCTGGGCCGCGGGCCCGCCGCGCCCACGCCCACCCCTACGCTGCCGTCCCCCAACTCC...\n",
      "\n",
      "        ***ALINHAMENTO***\n",
      "E-value: 0.0\n",
      "Score: 3173.0\n",
      "Tamanho: 1733\n",
      "Caracteres iguais: 1733\n",
      "Query GCTGCAACCCGCACACCCGACGCCCTTTTACATCGAGGACATCCTGGGCCGCGGGCCCGCCGCGCCCACGCCCGCCCCCACGCTGCCGTCCCCCAACTCC...\n",
      "Match |||||| |||||||||||||||||||| ||||||||||||||||||||||||||||||||||||||||||||||||||||||||||||||||||||||||...\n",
      "Sbjct GCTGCAGCCCGCACACCCGACGCCCTTCTACATCGAGGACATCCTGGGCCGCGGGCCCGCCGCGCCCACGCCCGCCCCCACGCTGCCGTCCCCCAACTCC...\n",
      "\n",
      "        ***ALINHAMENTO***\n",
      "E-value: 0.0\n",
      "Score: 3171.0\n",
      "Tamanho: 1732\n",
      "Caracteres iguais: 1732\n",
      "Query GCTGCAACCCGCACACCCGACGCCCTTTTACATCGAGGACATCCTGGGCCGCGGGCCCGCCGCGCCCACGCCCGCCCCCACGCTGCCGTCCCCCAACTCC...\n",
      "Match |||||| || ||||||||||||||||||||||||||||||||||||||||||||||||||||||||||||||||||||||||||||||||||||||||||...\n",
      "Sbjct GCTGCAGCCGGCACACCCGACGCCCTTTTACATCGAGGACATCCTGGGCCGCGGGCCCGCCGCGCCCACGCCCGCCCCCACGCTGCCGTCCCCCAACTCC...\n",
      "\n",
      "        ***ALINHAMENTO***\n",
      "E-value: 0.0\n",
      "Score: 3161.0\n",
      "Tamanho: 1732\n",
      "Caracteres iguais: 1732\n",
      "Query GCTGCAACCCGCACACCCGACGCCCTTTTACATCGAGGACATCCTGGGCCGCGGGCCCGCCGCGCCCACGCCCGCCCCCACGCTGCCGTCCCCCAACTCC...\n",
      "Match |||||| |||||||||||||||||||| ||||||||||||||| |||||||||||||||||||||||||||||||||||||||||||||| |||||||||...\n",
      "Sbjct GCTGCAGCCCGCACACCCGACGCCCTTCTACATCGAGGACATCTTGGGCCGCGGGCCCGCCGCGCCCACGCCCGCCCCCACGCTGCCGTCTCCCAACTCC...\n",
      "\n",
      "        ***ALINHAMENTO***\n",
      "E-value: 0.0\n",
      "Score: 3161.0\n",
      "Tamanho: 1733\n",
      "Caracteres iguais: 1733\n",
      "Query GCTGCAACCCGCACACCCGACGCCCTTTTACATCGAGGACATCCTGGGCCGCGGGCCCGCCGCGCCCACGCCCGCCCCCACGCTGCCGTCCCCCAACTCC...\n",
      "Match |||||| || ||||||||||||||||||||||||||||||||||||||||||||||||||||||||||||||||||||||||||||||||||||||||||...\n",
      "Sbjct GCTGCAGCCAGCACACCCGACGCCCTTTTACATCGAGGACATCCTGGGCCGCGGGCCCGCCGCGCCCACGCCCGCCCCCACGCTGCCGTCCCCCAACTCC...\n",
      "\n",
      "        ***ALINHAMENTO***\n",
      "E-value: 0.0\n",
      "Score: 3151.0\n",
      "Tamanho: 1734\n",
      "Caracteres iguais: 1734\n",
      "Query GCTGCAACCCGCACACCCGACGCCCTTTTACATCGAGGACATCCTGGGCCGCGGGCCCGCCGCGCCCACGCCCGCCCCCACGCTGCCGTCCCCCAACTCC...\n",
      "Match |||||| || |||||||||||||||||||||||||| |||||||||||||||||||||||||||||||||||||||||||||||||||||||||||||||...\n",
      "Sbjct GCTGCAGCCAGCACACCCGACGCCCTTTTACATCGAAGACATCCTGGGCCGCGGGCCCGCCGCGCCCACGCCCGCCCCCACGCTGCCGTCCCCCAACTCC...\n",
      "\n",
      "        ***ALINHAMENTO***\n",
      "E-value: 0.0\n",
      "Score: 3139.0\n",
      "Tamanho: 1734\n",
      "Caracteres iguais: 1734\n",
      "Query GCTGCAACCCGCACACCCGACGCCCTTTTACATCGAGGACATCCTGGGCCGCGGGCCCGCCGCGCCCACGCCCGCCCCCACGCTGCCGTCCCCCAACTCC...\n",
      "Match |||||| |||||||||||||||||||| ||||||||||||||||||||||||||||||||||||||||||||||||||||||||||||||||||||||||...\n",
      "Sbjct GCTGCAGCCCGCACACCCGACGCCCTTCTACATCGAGGACATCCTGGGCCGCGGGCCCGCCGCGCCCACGCCCGCCCCCACGCTGCCGTCCCCCAACTCC...\n",
      "\n",
      "        ***ALINHAMENTO***\n",
      "E-value: 0.0\n",
      "Score: 3134.0\n",
      "Tamanho: 1729\n",
      "Caracteres iguais: 1729\n",
      "Query GCTGCAACCCGCACACCCGACGCCCTTTTACATCGAGGACATCCTGGGCCGCGGGCCCGCCGCGCCCACGCCCGCCCCCACGCTGCCGTCCCCCAACTCC...\n",
      "Match |||||| || ||||||||||||||||||||||||||||||||||||||||||||||||||||||||||||||||||||||||||||||||||||||||||...\n",
      "Sbjct GCTGCAGCCAGCACACCCGACGCCCTTTTACATCGAGGACATCCTGGGCCGCGGGCCCGCCGCGCCCACGCCCGCCCCCACGCTGCCGTCCCCCAACTCC...\n",
      "\n",
      "        ***ALINHAMENTO***\n",
      "E-value: 0.0\n",
      "Score: 3132.0\n",
      "Tamanho: 1730\n",
      "Caracteres iguais: 1730\n",
      "Query GCTGCAACCCGCACACCCGACGCCCTTTTACATCGAGGACATCCTGGGCCGCGGGCCCGCCGCGCCCACGCCCGCCCCCACGCTGCCGTCCCCCAACTCC...\n",
      "Match |||||| || ||||||||||||||||||||||||||||||||||||||||||||||||||||||||||||||||||||||||||||||||||||||||||...\n",
      "Sbjct GCTGCAGCCAGCACACCCGACGCCCTTTTACATCGAGGACATCCTGGGCCGCGGGCCCGCCGCGCCCACGCCCGCCCCCACGCTGCCGTCCCCCAACTCC...\n",
      "\n",
      "        ***ALINHAMENTO***\n",
      "E-value: 0.0\n",
      "Score: 3116.0\n",
      "Tamanho: 1735\n",
      "Caracteres iguais: 1735\n",
      "Query GCTGCAACCCGCACACCCGACGCCCTTTTACATCGAGGACATCCTGGGCCGCGGGCCCGCCGCGCCCACGCCCGCCCCCACGCTGCCGTCCCCCAACTCC...\n",
      "Match |||||| |||| ||||||||||||||| ||||||||||||||||||||||||||||||||||||||||||||||||||||||||||||||||||||||||...\n",
      "Sbjct GCTGCAGCCCGTACACCCGACGCCCTTCTACATCGAGGACATCCTGGGCCGCGGGCCCGCCGCGCCCACGCCCGCCCCCACGCTGCCGTCCCCCAACTCC...\n",
      "\n",
      "        ***ALINHAMENTO***\n",
      "E-value: 0.0\n",
      "Score: 3116.0\n",
      "Tamanho: 1732\n",
      "Caracteres iguais: 1732\n",
      "Query GCTGCAACCCGCACACCCGACGCCCTTTTACATCGAGGACATCCTGGGCCGCGGGCCCGCCGCGCCCACGCCCGCCCCCACGCTGCCGTCCCCCAACTCC...\n",
      "Match |||||| || ||||||||||||||||||||||||||||||||||||||||||||||||||||||||||||||||||||||||||||||||||||||||||...\n",
      "Sbjct GCTGCAGCCAGCACACCCGACGCCCTTTTACATCGAGGACATCCTGGGCCGCGGGCCCGCCGCGCCCACGCCCGCCCCCACGCTGCCGTCCCCCAACTCC...\n",
      "\n",
      "        ***ALINHAMENTO***\n",
      "E-value: 0.0\n",
      "Score: 3109.0\n",
      "Tamanho: 1734\n",
      "Caracteres iguais: 1734\n",
      "Query GCTGCAACCCGCACACCCGACGCCCTTTTACATCGAGGACATCCTGGGCCGCGGGCCCGCCGCGCCCACGCCCGCCCCCACGCTGCCGTCCCCCAACTCC...\n",
      "Match |||||| || ||||||||||||||||||||||||||||||||||||||||||||||||||||||||||||||||||||||||||||||||||||||||||...\n",
      "Sbjct GCTGCAGCCAGCACACCCGACGCCCTTTTACATCGAGGACATCCTGGGCCGCGGGCCCGCCGCGCCCACGCCCGCCCCCACGCTGCCGTCCCCCAACTCC...\n",
      "\n",
      "        ***ALINHAMENTO***\n",
      "E-value: 0.0\n",
      "Score: 3103.0\n",
      "Tamanho: 1730\n",
      "Caracteres iguais: 1730\n",
      "Query GCTGCAACCCGCACACCCGACGCCCTTTTACATCGAGGACATCCTGGGCCGCGGGCCCGCCGCGCCCACGCCCGCCCCCACGCTGCCGTCCCCCAACTCC...\n",
      "Match |||||| || |||||||||||||||||||||||||| |||||||||||||||||||||||||||||||||||||||||||||||||||||||||||||||...\n",
      "Sbjct GCTGCAGCCAGCACACCCGACGCCCTTTTACATCGAAGACATCCTGGGCCGCGGGCCCGCCGCGCCCACGCCCGCCCCCACGCTGCCGTCCCCCAACTCC...\n",
      "\n",
      "        ***ALINHAMENTO***\n",
      "E-value: 0.0\n",
      "Score: 2944.0\n",
      "Tamanho: 1723\n",
      "Caracteres iguais: 1723\n",
      "Query GCTGCAACCCGCACACCCGACGCCCTTTTACATCGAGGACATCCTGGGCCGCGGGCCCGCCGCGCCCACGCCCGCCCCCACGCTGCCGTCCCCCAACTCC...\n",
      "Match |||||| ||||| |||||||||||||| ||||||||||||||||||||||||||||||||||||||||| ||||||||||||||||||||||||||||||...\n",
      "Sbjct GCTGCAGCCCGCGCACCCGACGCCCTTCTACATCGAGGACATCCTGGGCCGCGGGCCCGCCGCGCCCACTCCCGCCCCCACGCTGCCGTCCCCCAACTCC...\n",
      "\n",
      "        ***ALINHAMENTO***\n",
      "E-value: 0.0\n",
      "Score: 2901.0\n",
      "Tamanho: 1713\n",
      "Caracteres iguais: 1713\n",
      "Query GCTGCAACCCGCACACCCGACGCCCTTTTACATCGAGGACATCCTGGGCCGCGGGCCCGCCGCGCCCACGCCCGCCCCCACGCTGCCGTCCCCCAACTCC...\n",
      "Match |||||| || || |||||||||||||| ||||||||||||||||||||||||||||||||||||||||| ||||||||||||||||||||||||||||||...\n",
      "Sbjct GCTGCAGCCTGCGCACCCGACGCCCTTCTACATCGAGGACATCCTGGGCCGCGGGCCCGCCGCGCCCACTCCCGCCCCCACGCTGCCGTCCCCCAACTCC...\n",
      "\n",
      "        ***ALINHAMENTO***\n",
      "E-value: 0.0\n",
      "Score: 2896.0\n",
      "Tamanho: 1724\n",
      "Caracteres iguais: 1724\n",
      "Query GCTGCAACCCGCACACCCGACGCCCTTTTACATCGAGGACATCCTGGGCCGCGGGCCCGCCGCGCCCACGCCCGCCCCCACGCTGCCGTCCCCCAACTCC...\n",
      "Match |||||| ||||| |||||||||||||| ||||||||||||||| ||||||||||||||||||||||||| ||||||||||||||||||||||||||||||...\n",
      "Sbjct GCTGCAGCCCGCGCACCCGACGCCCTTCTACATCGAGGACATCTTGGGCCGCGGGCCCGCCGCGCCCACTCCCGCCCCCACGCTGCCGTCCCCCAACTCC...\n",
      "\n",
      "        ***ALINHAMENTO***\n",
      "E-value: 0.0\n",
      "Score: 2889.0\n",
      "Tamanho: 1726\n",
      "Caracteres iguais: 1726\n",
      "Query GCTGCAACCCGCACACCCGACGCCCTTTTACATCGAGGACATCCTGGGCCGCGGGCCCGCCGCGCCCACGCCCGCCCCCACGCTGCCGTCCCCCAACTCC...\n",
      "Match |||||| ||||| |||||||||||||| |||||||||||||||||||| |||||||||||||||||||| ||||||||||||||||||||||||||||||...\n",
      "Sbjct GCTGCAGCCCGCGCACCCGACGCCCTTCTACATCGAGGACATCCTGGGTCGCGGGCCCGCCGCGCCCACTCCCGCCCCCACGCTGCCGTCCCCCAACTCC...\n",
      "\n",
      "        ***ALINHAMENTO***\n",
      "E-value: 0.0\n",
      "Score: 2889.0\n",
      "Tamanho: 1726\n",
      "Caracteres iguais: 1726\n",
      "Query GCTGCAACCCGCACACCCGACGCCCTTTTACATCGAGGACATCCTGGGCCGCGGGCCCGCCGCGCCCACGCCCGCCCCCACGCTGCCGTCCCCCAACTCC...\n",
      "Match |||||| ||||| |||||||||||||| ||||||||||||||||||||||||||||||||||||||||| ||||||||||||||||||||||||||||||...\n",
      "Sbjct GCTGCAGCCCGCGCACCCGACGCCCTTCTACATCGAGGACATCCTGGGCCGCGGGCCCGCCGCGCCCACTCCCGCCCCCACGCTGCCGTCCCCCAACTCC...\n",
      "\n",
      "        ***ALINHAMENTO***\n",
      "E-value: 0.0\n",
      "Score: 2811.0\n",
      "Tamanho: 1579\n",
      "Caracteres iguais: 1579\n",
      "Query TCCATCCAGCCTTCTCGCACCACTCCGCCGCCGCGCTGGCCGCTGCCTACGGACCCGGCGGCTTCGGGGGCCCTCTGTACCCCTTCCCGCGGACGGTGAA...\n",
      "Match |||| || |||||||||||||||||||||||||||||||||||||||||||||||||||||||||||||||||||||||||| |||||||||||||||||...\n",
      "Sbjct TCCACCCCGCCTTCTCGCACCACTCCGCCGCCGCGCTGGCCGCTGCCTACGGACCCGGCGGCTTCGGGGGCCCTCTGTACCCTTTCCCGCGGACGGTGAA...\n",
      "\n",
      "        ***ALINHAMENTO***\n",
      "E-value: 0.0\n",
      "Score: 2495.0\n",
      "Tamanho: 1337\n",
      "Caracteres iguais: 1337\n",
      "Query AGAAATTCGAGACGCAGAAATATCTCTCTCCGCCCGAGAGGAAGCGTCTGGCCAAGATGCTGCAGCTCAGCGAGAGACAGGTCAAAACCTGGTTTCAGAA...\n",
      "Match ||||||||||||| ||||||||||||||||||||||||||||||||||||||||||||||||||||||||||||||||||||||||||||||||||||||...\n",
      "Sbjct AGAAATTCGAGACTCAGAAATATCTCTCTCCGCCCGAGAGGAAGCGTCTGGCCAAGATGCTGCAGCTCAGCGAGAGACAGGTCAAAACCTGGTTTCAGAA...\n",
      "\n",
      "        ***ALINHAMENTO***\n",
      "E-value: 0.0\n",
      "Score: 746.0\n",
      "Tamanho: 393\n",
      "Caracteres iguais: 393\n",
      "Query GCTGCAACCCGCACACCCGACGCCCTTTTACATCGAGGACATCCTGGGCCGCGGGCCCGCCGCGCCCACGCCCGCCCCCACGCTGCCGTCCCCCAACTCC...\n",
      "Match |||||| |||||||||||||||||||| ||||||||||||||||||||||||||||||||||||||||||||| |||| |||||||||||||||||||||...\n",
      "Sbjct GCTGCAGCCCGCACACCCGACGCCCTTCTACATCGAGGACATCCTGGGCCGCGGGCCCGCCGCGCCCACGCCCACCCCTACGCTGCCGTCCCCCAACTCC...\n",
      "\n",
      "        ***ALINHAMENTO***\n",
      "E-value: 0.0\n",
      "Score: 2438.0\n",
      "Tamanho: 1759\n",
      "Caracteres iguais: 1759\n",
      "Query GCTGCTGCAACCCGCACACCCGACGCCCTTTTACATCGAGGACATCCTGGGCCGCGGGCCCGCCGCGCCCACGCCCGCCCCCACGCTGCCGTCCCCCAAC...\n",
      "Match ||||||||| ||||| |||||||||||||| ||||||||||||||||||||||||||||||||||| ||||| ||| | |||||||||||||||||||||...\n",
      "Sbjct GCTGCTGCAGCCCGCGCACCCGACGCCCTTCTACATCGAGGACATCCTGGGCCGCGGGCCCGCCGCCCCCACCCCCACGCCCACGCTGCCGTCCCCCAAC...\n",
      "\n",
      "        ***ALINHAMENTO***\n",
      "E-value: 0.0\n",
      "Score: 2404.0\n",
      "Tamanho: 1766\n",
      "Caracteres iguais: 1766\n",
      "Query GCTGCTGCAACCCGCACACCCGACGCCCTTTTACATCGAGGACATCCTGGGCCGCGGGCCCGCCGCGCCCACGCCCGCCCCCACGCTGCCGTCCCCCAAC...\n",
      "Match ||||||||| || || |||||||||||||| |||||||||||||||||||| |||||||||||||||||||| ||| | |||||||||||||||||||||...\n",
      "Sbjct GCTGCTGCAGCCAGCGCACCCGACGCCCTTCTACATCGAGGACATCCTGGGTCGCGGGCCCGCCGCGCCCACCCCCACGCCCACGCTGCCGTCCCCCAAC...\n",
      "\n",
      "        ***ALINHAMENTO***\n",
      "E-value: 0.0\n",
      "Score: 2382.0\n",
      "Tamanho: 1798\n",
      "Caracteres iguais: 1798\n",
      "Query CAACCCGCACACCCGACGCCCTTTTACATCGAGGACATCCTGGGCCGCGGGCCCGCCGCGCCCACGCCCGCCCCCACGCTGCCGTCCCCCAACTCCTCCT...\n",
      "Match || || || ||||||||||| || ||||||||||||||||||||||||||||||||||||||||| ||||||||||| ||||||||||||||||||||||...\n",
      "Sbjct CAGCCGGCGCACCCGACGCCGTTCTACATCGAGGACATCCTGGGCCGCGGGCCCGCCGCGCCCACCCCCGCCCCCACTCTGCCGTCCCCCAACTCCTCCT...\n",
      "\n",
      "        ***ALINHAMENTO***\n",
      "E-value: 0.0\n",
      "Score: 2375.0\n",
      "Tamanho: 1806\n",
      "Caracteres iguais: 1806\n",
      "Query GCTGCTGCAACCCGCACACCCGACGCCCTTTTACATCGAGGACATCCTGGGCCGCGGGCCCGCCGCGCCCACGCCCGCCCCCACGCTGCCGTCCCCCAAC...\n",
      "Match ||||||||| || || ||||||||||| || ||||||||||||||||||||||||||||||||||||||||| |||||||||||||||||||||||||||...\n",
      "Sbjct GCTGCTGCAGCCGGCGCACCCGACGCCGTTCTACATCGAGGACATCCTGGGCCGCGGGCCCGCCGCGCCCACCCCCGCCCCCACGCTGCCGTCCCCCAAC...\n",
      "\n",
      "        ***ALINHAMENTO***\n",
      "E-value: 0.0\n",
      "Score: 2368.0\n",
      "Tamanho: 1811\n",
      "Caracteres iguais: 1811\n",
      "Query GCTGCTGCAACCCGCACACCCGACGCCCTTTTACATCGAGGACATCCTGGGCCGCGGGCCCGCCGCGCCCACGCCCGCCCCCACGCTGCCGTCCCCCAAC...\n",
      "Match ||||||||| || || ||||||||||| || ||||||||||||||||||||||||||||||||||||||||| |||||||||||||||||||||||||||...\n",
      "Sbjct GCTGCTGCAGCCGGCGCACCCGACGCCGTTCTACATCGAGGACATCCTGGGCCGCGGGCCCGCCGCGCCCACCCCCGCCCCCACGCTGCCGTCCCCCAAC...\n",
      "\n",
      "        ***ALINHAMENTO***\n",
      "E-value: 0.0\n",
      "Score: 2367.0\n",
      "Tamanho: 1344\n",
      "Caracteres iguais: 1344\n",
      "Query AGAAATTCGAGACGCAGAAATATCTCTCTCCGCCCGAGAGGAAGCGTCTGGCCAAGATGCTGCAGCTCAGCGAGAGACAGGTCAAAACCTGGTTTCAGAA...\n",
      "Match |||| |||||||||||||||||||||||||||||||| ||||||||||||||||||||||||||||||||||||||||||||||||||||||||||||||...\n",
      "Sbjct AGAAGTTCGAGACGCAGAAATATCTCTCTCCGCCCGAAAGGAAGCGTCTGGCCAAGATGCTGCAGCTCAGCGAGAGACAGGTCAAAACCTGGTTTCAGAA...\n",
      "\n",
      "        ***ALINHAMENTO***\n",
      "E-value: 0.0\n",
      "Score: 2352.0\n",
      "Tamanho: 1806\n",
      "Caracteres iguais: 1806\n",
      "Query GCTGCTGCAACCCGCACACCCGACGCCCTTTTACATCGAGGACATCCTGGGCCGCGGGCCCGCCGCGCCCACGCCCGCCCCCACGCTGCCGTCCCCCAAC...\n",
      "Match ||||||||| || || ||||||||||| || ||||||||||||||||||||||||||||||||||||||||| |||||||||||||||||||||||||||...\n",
      "Sbjct GCTGCTGCAGCCGGCGCACCCGACGCCGTTCTACATCGAGGACATCCTGGGCCGCGGGCCCGCCGCGCCCACCCCCGCCCCCACGCTGCCGTCCCCCAAC...\n",
      "\n",
      "        ***ALINHAMENTO***\n",
      "E-value: 0.0\n",
      "Score: 2352.0\n",
      "Tamanho: 1806\n",
      "Caracteres iguais: 1806\n",
      "Query GCTGCTGCAACCCGCACACCCGACGCCCTTTTACATCGAGGACATCCTGGGCCGCGGGCCCGCCGCGCCCACGCCCGCCCCCACGCTGCCGTCCCCCAAC...\n",
      "Match ||||||||| || || ||||||||||| || ||||||||||||||||||||||||||||||||||||||||| |||||||||||||||||||||||||||...\n",
      "Sbjct GCTGCTGCAGCCGGCGCACCCGACGCCGTTCTACATCGAGGACATCCTGGGCCGCGGGCCCGCCGCGCCCACCCCCGCCCCCACGCTGCCGTCCCCCAAC...\n",
      "\n",
      "        ***ALINHAMENTO***\n",
      "E-value: 0.0\n",
      "Score: 2262.0\n",
      "Tamanho: 1742\n",
      "Caracteres iguais: 1742\n",
      "Query GCTGCTGCAACCCGCACACCCGACGCCCTTTTACATCGAGGACATCCTGGGCCGCGGGCCCGCCGCGCCCACGCCCGCCCCCACGCTGCCGTCCCCCAAC...\n",
      "Match | ||||||| ||||| ||||||||||| || ||||||||||||||||||||||| ||||||||||||||||| ||  | |||||||||||||||||||||...\n",
      "Sbjct GATGCTGCAGCCCGCGCACCCGACGCCGTTCTACATCGAGGACATCCTGGGCCGTGGGCCCGCCGCGCCCACTCCTACGCCCACGCTGCCGTCCCCCAAC...\n",
      "\n",
      "        ***ALINHAMENTO***\n",
      "E-value: 0.0\n",
      "Score: 2260.0\n",
      "Tamanho: 1768\n",
      "Caracteres iguais: 1768\n",
      "Query CACGCCGCTGCTGCAACCCGCACACCCGACGCCCTTTTACATCGAGGACATCCTGGGCCGCGGGCCCGCCGCGCCCACGCCCGCCCCCACGCTGCCGTCC...\n",
      "Match ||||||||||||||| || || ||||||||||| || ||||||||||||||||||||||||||||||||||||||||| ||| |||||||||||||||||...\n",
      "Sbjct CACGCCGCTGCTGCAGCCGGCGCACCCGACGCCGTTCTACATCGAGGACATCCTGGGCCGCGGGCCCGCCGCGCCCACCCCCACCCCCACGCTGCCGTCC...\n",
      "\n",
      "        ***ALINHAMENTO***\n",
      "E-value: 0.0\n",
      "Score: 2257.0\n",
      "Tamanho: 1742\n",
      "Caracteres iguais: 1742\n",
      "Query GCTGCTGCAACCCGCACACCCGACGCCCTTTTACATCGAGGACATCCTGGGCCGCGGGCCCGCCGCGCCCACGCCCGCCCCCACGCTGCCGTCCCCCAAC...\n",
      "Match | ||||||| ||||| ||||||||||| || ||||||||||||||||||||||| ||||||||||||||||| ||  | |||||||||||||||||||||...\n",
      "Sbjct GATGCTGCAGCCCGCGCACCCGACGCCGTTCTACATCGAGGACATCCTGGGCCGTGGGCCCGCCGCGCCCACTCCTACGCCCACGCTGCCGTCCCCCAAC...\n",
      "\n",
      "        ***ALINHAMENTO***\n",
      "E-value: 0.0\n",
      "Score: 2250.0\n",
      "Tamanho: 1746\n",
      "Caracteres iguais: 1746\n",
      "Query GCTGCTGCAACCCGCACACCCGACGCCCTTTTACATCGAGGACATCCTGGGCCGCGGGCCCGCCGCGCCCACGCCCGCCCCCACGCTGCCGTCCCCCAAC...\n",
      "Match | ||||||| ||||| ||||||||||| || ||||||||||||||||||||||| ||||||||||||||||| ||  | |||||||||||||||||||||...\n",
      "Sbjct GATGCTGCAGCCCGCGCACCCGACGCCGTTCTACATCGAGGACATCCTGGGCCGTGGGCCCGCCGCGCCCACTCCTACGCCCACGCTGCCGTCCCCCAAC...\n",
      "\n",
      "        ***ALINHAMENTO***\n",
      "E-value: 0.0\n",
      "Score: 2218.0\n",
      "Tamanho: 1763\n",
      "Caracteres iguais: 1763\n",
      "Query GCCGCTGCTGCAACCCGCACACCCGACGCCCTTTTACATCGAGGACATCCTGGGCCGCGGGCCCGCCGCGCCCACGCCCGCCCCCACGCTGCCGTCCCCC...\n",
      "Match ||||||||| || ||||| || |||||||| || ||||||||||||||| ||||||||||||| ||||||||||| ||| ||||||||||||||||||||...\n",
      "Sbjct GCCGCTGCTACAGCCCGCGCATCCGACGCCGTTCTACATCGAGGACATCTTGGGCCGCGGGCCTGCCGCGCCCACCCCCACCCCCACGCTGCCGTCCCCC...\n",
      "\n",
      "        ***ALINHAMENTO***\n",
      "E-value: 0.0\n",
      "Score: 2208.0\n",
      "Tamanho: 1104\n",
      "Caracteres iguais: 1104\n",
      "Query CTTTGGATAGCTCTCAATGTTCGCCCTCCCCTGCCTCCCAGGAAGACCTTGAATCAGAGATTTCAGAGGATTCTGATCAGGAAGTGGACATTGAGGGCGA...\n",
      "Match ||||||||||||||||||||||||||||||||||||||||||||||||||||||||||||||||||||||||||||||||||||||||||||||||||||...\n",
      "Sbjct CTTTGGATAGCTCTCAATGTTCGCCCTCCCCTGCCTCCCAGGAAGACCTTGAATCAGAGATTTCAGAGGATTCTGATCAGGAAGTGGACATTGAGGGCGA...\n",
      "\n",
      "        ***ALINHAMENTO***\n",
      "E-value: 0.0\n",
      "Score: 789.0\n",
      "Tamanho: 397\n",
      "Caracteres iguais: 397\n",
      "Query GCTGCAACCCGCACACCCGACGCCCTTTTACATCGAGGACATCCTGGGCCGCGGGCCCGCCGCGCCCACGCCCGCCCCCACGCTGCCGTCCCCCAACTCC...\n",
      "Match ||||||||||||||||||||||||||||||||||||||||||||||||||||||||||||||||||||||||||||||||||||||||||||||||||||...\n",
      "Sbjct GCTGCAACCCGCACACCCGACGCCCTTTTACATCGAGGACATCCTGGGCCGCGGGCCCGCCGCGCCCACGCCCGCCCCCACGCTGCCGTCCCCCAACTCC...\n",
      "\n",
      "        ***ALINHAMENTO***\n",
      "E-value: 1.06121e-84\n",
      "Score: 364.0\n",
      "Tamanho: 182\n",
      "Caracteres iguais: 182\n",
      "Query AGAAATTCGAGACGCAGAAATATCTCTCTCCGCCCGAGAGGAAGCGTCTGGCCAAGATGCTGCAGCTCAGCGAGAGACAGGT...\n",
      "Match ||||||||||||||||||||||||||||||||||||||||||||||||||||||||||||||||||||||||||||||||||...\n",
      "Sbjct AGAAATTCGAGACGCAGAAATATCTCTCTCCGCCCGAGAGGAAGCGTCTGGCCAAGATGCTGCAGCTCAGCGAGAGACAGGT...\n",
      "\n",
      "        ***ALINHAMENTO***\n",
      "E-value: 3.25777e-15\n",
      "Score: 108.0\n",
      "Tamanho: 54\n",
      "Caracteres iguais: 54\n",
      "Query ...\n",
      "Match ...\n",
      "Sbjct ...\n",
      "\n",
      "        ***ALINHAMENTO***\n",
      "E-value: 0.0\n",
      "Score: 2187.0\n",
      "Tamanho: 1765\n",
      "Caracteres iguais: 1765\n",
      "Query GCCGCTGCTGCAACCCGCACACCCGACGCCCTTTTACATCGAGGACATCCTGGGCCGCGGGCCCGCCGCGCCCACGCCCGCCCCCACGCTGCCGTCCCCC...\n",
      "Match |||||||||||| ||||| ||||||||||| || ||||||||||||||||||||||||||||||||||||||||| ||| |||| |||||||||||||||...\n",
      "Sbjct GCCGCTGCTGCAGCCCGCGCACCCGACGCCGTTCTACATCGAGGACATCCTGGGCCGCGGGCCCGCCGCGCCCACCCCCACCCCTACGCTGCCGTCCCCC...\n",
      "\n",
      "        ***ALINHAMENTO***\n",
      "E-value: 0.0\n",
      "Score: 2133.0\n",
      "Tamanho: 1645\n",
      "Caracteres iguais: 1645\n",
      "Query CCTCCTTCACCAGCCTCGTGTCCCCCTACCGGACCCCGGTGTACGAGCCCACGCCGATCCATCCAGCCTTCTCGCACCACTCCGCCGCCGCGCTGGCCGC...\n",
      "Match ||||||||||||||||||||||| ||||||||||||||||||||||||||||||||||||| || |||||||||||||||||||||||||| ||||||||...\n",
      "Sbjct CCTCCTTCACCAGCCTCGTGTCCTCCTACCGGACCCCGGTGTACGAGCCCACGCCGATCCACCCCGCCTTCTCGCACCACTCCGCCGCCGCACTGGCCGC...\n",
      "\n",
      "        ***ALINHAMENTO***\n",
      "E-value: 0.0\n",
      "Score: 2112.0\n",
      "Tamanho: 1687\n",
      "Caracteres iguais: 1687\n",
      "Query GCCGCTGCTGCAACCCGCACACCCGACGCCCTTTTACATCGAGGACATCCTGGGCCGCGGGCCCGCCGCGCCCACGCCCGCCCCCACGCTGCCGTCCCCC...\n",
      "Match |||||||||||| ||||| ||||||||||| || || ||||||||||| |||||||| ||||||||||||||||| ||| |||| |||||||||||||||...\n",
      "Sbjct GCCGCTGCTGCAGCCCGCGCACCCGACGCCGTTCTATATCGAGGACATACTGGGCCGTGGGCCCGCCGCGCCCACCCCCACCCCTACGCTGCCGTCCCCC...\n",
      "\n",
      "        ***ALINHAMENTO***\n",
      "E-value: 0.0\n",
      "Score: 2021.0\n",
      "Tamanho: 1659\n",
      "Caracteres iguais: 1659\n",
      "Query GCACACCCGACGCCCTTTTACATCGAGGACATCCTGGGCCGCGGGCCCGCCGCGCCCACGCCCGCCCCCACGCTGCCGTCCCCCAACTCCTCCTTCACCA...\n",
      "Match |||||||||||||| || ||||||||||||||||||||||||||||||||||||||||| ||| |||||||||||||||||||||| |||||||||||||...\n",
      "Sbjct GCACACCCGACGCCGTTCTACATCGAGGACATCCTGGGCCGCGGGCCCGCCGCGCCCACCCCCACCCCCACGCTGCCGTCCCCCAATTCCTCCTTCACCA...\n",
      "\n",
      "        ***ALINHAMENTO***\n",
      "E-value: 0.0\n",
      "Score: 2017.0\n",
      "Tamanho: 1766\n",
      "Caracteres iguais: 1766\n",
      "Query GCTGCTGCAACCCGCACACCCGACGCCCTTTTACATCGAGGACATCCTGGGCCGCGGGCCCGCCGCGCCCACGCCCGCCCCCACGCTGCCGTCCCCCAAC...\n",
      "Match ||| ||||| ||||| ||||||||||| || ||||||||||||||||||||||| ||||||||||||||||| ||| | |||||||||||||||||||||...\n",
      "Sbjct GCTCCTGCAGCCCGCGCACCCGACGCCGTTCTACATCGAGGACATCCTGGGCCGTGGGCCCGCCGCGCCCACTCCCACTCCCACGCTGCCGTCCCCCAAC...\n",
      "\n",
      "        ***ALINHAMENTO***\n",
      "E-value: 0.0\n",
      "Score: 1981.0\n",
      "Tamanho: 1369\n",
      "Caracteres iguais: 1369\n",
      "Query CTGCTGCAACCCGCACACCCGACGCCCTTTTACATCGAGGACATCCTGGGCCGCGGGCCCGCCGCGCCCACGCCCGCCCCCACGCTGCCGTCCCCCAACT...\n",
      "Match |||||||| ||||| ||||||||||| || |||||||| |||||||||||||||||||||||||||||||| |||  |||||||||||||||||||||||...\n",
      "Sbjct CTGCTGCAGCCCGCGCACCCGACGCCGTTCTACATCGAAGACATCCTGGGCCGCGGGCCCGCCGCGCCCACCCCCAACCCCACGCTGCCGTCCCCCAACT...\n",
      "\n"
     ]
    }
   ],
   "source": [
    "evalue_tresh = 0.05\n",
    "for alignment in br.alignments:\n",
    "    for hsp in alignment.hsps:\n",
    "        if hsp.expect < evalue_tresh:\n",
    "            print(\"        ***ALINHAMENTO***\")\n",
    "            print(f\"E-value: {hsp.expect}\")\n",
    "            print(f\"Score: {hsp.score}\")\n",
    "            print(f\"Tamanho: {hsp.align_length}\")\n",
    "            print(f\"Caracteres iguais: {len(hsp.match)}\")\n",
    "            print(\"Query \" + hsp.query[100:200] + \"...\")\n",
    "            print(\"Match \" + hsp.match[100:200] + \"...\")\n",
    "            print(\"Sbjct \" + hsp.sbjct[100:200] + \"...\")\n",
    "            print()"
   ]
  },
  {
   "cell_type": "code",
   "execution_count": 40,
   "id": "69040a7d",
   "metadata": {},
   "outputs": [],
   "source": [
    "from Bio import SearchIO"
   ]
  },
  {
   "cell_type": "code",
   "execution_count": 41,
   "id": "fd1ca6a2",
   "metadata": {},
   "outputs": [
    {
     "name": "stdout",
     "output_type": "stream",
     "text": [
      "Program: blastn (2.13.0+)\n",
      "  Query: No (1724)\n",
      "         definition line\n",
      " Target: nt\n",
      "   Hits: ----  -----  ----------------------------------------------------------\n",
      "            #  # HSP  ID + description\n",
      "         ----  -----  ----------------------------------------------------------\n",
      "            0      1  gi|1519245767|ref|NM_002729.5|  Homo sapiens hematopoie...\n",
      "            1      1  gi|15929354|gb|BC015110.1|  Homo sapiens hematopoietica...\n",
      "            2      1  gi|15680040|gb|BC014336.1|  Homo sapiens hematopoietica...\n",
      "            3      1  gi|1367123331|ref|XM_507925.5|  PREDICTED: Pan troglody...\n",
      "            4      1  gi|32547|emb|X67235.1|  H.sapiens mRNA for proline rich...\n",
      "            5      1  gi|30048158|gb|BC050638.1|  Homo sapiens hematopoietica...\n",
      "            6      1  gi|1849002271|ref|XM_003825674.3|  PREDICTED: Pan panis...\n",
      "            7      1  gi|1753031712|ref|XM_031015733.1|  PREDICTED: Gorilla g...\n",
      "            8      1  gi|1351383818|ref|XM_024253783.1|  PREDICTED: Pongo abe...\n",
      "            9      1  gi|292404|gb|L16499.1|HUMPRH  Human orphan homeobox pro...\n",
      "           10      1  gi|1743203112|ref|XM_030802514.1|  PREDICTED: Nomascus ...\n",
      "           11      1  gi|1059150898|ref|XM_017876753.1|  PREDICTED: Rhinopith...\n",
      "           12      1  gi|795247561|ref|XM_012063055.1|  PREDICTED: Cercocebus...\n",
      "           13      1  gi|1825822215|ref|XM_033224545.1|  PREDICTED: Trachypit...\n",
      "           14      1  gi|1938880275|ref|XM_007963565.2|  PREDICTED: Chloroceb...\n",
      "           15      1  gi|1411179766|ref|XM_025397020.1|  PREDICTED: Theropith...\n",
      "           16      1  gi|1751199935|ref|XM_030941276.1|  PREDICTED: Rhinopith...\n",
      "           17      1  gi|2161943361|ref|XM_005565955.3|  PREDICTED: Macaca fa...\n",
      "           18      1  gi|2309500272|ref|XM_050802826.1|  PREDICTED: Macaca th...\n",
      "           19      1  gi|1788697486|ref|XM_023226304.3|  PREDICTED: Piliocolo...\n",
      "           20      1  gi|795332012|ref|XM_011738821.1|  PREDICTED: Macaca nem...\n",
      "           21      1  gi|1622966527|ref|XM_001090715.4|  PREDICTED: Macaca mu...\n",
      "           22      1  gi|1777257527|ref|XM_003904001.5|  PREDICTED: Papio anu...\n",
      "           23      1  gi|1864419579|ref|XM_035268475.1|  PREDICTED: Callithri...\n",
      "           24      1  gi|817280149|ref|XM_012454782.1|  PREDICTED: Aotus nanc...\n",
      "           25      1  gi|1984105766|ref|XM_003922390.3|  PREDICTED: Saimiri b...\n",
      "           26      1  gi|1804417576|ref|XM_032245527.1|  PREDICTED: Sapajus a...\n",
      "           27      1  gi|1933975555|ref|XM_017498186.2|  PREDICTED: Cebus imi...\n",
      "           28      1  gi|795196478|ref|XM_011947898.1|  PREDICTED: Colobus an...\n",
      "           29      2  gi|1799962366|ref|XM_032170111.1|  PREDICTED: Hylobates...\n",
      "           ~~~\n",
      "           47      1  gi|830020889|ref|XM_004680626.2|  PREDICTED: Condylura ...\n",
      "           48      1  gi|2177262583|ref|XM_045854700.1|  PREDICTED: Phyllosto...\n",
      "           49      1  gi|823427052|ref|XM_004410975.2|  PREDICTED: Odobenus r...\n"
     ]
    },
    {
     "name": "stderr",
     "output_type": "stream",
     "text": [
      "c:\\Users\\user\\AppData\\Local\\Programs\\Python\\Python310\\lib\\site-packages\\Bio\\SearchIO\\_legacy\\__init__.py:12: BiopythonDeprecationWarning: The 'Bio.SearchIO._legacy' module for parsing BLAST plain text output is deprecated and will be removed in a future release of Biopython. Consider generating your BLAST output for parsing as XML or tabular format instead.\n",
      "  warnings.warn(\n"
     ]
    }
   ],
   "source": [
    "blastq_result = SearchIO.read(\"HHEX_b.xml\", \"blast-xml\")\n",
    "print(blastq_result)"
   ]
  },
  {
   "cell_type": "code",
   "execution_count": 42,
   "id": "aab99254",
   "metadata": {},
   "outputs": [
    {
     "name": "stdout",
     "output_type": "stream",
     "text": [
      "      Query: No definition line\n",
      "        Hit: gi|1519245767|ref|NM_002729.5| Homo sapiens hematopoietically ex...\n",
      "Query range: [0:1724] (1)\n",
      "  Hit range: [0:1724] (1)\n",
      "Quick stats: evalue 0; bitscore 3110.29\n",
      "  Fragments: 1 (1724 columns)\n",
      "     Query - AGCTCTGCGAGGGGCCGGAGCGCGGCGGAGCCATGCAGTACCCGCACCCCGGGCCGGCG~~~TCGTT\n",
      "             |||||||||||||||||||||||||||||||||||||||||||||||||||||||||||~~~|||||\n",
      "       Hit - AGCTCTGCGAGGGGCCGGAGCGCGGCGGAGCCATGCAGTACCCGCACCCCGGGCCGGCG~~~TCGTT\n"
     ]
    }
   ],
   "source": [
    "#Primeiro hit, primeiro HSP\n",
    "blast_hsp = blastq_result[0][0]    \n",
    "print(blast_hsp)"
   ]
  },
  {
   "cell_type": "code",
   "execution_count": 43,
   "id": "73d52dd8",
   "metadata": {},
   "outputs": [
    {
     "data": {
      "text/plain": [
       "(0, 1724)"
      ]
     },
     "execution_count": 43,
     "metadata": {},
     "output_type": "execute_result"
    }
   ],
   "source": [
    "blast_hsp.query_range"
   ]
  },
  {
   "cell_type": "code",
   "execution_count": 44,
   "id": "d3ae6bae",
   "metadata": {},
   "outputs": [
    {
     "data": {
      "text/plain": [
       "0.0"
      ]
     },
     "execution_count": 44,
     "metadata": {},
     "output_type": "execute_result"
    }
   ],
   "source": [
    "blast_hsp.evalue"
   ]
  },
  {
   "cell_type": "code",
   "execution_count": 45,
   "id": "30e250b1",
   "metadata": {},
   "outputs": [
    {
     "name": "stdout",
     "output_type": "stream",
     "text": [
      "Program: blastn (2.13.0+)\n",
      "  Query: No (1724)\n",
      "         definition line\n",
      " Target: nt\n",
      "   Hits: ----  -----  ----------------------------------------------------------\n",
      "            #  # HSP  ID + description\n",
      "         ----  -----  ----------------------------------------------------------\n",
      "            0      1  gi|1519245767|ref|NM_002729.5|  Homo sapiens hematopoie...\n",
      "            1      1  gi|15929354|gb|BC015110.1|  Homo sapiens hematopoietica...\n",
      "            2      1  gi|15680040|gb|BC014336.1|  Homo sapiens hematopoietica...\n"
     ]
    }
   ],
   "source": [
    "#Três primeiros hsp\n",
    "blast_slice = blastq_result[:3]\n",
    "print(blast_slice)"
   ]
  },
  {
   "cell_type": "code",
   "execution_count": 46,
   "id": "42316bcd",
   "metadata": {},
   "outputs": [
    {
     "data": {
      "text/plain": [
       "True"
      ]
     },
     "execution_count": 46,
     "metadata": {},
     "output_type": "execute_result"
    }
   ],
   "source": [
    "#Para conhecer se um hit específico está nos resultados - inserir ID + description\n",
    "\"gi|21211761|emb|AL590080.25|\" in blastq_result"
   ]
  },
  {
   "cell_type": "markdown",
   "id": "a0f42508",
   "metadata": {},
   "source": [
    "## Ferramentas de análise das propriedades da proteína"
   ]
  },
  {
   "cell_type": "markdown",
   "id": "6d3d6a7a",
   "metadata": {},
   "source": [
    "##### Ver bases de dados curadas, UniProt, SwissProt pelo Biopyhton, PDB, CDD"
   ]
  },
  {
   "cell_type": "markdown",
   "id": "4e94745b",
   "metadata": {},
   "source": [
    "A base de dados UniProt permite aceder a toda a informação de um conjunto alargado de\n",
    "proteínas. Os ficheiros da SwissProt podem ser tratados automaticamente pelo BioPython (ver \n",
    "exemplos na secção 10.1 do tutorial).\n",
    "Note que os registos UniProt podem ter diferentes graus de revisão por parte dos curadores da \n",
    "base de dados, sendo nos casos em que o registo tenha sido manualmente curado uma fonte \n",
    "importante de informação."
   ]
  },
  {
   "cell_type": "code",
   "execution_count": 49,
   "id": "cec46a04",
   "metadata": {},
   "outputs": [
    {
     "name": "stdout",
     "output_type": "stream",
     "text": [
      "ID Q03014 \n",
      " Sequência: MQYPHPGPAAGAVGVPLYAPTPLLQPAHPTPFYIEDILGRGPAAPTPAPTLPSPNSSFTSLVSPYRTPVYEPTPIHPAFSHHSAAALAAAYGPGGFGGPLYPFPRTVNDYTHALLRHDPLGKPLLWSPFLQRPLHKRKGGQVRFSNDQTIELEKKFETQKYLSPPERKRLAKMLQLSERQVKTWFQNRRAKWRRLKQENPQSNKKEELESLDSSCDQRQDLPSEQNKGASLDSSQCSPSPASQEDLESEISEDSDQEVDIEGDKSYFNAG \n",
      " Tamanho da sequência: 270 bp\n",
      "Nome: HHEX_HUMAN \n",
      " Descrição: RecName: Full=Hematopoietically-expressed homeobox protein HHEX; Short=Homeobox protein HEX; AltName: Full=Homeobox protein PRH; \n",
      " Taxonomia: ['Eukaryota', 'Metazoa', 'Chordata', 'Craniata', 'Vertebrata', 'Euteleostomi', 'Mammalia', 'Eutheria', 'Euarchontoglires', 'Primates', 'Haplorrhini', 'Catarrhini', 'Hominidae', 'Homo'] \n",
      " Organismo: Homo sapiens (Human) \n",
      " Keywords: ['3D-structure', 'Developmental protein', 'Differentiation', 'DNA-binding', 'Homeobox', 'Nucleus', 'Phosphoprotein', 'Reference proteome', 'Repressor', 'Transcription', 'Transcription regulation', 'Wnt signaling pathway']\n"
     ]
    }
   ],
   "source": [
    "from Bio import ExPASy \n",
    "handle = ExPASy.get_sprot_raw(\"Q03014\")\n",
    "seq_record = SeqIO.read(handle, \"swiss\")\n",
    "id = seq_record.id\n",
    "seq = seq_record.seq\n",
    "tam = len(seq_record.seq)\n",
    "name = seq_record.name\n",
    "desc = seq_record.description\n",
    "com = seq_record.annotations[\"comment\"]\n",
    "taxon = seq_record.annotations[\"taxonomy\"]\n",
    "organism = seq_record.annotations[\"organism\"]\n",
    "key = seq_record.annotations[\"keywords\"]\n",
    "print(f\"ID {id} \\n Sequência: {seq} \\n Tamanho da sequência: {tam} bp\")\n",
    "print(f\"Nome: {name} \\n Descrição: {desc} \\n Taxonomia: {taxon} \\n Organismo: {organism} \\n Keywords: {key}\")"
   ]
  },
  {
   "cell_type": "code",
   "execution_count": 50,
   "id": "0d4e15c7",
   "metadata": {},
   "outputs": [],
   "source": [
    "seq_prot= seq_record.seq\n",
    "\n",
    "result_handle = NCBIWWW.qblast('blastp', 'swissprot', seq_prot)\n",
    "\n",
    "save_file = open(\"prot_blast_swiss.xml\",\"w\")\n",
    "save_file.write(result_handle.read())\n",
    "save_file.close()\n",
    "\n",
    "blast_record = NCBIXML.parse(result_handle)\n",
    "\n",
    "#result_handle.close()"
   ]
  },
  {
   "cell_type": "code",
   "execution_count": 54,
   "id": "79bbf273",
   "metadata": {},
   "outputs": [],
   "source": [
    "#Protein BLAST swissprot\n",
    "from Bio.Blast import NCBIWWW\n",
    "result_handle = NCBIWWW.qblast(\"blastp\", \"swissprot\", seq_record.seq)"
   ]
  },
  {
   "cell_type": "code",
   "execution_count": 55,
   "id": "af4cc2e1",
   "metadata": {},
   "outputs": [],
   "source": [
    "from Bio import SearchIO\n",
    "blast_records = SearchIO.read(result_handle, \"blast-xml\")"
   ]
  },
  {
   "cell_type": "code",
   "execution_count": 56,
   "id": "189a53ec",
   "metadata": {},
   "outputs": [
    {
     "name": "stdout",
     "output_type": "stream",
     "text": [
      "Program: blastp (2.13.0+)\n",
      "  Query: unnamed (270)\n",
      "         protein product\n",
      " Target: swissprot\n",
      "   Hits: ----  -----  ----------------------------------------------------------\n",
      "            #  # HSP  ID + description\n",
      "         ----  -----  ----------------------------------------------------------\n",
      "            0      1  sp|Q03014.1|  RecName: Full=Hematopoietically-expressed...\n",
      "            1      1  sp|P43120.1|  RecName: Full=Hematopoietically-expressed...\n",
      "            2      1  sp|Q8AWG6.1|  RecName: Full=Hematopoietically-expressed...\n",
      "            3      1  sp|O13023.1|  RecName: Full=Hematopoietically-expressed...\n",
      "            4      1  sp|Q05502.1|  RecName: Full=Hematopoietically-expressed...\n",
      "            5      1  sp|Q9IAV3.1|  RecName: Full=Hematopoietically-expressed...\n",
      "            6      1  sp|D2KQB0.1|  RecName: Full=Hematopoietically-expressed...\n",
      "            7      1  sp|Q21578.5|  RecName: Full=Homeobox protein HEX homolo...\n",
      "            8      1  sp|Q61670.1|  RecName: Full=H2.0-like homeobox protein;...\n",
      "            9      1  sp|Q14774.3|  RecName: Full=H2.0-like homeobox protein;...\n",
      "           10      1  sp|A0JPN1.1|  RecName: Full=H2.0-like homeobox protein;...\n",
      "           11      1  sp|A7MB54.1|  RecName: Full=H2.0-like homeobox protein;...\n",
      "           12      1  sp|P56407.2|  RecName: Full=Homeobox protein ceh-9 [Cae...\n",
      "           13      1  sp|Q91907.1|  RecName: Full=Homeobox protein GBX-2; Alt...\n",
      "           14      1  sp|Q810B3.1|  RecName: Full=Brain-specific homeobox pro...\n",
      "           15      1  sp|P52951.3|  RecName: Full=Homeobox protein GBX-2; Alt...\n",
      "           16      1  sp|P48031.1|  RecName: Full=Homeobox protein GBX-2; Alt...\n",
      "           17      1  sp|O55144.2|  RecName: Full=T-cell leukemia homeobox pr...\n",
      "           18      1  sp|O43711.3|  RecName: Full=T-cell leukemia homeobox pr...\n",
      "           19      1  sp|Q3C1V8.2|  RecName: Full=Brain-specific homeobox pro...\n",
      "           20      1  sp|Q3UHX8.1|  RecName: Full=Homeobox protein Nkx-6.3 [M...\n",
      "           21      1  sp|Q14549.2|  RecName: Full=Homeobox protein GBX-1; Alt...\n",
      "           22      1  sp|O93367.1|  RecName: Full=T-cell leukemia homeobox pr...\n",
      "           23      1  sp|P15142.1|  RecName: Full=Homeobox protein CHOX-7 [Ga...\n",
      "           24      1  sp|Q61663.1|  RecName: Full=T-cell leukemia homeobox pr...\n",
      "           25      1  sp|O42230.1|  RecName: Full=Homeobox protein GBX-2; Alt...\n",
      "           26      1  sp|P82976.2|  RecName: Full=Homeobox protein GBX-1; Alt...\n",
      "           27      1  sp|O43763.2|  RecName: Full=T-cell leukemia homeobox pr...\n",
      "           28      1  sp|Q04741.3|  RecName: Full=Homeobox protein EMX1; AltN...\n",
      "           29      1  sp|O93366.1|  RecName: Full=T-cell leukemia homeobox pr...\n",
      "           ~~~\n",
      "           47      1  sp|O15522.2|  RecName: Full=Homeobox protein Nkx-2.8; A...\n",
      "           48      1  sp|P04476.1|  RecName: Full=Homeobox protein Hox-B7-B; ...\n",
      "           49      1  sp|P10035.2|  RecName: Full=Homeobox protein H2.0 [Dros...\n"
     ]
    }
   ],
   "source": [
    "print(blast_records[:])"
   ]
  },
  {
   "cell_type": "code",
   "execution_count": 57,
   "id": "edb270db",
   "metadata": {},
   "outputs": [
    {
     "name": "stdout",
     "output_type": "stream",
     "text": [
      "Sequence ID: sp|Q03014.1|\n",
      "Description: RecName: Full=Hematopoietically-expressed homeobox protein HHEX; Short=Homeobox protein HEX; AltName: Full=Homeobox protein PRH [Homo sapiens]\n",
      "E-value: 0.0\n",
      "Bit Score: 552.362\n",
      "Alignment:\n",
      "Alignment with 2 rows and 270 columns\n",
      "MQYPHPGPAAGAVGVPLYAPTPLLQPAHPTPFYIEDILGRGPAA...NAG unnamed\n",
      "MQYPHPGPAAGAVGVPLYAPTPLLQPAHPTPFYIEDILGRGPAA...NAG sp|Q03014.1|\n",
      "\n",
      "Sequence ID: sp|P43120.1|\n",
      "Description: RecName: Full=Hematopoietically-expressed homeobox protein Hhex; Short=Homeobox protein HEX; Short=mHex; AltName: Full=Homeobox protein PRH [Mus musculus]\n",
      "E-value: 6.07441e-160\n",
      "Bit Score: 447.973\n",
      "Alignment:\n",
      "Alignment with 2 rows and 271 columns\n",
      "MQYPHPGPAAGAVGVP-LYAPTPLLQPAHPTPFYIEDILGRGPA...NAG unnamed\n",
      "MQFPHPGPAAAPAVGVPLYAPTPLLQPAHPTPFYIDDILGRGPA...NAG sp|P43120.1|\n",
      "\n",
      "Sequence ID: sp|Q8AWG6.1|\n",
      "Description: RecName: Full=Hematopoietically-expressed homeobox protein hhex; Short=Homeobox protein hex; Short=tHex [Xenopus tropicalis]\n",
      "E-value: 4.49319e-139\n",
      "Bit Score: 395.201\n",
      "Alignment:\n",
      "Alignment with 2 rows and 277 columns\n",
      "MQYPHPGPAAGAVGVPLYAPTPLLQPAHPTPFYIEDILGRGPAA...NAG unnamed\n",
      "MQYQHPSSSALGLSVPLYAPTPL-QPVHPTPFYIDDILGRSSAS...NCA sp|Q8AWG6.1|\n",
      "\n",
      "Sequence ID: sp|O13023.1|\n",
      "Description: RecName: Full=Hematopoietically-expressed homeobox protein hhex; Short=Homeobox protein hex; Short=XHex; AltName: Full=Hhex-A protein [Xenopus laevis]\n",
      "E-value: 1.07919e-136\n",
      "Bit Score: 389.037\n",
      "Alignment:\n",
      "Alignment with 2 rows and 277 columns\n",
      "MQYPHPGPAAGAVGVPLYAPTPLLQPAHPTPFYIEDILGRGPAA...NAG unnamed\n",
      "MQYQHPSSSALGLSVPLFAPTPL---QHPTPFYIDDILGRNSAS...NCA sp|O13023.1|\n",
      "\n",
      "Sequence ID: sp|Q05502.1|\n",
      "Description: RecName: Full=Hematopoietically-expressed homeobox protein HHEX; Short=Homeobox protein HEX; AltName: Full=Homeobox protein PRH [Gallus gallus]\n",
      "E-value: 2.56377e-127\n",
      "Bit Score: 365.54\n",
      "Alignment:\n",
      "Alignment with 2 rows and 266 columns\n",
      "AVGVPLYAPTPLLQPAHPTPFYIEDILGRGPAAPTPAPTLPSPN...FNA unnamed\n",
      "GVGVPLYAPTPLLQPAHPTPFYIEDILGRGPAAAPAPHSLPAPP...YSA sp|Q05502.1|\n",
      "\n",
      "Sequence ID: sp|Q9IAV3.1|\n",
      "Description: RecName: Full=Hematopoietically-expressed homeobox protein hhex; Short=Homeobox protein hex [Danio rerio]\n",
      "E-value: 4.96762e-93\n",
      "Bit Score: 276.944\n",
      "Alignment:\n",
      "Alignment with 2 rows and 240 columns\n",
      "FYIEDILGR-----GPAAPTPAPTLPSPNSSFTSLVSPYRTPVY...KSY unnamed\n",
      "FYIEDILGRTGSSSGPVVPTP--TLPSPNSSFTSLIPSYRTPIY...HQF sp|Q9IAV3.1|\n",
      "\n",
      "Sequence ID: sp|D2KQB0.1|\n",
      "Description: RecName: Full=Hematopoietically-expressed homeobox protein HHEX homolog; Short=AmHEX; Short=Homeobox protein HEX; AltName: Full=HEX homeodomain transcription factor [Patiria miniata]\n",
      "E-value: 1.95917e-62\n",
      "Bit Score: 200.675\n",
      "Alignment:\n",
      "Alignment with 2 rows and 249 columns\n",
      "MQYPHPGPAAGAVG---VPLYAPTPLLQ----------PAHPTP...SEQ unnamed\n",
      "LHNPHMNHHHGLVGPGLAPLSAPNGIQSLNTLHNGSGPPSH-TP...REQ sp|D2KQB0.1|\n",
      "\n",
      "Sequence ID: sp|Q21578.5|\n",
      "Description: RecName: Full=Homeobox protein HEX homolog pha-2; AltName: Full=Defective pharyngeal development protein 2 [Caenorhabditis elegans]\n",
      "E-value: 2.60655e-26\n",
      "Bit Score: 105.531\n",
      "Alignment:\n",
      "Alignment with 2 rows and 71 columns\n",
      "PFLQRPLHKRKGGQVRFSNDQTIELEKKFETQKYLSPPERKRLA...KQE unnamed\n",
      "PYMSKSPQKRKGGQIRFTNEQTDALEHKFDSHKYLSPQERKKLA...RKD sp|Q21578.5|\n",
      "\n",
      "Sequence ID: sp|Q61670.1|\n",
      "Description: RecName: Full=H2.0-like homeobox protein; AltName: Full=Homeobox protein HLX1 [Mus musculus]\n",
      "E-value: 8.84051e-17\n",
      "Bit Score: 82.8037\n",
      "Alignment:\n",
      "Alignment with 2 rows and 72 columns\n",
      "KRKGGQVRFSNDQTIELEKKFETQKYLSPPERKRLAKMLQLSER...KEE unnamed\n",
      "KRSWSRAVFSNLQRKGLEKRFEIQKYVTKPDRKQLAAMLGLTDA...DKE sp|Q61670.1|\n",
      "\n",
      "Sequence ID: sp|Q14774.3|\n",
      "Description: RecName: Full=H2.0-like homeobox protein; AltName: Full=Homeobox protein HB24; AltName: Full=Homeobox protein HLX1 [Homo sapiens]\n",
      "E-value: 1.11767e-16\n",
      "Bit Score: 82.4185\n",
      "Alignment:\n",
      "Alignment with 2 rows and 72 columns\n",
      "KRKGGQVRFSNDQTIELEKKFETQKYLSPPERKRLAKMLQLSER...KEE unnamed\n",
      "KRSWSRAVFSNLQRKGLEKRFEIQKYVTKPDRKQLAAMLGLTDA...DKE sp|Q14774.3|\n",
      "\n",
      "Sequence ID: sp|A0JPN1.1|\n",
      "Description: RecName: Full=H2.0-like homeobox protein; AltName: Full=Homeobox protein HLX1 [Rattus norvegicus]\n",
      "E-value: 1.25531e-16\n",
      "Bit Score: 82.4185\n",
      "Alignment:\n",
      "Alignment with 2 rows and 72 columns\n",
      "KRKGGQVRFSNDQTIELEKKFETQKYLSPPERKRLAKMLQLSER...KEE unnamed\n",
      "KRSWSRAVFSNLQRKGLEKRFEIQKYVTKPDRKQLAAMLGLTDA...DKE sp|A0JPN1.1|\n",
      "\n",
      "Sequence ID: sp|A7MB54.1|\n",
      "Description: RecName: Full=H2.0-like homeobox protein; AltName: Full=Homeobox protein HLX1 [Bos taurus]\n",
      "E-value: 2.26228e-16\n",
      "Bit Score: 81.6481\n",
      "Alignment:\n",
      "Alignment with 2 rows and 72 columns\n",
      "KRKGGQVRFSNDQTIELEKKFETQKYLSPPERKRLAKMLQLSER...KEE unnamed\n",
      "KRSWSRAVFSNLQRKGLEKRFEIQKYVTKPDRKQLAAMLGLTDA...DKE sp|A7MB54.1|\n",
      "\n",
      "Sequence ID: sp|P56407.2|\n",
      "Description: RecName: Full=Homeobox protein ceh-9 [Caenorhabditis elegans]\n",
      "E-value: 6.07086e-16\n",
      "Bit Score: 75.8702\n",
      "Alignment:\n",
      "Alignment with 2 rows and 67 columns\n",
      "KRKGGQVRFSNDQTIELEKKFETQKYLSPPERKRLAKMLQLSER...PQS unnamed\n",
      "KRKKARTTFSGKQVFELEKQFEAKKYLSSSDRSELAKRLDVTET...ERS sp|P56407.2|\n",
      "\n",
      "Sequence ID: sp|Q91907.1|\n",
      "Description: RecName: Full=Homeobox protein GBX-2; AltName: Full=Gastrulation and brain-specific homeobox protein 2; AltName: Full=XGBX-2 [Xenopus laevis]\n",
      "E-value: 1.17973e-15\n",
      "Bit Score: 78.9518\n",
      "Alignment:\n",
      "Alignment with 2 rows and 63 columns\n",
      "FSNDQTIELEKKFETQKYLSPPERKRLAKMLQLSERQVKTWFQN...KKE unnamed\n",
      "FTSEQLLELEKEFHCKKYLSLTERSQIAHVLKLSEVQVKIWFQN...TGE sp|Q91907.1|\n",
      "\n",
      "Sequence ID: sp|Q810B3.1|\n",
      "Description: RecName: Full=Brain-specific homeobox protein homolog [Mus musculus]\n",
      "E-value: 1.18329e-15\n",
      "Bit Score: 77.0258\n",
      "Alignment:\n",
      "Alignment with 2 rows and 192 columns\n",
      "PTPFYIEDILGRGPAAPTPAPTLPSPNSSFTSLVSPYRTPVYEP...PQS unnamed\n",
      "PTSFFIEDIL------------------------------LHKP...PKA sp|Q810B3.1|\n",
      "\n",
      "Sequence ID: sp|P52951.3|\n",
      "Description: RecName: Full=Homeobox protein GBX-2; AltName: Full=Gastrulation and brain-specific homeobox protein 2 [Homo sapiens]\n",
      "E-value: 1.42341e-15\n",
      "Bit Score: 78.5666\n",
      "Alignment:\n",
      "Alignment with 2 rows and 71 columns\n",
      "KRKGGQVRFSNDQTIELEKKFETQKYLSPPERKRLAKMLQLSER...KKE unnamed\n",
      "KNRRRRTAFTSEQLLELEKEFHCKKYLSLTERSQIAHALKLSEV...TGE sp|P52951.3|\n",
      "\n",
      "Sequence ID: sp|P48031.1|\n",
      "Description: RecName: Full=Homeobox protein GBX-2; AltName: Full=Gastrulation and brain-specific homeobox protein 2; AltName: Full=Stimulated by retinoic acid gene 7 protein [Mus musculus]\n",
      "E-value: 1.67878e-15\n",
      "Bit Score: 78.5666\n",
      "Alignment:\n",
      "Alignment with 2 rows and 71 columns\n",
      "KRKGGQVRFSNDQTIELEKKFETQKYLSPPERKRLAKMLQLSER...KKE unnamed\n",
      "KNRRRRTAFTSEQLLELEKEFHCKKYLSLTERSQIAHALKLSEV...TGE sp|P48031.1|\n",
      "\n",
      "Sequence ID: sp|O55144.2|\n",
      "Description: RecName: Full=T-cell leukemia homeobox protein 3; AltName: Full=Homeobox TLX-3; AltName: Full=Homeobox protein Hox-11L2; AltName: Full=Respiratory neuron homeobox protein [Mus musculus]\n",
      "E-value: 1.79773e-15\n",
      "Bit Score: 77.7962\n",
      "Alignment:\n",
      "Alignment with 2 rows and 79 columns\n",
      "PFLQRPLHKRKGGQVRFSNDQTIELEKKFETQKYLSPPERKRLA...KKE unnamed\n",
      "PYQNRTPPKRKKPRTSFSRVQICELEKRFHRQKYLASAERAALA...RQQ sp|O55144.2|\n",
      "\n",
      "Sequence ID: sp|O43711.3|\n",
      "Description: RecName: Full=T-cell leukemia homeobox protein 3; AltName: Full=Homeobox protein Hox-11L2 [Homo sapiens]\n",
      "E-value: 1.87024e-15\n",
      "Bit Score: 77.7962\n",
      "Alignment:\n",
      "Alignment with 2 rows and 79 columns\n",
      "PFLQRPLHKRKGGQVRFSNDQTIELEKKFETQKYLSPPERKRLA...KKE unnamed\n",
      "PYQNRTPPKRKKPRTSFSRVQICELEKRFHRQKYLASAERAALA...RQQ sp|O43711.3|\n",
      "\n",
      "Sequence ID: sp|Q3C1V8.2|\n",
      "Description: RecName: Full=Brain-specific homeobox protein homolog [Homo sapiens]\n",
      "E-value: 2.31496e-15\n",
      "Bit Score: 76.2554\n",
      "Alignment:\n",
      "Alignment with 2 rows and 192 columns\n",
      "PTPFYIEDILGRGPAAPTPAPTLPSPNSSFTSLVSPYRTPVYEP...PQS unnamed\n",
      "PTSFFIEDIL------------------------------LHKP...PKA sp|Q3C1V8.2|\n",
      "\n",
      "Sequence ID: sp|Q3UHX8.1|\n",
      "Description: RecName: Full=Homeobox protein Nkx-6.3 [Mus musculus]\n",
      "E-value: 2.66244e-15\n",
      "Bit Score: 76.6406\n",
      "Alignment:\n",
      "Alignment with 2 rows and 184 columns\n",
      "QPAHPTPFYIEDILGRGPAAPTPAPTLPSPNSSFTSLVSPYRTP...QSN unnamed\n",
      "QLAAGTPHGITDILSR-PVA--------TPNSS---LLSGY---...SSS sp|Q3UHX8.1|\n",
      "\n",
      "Sequence ID: sp|Q14549.2|\n",
      "Description: RecName: Full=Homeobox protein GBX-1; AltName: Full=Gastrulation and brain-specific homeobox protein 1 [Homo sapiens]\n",
      "E-value: 3.13191e-15\n",
      "Bit Score: 77.7962\n",
      "Alignment:\n",
      "Alignment with 2 rows and 73 columns\n",
      "GGQVR-----FSNDQTIELEKKFETQKYLSPPERKRLAKMLQLS...KKE unnamed\n",
      "GGKSRRRRTAFTSEQLLELEKEFHCKKYLSLTERSQIAHALKLS...SGE sp|Q14549.2|\n",
      "\n",
      "Sequence ID: sp|O93367.1|\n",
      "Description: RecName: Full=T-cell leukemia homeobox protein 3; AltName: Full=Homeobox TLX-3; AltName: Full=Homeobox protein Hox-11L2 [Gallus gallus]\n",
      "E-value: 3.17751e-15\n",
      "Bit Score: 77.0258\n",
      "Alignment:\n",
      "Alignment with 2 rows and 79 columns\n",
      "PFLQRPLHKRKGGQVRFSNDQTIELEKKFETQKYLSPPERKRLA...KKE unnamed\n",
      "PYQNRTPPKRKKPRTSFSRVQICELEKRFHRQKYLASAERAALA...RQQ sp|O93367.1|\n",
      "\n",
      "Sequence ID: sp|P15142.1|\n",
      "Description: RecName: Full=Homeobox protein CHOX-7 [Gallus gallus]\n",
      "E-value: 3.3221e-15\n",
      "Bit Score: 73.1738\n",
      "Alignment:\n",
      "Alignment with 2 rows and 56 columns\n",
      "FSNDQTIELEKKFETQKYLSPPERKRLAKMLQLSERQVKTWFQN...QEN unnamed\n",
      "FTSEQLLELEKEFHCKKYLSLTERSQIAHALKLSEVQVKIWFQN...AGN sp|P15142.1|\n",
      "\n",
      "Sequence ID: sp|Q61663.1|\n",
      "Description: RecName: Full=T-cell leukemia homeobox protein 2; AltName: Full=Enteric neuron homeobox protein; AltName: Full=Homeobox TLX-2; AltName: Full=Homeobox protein Hox-11L1; AltName: Full=Hox11L.1; AltName: Full=PMUR10F [Mus musculus]\n",
      "E-value: 3.3461e-15\n",
      "Bit Score: 76.6406\n",
      "Alignment:\n",
      "Alignment with 2 rows and 77 columns\n",
      "PFLQRPLHKRKGGQVRFSNDQTIELEKKFETQKYLSPPERKRLA...SNK unnamed\n",
      "PYQNRTPPKRKKPRTSFSRSQVLELERRFLRQKYLASAERAALA...AER sp|Q61663.1|\n",
      "\n",
      "Sequence ID: sp|O42230.1|\n",
      "Description: RecName: Full=Homeobox protein GBX-2; AltName: Full=Gastrulation and brain-specific homeobox protein 2 [Gallus gallus]\n",
      "E-value: 3.37189e-15\n",
      "Bit Score: 77.411\n",
      "Alignment:\n",
      "Alignment with 2 rows and 71 columns\n",
      "KRKGGQVRFSNDQTIELEKKFETQKYLSPPERKRLAKMLQLSER...KKE unnamed\n",
      "KNRRRRTAFTSEQLLELEKEFHCKKYLSLTERSQIAHALKLSEV...AGE sp|O42230.1|\n",
      "\n",
      "Sequence ID: sp|P82976.2|\n",
      "Description: RecName: Full=Homeobox protein GBX-1; AltName: Full=Gastrulation and brain-specific homeobox protein 1 [Mus musculus]\n",
      "E-value: 4.26085e-15\n",
      "Bit Score: 77.7962\n",
      "Alignment:\n",
      "Alignment with 2 rows and 73 columns\n",
      "GGQVR-----FSNDQTIELEKKFETQKYLSPPERKRLAKMLQLS...KKE unnamed\n",
      "GGKSRRRRTAFTSEQLLELEKEFHCKKYLSLTERSQIAHALKLS...SGE sp|P82976.2|\n",
      "\n",
      "Sequence ID: sp|O43763.2|\n",
      "Description: RecName: Full=T-cell leukemia homeobox protein 2; AltName: Full=Homeobox protein Hox-11L1; AltName: Full=Neural crest homeobox protein [Homo sapiens]\n",
      "E-value: 1.20776e-14\n",
      "Bit Score: 75.0998\n",
      "Alignment:\n",
      "Alignment with 2 rows and 77 columns\n",
      "PFLQRPLHKRKGGQVRFSNDQTIELEKKFETQKYLSPPERKRLA...SNK unnamed\n",
      "PYQNRTPPKRKKPRTSFSRSQVLELERRFLRQKYLASAERAALA...AER sp|O43763.2|\n",
      "\n",
      "Sequence ID: sp|Q04741.3|\n",
      "Description: RecName: Full=Homeobox protein EMX1; AltName: Full=Empty spiracles homolog 1; AltName: Full=Empty spiracles-like protein 1 [Homo sapiens]\n",
      "E-value: 1.22816e-14\n",
      "Bit Score: 75.485\n",
      "Alignment:\n",
      "Alignment with 2 rows and 171 columns\n",
      "HPAFSHHSAAALAAA--YGPGGFGG-----PLYPFPRTVND--Y...DSS unnamed\n",
      "HPALTVHPAHQLGASPLQPPHSFFGAQHRDPLHFYPWVLRNRFF...DVT sp|Q04741.3|\n",
      "\n",
      "Sequence ID: sp|O93366.1|\n",
      "Description: RecName: Full=T-cell leukemia homeobox protein 1; AltName: Full=Homeobox TLX-1; AltName: Full=Homeobox protein Hox-11 [Gallus gallus]\n",
      "E-value: 1.33458e-14\n",
      "Bit Score: 75.485\n",
      "Alignment:\n",
      "Alignment with 2 rows and 171 columns\n",
      "LGRGPAAPTPAPTLPSPNSSFTSLVSPYRTPVYEPTP--IHPAF...KKE unnamed\n",
      "MGALPGSYNVNMAVSMNGNALSSAGGVIRVPAHRPVAGGVHQPL...RQQ sp|O93366.1|\n",
      "\n",
      "Sequence ID: sp|Q9W7E8.1|\n",
      "Description: RecName: Full=Homeobox protein koza; AltName: Full=Homeodomain transcription factor koza [Xenopus laevis]\n",
      "E-value: 1.50546e-14\n",
      "Bit Score: 73.9442\n",
      "Alignment:\n",
      "Alignment with 2 rows and 59 columns\n",
      "KRKGGQVRFSNDQTIELEKKFETQKYLSPPERKRLAKMLQLSER...WRR unnamed\n",
      "QQKRSRAAFSHSQVIELERKFSSQKYLSAPERAQLAKSLKLTET...TKR sp|Q9W7E8.1|\n",
      "\n",
      "Sequence ID: sp|O35762.1|\n",
      "Description: RecName: Full=Homeobox protein Nkx-6.1; AltName: Full=Homeobox protein NK-6 homolog A [Rattus norvegicus]\n",
      "E-value: 1.56377e-14\n",
      "Bit Score: 75.8702\n",
      "Alignment:\n",
      "Alignment with 2 rows and 88 columns\n",
      "KRKGGQVRFSNDQTIELEKKFETQKYLSPPERKRLAKMLQLSER...RQD unnamed\n",
      "KRKHTRPTFSGQQIFALEKTFEQTKYLAGPERARLAYSLGMTES...EED sp|O35762.1|\n",
      "\n",
      "Sequence ID: sp|A6NJ46.1|\n",
      "Description: RecName: Full=Homeobox protein Nkx-6.3 [Homo sapiens]\n",
      "E-value: 2.10221e-14\n",
      "Bit Score: 74.3294\n",
      "Alignment:\n",
      "Alignment with 2 rows and 74 columns\n",
      "LQRPLHKRKGGQVRFSNDQTIELEKKFETQKYLSPPERKRLAKM...QSN unnamed\n",
      "LSDSIHKKKHTRPTFTGHQIFALEKTFEQTKYLAGPERARLAYS...SSS sp|A6NJ46.1|\n",
      "\n",
      "Sequence ID: sp|Q6RFL5.1|\n",
      "Description: RecName: Full=Brain-specific homeobox protein homolog [Gallus gallus]\n",
      "E-value: 2.14831e-14\n",
      "Bit Score: 73.559\n",
      "Alignment:\n",
      "Alignment with 2 rows and 191 columns\n",
      "GPAAPTPAPTLPSPNSSFTSLVSPYRTPVYEPTPIHPAFSHHSA...LES unnamed\n",
      "SPVHPVPAP---RPTSFFIEDIL-----LHKPKPLREVPPEHFA...QSS sp|Q6RFL5.1|\n",
      "\n",
      "Sequence ID: sp|P78426.2|\n",
      "Description: RecName: Full=Homeobox protein Nkx-6.1; AltName: Full=Homeobox protein NK-6 homolog A [Homo sapiens]\n",
      "E-value: 2.2323e-14\n",
      "Bit Score: 75.485\n",
      "Alignment:\n",
      "Alignment with 2 rows and 95 columns\n",
      "KRKGGQVRFSNDQTIELEKKFETQKYLSPPERKRLAKMLQLSER...GAS unnamed\n",
      "KRKHTRPTFSGQQIFALEKTFEQTKYLAGPERARLAYSLGMTES...GAS sp|P78426.2|\n",
      "\n",
      "Sequence ID: sp|Q99MA9.1|\n",
      "Description: RecName: Full=Homeobox protein Nkx-6.1; AltName: Full=Homeobox protein NK-6 homolog A [Mus musculus]\n",
      "E-value: 2.27262e-14\n",
      "Bit Score: 75.485\n",
      "Alignment:\n",
      "Alignment with 2 rows and 88 columns\n",
      "KRKGGQVRFSNDQTIELEKKFETQKYLSPPERKRLAKMLQLSER...RQD unnamed\n",
      "KRKHTRPTFSGQQIFALEKTFEQTKYLAGPERARLAYSLGMTES...EED sp|Q99MA9.1|\n",
      "\n",
      "Sequence ID: sp|P31314.1|\n",
      "Description: RecName: Full=T-cell leukemia homeobox protein 1; AltName: Full=Homeobox protein Hox-11; AltName: Full=Proto-oncogene TCL-3; AltName: Full=T-cell leukemia/lymphoma protein 3 [Homo sapiens]\n",
      "E-value: 2.79544e-14\n",
      "Bit Score: 74.7146\n",
      "Alignment:\n",
      "Alignment with 2 rows and 79 columns\n",
      "PFLQRPLHKRKGGQVRFSNDQTIELEKKFETQKYLSPPERKRLA...KKE unnamed\n",
      "PYQNRTPPKKKKPRTSFTRLQICELEKRFHRQKYLASAERAALA...RQQ sp|P31314.1|\n",
      "\n",
      "Sequence ID: sp|P42583.1|\n",
      "Description: RecName: Full=Homeobox protein Nkx-2.5; Short=xNKx-2.5; AltName: Full=Homeobox protein NK-2 homolog E [Xenopus laevis]\n",
      "E-value: 4.03473e-14\n",
      "Bit Score: 73.9442\n",
      "Alignment:\n",
      "Alignment with 2 rows and 188 columns\n",
      "PAHPTPFYIEDILGRGPAAPTPAPT-LPSPNSSFTSLVSPYRTP...KQE unnamed\n",
      "PVTSTPFSVKDILNLEQHQSGLSPMDITSRLENSSCMLSTFKQE...RQD sp|P42583.1|\n",
      "\n",
      "Sequence ID: sp|P43345.1|\n",
      "Description: RecName: Full=T-cell leukemia homeobox protein 1; AltName: Full=Homeobox TLX-1; AltName: Full=Homeobox protein Hox-11 [Mus musculus]\n",
      "E-value: 4.69e-14\n",
      "Bit Score: 73.9442\n",
      "Alignment:\n",
      "Alignment with 2 rows and 79 columns\n",
      "PFLQRPLHKRKGGQVRFSNDQTIELEKKFETQKYLSPPERKRLA...KKE unnamed\n",
      "PYQNRTPPKKKKPRTSFTRLQICELEKRFHRQKYLASAERAALA...SEQ sp|P43345.1|\n",
      "\n",
      "Sequence ID: sp|Q99801.2|\n",
      "Description: RecName: Full=Homeobox protein Nkx-3.1; AltName: Full=Homeobox protein NK-3 homolog A [Homo sapiens]\n",
      "E-value: 4.90007e-14\n",
      "Bit Score: 72.7886\n",
      "Alignment:\n",
      "Alignment with 2 rows and 98 columns\n",
      "QRPLHKRKGGQVRFSNDQTIELEKKFETQKYLSPPERKRLAKML...EQN unnamed\n",
      "QTPKQPQKRSRAAFSHTQVIELERKFSHQKYLSAPERAHLAKNL...VYN sp|Q99801.2|\n",
      "\n",
      "Sequence ID: sp|Q60554.1|\n",
      "Description: RecName: Full=Homeobox protein Nkx-6.1; AltName: Full=Homeobox protein NK-6 homolog A [Mesocricetus auratus]\n",
      "E-value: 6.47497e-14\n",
      "Bit Score: 73.9442\n",
      "Alignment:\n",
      "Alignment with 2 rows and 95 columns\n",
      "KRKGGQVRFSNDQTIELEKKFETQKYLSPPERKRLAKMLQLSER...GAS unnamed\n",
      "KRKHTRPTFSGQQIFALEKTFEQTKYLAGPERARLAYSLGMTES...GTS sp|Q60554.1|\n",
      "\n",
      "Sequence ID: sp|Q6GLB9.1|\n",
      "Description: RecName: Full=Homeobox protein EMX1; AltName: Full=Empty spiracles homolog 1; AltName: Full=Empty spiracles-like protein 1 [Xenopus tropicalis]\n",
      "E-value: 6.91357e-14\n",
      "Bit Score: 72.4034\n",
      "Alignment:\n",
      "Alignment with 2 rows and 239 columns\n",
      "LLQPAHPTPFYIEDILGRGPAAPTPAP----TLPSPNSSFTSLV...DSS unnamed\n",
      "MFQPAGKRCFTIESLVAKDNPLSSEEPLRPAALPYPGAPAEAFV...DVT sp|Q6GLB9.1|\n",
      "\n",
      "Sequence ID: sp|Q9C056.2|\n",
      "Description: RecName: Full=Homeobox protein Nkx-6.2; AltName: Full=Homeobox protein NK-6 homolog B [Homo sapiens]\n",
      "E-value: 8.23031e-14\n",
      "Bit Score: 72.7886\n",
      "Alignment:\n",
      "Alignment with 2 rows and 72 columns\n",
      "KRKGGQVRFSNDQTIELEKKFETQKYLSPPERKRLAKMLQLSER...KEE unnamed\n",
      "KKKHSRPTFSGQQIFALEKTFEQTKYLAGPERARLAYSLGMTES...KKQ sp|Q9C056.2|\n",
      "\n",
      "Sequence ID: sp|Q9PTU0.1|\n",
      "Description: RecName: Full=Homeobox protein DBX1-B; AltName: Full=Developing brain homeobox protein 1-B; AltName: Full=Homeobox protein hlx2 [Danio rerio]\n",
      "E-value: 8.90005e-14\n",
      "Bit Score: 73.1738\n",
      "Alignment:\n",
      "Alignment with 2 rows and 134 columns\n",
      "FGGPLYPFPRTVNDYTHALLRHDPLGKPLLWSPFLQRPLHKRKG...EQN unnamed\n",
      "FDGSFHPFIRA--SYFPASSSAVPIPGTFAW-PLTAR--GKPRR...KMN sp|Q9PTU0.1|\n",
      "\n",
      "Sequence ID: sp|Q04742.2|\n",
      "Description: RecName: Full=Homeobox protein EMX1; AltName: Full=Empty spiracles homolog 1; AltName: Full=Empty spiracles-like protein 1 [Mus musculus]\n",
      "E-value: 1.01134e-13\n",
      "Bit Score: 72.4034\n",
      "Alignment:\n",
      "Alignment with 2 rows and 171 columns\n",
      "HPAFSHHSAAALAAA-------YGPGGFGGPLYPFPRTVND--Y...DSS unnamed\n",
      "HPALTVHPAHQLGSSSLQPPHSFFSAQHRDPLHFYPWVLRNRFF...DVT sp|Q04742.2|\n",
      "\n",
      "Sequence ID: sp|Q9PTU1.1|\n",
      "Description: RecName: Full=Homeobox protein DBX1-A; AltName: Full=Developing brain homeobox protein 1-A; AltName: Full=Homeobox protein hlx1 [Danio rerio]\n",
      "E-value: 1.61369e-13\n",
      "Bit Score: 72.4034\n",
      "Alignment:\n",
      "Alignment with 2 rows and 165 columns\n",
      "FGGPLYPFPRTVNDYTHALLRHDPLGKPLLWSPFLQRPLHKRKG...DQE unnamed\n",
      "FDGSFCPFVRS--SYFPAPSSVVPIPGTFSW-PLAAR--GKPRR...DED sp|Q9PTU1.1|\n",
      "\n",
      "Sequence ID: sp|P97436.1|\n",
      "Description: RecName: Full=Homeobox protein Nkx-3.1; AltName: Full=Homeobox protein NK-3 homolog A [Mus musculus]\n",
      "E-value: 1.94327e-13\n",
      "Bit Score: 71.2478\n",
      "Alignment:\n",
      "Alignment with 2 rows and 58 columns\n",
      "RKGGQVRFSNDQTIELEKKFETQKYLSPPERKRLAKMLQLSERQ...WRR unnamed\n",
      "QKRSRAAFSHTQVIELERKFSHQKYLSAPERAHLAKNLKLTETQ...TKR sp|P97436.1|\n",
      "\n",
      "Sequence ID: sp|O15522.2|\n",
      "Description: RecName: Full=Homeobox protein Nkx-2.8; AltName: Full=Homeobox protein NK-2 homolog H [Homo sapiens]\n",
      "E-value: 2.6649e-13\n",
      "Bit Score: 70.8626\n",
      "Alignment:\n",
      "Alignment with 2 rows and 61 columns\n",
      "KRKGGQVRFSNDQTIELEKKFETQKYLSPPERKRLAKMLQLSER...RLK unnamed\n",
      "KRKKRRVLFSKAQTLELERRFRQQRYLSAPEREQLASLLRLTPT...RAR sp|O15522.2|\n",
      "\n",
      "Sequence ID: sp|P04476.1|\n",
      "Description: RecName: Full=Homeobox protein Hox-B7-B; AltName: Full=P52; AltName: Full=XlHbox-2 B [Xenopus laevis]\n",
      "E-value: 2.74238e-13\n",
      "Bit Score: 70.4774\n",
      "Alignment:\n",
      "Alignment with 2 rows and 81 columns\n",
      "PFLQRPLHKRKGGQVRFSNDQTIELEKKFETQKYLSPPERKRLA...KEE unnamed\n",
      "PWMRSAGSDRKRGRQTYTRYQTLELEKEFHFNRYLTRRRRIEIA...QEK sp|P04476.1|\n",
      "\n",
      "Sequence ID: sp|P10035.2|\n",
      "Description: RecName: Full=Homeobox protein H2.0 [Drosophila melanogaster]\n",
      "E-value: 2.85536e-13\n",
      "Bit Score: 72.4034\n",
      "Alignment:\n",
      "Alignment with 2 rows and 126 columns\n",
      "KRKGGQVRFSNDQTIELEKKFETQKYLSPPERKRLAKMLQLSER...VDI unnamed\n",
      "KRSWSRAVFSNLQRKGLEIQFQQQKYITKPDRRKLAARLNLTDA...INV sp|P10035.2|\n",
      "\n"
     ]
    }
   ],
   "source": [
    "for br in blast_records:\n",
    "    print(f'Sequence ID: {br.id}')\n",
    "    print(f'Description: {br.description}')\n",
    "    print(f'E-value: {br[0].evalue}')\n",
    "    print(f'Bit Score: {br[0].bitscore}')\n",
    "    print(f'Alignment:\\n{br[0].aln}')\n",
    "    print()"
   ]
  },
  {
   "cell_type": "code",
   "execution_count": 62,
   "id": "143e888b",
   "metadata": {},
   "outputs": [
    {
     "name": "stdout",
     "output_type": "stream",
     "text": [
      "Program: blastp (2.13.0+)\n",
      "  Query: unnamed (270)\n",
      "         protein product\n",
      " Target: swissprot\n",
      "   Hits: ----  -----  ----------------------------------------------------------\n",
      "            #  # HSP  ID + description\n",
      "         ----  -----  ----------------------------------------------------------\n",
      "            0      1  sp|Q03014.1|  RecName: Full=Hematopoietically-expressed...\n",
      "            1      1  sp|P43120.1|  RecName: Full=Hematopoietically-expressed...\n",
      "            2      1  sp|Q8AWG6.1|  RecName: Full=Hematopoietically-expressed...\n",
      "            3      1  sp|O13023.1|  RecName: Full=Hematopoietically-expressed...\n",
      "            4      1  sp|Q05502.1|  RecName: Full=Hematopoietically-expressed...\n",
      "            5      1  sp|Q9IAV3.1|  RecName: Full=Hematopoietically-expressed...\n",
      "            6      1  sp|D2KQB0.1|  RecName: Full=Hematopoietically-expressed...\n",
      "            7      1  sp|Q21578.5|  RecName: Full=Homeobox protein HEX homolo...\n",
      "            8      1  sp|Q61670.1|  RecName: Full=H2.0-like homeobox protein;...\n",
      "            9      1  sp|Q14774.3|  RecName: Full=H2.0-like homeobox protein;...\n",
      "           10      1  sp|A0JPN1.1|  RecName: Full=H2.0-like homeobox protein;...\n",
      "           11      1  sp|A7MB54.1|  RecName: Full=H2.0-like homeobox protein;...\n",
      "           12      1  sp|P56407.2|  RecName: Full=Homeobox protein ceh-9 [Cae...\n",
      "           13      1  sp|Q91907.1|  RecName: Full=Homeobox protein GBX-2; Alt...\n",
      "           14      1  sp|Q810B3.1|  RecName: Full=Brain-specific homeobox pro...\n",
      "           15      1  sp|P52951.3|  RecName: Full=Homeobox protein GBX-2; Alt...\n",
      "           16      1  sp|P48031.1|  RecName: Full=Homeobox protein GBX-2; Alt...\n",
      "           17      1  sp|O55144.2|  RecName: Full=T-cell leukemia homeobox pr...\n",
      "           18      1  sp|O43711.3|  RecName: Full=T-cell leukemia homeobox pr...\n",
      "           19      1  sp|Q3C1V8.2|  RecName: Full=Brain-specific homeobox pro...\n",
      "           20      1  sp|Q3UHX8.1|  RecName: Full=Homeobox protein Nkx-6.3 [M...\n",
      "           21      1  sp|Q14549.2|  RecName: Full=Homeobox protein GBX-1; Alt...\n",
      "           22      1  sp|O93367.1|  RecName: Full=T-cell leukemia homeobox pr...\n",
      "           23      1  sp|P15142.1|  RecName: Full=Homeobox protein CHOX-7 [Ga...\n",
      "           24      1  sp|Q61663.1|  RecName: Full=T-cell leukemia homeobox pr...\n",
      "           25      1  sp|O42230.1|  RecName: Full=Homeobox protein GBX-2; Alt...\n",
      "           26      1  sp|P82976.2|  RecName: Full=Homeobox protein GBX-1; Alt...\n",
      "           27      1  sp|O43763.2|  RecName: Full=T-cell leukemia homeobox pr...\n",
      "           28      1  sp|Q04741.3|  RecName: Full=Homeobox protein EMX1; AltN...\n",
      "           29      1  sp|O93366.1|  RecName: Full=T-cell leukemia homeobox pr...\n",
      "           ~~~\n",
      "           47      1  sp|O15522.2|  RecName: Full=Homeobox protein Nkx-2.8; A...\n",
      "           48      1  sp|P04476.1|  RecName: Full=Homeobox protein Hox-B7-B; ...\n",
      "           49      1  sp|P10035.2|  RecName: Full=Homeobox protein H2.0 [Dros...\n"
     ]
    }
   ],
   "source": [
    "print(blast_records[:])"
   ]
  },
  {
   "cell_type": "code",
   "execution_count": 59,
   "id": "97a327d1",
   "metadata": {},
   "outputs": [],
   "source": [
    "from Bio import SeqIO\n",
    "protein_seq = SeqIO.read(\"protein_seq.fasta\",\"fasta\")"
   ]
  },
  {
   "cell_type": "code",
   "execution_count": 60,
   "id": "47262811",
   "metadata": {},
   "outputs": [
    {
     "data": {
      "text/plain": [
       "Seq('[Seq('SSARGRSAAEPCSTRTPGRRRAPWGCRCTRPRRCCNPHTRRPFTSRTS...')]')"
      ]
     },
     "execution_count": 60,
     "metadata": {},
     "output_type": "execute_result"
    }
   ],
   "source": [
    "protein_seq.seq"
   ]
  },
  {
   "cell_type": "markdown",
   "id": "22ed5ac1",
   "metadata": {},
   "source": [
    "Por outro lado, a base de dados PDB contém informação sobre a estrutura das proteínas. Poderá \n",
    "efetuar pesquisas nesta base de dados no sentido de identificar proteínas de interesse que \n",
    "estejam presentes nesta base de dados. As proteínas de interesse podem ser analisadas \n",
    "identificando zonas de possível ligação de compostos que possam regular o seu funcionamento.\n",
    "Complementarmente, foram estudadas ferramentas que permitem inferir características da \n",
    "proteína com base na sua sequência, como sejam a sua localização celular, a existência de \n",
    "domínios transmembranares ou alterações pós-tradução relevantes. Todas estas ferramentas \n",
    "permitem dar pistas sobre as proteínas de interesse."
   ]
  },
  {
   "cell_type": "code",
   "execution_count": 51,
   "id": "6ac92a2a",
   "metadata": {},
   "outputs": [],
   "source": [
    "from Bio.PDB.PDBParser import PDBParser"
   ]
  },
  {
   "cell_type": "code",
   "execution_count": 53,
   "id": "03b8c0d4",
   "metadata": {},
   "outputs": [
    {
     "name": "stdout",
     "output_type": "stream",
     "text": [
      "Chain ID: A\n",
      "Keywords:  dna binding protein, structural genomics, nppsfa, national project on protein structural and functional analyses, riken structural genomics/proteomics initiative, rsgi, unknown function\n",
      "Structure Method:  solution nmr\n",
      "Composto:  {'1': {'misc': '', 'molecule': 'homeobox protein prh', 'chain': 'a', 'fragment': 'homeobox domain', 'synonym': 'hematopoietically expressed homeobox, homeobox protein hex', 'engineered': 'yes'}}\n"
     ]
    },
    {
     "ename": "AttributeError",
     "evalue": "'super' object has no attribute '_ipython_display_'",
     "output_type": "error",
     "traceback": [
      "\u001b[1;31m---------------------------------------------------------------------------\u001b[0m",
      "\u001b[1;31mAttributeError\u001b[0m                            Traceback (most recent call last)",
      "Cell \u001b[1;32mIn[53], line 12\u001b[0m\n\u001b[0;32m      9\u001b[0m \u001b[39mprint\u001b[39m(\u001b[39m\"\u001b[39m\u001b[39mStructure Method: \u001b[39m\u001b[39m\"\u001b[39m, smeth)\n\u001b[0;32m     10\u001b[0m \u001b[39mprint\u001b[39m(\u001b[39m\"\u001b[39m\u001b[39mComposto: \u001b[39m\u001b[39m\"\u001b[39m, comp)\n\u001b[1;32m---> 12\u001b[0m \u001b[39mimport\u001b[39;00m \u001b[39mnglview\u001b[39;00m \u001b[39mas\u001b[39;00m \u001b[39mnv\u001b[39;00m\n\u001b[0;32m     13\u001b[0m nv\u001b[39m.\u001b[39mshow_biopython(s, gui\u001b[39m=\u001b[39m\u001b[39mTrue\u001b[39;00m)\n",
      "File \u001b[1;32mc:\\Users\\user\\AppData\\Local\\Programs\\Python\\Python310\\lib\\site-packages\\nglview\\__init__.py:4\u001b[0m\n\u001b[0;32m      1\u001b[0m \u001b[39mimport\u001b[39;00m \u001b[39mwarnings\u001b[39;00m\n\u001b[0;32m      3\u001b[0m \u001b[39m# for doc\u001b[39;00m\n\u001b[1;32m----> 4\u001b[0m \u001b[39mfrom\u001b[39;00m \u001b[39m.\u001b[39;00m \u001b[39mimport\u001b[39;00m adaptor, datafiles, show, widget\n\u001b[0;32m      5\u001b[0m \u001b[39mfrom\u001b[39;00m \u001b[39m.\u001b[39;00m\u001b[39m_version\u001b[39;00m \u001b[39mimport\u001b[39;00m get_versions\n\u001b[0;32m      6\u001b[0m \u001b[39mfrom\u001b[39;00m \u001b[39m.\u001b[39;00m\u001b[39madaptor\u001b[39;00m \u001b[39mimport\u001b[39;00m \u001b[39m*\u001b[39m\n",
      "File \u001b[1;32mc:\\Users\\user\\AppData\\Local\\Programs\\Python\\Python310\\lib\\site-packages\\nglview\\show.py:13\u001b[0m\n\u001b[0;32m      3\u001b[0m \u001b[39mfrom\u001b[39;00m \u001b[39m.\u001b[39;00m \u001b[39mimport\u001b[39;00m datafiles\n\u001b[0;32m      4\u001b[0m \u001b[39mfrom\u001b[39;00m \u001b[39m.\u001b[39;00m\u001b[39madaptor\u001b[39;00m \u001b[39mimport\u001b[39;00m (ASEStructure, ASETrajectory, BiopythonStructure,\n\u001b[0;32m      5\u001b[0m                       FileStructure, HTMDTrajectory, IODataStructure,\n\u001b[0;32m      6\u001b[0m                       IOTBXStructure, MDAnalysisTrajectory, MDTrajTrajectory,\n\u001b[1;32m   (...)\u001b[0m\n\u001b[0;32m     11\u001b[0m                       RdkitStructure,\n\u001b[0;32m     12\u001b[0m                       TextStructure)\n\u001b[1;32m---> 13\u001b[0m \u001b[39mfrom\u001b[39;00m \u001b[39m.\u001b[39;00m\u001b[39mwidget\u001b[39;00m \u001b[39mimport\u001b[39;00m NGLWidget\n\u001b[0;32m     15\u001b[0m __all__ \u001b[39m=\u001b[39m [\n\u001b[0;32m     16\u001b[0m     \u001b[39m'\u001b[39m\u001b[39mdemo\u001b[39m\u001b[39m'\u001b[39m,\n\u001b[0;32m     17\u001b[0m     \u001b[39m'\u001b[39m\u001b[39mshow_pdbid\u001b[39m\u001b[39m'\u001b[39m,\n\u001b[1;32m   (...)\u001b[0m\n\u001b[0;32m     40\u001b[0m     \u001b[39m'\u001b[39m\u001b[39mshow_biopython\u001b[39m\u001b[39m'\u001b[39m,\n\u001b[0;32m     41\u001b[0m ]\n\u001b[0;32m     44\u001b[0m \u001b[39mdef\u001b[39;00m \u001b[39mshow_pdbid\u001b[39m(pdbid, \u001b[39m*\u001b[39m\u001b[39m*\u001b[39mkwargs):\n",
      "File \u001b[1;32mc:\\Users\\user\\AppData\\Local\\Programs\\Python\\Python310\\lib\\site-packages\\nglview\\widget.py:19\u001b[0m\n\u001b[0;32m     15\u001b[0m \u001b[39mfrom\u001b[39;00m \u001b[39mtraitlets\u001b[39;00m \u001b[39mimport\u001b[39;00m (Bool, CaselessStrEnum, Dict, Instance, Int, Integer,\n\u001b[0;32m     16\u001b[0m                        List, Unicode, observe, validate)\n\u001b[0;32m     17\u001b[0m \u001b[39mimport\u001b[39;00m \u001b[39mtraitlets\u001b[39;00m\n\u001b[1;32m---> 19\u001b[0m \u001b[39mfrom\u001b[39;00m \u001b[39m.\u001b[39;00m \u001b[39mimport\u001b[39;00m color, interpolate\n\u001b[0;32m     20\u001b[0m \u001b[39mfrom\u001b[39;00m \u001b[39m.\u001b[39;00m\u001b[39madaptor\u001b[39;00m \u001b[39mimport\u001b[39;00m Structure, Trajectory\n\u001b[0;32m     21\u001b[0m \u001b[39mfrom\u001b[39;00m \u001b[39m.\u001b[39;00m\u001b[39mcomponent\u001b[39;00m \u001b[39mimport\u001b[39;00m ComponentViewer\n",
      "File \u001b[1;32mc:\\Users\\user\\AppData\\Local\\Programs\\Python\\Python310\\lib\\site-packages\\nglview\\color.py:114\u001b[0m\n\u001b[0;32m    110\u001b[0m         \u001b[39melse\u001b[39;00m:\n\u001b[0;32m    111\u001b[0m             \u001b[39mraise\u001b[39;00m \u001b[39mValueError\u001b[39;00m(\u001b[39mf\u001b[39m\u001b[39m\"\u001b[39m\u001b[39m{\u001b[39;00mobj\u001b[39m}\u001b[39;00m\u001b[39m must be either list of list or string\u001b[39m\u001b[39m\"\u001b[39m)\n\u001b[1;32m--> 114\u001b[0m ColormakerRegistry \u001b[39m=\u001b[39m _ColormakerRegistry()\n",
      "File \u001b[1;32mc:\\Users\\user\\AppData\\Local\\Programs\\Python\\Python310\\lib\\site-packages\\nglview\\base.py:10\u001b[0m, in \u001b[0;36m_singleton.<locals>.getinstance\u001b[1;34m()\u001b[0m\n\u001b[0;32m      8\u001b[0m \u001b[39mdef\u001b[39;00m \u001b[39mgetinstance\u001b[39m():\n\u001b[0;32m      9\u001b[0m     \u001b[39mif\u001b[39;00m \u001b[39mcls\u001b[39m \u001b[39mnot\u001b[39;00m \u001b[39min\u001b[39;00m instances:\n\u001b[1;32m---> 10\u001b[0m         instances[\u001b[39mcls\u001b[39m] \u001b[39m=\u001b[39m \u001b[39mcls\u001b[39;49m()\n\u001b[0;32m     11\u001b[0m     \u001b[39mreturn\u001b[39;00m instances[\u001b[39mcls\u001b[39m]\n",
      "File \u001b[1;32mc:\\Users\\user\\AppData\\Local\\Programs\\Python\\Python310\\lib\\site-packages\\nglview\\color.py:47\u001b[0m, in \u001b[0;36m_ColormakerRegistry.__init__\u001b[1;34m(self, *args, **kwargs)\u001b[0m\n\u001b[0;32m     45\u001b[0m \u001b[39mtry\u001b[39;00m:\n\u001b[0;32m     46\u001b[0m     get_ipython() \u001b[39m# only display in notebook\u001b[39;00m\n\u001b[1;32m---> 47\u001b[0m     \u001b[39mself\u001b[39;49m\u001b[39m.\u001b[39;49m_ipython_display_()\n\u001b[0;32m     48\u001b[0m \u001b[39mexcept\u001b[39;00m \u001b[39mNameError\u001b[39;00m:\n\u001b[0;32m     49\u001b[0m     \u001b[39mpass\u001b[39;00m\n",
      "File \u001b[1;32mc:\\Users\\user\\AppData\\Local\\Programs\\Python\\Python310\\lib\\site-packages\\nglview\\color.py:54\u001b[0m, in \u001b[0;36m_ColormakerRegistry._ipython_display_\u001b[1;34m(self, **kwargs)\u001b[0m\n\u001b[0;32m     52\u001b[0m \u001b[39mif\u001b[39;00m \u001b[39mself\u001b[39m\u001b[39m.\u001b[39m_ready:\n\u001b[0;32m     53\u001b[0m     \u001b[39mreturn\u001b[39;00m\n\u001b[1;32m---> 54\u001b[0m \u001b[39msuper\u001b[39;49m()\u001b[39m.\u001b[39;49m_ipython_display_(\u001b[39m*\u001b[39m\u001b[39m*\u001b[39mkwargs)\n",
      "\u001b[1;31mAttributeError\u001b[0m: 'super' object has no attribute '_ipython_display_'"
     ]
    }
   ],
   "source": [
    "p = PDBParser(PERMISSIVE=1)\n",
    "s = p.get_structure(\"2E10\", \"2e1o.pdb\")\n",
    "for chain in s[0]:\n",
    "    print(f'Chain ID: {chain.id}')\n",
    "smeth = s.header['structure_method']\n",
    "keywords = s.header['keywords']\n",
    "comp = s.header[\"compound\"]\n",
    "print(\"Keywords: \" , keywords)\n",
    "print(\"Structure Method: \", smeth)\n",
    "print(\"Composto: \", comp)\n",
    "\n",
    "import nglview as nv\n",
    "nv.show_biopython(s, gui=True)"
   ]
  },
  {
   "cell_type": "markdown",
   "id": "514f732a",
   "metadata": {},
   "source": [
    "Foram ainda abordadas bases de dados de domínios de proteínas, das quais se destaca a NCBI \n",
    "CDD (conserved domain database) do NCBI. Esta base de dados, ou outras similares, pode ser \n",
    "usada para confirmar a anotação de proteínas de interesse, sendo de particular utilidade quando \n",
    "subsistem dúvidas sobre a anotação, quer esta provenha da anotação original, quer provenha \n",
    "de resultados de homologia (e.g. BLAST). Por outro lado, permite a análise dos domínios \n",
    "presentes na proteína, de forma a poder caracterizar potenciais pontos de ligação de compostos \n",
    "e outras proteínas que possam inibir o funcionamento da proteína"
   ]
  },
  {
   "cell_type": "code",
   "execution_count": 64,
   "id": "2096e8c9",
   "metadata": {},
   "outputs": [],
   "source": [
    "#Protein BLAST cdd\n",
    "from Bio.Blast import NCBIWWW\n",
    "result_handle = NCBIWWW.qblast(\"blastp\", \"CDD\", seq_record.seq)"
   ]
  },
  {
   "cell_type": "code",
   "execution_count": 65,
   "id": "b4817bf4",
   "metadata": {},
   "outputs": [],
   "source": [
    "from Bio import SearchIO\n",
    "blast_records = SearchIO.read(result_handle, \"blast-xml\")"
   ]
  },
  {
   "cell_type": "code",
   "execution_count": 66,
   "id": "62f74b8a",
   "metadata": {},
   "outputs": [
    {
     "name": "stdout",
     "output_type": "stream",
     "text": [
      "Program: blastp (2.13.0+)\n",
      "  Query: unnamed (270)\n",
      "         protein product\n",
      " Target: CDD\n",
      "   Hits: 0\n"
     ]
    }
   ],
   "source": [
    "print(blast_records[:])"
   ]
  },
  {
   "cell_type": "code",
   "execution_count": 67,
   "id": "d5006433",
   "metadata": {},
   "outputs": [],
   "source": [
    "for br in blast_records:\n",
    "    print(f'Sequence ID: {br.id}')\n",
    "    print(f'Description: {br.description}')\n",
    "    print(f'E-value: {br[0].evalue}')\n",
    "    print(f'Bit Score: {br[0].bitscore}')\n",
    "    print(f'Alignment:\\n{br[0].aln}')\n",
    "    print()"
   ]
  },
  {
   "cell_type": "markdown",
   "id": "87ba434d",
   "metadata": {},
   "source": [
    "## Alinhamentos múltiplos e filogenia"
   ]
  },
  {
   "cell_type": "code",
   "execution_count": 68,
   "id": "efc4ac34",
   "metadata": {},
   "outputs": [],
   "source": [
    "from Bio.Align import MultipleSeqAlignment\n",
    "from Bio.Blast import NCBIXML\n",
    "from Bio.Blast import NCBIWWW\n",
    "from Bio import SeqIO\n",
    "from Bio import AlignIO\n",
    "from Bio.SeqRecord import SeqRecord\n",
    "from Bio.Seq import Seq\n",
    "from Bio.Align import AlignInfo"
   ]
  },
  {
   "cell_type": "code",
   "execution_count": 69,
   "id": "7d3af374",
   "metadata": {},
   "outputs": [
    {
     "name": "stdout",
     "output_type": "stream",
     "text": [
      "> gi|1519245767|ref|NM_002729.5| Homo sapiens hematopoietically expressed homeobox (HHEX), mRNA \n",
      " AGCTCTGCGAGGGGCCGGAGCGCGGCGGAGCCATGCAGTACCCGC\n",
      "\n",
      "> gi|15929354|gb|BC015110.1| Homo sapiens hematopoietically expressed homeobox, mRNA (cDNA clone MGC:22885 IMAGE:4048691), complete cds \n",
      " AGCTCTGCGAGGGGCCGGAGCGCGGCGGAGCCATGCAGTACCCGC\n",
      "\n",
      "> gi|15680040|gb|BC014336.1| Homo sapiens hematopoietically expressed homeobox, mRNA (cDNA clone MGC:22882 IMAGE:4046641), complete cds \n",
      " AGCTCTGCGAGGGGCCGGAGCGCGGCGGAGCCATGCAGTACCCGC\n",
      "\n",
      "> gi|1367123331|ref|XM_507925.5| PREDICTED: Pan troglodytes hematopoietically expressed homeobox (HHEX), mRNA \n",
      " AGCTCTGCGAGGGGCCGGAGCGCGGCGGAGCCATGCAGTACCCGC\n",
      "\n",
      "> gi|32547|emb|X67235.1| H.sapiens mRNA for proline rich homeobox (Prh) protein \n",
      " CGGAGCCATGCAGTACCCGCACCCCGGGCCGGCGGCGGGCGCCGT\n",
      "\n",
      "> gi|30048158|gb|BC050638.1| Homo sapiens hematopoietically expressed homeobox, mRNA (cDNA clone MGC:60128 IMAGE:6174612), complete cds \n",
      " GCCATGCAGTACCCGCACCCCGGGCCGGCGGCGGGCGCCGTGGGG\n",
      "\n",
      "> gi|1849002271|ref|XM_003825674.3| PREDICTED: Pan paniscus hematopoietically expressed homeobox (HHEX), mRNA \n",
      " AGCTCTGCGAGGGGCCGGAGCGCGGCGGAGCCATGCAGTACCCGC\n",
      "\n",
      "> gi|1753031712|ref|XM_031015733.1| PREDICTED: Gorilla gorilla gorilla hematopoietically expressed homeobox (HHEX), mRNA \n",
      " AGCTCTGCGAGGGGCCGGAGCGCGGCGGAGCCATGCAGTACCCGC\n",
      "\n",
      "> gi|1351383818|ref|XM_024253783.1| PREDICTED: Pongo abelii hematopoietically expressed homeobox (HHEX), mRNA \n",
      " AGCTCTGCGAGGGGCCGGAGCGCGGCGGAGCCATGCAGTACCCGC\n",
      "\n",
      "> gi|292404|gb|L16499.1|HUMPRH Human orphan homeobox protein (PRH) mRNA, complete cds \n",
      " GCGAGGGGCCGGAGCGCGGCGGAGCCATGCAGTACCCGCACCCCG\n",
      "\n",
      "> gi|1743203112|ref|XM_030802514.1| PREDICTED: Nomascus leucogenys hematopoietically expressed homeobox (HHEX), mRNA \n",
      " AGCTCTGCGAGGGGCCGGAGCGCGGCGGAGCCATGCAGTACCCGC\n",
      "\n",
      "> gi|1059150898|ref|XM_017876753.1| PREDICTED: Rhinopithecus bieti hematopoietically expressed homeobox (HHEX), mRNA \n",
      " AGCTCTGCGAGGGGCCGGAGCGCGGCGGAGCCATGCAGTACCCGC\n",
      "\n",
      "> gi|795247561|ref|XM_012063055.1| PREDICTED: Cercocebus atys hematopoietically expressed homeobox (HHEX), mRNA \n",
      " AGCTCTGCGAGGGGCCGGAGCGCGGCGGAGCCATGCAGTACCCGC\n",
      "\n",
      "> gi|1825822215|ref|XM_033224545.1| PREDICTED: Trachypithecus francoisi hematopoietically expressed homeobox (HHEX), mRNA \n",
      " AGCTCTGCGAGGGGCCGGAGCGCGGCGGAGCCATGCAGTACCCGC\n",
      "\n",
      "> gi|1938880275|ref|XM_007963565.2| PREDICTED: Chlorocebus sabaeus hematopoietically expressed homeobox (HHEX), mRNA \n",
      " AGCTCTGCGAGGGGCCGGAGCGCGGCGGAGCCATGCAGTACCCGC\n",
      "\n",
      "> gi|1411179766|ref|XM_025397020.1| PREDICTED: Theropithecus gelada hematopoietically expressed homeobox (HHEX), mRNA \n",
      " AGCTCTGCGAGGGGCCGGAGCGCGGCGGAGCCATGCAGTACCCGC\n",
      "\n",
      "> gi|1751199935|ref|XM_030941276.1| PREDICTED: Rhinopithecus roxellana hematopoietically expressed homeobox (HHEX), mRNA \n",
      " AGCTCTGCGAGGGGCCGGAGCGCGGCGGAGCCATGCAGTACCCGC\n",
      "\n",
      "> gi|2161943361|ref|XM_005565955.3| PREDICTED: Macaca fascicularis hematopoietically expressed homeobox (HHEX), mRNA \n",
      " AGCTCTGCGAGGGGCCGGAGCGCGGCGGAGCCATGCAGTACCCGC\n",
      "\n",
      "> gi|2309500272|ref|XM_050802826.1| PREDICTED: Macaca thibetana thibetana hematopoietically expressed homeobox (LOC126962047), mRNA \n",
      " AGCTCTGCGAGGGGCCGGAGCGCGGCGGAGCCATGCAGTACCCGC\n",
      "\n",
      "> gi|1788697486|ref|XM_023226304.3| PREDICTED: Piliocolobus tephrosceles hematopoietically expressed homeobox (HHEX), mRNA \n",
      " AGCTCTGCGAGGGGCCGGAGCGCGGCGGAGCCATGCAGTACCCGC\n",
      "\n",
      "> gi|795332012|ref|XM_011738821.1| PREDICTED: Macaca nemestrina hematopoietically expressed homeobox (HHEX), mRNA \n",
      " AGCTCTGCGAGGGGCCGGAGCGCGGCGGAGCCATGCAGTACCCGC\n",
      "\n",
      "> gi|1622966527|ref|XM_001090715.4| PREDICTED: Macaca mulatta hematopoietically expressed homeobox (HHEX), mRNA \n",
      " AGCTCTGCGAGGGGCCGGAGCGCGGCGGAGCCATGCAGTACCCGC\n",
      "\n",
      "> gi|1777257527|ref|XM_003904001.5| PREDICTED: Papio anubis hematopoietically expressed homeobox (HHEX), mRNA \n",
      " AGCTCTGCGAGGGGCCGGAGCGCGGCGGAGCCATGCAGTACCCGC\n",
      "\n",
      "> gi|1864419579|ref|XM_035268475.1| PREDICTED: Callithrix jacchus hematopoietically expressed homeobox (HHEX), mRNA \n",
      " AGCTCTGCGAGGGGCCGGAGCGCGGCGGAGCCATGCAGTACCCGC\n",
      "\n",
      "> gi|817280149|ref|XM_012454782.1| PREDICTED: Aotus nancymaae hematopoietically expressed homeobox (HHEX), mRNA \n",
      " AGCTCTGCGAGGGGCCGGAGCGCGGCGGAGCCATGCAGTACCCGC\n",
      "\n",
      "> gi|1984105766|ref|XM_003922390.3| PREDICTED: Saimiri boliviensis boliviensis hematopoietically expressed homeobox (HHEX), mRNA \n",
      " AGCTCTGCGAGGGGCCGGAGCGCGGCGGAGCCATGCAGTACCCGC\n",
      "\n",
      "> gi|1804417576|ref|XM_032245527.1| PREDICTED: Sapajus apella hematopoietically expressed homeobox (HHEX), mRNA \n",
      " AGCTCTGCGAGGGGCCGGAGCGCGGCGGAGCCATGCAGTACCCGC\n",
      "\n",
      "> gi|1933975555|ref|XM_017498186.2| PREDICTED: Cebus imitator hematopoietically expressed homeobox (HHEX), mRNA \n",
      " AGCTCTGCGAGGGGCCGGAGCGCGGCGGAGCCATGCAGTACCCGC\n",
      "\n",
      "> gi|795196478|ref|XM_011947898.1| PREDICTED: Colobus angolensis palliatus hematopoietically expressed homeobox (HHEX), partial mRNA \n",
      " CCCGCCGCGCCCACGCCCGCCCCCACGCTGCCGTCCCCCAACTCC\n",
      "\n",
      "> gi|1799962366|ref|XM_032170111.1| PREDICTED: Hylobates moloch hematopoietically expressed homeobox (HHEX), mRNA \n",
      " GGCAAACCTCTACTCTGGAGCCCCTTCTTGCAGAGGCCTCTGCAT\n",
      "\n",
      "> gi|1799962366|ref|XM_032170111.1| PREDICTED: Hylobates moloch hematopoietically expressed homeobox (HHEX), mRNA \n",
      " AGCTCTGCGAGGGGCCGGAGCGCGGCGGAGCCATGCAGTACCCGC\n",
      "\n",
      "> gi|955512141|ref|XM_004427832.2| PREDICTED: Ceratotherium simum simum hematopoietically expressed homeobox (LOC101396103), mRNA \n",
      " AGCTCTGCGAGGGGCCGGAGCGCGGCGGAGCCATGCAGTACCCGC\n",
      "\n",
      "> gi|1814598467|ref|XM_032609240.1| PREDICTED: Phocoena sinus hematopoietically expressed homeobox (HHEX), mRNA \n",
      " AGCTCTGCGAGGGGCCGGAGCGCGGCGGAGCCATGCAGTACCCGC\n",
      "\n",
      "> gi|1753115678|ref|XM_006733872.2| PREDICTED: Leptonychotes weddellii hematopoietically expressed homeobox (HHEX), mRNA \n",
      " CGAGGGGCCGGAGCGCGGCGGAGCCATGCAGTACCCGCACCCCGG\n",
      "\n",
      "> gi|1900064485|ref|XM_036079080.1| PREDICTED: Halichoerus grypus hematopoietically expressed homeobox (HHEX), mRNA \n",
      " AGCTCTGCGAGGGGCCGGAGCGCGGCGGAGCCATGCAGTACCCGC\n",
      "\n",
      "> gi|1807994400|ref|XM_032432462.1| PREDICTED: Phoca vitulina hematopoietically expressed homeobox (HHEX), mRNA \n",
      " AGCTCTGCGAGGGGCCGGAGCGCGGCGGAGCCATGCAGTACCCGC\n",
      "\n",
      "> gi|795177345|ref|XM_011988489.1| PREDICTED: Mandrillus leucophaeus hematopoietically expressed homeobox (HHEX), mRNA \n",
      " GGCAAACCTCTACTCTGGAGCCCCTTCTTGCAGAGGCCTCTGCAT\n",
      "\n",
      "> gi|1851871988|ref|XM_035025163.1| PREDICTED: Mirounga leonina hematopoietically expressed homeobox (HHEX), mRNA \n",
      " AGCTCTGCGAGGGGCCGGAGCGCGGCGGAGCCATGCAGTACCCGC\n",
      "\n",
      "> gi|2178018032|ref|XM_045878429.1| PREDICTED: Mirounga angustirostris hematopoietically expressed homeobox (HHEX), mRNA \n",
      " AGCTCTGCGAGGGGCCGGAGCGCGGCGGAGCCATGCAGTACCCGC\n",
      "\n",
      "> gi|743749506|ref|XM_010971218.1| PREDICTED: Camelus bactrianus hematopoietically expressed homeobox (HHEX), mRNA \n",
      " AGCTCTGCGAGGGGCCGGAGCGCGGCGGAGCCATGCAGTACCCGC\n",
      "\n",
      "> gi|2181282695|ref|XM_046026143.1| PREDICTED: Meles meles hematopoietically expressed homeobox (HHEX), mRNA \n",
      " AGCTCTGCGAGGGGCCGGAGCGCGGCGGAGCCATGCAGTACCCGC\n",
      "\n",
      "> gi|1810981657|ref|XM_032491315.1| PREDICTED: Camelus ferus hematopoietically expressed homeobox (HHEX), mRNA \n",
      " AGCTCTGCGAGGGGCCGGAGCGCGGCGGAGCCATGCAGTACCCGC\n",
      "\n",
      "> gi|1768689947|ref|XM_031461388.1| PREDICTED: Camelus dromedarius hematopoietically expressed homeobox (HHEX), mRNA \n",
      " AGCTCTGCGAGGGGCCGGAGCGCGGCGGAGCCATGCAGTACCCGC\n",
      "\n",
      "> gi|2282146102|ref|XM_049855530.1| PREDICTED: Elephas maximus indicus hematopoietically expressed homeobox (LOC126059659), mRNA \n",
      " AGCTCTGCGAGGGGCCGGAGCGCGGCGGAGCCATGCAGTACCCGC\n",
      "\n",
      "> gi|21211761|emb|AL590080.25| Human DNA sequence from clone RP11-469M1 on chromosome 10, complete sequence \n",
      " CAGGAGAACCCTCAAAGCAATAAAAAAGAAGAACTGGAAAGTTTG\n",
      "\n",
      "> gi|21211761|emb|AL590080.25| Human DNA sequence from clone RP11-469M1 on chromosome 10, complete sequence \n",
      " AGCTCTGCGAGGGGCCGGAGCGCGGCGGAGCCATGCAGTACCCGC\n",
      "\n",
      "> gi|21211761|emb|AL590080.25| Human DNA sequence from clone RP11-469M1 on chromosome 10, complete sequence \n",
      " GGCAAACCTCTACTCTGGAGCCCCTTCTTGCAGAGGCCTCTGCAT\n",
      "\n",
      "> gi|21211761|emb|AL590080.25| Human DNA sequence from clone RP11-469M1 on chromosome 10, complete sequence \n",
      " AGGTCAAAACCTGGTTTCAGAATCGACGCGCTAAATGGAGGAGAC\n",
      "\n",
      "> gi|1920398765|ref|XM_036880146.1| PREDICTED: Manis pentadactyla hematopoietically expressed homeobox (HHEX), mRNA \n",
      " AGCTCTGCGAGGGGCCGGAGCGCGGCGGAGCCATGCAGTACCCGC\n",
      "\n",
      "> gi|1777482268|ref|XM_006211065.2| PREDICTED: Vicugna pacos hematopoietically expressed homeobox (HHEX), partial mRNA \n",
      " CTGCTGCAACCCGCACACCCGACGCCCTTTTACATCGAGGACATC\n",
      "\n",
      "> gi|1926169360|ref|XM_017659575.2| PREDICTED: Manis javanica hematopoietically expressed homeobox (HHEX), mRNA \n",
      " AGCTCTGCGAGGGGCCGGAGCGCGGCGGAGCCATGCAGTACCCGC\n",
      "\n",
      "> gi|830020889|ref|XM_004680626.2| PREDICTED: Condylura cristata hematopoietically expressed homeobox (HHEX), mRNA \n",
      " GCCGGAGCGCGGCGGAGCCATGCAGTACCCGCACCCCGGGCCGGC\n",
      "\n",
      "> gi|2177262583|ref|XM_045854700.1| PREDICTED: Phyllostomus hastatus hematopoietically expressed homeobox (HHEX), mRNA \n",
      " AGCTCTGCGAGGGGCCGGAGCGCGGCGGAGCCATGCAGTACCCGC\n",
      "\n",
      "> gi|823427052|ref|XM_004410975.2| PREDICTED: Odobenus rosmarus divergens hematopoietically expressed homeobox (HHEX), mRNA \n",
      " GCTCTGCGAGGGGCCGGAGCGCGGCGGAGCCATGCAGTACCCGCA\n",
      "\n"
     ]
    }
   ],
   "source": [
    "result_blast = open(\"HHEX_b.xml\")\n",
    "blast_records = NCBIXML.read(result_blast)\n",
    "for alignment in blast_records.alignments:\n",
    "    for hsp in alignment.hsps:\n",
    "        print(\">\", alignment.title, \"\\n\", hsp.query[0:45])\n",
    "        print()"
   ]
  },
  {
   "cell_type": "code",
   "execution_count": 72,
   "id": "1e642828",
   "metadata": {},
   "outputs": [
    {
     "name": "stdout",
     "output_type": "stream",
     "text": [
      "Alignment with 177 rows and 45 columns\n",
      "AGCTCTGCGAGGGGCCGGAGCGCGGCGGAGCCATGCAGTACCCGC gi|21211761|emb|AL590080.25|\n",
      "AGCTCTGCGAGGGGCCGGAGCGCGGCGGAGCCATGCAGTACCCGC gi|2063803000|emb|OU343092.1|\n",
      "AGGTCAAAACCTGGTTTCAGAATCGACGCGCTAAATGGAGGAGA- gi|2063803000|emb|OU343092.1|\n",
      "AGCTCTGCGAGGGGCCGGAGCGCGGCGGAGCCATGCAGTACCCGC gi|2156558396|emb|LR962757.1|\n",
      "AGCTCTGCGAGGGGCCGGAGCGCGGCGGAGCCATGCAGTACCCGC gi|2156558431|emb|LR962882.1|\n",
      "GTGTGTCTGTCTGTGTGTGTACAAGGCTGTG--TGCATCTGCG-G gi|2156558431|emb|LR962882.1|\n",
      "AGCTCTGCGAGGGGCCGGAGCGCGGCGGAGCCATGCAGTACCCGC gi|2280519189|emb|OX258980.1|\n",
      "AGCTCTGCGAGGGGCCGGAGCGCGGCGGAGCCATGCAGTACCCGC gi|2323025588|emb|OX344715.1|\n",
      "AGCTCTGCGAGGGGCCGGAGCGCGGCGGAGCCATGCAGTACCCGC gi|2233304178|emb|OW443374.1|\n",
      "TAATATTTCTATGTAGTATTTATATGCATTTTAGACAAGTATAGG gi|2233304178|emb|OW443374.1|\n",
      "GGGCTCGTTGCAAGTTTTCTTTCTCTCTTTCCTGTAGGTCAAAAC gi|850493841|gb|CP011907.1|\n",
      "CCGGCCCCCGTGGGGCAGGGATCGCAGCCGGGCCC-GGGTGGCTA gi|850493841|gb|CP011907.1|\n",
      "TCTGTTATTGGAAGCTTCAGTAGGGACCCTGAAAACAATTAACGT gi|850493841|gb|CP011907.1|\n",
      "GCTCGCAGGCAAACCTCTACTCTGGAGCCCCTTCTTGCAGAGGCC gi|850493841|gb|CP011907.1|\n",
      "AGCTCTGCGAGGGGCCGGAGCGCGGCGGAGCCATGCAGTACCCGC gi|2167950065|emb|OV277454.1|\n",
      "AAAAATAGTGGTTTCTATGTAATATGGGGATAT--TTCCCAGAAA gi|2167950065|emb|OV277454.1|\n",
      "TCGTTGCAAGTTTTCTTTCTCTCTTTC--CTGTAGGTCAAAACCT gi|2167950065|emb|OV277454.1|\n",
      "AAAAAGAAAGTGTCCCAAAGAATATTTTGAAATAGAAAATAAAAT gi|2167950065|emb|OV277454.1|\n",
      "...\n",
      "AGGTCAAAACCTGGTTTCAGAATCGACGCGCTAAATGGAGGAGAC gi|2282146102|ref|XM_049855530.1|\n"
     ]
    }
   ],
   "source": [
    "#guardei manualmente o alinhamento anterior no ficheiro hhex_blast.txt\n",
    "alignments = AlignIO.parse(\"HHEX_BLAST.txt\",format = \"fasta\")\n",
    "for alignment in alignments:\n",
    "    print(alignment)"
   ]
  },
  {
   "cell_type": "code",
   "execution_count": 73,
   "id": "4cf0a089",
   "metadata": {},
   "outputs": [
    {
     "data": {
      "text/plain": [
       "1"
      ]
     },
     "execution_count": 73,
     "metadata": {},
     "output_type": "execute_result"
    }
   ],
   "source": [
    "AlignIO.write(alignment, \"align_results_hhex\", \"fasta\")"
   ]
  },
  {
   "cell_type": "code",
   "execution_count": 74,
   "id": "bb2ddf85",
   "metadata": {
    "scrolled": false
   },
   "outputs": [
    {
     "ename": "ValueError",
     "evalue": "Duplicate record identifier: gi|2063803000|emb|OU343092.1|",
     "output_type": "error",
     "traceback": [
      "\u001b[1;31m---------------------------------------------------------------------------\u001b[0m",
      "\u001b[1;31mValueError\u001b[0m                                Traceback (most recent call last)",
      "Cell \u001b[1;32mIn[74], line 2\u001b[0m\n\u001b[0;32m      1\u001b[0m form_stock \u001b[39m=\u001b[39m AlignIO\u001b[39m.\u001b[39mparse(\u001b[39m\"\u001b[39m\u001b[39malign_results_hhex\u001b[39m\u001b[39m\"\u001b[39m,\u001b[39m\"\u001b[39m\u001b[39mfasta\u001b[39m\u001b[39m\"\u001b[39m)\n\u001b[1;32m----> 2\u001b[0m AlignIO\u001b[39m.\u001b[39;49mconvert(\u001b[39m\"\u001b[39;49m\u001b[39malign_results_hhex\u001b[39;49m\u001b[39m\"\u001b[39;49m,\u001b[39m\"\u001b[39;49m\u001b[39mfasta\u001b[39;49m\u001b[39m\"\u001b[39;49m,\u001b[39m\"\u001b[39;49m\u001b[39malign_results_hhex.sth\u001b[39;49m\u001b[39m\"\u001b[39;49m,\u001b[39m\"\u001b[39;49m\u001b[39mstockholm\u001b[39;49m\u001b[39m\"\u001b[39;49m)\n",
      "File \u001b[1;32mc:\\Users\\user\\AppData\\Local\\Programs\\Python\\Python310\\lib\\site-packages\\Bio\\AlignIO\\__init__.py:471\u001b[0m, in \u001b[0;36mconvert\u001b[1;34m(in_file, in_format, out_file, out_format, molecule_type)\u001b[0m\n\u001b[0;32m    468\u001b[0m         \u001b[39mreturn\u001b[39;00m alignment\n\u001b[0;32m    470\u001b[0m     alignments \u001b[39m=\u001b[39m (over_ride(_) \u001b[39mfor\u001b[39;00m _ \u001b[39min\u001b[39;00m alignments)\n\u001b[1;32m--> 471\u001b[0m \u001b[39mreturn\u001b[39;00m write(alignments, out_file, out_format)\n",
      "File \u001b[1;32mc:\\Users\\user\\AppData\\Local\\Programs\\Python\\Python310\\lib\\site-packages\\Bio\\AlignIO\\__init__.py:214\u001b[0m, in \u001b[0;36mwrite\u001b[1;34m(alignments, handle, format)\u001b[0m\n\u001b[0;32m    212\u001b[0m \u001b[39mif\u001b[39;00m \u001b[39mformat\u001b[39m \u001b[39min\u001b[39;00m _FormatToWriter:\n\u001b[0;32m    213\u001b[0m     writer_class \u001b[39m=\u001b[39m _FormatToWriter[\u001b[39mformat\u001b[39m]\n\u001b[1;32m--> 214\u001b[0m     count \u001b[39m=\u001b[39m writer_class(fp)\u001b[39m.\u001b[39;49mwrite_file(alignments)\n\u001b[0;32m    215\u001b[0m \u001b[39melif\u001b[39;00m \u001b[39mformat\u001b[39m \u001b[39min\u001b[39;00m SeqIO\u001b[39m.\u001b[39m_FormatToWriter:\n\u001b[0;32m    216\u001b[0m     \u001b[39m# Exploit the existing SeqIO parser to do the dirty work!\u001b[39;00m\n\u001b[0;32m    217\u001b[0m     \u001b[39m# TODO - Can we make one call to SeqIO.write() and count the alignments?\u001b[39;00m\n\u001b[0;32m    218\u001b[0m     count \u001b[39m=\u001b[39m \u001b[39m0\u001b[39m\n",
      "File \u001b[1;32mc:\\Users\\user\\AppData\\Local\\Programs\\Python\\Python310\\lib\\site-packages\\Bio\\AlignIO\\Interfaces.py:129\u001b[0m, in \u001b[0;36mSequentialAlignmentWriter.write_file\u001b[1;34m(self, alignments)\u001b[0m\n\u001b[0;32m    127\u001b[0m count \u001b[39m=\u001b[39m \u001b[39m0\u001b[39m\n\u001b[0;32m    128\u001b[0m \u001b[39mfor\u001b[39;00m alignment \u001b[39min\u001b[39;00m alignments:\n\u001b[1;32m--> 129\u001b[0m     \u001b[39mself\u001b[39;49m\u001b[39m.\u001b[39;49mwrite_alignment(alignment)\n\u001b[0;32m    130\u001b[0m     count \u001b[39m+\u001b[39m\u001b[39m=\u001b[39m \u001b[39m1\u001b[39m\n\u001b[0;32m    131\u001b[0m \u001b[39mself\u001b[39m\u001b[39m.\u001b[39mwrite_footer()\n",
      "File \u001b[1;32mc:\\Users\\user\\AppData\\Local\\Programs\\Python\\Python310\\lib\\site-packages\\Bio\\AlignIO\\StockholmIO.py:202\u001b[0m, in \u001b[0;36mStockholmWriter.write_alignment\u001b[1;34m(self, alignment)\u001b[0m\n\u001b[0;32m    200\u001b[0m \u001b[39mself\u001b[39m\u001b[39m.\u001b[39mhandle\u001b[39m.\u001b[39mwrite(\u001b[39m\"\u001b[39m\u001b[39m#=GF SQ \u001b[39m\u001b[39m%i\u001b[39;00m\u001b[39m\\n\u001b[39;00m\u001b[39m\"\u001b[39m \u001b[39m%\u001b[39m count)\n\u001b[0;32m    201\u001b[0m \u001b[39mfor\u001b[39;00m record \u001b[39min\u001b[39;00m alignment:\n\u001b[1;32m--> 202\u001b[0m     \u001b[39mself\u001b[39;49m\u001b[39m.\u001b[39;49m_write_record(record)\n\u001b[0;32m    203\u001b[0m \u001b[39m# This shouldn't be None... but just in case,\u001b[39;00m\n\u001b[0;32m    204\u001b[0m \u001b[39mif\u001b[39;00m alignment\u001b[39m.\u001b[39mcolumn_annotations:\n",
      "File \u001b[1;32mc:\\Users\\user\\AppData\\Local\\Programs\\Python\\Python310\\lib\\site-packages\\Bio\\AlignIO\\StockholmIO.py:241\u001b[0m, in \u001b[0;36mStockholmWriter._write_record\u001b[1;34m(self, record)\u001b[0m\n\u001b[0;32m    234\u001b[0m         seq_name \u001b[39m=\u001b[39m \u001b[39m\"\u001b[39m\u001b[39m%s\u001b[39;00m\u001b[39m/\u001b[39m\u001b[39m%s\u001b[39;00m\u001b[39m-\u001b[39m\u001b[39m%s\u001b[39;00m\u001b[39m\"\u001b[39m \u001b[39m%\u001b[39m (\n\u001b[0;32m    235\u001b[0m             seq_name,\n\u001b[0;32m    236\u001b[0m             record\u001b[39m.\u001b[39mannotations[\u001b[39m\"\u001b[39m\u001b[39mstart\u001b[39m\u001b[39m\"\u001b[39m],\n\u001b[0;32m    237\u001b[0m             record\u001b[39m.\u001b[39mannotations[\u001b[39m\"\u001b[39m\u001b[39mend\u001b[39m\u001b[39m\"\u001b[39m],\n\u001b[0;32m    238\u001b[0m         )\n\u001b[0;32m    240\u001b[0m \u001b[39mif\u001b[39;00m seq_name \u001b[39min\u001b[39;00m \u001b[39mself\u001b[39m\u001b[39m.\u001b[39m_ids_written:\n\u001b[1;32m--> 241\u001b[0m     \u001b[39mraise\u001b[39;00m \u001b[39mValueError\u001b[39;00m(\u001b[39mf\u001b[39m\u001b[39m\"\u001b[39m\u001b[39mDuplicate record identifier: \u001b[39m\u001b[39m{\u001b[39;00mseq_name\u001b[39m}\u001b[39;00m\u001b[39m\"\u001b[39m)\n\u001b[0;32m    242\u001b[0m \u001b[39mself\u001b[39m\u001b[39m.\u001b[39m_ids_written\u001b[39m.\u001b[39mappend(seq_name)\n\u001b[0;32m    243\u001b[0m \u001b[39mself\u001b[39m\u001b[39m.\u001b[39mhandle\u001b[39m.\u001b[39mwrite(\u001b[39mf\u001b[39m\u001b[39m\"\u001b[39m\u001b[39m{\u001b[39;00mseq_name\u001b[39m}\u001b[39;00m\u001b[39m \u001b[39m\u001b[39m{\u001b[39;00mrecord\u001b[39m.\u001b[39mseq\u001b[39m}\u001b[39;00m\u001b[39m\\n\u001b[39;00m\u001b[39m\"\u001b[39m)\n",
      "\u001b[1;31mValueError\u001b[0m: Duplicate record identifier: gi|2063803000|emb|OU343092.1|"
     ]
    }
   ],
   "source": [
    "form_stock = AlignIO.parse(\"align_results_hhex\",\"fasta\")\n",
    "AlignIO.convert(\"align_results_hhex\",\"fasta\",\"align_results_hhex.sth\",\"stockholm\")"
   ]
  },
  {
   "cell_type": "code",
   "execution_count": 75,
   "id": "5bb5a276",
   "metadata": {},
   "outputs": [
    {
     "data": {
      "text/plain": [
       "Seq('XXXXXXXXXXXXXXXXXXAXXXXXXXXXXGXXXXXXXXXXXXXXX')"
      ]
     },
     "execution_count": 75,
     "metadata": {},
     "output_type": "execute_result"
    }
   ],
   "source": [
    "summary_align = AlignInfo.SummaryInfo(alignment)\n",
    "consensus = summary_align.dumb_consensus()\n",
    "consensus"
   ]
  },
  {
   "cell_type": "code",
   "execution_count": 141,
   "id": "fa36732c",
   "metadata": {},
   "outputs": [],
   "source": [
    "from Bio import Phylo\n",
    "from Bio import AlignIO"
   ]
  },
  {
   "cell_type": "code",
   "execution_count": null,
   "id": "adf1dfa7",
   "metadata": {},
   "outputs": [],
   "source": [
    "alignment = AlignIO.read(open(\"align_results_hhex.sth\"),\"stockholm\")\n",
    "print(alignment)"
   ]
  },
  {
   "cell_type": "code",
   "execution_count": null,
   "id": "b5ca5496",
   "metadata": {},
   "outputs": [],
   "source": [
    "from Bio.Phylo.TreeConstruction import DistanceCalculator\n",
    "from Bio import AlignIO\n",
    "\n",
    "calculator = DistanceCalculator('blosum62')\n",
    "dm = calculator.get_distance(alignment)\n",
    "print(dm)"
   ]
  },
  {
   "cell_type": "code",
   "execution_count": null,
   "id": "b283b093",
   "metadata": {},
   "outputs": [],
   "source": [
    "from Bio.Phylo.TreeConstruction import DistanceTreeConstructor\n",
    "constructor = DistanceTreeConstructor()\n",
    "upgmatree = constructor.upgma(dm)\n",
    "print(upgmatree)"
   ]
  },
  {
   "cell_type": "code",
   "execution_count": 142,
   "id": "7fdb6cac",
   "metadata": {},
   "outputs": [
    {
     "ename": "FileNotFoundError",
     "evalue": "[Errno 2] No such file or directory: 'resampled.phy'",
     "output_type": "error",
     "traceback": [
      "\u001b[1;31m---------------------------------------------------------------------------\u001b[0m",
      "\u001b[1;31mFileNotFoundError\u001b[0m                         Traceback (most recent call last)",
      "Cell \u001b[1;32mIn[142], line 3\u001b[0m\n\u001b[0;32m      1\u001b[0m \u001b[39mfrom\u001b[39;00m \u001b[39mBio\u001b[39;00m \u001b[39mimport\u001b[39;00m AlignIO\n\u001b[0;32m      2\u001b[0m alignments \u001b[39m=\u001b[39m AlignIO\u001b[39m.\u001b[39mparse(\u001b[39m\"\u001b[39m\u001b[39mresampled.phy\u001b[39m\u001b[39m\"\u001b[39m, \u001b[39m\"\u001b[39m\u001b[39mphylip\u001b[39m\u001b[39m\"\u001b[39m)\n\u001b[1;32m----> 3\u001b[0m \u001b[39mfor\u001b[39;00m alignment \u001b[39min\u001b[39;00m alignments:\n\u001b[0;32m      4\u001b[0m     \u001b[39mprint\u001b[39m(alignment)\n\u001b[0;32m      5\u001b[0m     \u001b[39mprint\u001b[39m()\n",
      "File \u001b[1;32mc:\\Users\\user\\AppData\\Local\\Programs\\Python\\Python310\\lib\\site-packages\\Bio\\AlignIO\\__init__.py:322\u001b[0m, in \u001b[0;36mparse\u001b[1;34m(handle, format, seq_count)\u001b[0m\n\u001b[0;32m    319\u001b[0m \u001b[39mif\u001b[39;00m seq_count \u001b[39mis\u001b[39;00m \u001b[39mnot\u001b[39;00m \u001b[39mNone\u001b[39;00m \u001b[39mand\u001b[39;00m \u001b[39mnot\u001b[39;00m \u001b[39misinstance\u001b[39m(seq_count, \u001b[39mint\u001b[39m):\n\u001b[0;32m    320\u001b[0m     \u001b[39mraise\u001b[39;00m \u001b[39mTypeError\u001b[39;00m(\u001b[39m\"\u001b[39m\u001b[39mNeed integer for seq_count (sequences per alignment)\u001b[39m\u001b[39m\"\u001b[39m)\n\u001b[1;32m--> 322\u001b[0m \u001b[39mwith\u001b[39;00m as_handle(handle) \u001b[39mas\u001b[39;00m fp:\n\u001b[0;32m    323\u001b[0m     \u001b[39m# Map the file format to a sequence iterator:\u001b[39;00m\n\u001b[0;32m    324\u001b[0m     \u001b[39mif\u001b[39;00m \u001b[39mformat\u001b[39m \u001b[39min\u001b[39;00m _FormatToIterator:\n\u001b[0;32m    325\u001b[0m         iterator_generator \u001b[39m=\u001b[39m _FormatToIterator[\u001b[39mformat\u001b[39m]\n",
      "File \u001b[1;32mc:\\Users\\user\\AppData\\Local\\Programs\\Python\\Python310\\lib\\contextlib.py:135\u001b[0m, in \u001b[0;36m_GeneratorContextManager.__enter__\u001b[1;34m(self)\u001b[0m\n\u001b[0;32m    133\u001b[0m \u001b[39mdel\u001b[39;00m \u001b[39mself\u001b[39m\u001b[39m.\u001b[39margs, \u001b[39mself\u001b[39m\u001b[39m.\u001b[39mkwds, \u001b[39mself\u001b[39m\u001b[39m.\u001b[39mfunc\n\u001b[0;32m    134\u001b[0m \u001b[39mtry\u001b[39;00m:\n\u001b[1;32m--> 135\u001b[0m     \u001b[39mreturn\u001b[39;00m \u001b[39mnext\u001b[39;49m(\u001b[39mself\u001b[39;49m\u001b[39m.\u001b[39;49mgen)\n\u001b[0;32m    136\u001b[0m \u001b[39mexcept\u001b[39;00m \u001b[39mStopIteration\u001b[39;00m:\n\u001b[0;32m    137\u001b[0m     \u001b[39mraise\u001b[39;00m \u001b[39mRuntimeError\u001b[39;00m(\u001b[39m\"\u001b[39m\u001b[39mgenerator didn\u001b[39m\u001b[39m'\u001b[39m\u001b[39mt yield\u001b[39m\u001b[39m\"\u001b[39m) \u001b[39mfrom\u001b[39;00m \u001b[39mNone\u001b[39m\n",
      "File \u001b[1;32mc:\\Users\\user\\AppData\\Local\\Programs\\Python\\Python310\\lib\\site-packages\\Bio\\File.py:72\u001b[0m, in \u001b[0;36mas_handle\u001b[1;34m(handleish, mode, **kwargs)\u001b[0m\n\u001b[0;32m     30\u001b[0m \u001b[39mr\u001b[39m\u001b[39m\"\"\"Context manager to ensure we are using a handle.\u001b[39;00m\n\u001b[0;32m     31\u001b[0m \n\u001b[0;32m     32\u001b[0m \u001b[39mContext manager for arguments that can be passed to SeqIO and AlignIO read, write,\u001b[39;00m\n\u001b[1;32m   (...)\u001b[0m\n\u001b[0;32m     69\u001b[0m \n\u001b[0;32m     70\u001b[0m \u001b[39m\"\"\"\u001b[39;00m\n\u001b[0;32m     71\u001b[0m \u001b[39mtry\u001b[39;00m:\n\u001b[1;32m---> 72\u001b[0m     \u001b[39mwith\u001b[39;00m \u001b[39mopen\u001b[39m(handleish, mode, \u001b[39m*\u001b[39m\u001b[39m*\u001b[39mkwargs) \u001b[39mas\u001b[39;00m fp:\n\u001b[0;32m     73\u001b[0m         \u001b[39myield\u001b[39;00m fp\n\u001b[0;32m     74\u001b[0m \u001b[39mexcept\u001b[39;00m \u001b[39mTypeError\u001b[39;00m:\n",
      "\u001b[1;31mFileNotFoundError\u001b[0m: [Errno 2] No such file or directory: 'resampled.phy'"
     ]
    }
   ],
   "source": [
    "form_phyl = AlignIO.parse(\"align_results_hhex.sth\",\"stockholm\")\n",
    "AlignIO.convert(\"align_results_hhex.sth\",\"stockholm\",\"align_results_hhex.phy\",\"phylip\")\n",
    "\n",
    "alignments = AlignIO.parse(\"align_results_hhex.phylip\", \"phylip\")\n",
    "for alignment in alignments:\n",
    "    print(alignment)\n",
    "    print()"
   ]
  },
  {
   "cell_type": "code",
   "execution_count": null,
   "id": "b80ac00c",
   "metadata": {},
   "outputs": [],
   "source": [
    "njtree = constructor.nj(dm)\n",
    "print(njtree)"
   ]
  },
  {
   "cell_type": "code",
   "execution_count": null,
   "id": "eae4650c",
   "metadata": {},
   "outputs": [],
   "source": [
    "Phylo.write([upgmatree, njtree], \"phylo_trees.nhx\",\"newick\")"
   ]
  },
  {
   "cell_type": "code",
   "execution_count": null,
   "id": "6c3f2d25",
   "metadata": {},
   "outputs": [],
   "source": [
    "tree_up = Phylo.draw_ascii(upgmatree)"
   ]
  },
  {
   "cell_type": "code",
   "execution_count": null,
   "id": "e3418649",
   "metadata": {},
   "outputs": [],
   "source": [
    "tree_nj = Phylo.draw_ascii(njtree)"
   ]
  }
 ],
 "metadata": {
  "kernelspec": {
   "display_name": "Python 3 (ipykernel)",
   "language": "python",
   "name": "python3"
  },
  "language_info": {
   "codemirror_mode": {
    "name": "ipython",
    "version": 3
   },
   "file_extension": ".py",
   "mimetype": "text/x-python",
   "name": "python",
   "nbconvert_exporter": "python",
   "pygments_lexer": "ipython3",
   "version": "3.10.5 (tags/v3.10.5:f377153, Jun  6 2022, 16:14:13) [MSC v.1929 64 bit (AMD64)]"
  },
  "vscode": {
   "interpreter": {
    "hash": "fb4569285eef3a3450cb62085a5b1e0da4bce0af555edc33dcf29baf3acc1368"
   }
  }
 },
 "nbformat": 4,
 "nbformat_minor": 5
}
