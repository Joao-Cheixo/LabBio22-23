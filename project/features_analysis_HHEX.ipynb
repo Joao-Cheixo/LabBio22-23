{
 "cells": [
  {
   "attachments": {},
   "cell_type": "markdown",
   "metadata": {},
   "source": [
    "### ANÁLISE DAS SEQUÊNCIAS E DAS FEATURES DO GENE NO NCBI"
   ]
  },
  {
   "cell_type": "code",
   "execution_count": 25,
   "metadata": {},
   "outputs": [],
   "source": [
    "from Bio import Seq\n",
    "from Bio import SeqIO"
   ]
  },
  {
   "cell_type": "code",
   "execution_count": 26,
   "metadata": {},
   "outputs": [
    {
     "data": {
      "text/plain": [
       "SeqRecord(seq=Seq('AGCTCTGCGAGGGGCCGGAGCGCGGCGGAGCCATGCAGTACCCGCACCCCGGGC...GTT'), id='NM_002729.5', name='NM_002729', description='Homo sapiens hematopoietically expressed homeobox (HHEX), mRNA', dbxrefs=[])"
      ]
     },
     "execution_count": 26,
     "metadata": {},
     "output_type": "execute_result"
    }
   ],
   "source": [
    "record = SeqIO.read(\"mRNA_seq_HHEX.gb\", \"genbank\")\n",
    "record"
   ]
  },
  {
   "cell_type": "code",
   "execution_count": 27,
   "metadata": {},
   "outputs": [
    {
     "data": {
      "text/plain": [
       "Seq('AGCTCTGCGAGGGGCCGGAGCGCGGCGGAGCCATGCAGTACCCGCACCCCGGGC...GTT')"
      ]
     },
     "execution_count": 27,
     "metadata": {},
     "output_type": "execute_result"
    }
   ],
   "source": [
    "record.seq"
   ]
  },
  {
   "cell_type": "code",
   "execution_count": 28,
   "metadata": {},
   "outputs": [
    {
     "name": "stdout",
     "output_type": "stream",
     "text": [
      "NM_002729.5\n",
      "NM_002729\n",
      "Homo sapiens hematopoietically expressed homeobox (HHEX), mRNA\n",
      "13\n",
      "Homo sapiens (human)\n",
      "13\n"
     ]
    }
   ],
   "source": [
    "print(record.id)\n",
    "print(record.name)\n",
    "print(record.description)\n",
    "print(len(record.annotations))\n",
    "print(record.annotations[\"source\"] )\n",
    "print(len(record.features))"
   ]
  },
  {
   "attachments": {},
   "cell_type": "markdown",
   "metadata": {},
   "source": [
    "Verificar as anotações dos genes de interesse"
   ]
  },
  {
   "cell_type": "code",
   "execution_count": 29,
   "metadata": {},
   "outputs": [
    {
     "name": "stdout",
     "output_type": "stream",
     "text": [
      "molecule_type  :  mRNA\n",
      "topology  :  linear\n",
      "data_file_division  :  PRI\n",
      "date  :  21-OCT-2022\n",
      "accessions  :  ['NM_002729', 'NM_001529']\n",
      "sequence_version  :  5\n",
      "keywords  :  ['RefSeq', 'MANE Select']\n",
      "source  :  Homo sapiens (human)\n",
      "organism  :  Homo sapiens\n",
      "taxonomy  :  ['Eukaryota', 'Metazoa', 'Chordata', 'Craniata', 'Vertebrata', 'Euteleostomi', 'Mammalia', 'Eutheria', 'Euarchontoglires', 'Primates', 'Haplorrhini', 'Catarrhini', 'Hominidae', 'Homo']\n",
      "references  :  [Reference(title='CK2-induced cooperation of HHEX with the YAP-TEAD4 complex promotes colorectal tumorigenesis', ...), Reference(title='Unraveling the Influence of HHEX Risk Polymorphism rs7923837 on Multiple Sclerosis Pathogenesis', ...), Reference(title='Integrated single-cell transcriptomics and epigenomics reveals strong germinal center-associated etiology of autoimmune risk loci', ...), Reference(title='Hhex inhibits cell migration via regulating RHOA/CDC42-CFL1 axis in human lung cancer cells', ...), Reference(title='Interactome Mapping Provides a Network of Neurodegenerative Disease Proteins and Uncovers Widespread Protein Aggregation in Affected Brains', ...), Reference(title='Differential expression of a novel proline-rich homeobox gene (Prh) in human hematolymphopoietic cells', ...), Reference(title='A homology-based molecular model of the proline-rich homeodomain protein Prh, from haematopoietic cells', ...), Reference(title='PCR cloning of an orphan homeobox gene (PRH) preferentially expressed in myeloid and liver cells', ...), Reference(title='HEX: a novel homeobox gene expressed during haematopoiesis and conserved between mouse and human', ...), Reference(title='Identification of a novel vertebrate homeobox gene expressed in haematopoietic cells', ...)]\n",
      "comment  :  REVIEWED REFSEQ: This record has been curated by NCBI staff. The\n",
      "reference sequence was derived from BC015110.1 and BM543214.1.\n",
      "On Nov 22, 2018 this sequence version replaced NM_002729.4.\n",
      "Summary: This gene encodes a member of the homeobox family of\n",
      "transcription factors, many of which are involved in developmental\n",
      "processes. Expression in specific hematopoietic lineages suggests\n",
      "that this protein may play a role in hematopoietic differentiation.\n",
      "[provided by RefSeq, Jul 2008].\n",
      "Publication Note:  This RefSeq record includes a subset of the\n",
      "publications that are available for this gene. Please see the Gene\n",
      "record to access additional publications.\n",
      "COMPLETENESS: full length.\n",
      "structured_comment  :  defaultdict(<class 'dict'>, {'Evidence-Data': {'Transcript exon combination': 'BC050638.1, BC015110.1 [ECO:0000332]', 'RNAseq introns': 'single sample supports all introns SAMEA1965299, SAMEA1966682 [ECO:0000348]'}, 'RefSeq-Attributes': {'MANE Ensembl match': 'ENST00000282728.10/ ENSP00000282728.5', 'RefSeq Select criteria': 'based on single protein-coding transcript'}})\n"
     ]
    }
   ],
   "source": [
    "for a, b in record.annotations.items():\n",
    "    print(a, \" : \", b)"
   ]
  },
  {
   "cell_type": "code",
   "execution_count": 30,
   "metadata": {},
   "outputs": [
    {
     "name": "stdout",
     "output_type": "stream",
     "text": [
      "REVIEWED REFSEQ: This record has been curated by NCBI staff. The\n",
      "reference sequence was derived from BC015110.1 and BM543214.1.\n",
      "On Nov 22, 2018 this sequence version replaced NM_002729.4.\n",
      "Summary: This gene encodes a member of the homeobox family of\n",
      "transcription factors, many of which are involved in developmental\n",
      "processes. Expression in specific hematopoietic lineages suggests\n",
      "that this protein may play a role in hematopoietic differentiation.\n",
      "[provided by RefSeq, Jul 2008].\n",
      "Publication Note:  This RefSeq record includes a subset of the\n",
      "publications that are available for this gene. Please see the Gene\n",
      "record to access additional publications.\n",
      "COMPLETENESS: full length.\n"
     ]
    }
   ],
   "source": [
    "print(record.annotations[\"comment\"] )"
   ]
  },
  {
   "cell_type": "code",
   "execution_count": 31,
   "metadata": {},
   "outputs": [
    {
     "name": "stdout",
     "output_type": "stream",
     "text": [
      "Tamanho da seq:  1724 bp\n"
     ]
    }
   ],
   "source": [
    "print(\"Tamanho da seq: \",len(record), \"bp\")"
   ]
  },
  {
   "attachments": {},
   "cell_type": "markdown",
   "metadata": {},
   "source": [
    "Verificar e analisar a informação complementar fornecida pela lista de features e seus \n",
    "qualifiers"
   ]
  },
  {
   "cell_type": "code",
   "execution_count": 32,
   "metadata": {},
   "outputs": [
    {
     "name": "stdout",
     "output_type": "stream",
     "text": [
      "--> type: source\n",
      "location: [0:1724](+)\n",
      "qualifiers:\n",
      "    Key: chromosome, Value: ['10']\n",
      "    Key: db_xref, Value: ['taxon:9606']\n",
      "    Key: map, Value: ['10q23.33']\n",
      "    Key: mol_type, Value: ['mRNA']\n",
      "    Key: organism, Value: ['Homo sapiens']\n",
      "\n",
      "--> type: gene\n",
      "location: [0:1724](+)\n",
      "qualifiers:\n",
      "    Key: db_xref, Value: ['GeneID:3087', 'HGNC:HGNC:4901', 'MIM:604420']\n",
      "    Key: gene, Value: ['HHEX']\n",
      "    Key: gene_synonym, Value: ['HEX; HMPH; HOX11L-PEN; PRH; PRHX']\n",
      "    Key: note, Value: ['hematopoietically expressed homeobox']\n",
      "\n",
      "--> type: exon\n",
      "location: [0:393](+)\n",
      "qualifiers:\n",
      "    Key: gene, Value: ['HHEX']\n",
      "    Key: gene_synonym, Value: ['HEX; HMPH; HOX11L-PEN; PRH; PRHX']\n",
      "    Key: inference, Value: ['alignment:Splign:2.1.0']\n",
      "\n",
      "--> type: CDS\n",
      "location: [32:845](+)\n",
      "qualifiers:\n",
      "    Key: codon_start, Value: ['1']\n",
      "    Key: db_xref, Value: ['CCDS:CCDS7423.1', 'GeneID:3087', 'HGNC:HGNC:4901', 'MIM:604420']\n",
      "    Key: gene, Value: ['HHEX']\n",
      "    Key: gene_synonym, Value: ['HEX; HMPH; HOX11L-PEN; PRH; PRHX']\n",
      "    Key: note, Value: ['homeobox, hematopoietically expressed; proline-rich homeodomain-containing transcription factor; homeobox protein HEX; homeobox protein PRH']\n",
      "    Key: product, Value: ['hematopoietically-expressed homeobox protein HHEX']\n",
      "    Key: protein_id, Value: ['NP_002720.1']\n",
      "    Key: translation, Value: ['MQYPHPGPAAGAVGVPLYAPTPLLQPAHPTPFYIEDILGRGPAAPTPAPTLPSPNSSFTSLVSPYRTPVYEPTPIHPAFSHHSAAALAAAYGPGGFGGPLYPFPRTVNDYTHALLRHDPLGKPLLWSPFLQRPLHKRKGGQVRFSNDQTIELEKKFETQKYLSPPERKRLAKMLQLSERQVKTWFQNRRAKWRRLKQENPQSNKKEELESLDSSCDQRQDLPSEQNKGASLDSSQCSPSPASQEDLESEISEDSDQEVDIEGDKSYFNAG']\n",
      "\n",
      "--> type: misc_feature\n",
      "location: [32:443](+)\n",
      "qualifiers:\n",
      "    Key: gene, Value: ['HHEX']\n",
      "    Key: gene_synonym, Value: ['HEX; HMPH; HOX11L-PEN; PRH; PRHX']\n",
      "    Key: note, Value: ['propagated from UniProtKB/Swiss-Prot (Q03014.1); Region: Interaction with SOX13. /evidence=ECO:0000269|PubMed:20028982']\n",
      "\n",
      "--> type: misc_feature\n",
      "location: [188:191](+)\n",
      "qualifiers:\n",
      "    Key: gene, Value: ['HHEX']\n",
      "    Key: gene_synonym, Value: ['HEX; HMPH; HOX11L-PEN; PRH; PRHX']\n",
      "    Key: note, Value: ['Phosphoserine. /evidence=ECO:0007744|PubMed:23186163; propagated from UniProtKB/Swiss-Prot (Q03014.1); phosphorylation site']\n",
      "\n",
      "--> type: misc_feature\n",
      "location: [440:842](+)\n",
      "qualifiers:\n",
      "    Key: gene, Value: ['HHEX']\n",
      "    Key: gene_synonym, Value: ['HEX; HMPH; HOX11L-PEN; PRH; PRHX']\n",
      "    Key: note, Value: ['propagated from UniProtKB/Swiss-Prot (Q03014.1); Region: Required for WNT signaling induction. /evidence=ECO:0000269|PubMed:20028982']\n",
      "\n",
      "--> type: misc_feature\n",
      "location: [611:842](+)\n",
      "qualifiers:\n",
      "    Key: gene, Value: ['HHEX']\n",
      "    Key: gene_synonym, Value: ['HEX; HMPH; HOX11L-PEN; PRH; PRHX']\n",
      "    Key: note, Value: ['propagated from UniProtKB/Swiss-Prot (Q03014.1); Region: Disordered. /evidence=ECO:0000256|SAM:MobiDB-lite']\n",
      "\n",
      "--> type: exon\n",
      "location: [393:572](+)\n",
      "qualifiers:\n",
      "    Key: gene, Value: ['HHEX']\n",
      "    Key: gene_synonym, Value: ['HEX; HMPH; HOX11L-PEN; PRH; PRHX']\n",
      "    Key: inference, Value: ['alignment:Splign:2.1.0']\n",
      "\n",
      "--> type: exon\n",
      "location: [572:623](+)\n",
      "qualifiers:\n",
      "    Key: gene, Value: ['HHEX']\n",
      "    Key: gene_synonym, Value: ['HEX; HMPH; HOX11L-PEN; PRH; PRHX']\n",
      "    Key: inference, Value: ['alignment:Splign:2.1.0']\n",
      "\n",
      "--> type: exon\n",
      "location: [623:1724](+)\n",
      "qualifiers:\n",
      "    Key: gene, Value: ['HHEX']\n",
      "    Key: gene_synonym, Value: ['HEX; HMPH; HOX11L-PEN; PRH; PRHX']\n",
      "    Key: inference, Value: ['alignment:Splign:2.1.0']\n",
      "\n",
      "--> type: regulatory\n",
      "location: [1691:1697](+)\n",
      "qualifiers:\n",
      "    Key: gene, Value: ['HHEX']\n",
      "    Key: gene_synonym, Value: ['HEX; HMPH; HOX11L-PEN; PRH; PRHX']\n",
      "    Key: note, Value: ['hexamer: AATAAA']\n",
      "    Key: regulatory_class, Value: ['polyA_signal_sequence']\n",
      "\n",
      "--> type: polyA_site\n",
      "location: [1723:1724](+)\n",
      "qualifiers:\n",
      "    Key: gene, Value: ['HHEX']\n",
      "    Key: gene_synonym, Value: ['HEX; HMPH; HOX11L-PEN; PRH; PRHX']\n",
      "    Key: note, Value: ['major polyA site']\n",
      "\n",
      "Número de features: 13\n"
     ]
    }
   ],
   "source": [
    "for feat in record.features:\n",
    "    print(\"-->\" , feat)\n",
    "print(f\"Número de features: {len(record.features)}\")"
   ]
  },
  {
   "attachments": {},
   "cell_type": "markdown",
   "metadata": {},
   "source": [
    "Localização e tipo"
   ]
  },
  {
   "cell_type": "code",
   "execution_count": 33,
   "metadata": {},
   "outputs": [
    {
     "name": "stdout",
     "output_type": "stream",
     "text": [
      "source\n",
      "[0:1724](+)\n",
      "gene\n",
      "[0:1724](+)\n",
      "exon\n",
      "[0:393](+)\n",
      "CDS\n",
      "[32:845](+)\n",
      "misc_feature\n",
      "[32:443](+)\n",
      "misc_feature\n",
      "[188:191](+)\n",
      "misc_feature\n",
      "[440:842](+)\n",
      "misc_feature\n",
      "[611:842](+)\n",
      "exon\n",
      "[393:572](+)\n",
      "exon\n",
      "[572:623](+)\n",
      "exon\n",
      "[623:1724](+)\n",
      "regulatory\n",
      "[1691:1697](+)\n",
      "polyA_site\n",
      "[1723:1724](+)\n"
     ]
    }
   ],
   "source": [
    "from Bio.SeqFeature import SeqFeature, FeatureLocation\n",
    "for feat in record.features:\n",
    "    print(feat.type)\n",
    "    print(feat.location)"
   ]
  },
  {
   "attachments": {},
   "cell_type": "markdown",
   "metadata": {},
   "source": [
    "Regiões codificantes"
   ]
  },
  {
   "cell_type": "code",
   "execution_count": 34,
   "metadata": {},
   "outputs": [
    {
     "name": "stdout",
     "output_type": "stream",
     "text": [
      "[32:845](+)\n",
      "ATGCAGTACCCGCACCCCGGGCCGGCGGCGGGCGCCGTGGGGGTGCCGCTGTACGCGCCCACGCCGCTGCTGCAACCCGCACACCCGACGCCCTTTTACATCGAGGACATCCTGGGCCGCGGGCCCGCCGCGCCCACGCCCGCCCCCACGCTGCCGTCCCCCAACTCCTCCTTCACCAGCCTCGTGTCCCCCTACCGGACCCCGGTGTACGAGCCCACGCCGATCCATCCAGCCTTCTCGCACCACTCCGCCGCCGCGCTGGCCGCTGCCTACGGACCCGGCGGCTTCGGGGGCCCTCTGTACCCCTTCCCGCGGACGGTGAACGACTACACGCACGCCCTGCTCCGCCACGACCCCCTGGGCAAACCTCTACTCTGGAGCCCCTTCTTGCAGAGGCCTCTGCATAAAAGGAAAGGCGGCCAGGTGAGATTCTCCAACGACCAGACCATCGAGCTGGAGAAGAAATTCGAGACGCAGAAATATCTCTCTCCGCCCGAGAGGAAGCGTCTGGCCAAGATGCTGCAGCTCAGCGAGAGACAGGTCAAAACCTGGTTTCAGAATCGACGCGCTAAATGGAGGAGACTAAAACAGGAGAACCCTCAAAGCAATAAAAAAGAAGAACTGGAAAGTTTGGACAGTTCCTGTGATCAGAGGCAAGATTTGCCCAGTGAACAGAATAAAGGTGCTTCTTTGGATAGCTCTCAATGTTCGCCCTCCCCTGCCTCCCAGGAAGACCTTGAATCAGAGATTTCAGAGGATTCTGATCAGGAAGTGGACATTGAGGGCGATAAAAGCTATTTTAATGCTGGATGA\n"
     ]
    }
   ],
   "source": [
    "featcds = [ ]\n",
    "for i in range(len(record.features)):\n",
    "    if record.features[i].type == \"CDS\":\n",
    "        featcds.append(i)\n",
    "for k in featcds:\n",
    "    print (record.features[k].location)\n",
    "for k in featcds:\n",
    "    print (record.features[k].extract(record.seq))"
   ]
  },
  {
   "cell_type": "code",
   "execution_count": 35,
   "metadata": {},
   "outputs": [
    {
     "name": "stdout",
     "output_type": "stream",
     "text": [
      "type: CDS\n",
      "location: [32:845](+)\n",
      "qualifiers:\n",
      "    Key: codon_start, Value: ['1']\n",
      "    Key: db_xref, Value: ['CCDS:CCDS7423.1', 'GeneID:3087', 'HGNC:HGNC:4901', 'MIM:604420']\n",
      "    Key: gene, Value: ['HHEX']\n",
      "    Key: gene_synonym, Value: ['HEX; HMPH; HOX11L-PEN; PRH; PRHX']\n",
      "    Key: note, Value: ['homeobox, hematopoietically expressed; proline-rich homeodomain-containing transcription factor; homeobox protein HEX; homeobox protein PRH']\n",
      "    Key: product, Value: ['hematopoietically-expressed homeobox protein HHEX']\n",
      "    Key: protein_id, Value: ['NP_002720.1']\n",
      "    Key: translation, Value: ['MQYPHPGPAAGAVGVPLYAPTPLLQPAHPTPFYIEDILGRGPAAPTPAPTLPSPNSSFTSLVSPYRTPVYEPTPIHPAFSHHSAAALAAAYGPGGFGGPLYPFPRTVNDYTHALLRHDPLGKPLLWSPFLQRPLHKRKGGQVRFSNDQTIELEKKFETQKYLSPPERKRLAKMLQLSERQVKTWFQNRRAKWRRLKQENPQSNKKEELESLDSSCDQRQDLPSEQNKGASLDSSQCSPSPASQEDLESEISEDSDQEVDIEGDKSYFNAG']\n",
      "\n"
     ]
    }
   ],
   "source": [
    "for feat in record.features:\n",
    "    if feat.type == \"CDS\":\n",
    "        print(feat)"
   ]
  },
  {
   "cell_type": "code",
   "execution_count": 36,
   "metadata": {},
   "outputs": [
    {
     "data": {
      "text/plain": [
       "[3]"
      ]
     },
     "execution_count": 36,
     "metadata": {},
     "output_type": "execute_result"
    }
   ],
   "source": [
    "featcds"
   ]
  },
  {
   "attachments": {},
   "cell_type": "markdown",
   "metadata": {},
   "source": [
    "Proteína codificada e o seu significado biológico"
   ]
  },
  {
   "cell_type": "code",
   "execution_count": 37,
   "metadata": {},
   "outputs": [
    {
     "name": "stdout",
     "output_type": "stream",
     "text": [
      "['hematopoietically-expressed homeobox protein HHEX']\n"
     ]
    }
   ],
   "source": [
    "from Bio.SeqFeature import SeqFeature, FeatureLocation\n",
    "for feat in record.features:\n",
    "    if feat.type == 'CDS':\n",
    "        print(feat.qualifiers['product'])"
   ]
  },
  {
   "cell_type": "code",
   "execution_count": 38,
   "metadata": {},
   "outputs": [
    {
     "name": "stdout",
     "output_type": "stream",
     "text": [
      "['hematopoietically expressed homeobox']\n"
     ]
    }
   ],
   "source": [
    "for feat in record.features:\n",
    "    if feat.type == 'gene':\n",
    "        print(feat.qualifiers[\"note\"])"
   ]
  },
  {
   "cell_type": "code",
   "execution_count": 39,
   "metadata": {},
   "outputs": [
    {
     "name": "stdout",
     "output_type": "stream",
     "text": [
      "['MQYPHPGPAAGAVGVPLYAPTPLLQPAHPTPFYIEDILGRGPAAPTPAPTLPSPNSSFTSLVSPYRTPVYEPTPIHPAFSHHSAAALAAAYGPGGFGGPLYPFPRTVNDYTHALLRHDPLGKPLLWSPFLQRPLHKRKGGQVRFSNDQTIELEKKFETQKYLSPPERKRLAKMLQLSERQVKTWFQNRRAKWRRLKQENPQSNKKEELESLDSSCDQRQDLPSEQNKGASLDSSQCSPSPASQEDLESEISEDSDQEVDIEGDKSYFNAG']\n"
     ]
    }
   ],
   "source": [
    "for feat in record.features:\n",
    "    if feat.type == \"CDS\":\n",
    "        print(feat.qualifiers['translation'])"
   ]
  },
  {
   "cell_type": "code",
   "execution_count": 40,
   "metadata": {},
   "outputs": [
    {
     "name": "stdout",
     "output_type": "stream",
     "text": [
      "Foi convertido 1 registo para FASTA.\n"
     ]
    }
   ],
   "source": [
    "from Bio import SeqIO\n",
    "records = SeqIO.parse(\"mRNA_seq_HHEX.gb\",\"genbank\")\n",
    "count = SeqIO.write(records, \"HHEX.fasta\",\"fasta\")\n",
    "print(f'Foi convertido {count} registo para FASTA.')"
   ]
  }
 ],
 "metadata": {
  "kernelspec": {
   "display_name": "Python 3",
   "language": "python",
   "name": "python3"
  },
  "language_info": {
   "codemirror_mode": {
    "name": "ipython",
    "version": 3
   },
   "file_extension": ".py",
   "mimetype": "text/x-python",
   "name": "python",
   "nbconvert_exporter": "python",
   "pygments_lexer": "ipython3",
   "version": "3.10.5"
  },
  "orig_nbformat": 4,
  "vscode": {
   "interpreter": {
    "hash": "fb4569285eef3a3450cb62085a5b1e0da4bce0af555edc33dcf29baf3acc1368"
   }
  }
 },
 "nbformat": 4,
 "nbformat_minor": 2
}
