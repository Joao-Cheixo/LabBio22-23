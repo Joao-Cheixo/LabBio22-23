{
 "cells": [
  {
   "cell_type": "markdown",
   "id": "2a41de01",
   "metadata": {},
   "source": [
    "## Análise da literatura"
   ]
  },
  {
   "cell_type": "code",
   "execution_count": null,
   "id": "07b3c638",
   "metadata": {},
   "outputs": [],
   "source": [
    "from Bio import Entrez"
   ]
  },
  {
   "cell_type": "code",
   "execution_count": null,
   "id": "c4a8c83d",
   "metadata": {},
   "outputs": [],
   "source": [
    "Entrez.email = \"pg49837@uminho.pt\"\n",
    "handle = Entrez.einfo()"
   ]
  },
  {
   "cell_type": "code",
   "execution_count": null,
   "id": "a330619f",
   "metadata": {},
   "outputs": [],
   "source": [
    "result = Entrez.read(handle)\n",
    "#handle.close()"
   ]
  },
  {
   "cell_type": "code",
   "execution_count": null,
   "id": "4813f2e1",
   "metadata": {},
   "outputs": [],
   "source": [
    "result[\"DbList\"]"
   ]
  },
  {
   "cell_type": "code",
   "execution_count": null,
   "id": "4d4cf2b3",
   "metadata": {},
   "outputs": [],
   "source": [
    "handle = Entrez.einfo(db=\"pubmed\")\n",
    "record = Entrez.read(handle)\n",
    "record[\"DbInfo\"][\"Description\"]"
   ]
  },
  {
   "cell_type": "code",
   "execution_count": null,
   "id": "96e40866",
   "metadata": {},
   "outputs": [],
   "source": [
    "for field in record[\"DbInfo\"][\"FieldList\"]:\n",
    "    print(\"%(Name)s, %(FullName)s, %(Description)s\" %field)"
   ]
  },
  {
   "cell_type": "code",
   "execution_count": null,
   "id": "f0673160",
   "metadata": {},
   "outputs": [],
   "source": [
    "handle = Entrez.esearch(db = \"pubmed\", term = \"MTNR1B[title]\", retmax =\"40\")\n",
    "record = Entrez.read(handle)"
   ]
  },
  {
   "cell_type": "code",
   "execution_count": null,
   "id": "7fcb2793",
   "metadata": {},
   "outputs": [],
   "source": [
    "id_List = record[\"IdList\"]"
   ]
  },
  {
   "cell_type": "code",
   "execution_count": null,
   "id": "789ac0ae",
   "metadata": {},
   "outputs": [],
   "source": [
    "record[\"Count\"]"
   ]
  },
  {
   "cell_type": "code",
   "execution_count": null,
   "id": "fb8cd5e2",
   "metadata": {},
   "outputs": [],
   "source": [
    "handle = Entrez.esearch(db=\"nucleotide\", term = \"Homo sapiens[Orgn] AND MTNR1B[Gene]\", idtype='acc')"
   ]
  },
  {
   "cell_type": "code",
   "execution_count": null,
   "id": "5a151c01",
   "metadata": {},
   "outputs": [],
   "source": [
    "record = Entrez.read(handle)"
   ]
  },
  {
   "cell_type": "code",
   "execution_count": null,
   "id": "74ed500b",
   "metadata": {},
   "outputs": [],
   "source": [
    "record[\"IdList\"]\n",
    "#record[\"IdList\"][2] refere-se ao genoma humano"
   ]
  },
  {
   "cell_type": "code",
   "execution_count": null,
   "id": "0f9d58dc",
   "metadata": {},
   "outputs": [],
   "source": [
    "from Bio import Medline\n",
    "handle = Entrez.efetch(db = \"pubmed\", id= id_List, rettype = \"medline\", retmode = \"text\")\n",
    "records = Medline.parse(handle)\n",
    "print()\n",
    "\n",
    "for record in records :\n",
    "    print(\"Titulo:\", record.get(\"TI\", \"Vazio\"))                                     \n",
    "    print()\n",
    "    print(\"Abstract:\", record.get(\"AB\", \"Vazio\"))\n",
    "    print(\"Autores:\", record.get(\"AU\", \"Vazio\"))\n",
    "    print(\"Fonte:\", record.get(\"SO\", \"Vazio\"))\n",
    "    print(\"=\"*140)\n",
    "    print()"
   ]
  },
  {
   "cell_type": "code",
   "execution_count": null,
   "id": "bf25cbf8",
   "metadata": {},
   "outputs": [],
   "source": [
    "handle = Entrez.esearch(db=\"nucleotide\", term = \"Homo sapiens[Orgn] AND MTNR1B[Gene]\", idtype='acc')"
   ]
  },
  {
   "cell_type": "code",
   "execution_count": null,
   "id": "f8f1bba9",
   "metadata": {},
   "outputs": [],
   "source": [
    "record = Entrez.read(handle)"
   ]
  },
  {
   "cell_type": "code",
   "execution_count": null,
   "id": "45f0c402",
   "metadata": {},
   "outputs": [],
   "source": [
    "record[\"IdList\"]"
   ]
  },
  {
   "cell_type": "markdown",
   "id": "d04f9a91",
   "metadata": {},
   "source": [
    "## Análise da sequência e das features presentes no NCBI"
   ]
  },
  {
   "cell_type": "markdown",
   "id": "989f7c6b",
   "metadata": {},
   "source": [
    "a) Aceder ao NCBI e guardar os ficheiros correspondentes aos genes escolhidos, podendo explorar possíveis variantes"
   ]
  },
  {
   "cell_type": "code",
   "execution_count": null,
   "id": "c36fc7fe",
   "metadata": {},
   "outputs": [],
   "source": [
    "from Bio import Seq\n",
    "from Bio import SeqIO"
   ]
  },
  {
   "cell_type": "code",
   "execution_count": null,
   "id": "2255143c",
   "metadata": {},
   "outputs": [],
   "source": [
    "record = SeqIO.read(\"MTNR1B.gb\", \"genbank\")\n",
    "record"
   ]
  },
  {
   "cell_type": "code",
   "execution_count": null,
   "id": "8ddbbede",
   "metadata": {},
   "outputs": [],
   "source": [
    "record.seq"
   ]
  },
  {
   "cell_type": "code",
   "execution_count": null,
   "id": "1066a63b",
   "metadata": {},
   "outputs": [],
   "source": [
    "print(record.id)\n",
    "print(record.name)\n",
    "print(record.description)\n",
    "print(record.dbxrefs)\n",
    "print(len(record.annotations) )\n",
    "print(record.annotations[\"source\"] )\n",
    "print(len(record.features))"
   ]
  },
  {
   "cell_type": "code",
   "execution_count": null,
   "id": "65f85d4a",
   "metadata": {},
   "outputs": [],
   "source": [
    "len(record)"
   ]
  },
  {
   "cell_type": "markdown",
   "id": "40f46323",
   "metadata": {},
   "source": [
    "b) Verificar as anotações dos genes de interesse"
   ]
  },
  {
   "cell_type": "code",
   "execution_count": null,
   "id": "ca2e8248",
   "metadata": {},
   "outputs": [],
   "source": [
    "record.annotations"
   ]
  },
  {
   "cell_type": "markdown",
   "id": "052d1387",
   "metadata": {},
   "source": [
    "c) Verificar e analisar a informação complementar fornecida pela lista de features e seus \n",
    "qualifiers"
   ]
  },
  {
   "cell_type": "code",
   "execution_count": null,
   "id": "245cf188",
   "metadata": {
    "scrolled": false
   },
   "outputs": [],
   "source": [
    "# print(record.features)\n",
    "for feat in record.features:\n",
    "    print(\"-->\" , feat)\n",
    "print(f\"Número de features: {len(record.features)}\")"
   ]
  },
  {
   "cell_type": "markdown",
   "id": "403cf127",
   "metadata": {},
   "source": [
    "i) Localização e tipo"
   ]
  },
  {
   "cell_type": "code",
   "execution_count": null,
   "id": "95c3ae3d",
   "metadata": {},
   "outputs": [],
   "source": [
    "from Bio.SeqFeature import SeqFeature, FeatureLocation\n",
    "for feat in record.features:\n",
    "    print(feat.type)\n",
    "    print(feat.location)"
   ]
  },
  {
   "cell_type": "markdown",
   "id": "b0b58021",
   "metadata": {},
   "source": [
    "ii ) Regiões codificantes"
   ]
  },
  {
   "cell_type": "code",
   "execution_count": null,
   "id": "b9f98382",
   "metadata": {},
   "outputs": [],
   "source": [
    "featcds = [ ]\n",
    "for i in range(len(record.features)):\n",
    "    if record.features[i].type == \"CDS\":\n",
    "        featcds.append(i)\n",
    "for k in featcds:\n",
    "    print (record.features[k].location)\n",
    "for k in featcds:\n",
    "    print (record.features[k].extract(record.seq))"
   ]
  },
  {
   "cell_type": "code",
   "execution_count": null,
   "id": "a6202ad7",
   "metadata": {},
   "outputs": [],
   "source": [
    "featcds"
   ]
  },
  {
   "cell_type": "markdown",
   "id": "1439caa6",
   "metadata": {},
   "source": [
    "iii ) Proteína codificada e seu significado biológico (anotações do gene)"
   ]
  },
  {
   "cell_type": "code",
   "execution_count": null,
   "id": "0ce1f056",
   "metadata": {},
   "outputs": [],
   "source": [
    "from Bio.SeqFeature import SeqFeature, FeatureLocation\n",
    "for feat in record.features:\n",
    "    if feat.type == 'CDS':\n",
    "        print(feat.qualifiers['product'])"
   ]
  },
  {
   "cell_type": "code",
   "execution_count": null,
   "id": "17516d14",
   "metadata": {},
   "outputs": [],
   "source": [
    "for feat in record.features:\n",
    "    if feat.type == 'gene':\n",
    "        print(feat.qualifiers[\"note\"])"
   ]
  },
  {
   "cell_type": "code",
   "execution_count": null,
   "id": "0744de52",
   "metadata": {},
   "outputs": [],
   "source": [
    "for feat in record.features:\n",
    "    if feat.type == \"CDS\":\n",
    "        print(feat)"
   ]
  },
  {
   "cell_type": "markdown",
   "id": "cfefff12",
   "metadata": {},
   "source": [
    "iv) Converter a FASTA"
   ]
  },
  {
   "cell_type": "code",
   "execution_count": null,
   "id": "44d4e196",
   "metadata": {},
   "outputs": [],
   "source": [
    "from Bio import SeqIO\n",
    "records = SeqIO.parse(\"MTNR1B.gb\",\"genbank\")\n",
    "count = SeqIO.write(records, \"MTNR1B.fasta\",\"fasta\")\n",
    "print(f'Foi convertido {count} registo.')"
   ]
  },
  {
   "cell_type": "markdown",
   "id": "de26222e",
   "metadata": {},
   "source": [
    "## Análise de homologias por BLAST"
   ]
  },
  {
   "cell_type": "markdown",
   "id": "9e5724a6",
   "metadata": {},
   "source": [
    "##### Nesta parte também devemos ter que ir à base de dados NCBI para confirmar os resultados (rever aula 5)"
   ]
  },
  {
   "cell_type": "markdown",
   "id": "513fded5",
   "metadata": {},
   "source": [
    "As ferramentas de procura de homologias serão de especial relevo, nomeadamente para a \n",
    "procura de genes homólogos, bem como para a caracterização funcional dos genes \n",
    "selecionados. No primeiro caso, deverá configurar adequadamente as suas pesquisas ao nível \n",
    "da base de dados e desenvolver código para automatizar a decisão de existência de homologias \n",
    "significativas. No segundo caso, poderá analisar a lista de sequências homólogas e identificar \n",
    "padrões consistentes ao nível da função desempenhada por estas"
   ]
  },
  {
   "cell_type": "code",
   "execution_count": null,
   "id": "27babb91",
   "metadata": {},
   "outputs": [],
   "source": [
    "from Bio.Blast import NCBIXML \n",
    "from Bio.Blast import NCBIWWW \n",
    "from Bio import SeqIO"
   ]
  },
  {
   "cell_type": "code",
   "execution_count": null,
   "id": "5367371b",
   "metadata": {},
   "outputs": [],
   "source": [
    "record = SeqIO.read(open(\"MTNR1B.fasta\"), format= \"fasta\")\n",
    "print(len(record.seq))"
   ]
  },
  {
   "cell_type": "code",
   "execution_count": null,
   "id": "fe8dcfd3",
   "metadata": {},
   "outputs": [],
   "source": [
    "result_handle = NCBIWWW.qblast(\"blastn\",\"nt\", record.seq)"
   ]
  },
  {
   "cell_type": "code",
   "execution_count": null,
   "id": "996ecd71",
   "metadata": {},
   "outputs": [],
   "source": [
    "save_file = open(\"MTNR1B_b.xml\",\"w\")\n",
    "save_file.write(result_handle.read())\n",
    "save_file.close()\n",
    "result_handle.close()"
   ]
  },
  {
   "cell_type": "code",
   "execution_count": null,
   "id": "ea1cf1f3",
   "metadata": {},
   "outputs": [],
   "source": [
    "result_handle = open(\"MTNR1B_b.xml\")\n",
    "blast_record = NCBIXML.parse(result_handle)\n",
    "for br in blast_record:\n",
    "    print(f\"Database: {br.database}\")\n",
    "    print(f\"Gap penalty:{br.gap_penalties}\")"
   ]
  },
  {
   "cell_type": "markdown",
   "id": "d31e483e",
   "metadata": {},
   "source": [
    "Número de alinhamentos do registo\n",
    "\n",
    "Acession number, ID do hit, definicao\n",
    "\n",
    "nºs de HSP (high scoring pair) do alinhamento, e-value, score, tamanho do alinhamento, numero de caracteres iguais"
   ]
  },
  {
   "cell_type": "code",
   "execution_count": null,
   "id": "860f2d2f",
   "metadata": {},
   "outputs": [],
   "source": [
    "print(len(br.alignments))"
   ]
  },
  {
   "cell_type": "code",
   "execution_count": null,
   "id": "20f1e206",
   "metadata": {
    "scrolled": false
   },
   "outputs": [],
   "source": [
    "for br_x in br.alignments:\n",
    "    print(f\"Acession number: {br_x.accession}\")\n",
    "    print(f\"ID do hit: {br_x.hit_id}\")\n",
    "    print(f\"Definição: {br_x.hit_def}\")\n",
    "    print(f\"HSP: {br_x.hsps}\")\n",
    "    break\n",
    "    #???"
   ]
  },
  {
   "cell_type": "code",
   "execution_count": null,
   "id": "c14cbedb",
   "metadata": {
    "scrolled": true
   },
   "outputs": [],
   "source": [
    "for alignment in br.alignments:\n",
    "    for hsp in alignment.hsps:\n",
    "        print(\"        ***ALINHAMENTO***\")\n",
    "        print(f\"E-value: {hsp.expect}\")\n",
    "        print(f\"Score: {hsp.score}\")\n",
    "        print(f\"Tamanho: {hsp.align_length}\")\n",
    "        print(f\"Caracteres iguais: {len(hsp.match)}\")\n",
    "        print(\"Query \" + hsp.query[100:200] + \"...\")\n",
    "        print(\"Match \" + hsp.match[100:200] + \"...\")\n",
    "        print(\"Sbjct \" + hsp.sbjct[100:200] + \"...\")\n",
    "        print()"
   ]
  },
  {
   "cell_type": "code",
   "execution_count": null,
   "id": "69040a7d",
   "metadata": {},
   "outputs": [],
   "source": [
    "from Bio import SearchIO"
   ]
  },
  {
   "cell_type": "code",
   "execution_count": null,
   "id": "fd1ca6a2",
   "metadata": {},
   "outputs": [],
   "source": [
    "blastq_result = SearchIO.read(\"MTNR1B_b.xml\", \"blast-xml\")\n",
    "print(blastq_result)"
   ]
  },
  {
   "cell_type": "code",
   "execution_count": null,
   "id": "aab99254",
   "metadata": {},
   "outputs": [],
   "source": [
    "#Primeiro hit, primeiro HSP\n",
    "blast_hsp = blastq_result[0][0]    \n",
    "print(blast_hsp)"
   ]
  },
  {
   "cell_type": "code",
   "execution_count": null,
   "id": "73d52dd8",
   "metadata": {},
   "outputs": [],
   "source": [
    "blast_hsp.query_range"
   ]
  },
  {
   "cell_type": "code",
   "execution_count": null,
   "id": "d3ae6bae",
   "metadata": {},
   "outputs": [],
   "source": [
    "blast_hsp.evalue"
   ]
  },
  {
   "cell_type": "code",
   "execution_count": null,
   "id": "30e250b1",
   "metadata": {},
   "outputs": [],
   "source": [
    "#Três primeiros hsp\n",
    "blast_slice = blastq_result[:3]\n",
    "print(blast_slice)"
   ]
  },
  {
   "cell_type": "markdown",
   "id": "a0f42508",
   "metadata": {},
   "source": [
    "## Ferramentas de análise das propriedades da proteína"
   ]
  },
  {
   "cell_type": "markdown",
   "id": "6d3d6a7a",
   "metadata": {},
   "source": [
    "##### Ver bases de dados curadas, UniProt, SwissProt pelo Biopyhton, PDB, CDD"
   ]
  },
  {
   "cell_type": "markdown",
   "id": "4e94745b",
   "metadata": {},
   "source": [
    "A base de dados UniProt permite aceder a toda a informação de um conjunto alargado de\n",
    "proteínas. Os ficheiros da SwissProt podem ser tratados automaticamente pelo BioPython (ver \n",
    "exemplos na secção 10.1 do tutorial).\n",
    "Note que os registos UniProt podem ter diferentes graus de revisão por parte dos curadores da \n",
    "base de dados, sendo nos casos em que o registo tenha sido manualmente curado uma fonte \n",
    "importante de informação."
   ]
  },
  {
   "cell_type": "code",
   "execution_count": null,
   "id": "24ba4434",
   "metadata": {},
   "outputs": [],
   "source": [
    "from Bio import ExPASy\n",
    "from Bio import SeqIO"
   ]
  },
  {
   "cell_type": "code",
   "execution_count": null,
   "id": "1133420a",
   "metadata": {},
   "outputs": [],
   "source": [
    "#Transcrição\n",
    "\n",
    "mtnr1b_mrna = record.seq.transcribe()\n",
    "mtnr1b_mrna"
   ]
  },
  {
   "cell_type": "code",
   "execution_count": null,
   "id": "01a13c94",
   "metadata": {},
   "outputs": [],
   "source": [
    "#Tradução\n",
    "mtnr1b_prot = mtnr1b_mrna.translate()\n",
    "mtnr1b_prot"
   ]
  },
  {
   "cell_type": "code",
   "execution_count": null,
   "id": "d5375c88",
   "metadata": {},
   "outputs": [],
   "source": [
    "from collections import Counter\n",
    "common_amino = Counter(mtnr1b_prot)\n",
    "common_amino"
   ]
  },
  {
   "cell_type": "code",
   "execution_count": null,
   "id": "f214481e",
   "metadata": {},
   "outputs": [],
   "source": [
    "#Codões STOP\n",
    "protein = mtnr1b_prot.split('*')\n",
    "protein"
   ]
  },
  {
   "cell_type": "code",
   "execution_count": null,
   "id": "78943845",
   "metadata": {},
   "outputs": [],
   "source": [
    "handle = ExPASy.get_sprot_raw(\"P49286\")\n",
    "seq_record = SeqIO.read(handle, \"swiss\")\n",
    "id = seq_record.id\n",
    "seq = seq_record.seq\n",
    "tam = len(seq_record.seq)\n",
    "name = seq_record.name\n",
    "desc = seq_record.description\n",
    "com = seq_record.annotations[\"comment\"]\n",
    "taxon = seq_record.annotations[\"taxonomy\"]\n",
    "organism = seq_record.annotations[\"organism\"]\n",
    "key = seq_record.annotations[\"keywords\"]\n",
    "print(f\"ID {id} \\n Sequência: {seq} \\n Tamanho da sequência: {tam} bp\")\n",
    "print(f\"Nome: {name} \\n Descrição: {desc} \\n Taxonomia: {taxon} \\n Organismo: {organism} \\n Keywords: {key}\")"
   ]
  },
  {
   "cell_type": "code",
   "execution_count": null,
   "id": "21447ddf",
   "metadata": {},
   "outputs": [],
   "source": [
    "seq_prot = seq_record.seq\n",
    "result_handle = NCBIWWW.qblast('blastp','swissprot', seq_prot)\n",
    "save_file = open(\"prot_blast_swiss.xml\",\"w\")\n",
    "save_file.write(result_handle.read())\n",
    "save_file.close()\n",
    "\n",
    "blast_record = NCBIXML.parse(result_handle)"
   ]
  },
  {
   "cell_type": "code",
   "execution_count": null,
   "id": "6bfc0204",
   "metadata": {},
   "outputs": [],
   "source": [
    "#Protein BLAST swissprot\n",
    "from Bio.Blast import NCBIWWW\n",
    "result_handle = NCBIWWW.qblast(\"blastp\", \"swissprot\", seq_record.seq)"
   ]
  },
  {
   "cell_type": "code",
   "execution_count": null,
   "id": "368a4533",
   "metadata": {},
   "outputs": [],
   "source": [
    "from Bio import SearchIO\n",
    "blast_records = SearchIO.read(result_handle, \"blast-xml\")"
   ]
  },
  {
   "cell_type": "code",
   "execution_count": null,
   "id": "08776c54",
   "metadata": {},
   "outputs": [],
   "source": [
    "print(blast_records[:])"
   ]
  },
  {
   "cell_type": "code",
   "execution_count": null,
   "id": "656ee440",
   "metadata": {},
   "outputs": [],
   "source": [
    "for br in blast_records:\n",
    "    print(f'Sequence ID: {br.id}')\n",
    "    print(f'Description: {br.description}')\n",
    "    print(f'E-value: {br[0].evalue}')\n",
    "    print(f'Bit Score: {br[0].bitscore}')\n",
    "    print(f'Alignment:\\n{br[0].aln}')\n",
    "    print()"
   ]
  },
  {
   "cell_type": "code",
   "execution_count": null,
   "id": "b2c9215e",
   "metadata": {},
   "outputs": [],
   "source": [
    "print(blast_records[:])"
   ]
  },
  {
   "cell_type": "code",
   "execution_count": null,
   "id": "e3d16629",
   "metadata": {},
   "outputs": [],
   "source": [
    "protein_seq = SeqIO.read(\"protein_seq.fasta\",\"fasta\")"
   ]
  },
  {
   "cell_type": "code",
   "execution_count": null,
   "id": "a6e59e31",
   "metadata": {},
   "outputs": [],
   "source": [
    "\n",
    "protein_seq.seq"
   ]
  },
  {
   "cell_type": "markdown",
   "id": "22ed5ac1",
   "metadata": {},
   "source": [
    "Por outro lado, a base de dados PDB contém informação sobre a estrutura das proteínas. Poderá \n",
    "efetuar pesquisas nesta base de dados no sentido de identificar proteínas de interesse que \n",
    "estejam presentes nesta base de dados. As proteínas de interesse podem ser analisadas \n",
    "identificando zonas de possível ligação de compostos que possam regular o seu funcionamento.\n",
    "Complementarmente, foram estudadas ferramentas que permitem inferir características da \n",
    "proteína com base na sua sequência, como sejam a sua localização celular, a existência de \n",
    "domínios transmembranares ou alterações pós-tradução relevantes. Todas estas ferramentas \n",
    "permitem dar pistas sobre as proteínas de interesse."
   ]
  },
  {
   "attachments": {},
   "cell_type": "markdown",
   "id": "ee620e9f",
   "metadata": {},
   "source": [
    "Foram ainda abordadas bases de dados de domínios de proteínas, das quais se destaca a NCBI \n",
    "CDD (conserved domain database) do NCBI. Esta base de dados, ou outras similares, pode ser \n",
    "usada para confirmar a anotação de proteínas de interesse, sendo de particular utilidade quando \n",
    "subsistem dúvidas sobre a anotação, quer esta provenha da anotação original, quer provenha \n",
    "de resultados de homologia (e.g. BLAST). Por outro lado, permite a análise dos domínios \n",
    "presentes na proteína, de forma a poder caracterizar potenciais pontos de ligação de compostos \n",
    "e outras proteínas que possam inibir o funcionamento da proteína"
   ]
  },
  {
   "cell_type": "code",
   "execution_count": null,
   "id": "9a89f2a2",
   "metadata": {},
   "outputs": [],
   "source": [
    "from Bio.PDB.PDBParser import PDBParser"
   ]
  },
  {
   "cell_type": "code",
   "execution_count": null,
   "id": "aef440bc",
   "metadata": {},
   "outputs": [],
   "source": [
    "#Protein BLAST cdd\n",
    "from Bio.Blast import NCBIWWW\n",
    "result_handle = NCBIWWW.qblast(\"blastp\", \"CDD\", seq_record.seq)"
   ]
  },
  {
   "cell_type": "code",
   "execution_count": null,
   "id": "63a35503",
   "metadata": {},
   "outputs": [],
   "source": [
    "blast_records = SearchIO.read(result_handle, \"blast-xml\")"
   ]
  },
  {
   "cell_type": "code",
   "execution_count": null,
   "id": "077ed9c7",
   "metadata": {},
   "outputs": [],
   "source": [
    "print(blast_records[:])"
   ]
  },
  {
   "cell_type": "code",
   "execution_count": null,
   "id": "eae6cee2",
   "metadata": {},
   "outputs": [],
   "source": [
    "for br in blast_records:\n",
    "    print(f'Sequence ID: {br.id}')\n",
    "    print(f'Description: {br.description}')\n",
    "    print(f'E-value: {br[0].evalue}')\n",
    "    print(f'Bit Score: {br[0].bitscore}')\n",
    "    print(f'Alignment:\\n{br[0].aln}')\n",
    "    print()"
   ]
  },
  {
   "cell_type": "code",
   "execution_count": null,
   "id": "f6a2e723",
   "metadata": {},
   "outputs": [],
   "source": [
    "prots = []\n",
    "for p in protein:\n",
    "    if len(p) > 20:\n",
    "        prots.append(p)\n",
    "prots"
   ]
  },
  {
   "cell_type": "code",
   "execution_count": null,
   "id": "c39cb3c1",
   "metadata": {},
   "outputs": [],
   "source": [
    "with open (\"protein_seq.fasta\",\"w\") as file:\n",
    "    file.write(f\">Protein: \\n {prots[:]}\")"
   ]
  },
  {
   "cell_type": "code",
   "execution_count": null,
   "id": "97a327d1",
   "metadata": {},
   "outputs": [],
   "source": [
    "from Bio import SeqIO\n",
    "protein_seq = SeqIO.read(\"protein_seq.fasta\",\"fasta\")"
   ]
  },
  {
   "cell_type": "code",
   "execution_count": null,
   "id": "47262811",
   "metadata": {},
   "outputs": [],
   "source": [
    "protein_seq.seq"
   ]
  },
  {
   "cell_type": "code",
   "execution_count": null,
   "id": "fd1646fc",
   "metadata": {},
   "outputs": [],
   "source": [
    "#Protein BLAST\n",
    "from Bio.Blast import NCBIWWW\n",
    "result_handle = NCBIWWW.qblast(\"blastp\", \"pdb\", protein_seq)"
   ]
  },
  {
   "cell_type": "code",
   "execution_count": null,
   "id": "8c6405b4",
   "metadata": {},
   "outputs": [],
   "source": [
    "from Bio import SearchIO\n",
    "blast_records = SearchIO.read(result_handle, \"blast-xml\")"
   ]
  },
  {
   "cell_type": "code",
   "execution_count": null,
   "id": "143e888b",
   "metadata": {},
   "outputs": [],
   "source": [
    "print(blast_records[:])"
   ]
  },
  {
   "cell_type": "markdown",
   "id": "87ba434d",
   "metadata": {},
   "source": [
    "## Alinhamentos múltiplos e filogenia"
   ]
  },
  {
   "cell_type": "markdown",
   "id": "806f1059",
   "metadata": {},
   "source": [
    "selecionar-se a sequência de interesse do organismo e um conjunto de\n",
    "sequências homólogas (e.g. provenientes de um processo de BLAST) de organismos\n",
    "selecionados, realizar o seu alinhamento múltiplo e complementarmente determinar a árvore\n",
    "filogenética correspondente"
   ]
  },
  {
   "cell_type": "code",
   "execution_count": null,
   "id": "7d3af374",
   "metadata": {},
   "outputs": [],
   "source": [
    "from Bio import Phylo\n",
    "from Bio import AlignIO\n",
    "from Bio.SeqRecord import SeqRecord\n",
    "from Bio.Align import MultipleSeqAlignment\n",
    "from Bio.Seq import Seq\n",
    "from Bio import SeqIO\n",
    "from Bio.Align import AlignInfo"
   ]
  },
  {
   "cell_type": "code",
   "execution_count": null,
   "id": "9e79fa71",
   "metadata": {},
   "outputs": [],
   "source": [
    "result_blast = open(\"MTNR1B_b.xml\")\n",
    "blast_records = NCBIXML.read(result_blast)\n",
    "for alignment in blast_records.alignments:\n",
    "    for hsp in alignment.hsps:\n",
    "        print(\">\", alignment.title, \"\\n\", hsp.query[0:45])\n",
    "        print()"
   ]
  },
  {
   "cell_type": "code",
   "execution_count": null,
   "id": "25ecd8b3",
   "metadata": {},
   "outputs": [],
   "source": [
    "#guardou se manualmente o alinhamento anterior no ficheiro mtnr1b_blast.txt\n",
    "alignments = AlignIO.parse(\"MTNR1B_BLAST.txt\",format = \"fasta\")\n",
    "for alignment in alignments:\n",
    "    print(alignment)"
   ]
  },
  {
   "cell_type": "code",
   "execution_count": null,
   "id": "1349d364",
   "metadata": {},
   "outputs": [],
   "source": [
    "AlignIO.write(alignment, \"align_results_mtnr1b\", \"fasta\")"
   ]
  },
  {
   "cell_type": "code",
   "execution_count": null,
   "id": "5538fe2f",
   "metadata": {},
   "outputs": [],
   "source": [
    "summary_align = AlignInfo.SummaryInfo(alignment)\n",
    "consensus = summary_align.dumb_consensus()\n",
    "consensus"
   ]
  },
  {
   "cell_type": "code",
   "execution_count": null,
   "id": "54669f6a",
   "metadata": {},
   "outputs": [],
   "source": [
    "alignment = AlignIO.read(open(\"align_results_mtnr1b.sth\"),\"stockholm\")\n",
    "print(alignment)"
   ]
  },
  {
   "cell_type": "code",
   "execution_count": null,
   "id": "593fce7d",
   "metadata": {},
   "outputs": [],
   "source": [
    "from Bio.Phylo.TreeConstruction import DistanceCalculator\n",
    "from Bio import AlignIO\n",
    "from Bio.Phylo.TreeConstruction import DistanceTreeConstructor\n",
    "calculator = DistanceCalculator('blosum62')\n",
    "dm = calculator.get_distance(alignment)\n",
    "print(dm)"
   ]
  },
  {
   "cell_type": "code",
   "execution_count": null,
   "id": "86460dd8",
   "metadata": {},
   "outputs": [],
   "source": [
    "constructor = DistanceTreeConstructor()\n",
    "upgmatree = constructor.upgma(dm)\n",
    "print(upgmatree)"
   ]
  },
  {
   "cell_type": "code",
   "execution_count": null,
   "id": "df5ae2a2",
   "metadata": {},
   "outputs": [],
   "source": [
    "seq1 = \"MHQAIFIYQIGYPLKSGYIQSIRSPEYDNW\"\n",
    "seq2 = \"MH--IFIYQIGYALKSGYIQSIRSPEY-NW\"\n",
    "\n",
    "seqr1 = SeqRecord(Seq(seq1),id=\"seq1\")\n",
    "seqr2 = SeqRecord(Seq(seq2),id=\"seq2\")\n",
    "alin = MultipleSeqAlignment([seqr1, seqr2])\n",
    "print (alin)\n"
   ]
  },
  {
   "cell_type": "code",
   "execution_count": null,
   "id": "8a964ba2",
   "metadata": {},
   "outputs": [],
   "source": [
    "align1 = MultipleSeqAlignment([SeqRecord(Seq(\"ACTGCTAGC\"), id=\"A\"), \n",
    "    SeqRecord(Seq(\"ACT-CTAGC\"), id=\"B\"), \n",
    "    SeqRecord(Seq(\"ACTGCTAGD\"), id=\"C\"), ]) \n",
    "align2 = MultipleSeqAlignment([ SeqRecord(Seq(\"TCAGC-AG\"), id=\"D\"), \n",
    "    SeqRecord(Seq(\"ACAGCTAG\"), id=\"E\"), \n",
    "    SeqRecord(Seq(\"TCAGCTAG\"), id=\"F\"), ])\n",
    "\n",
    "my_alignments = [align1, align2]\n",
    "\n",
    "AlignIO.write(my_alignments, \"my_example.phy\", \"phylip\") \n",
    "AlignIO.write(my_alignments, \"my_exampl.sth\", \"stockholm\")\n",
    "AlignIO.write(my_alignments, \"my_examp.faa\", \"fasta\")"
   ]
  },
  {
   "cell_type": "code",
   "execution_count": null,
   "id": "a7e4e612",
   "metadata": {},
   "outputs": [],
   "source": [
    "alignment = AlignIO.read(\"my_exampl.sth\", \"stockholm\")\n",
    "print (alignment)\n",
    " \n",
    "print (\"tamanho alinhamento %i\" % alignment.get_alignment_length() )\n",
    " \n",
    "for record in alignment:\n",
    "    print (\"%s - %s\" % (record.seq, record.id) )\n",
    "for record in alignment:\n",
    "    if record.dbxrefs: \n",
    "        print (record.id, record.dbxrefs)"
   ]
  },
  {
   "cell_type": "code",
   "execution_count": null,
   "id": "bc046cdc",
   "metadata": {},
   "outputs": [],
   "source": [
    "alignment = AlignIO.read(\"MTNR1B.faa\", \"fasta\")\n",
    "print (alignment )\n",
    "\n",
    "print (\"tam. alinhamento %i\" % alignment.get_alignment_length() )\n",
    " \n",
    "for record in alignment:\n",
    "    print (\"%s - %s\" % (record.seq, record.id) )"
   ]
  },
  {
   "cell_type": "markdown",
   "id": "af97e70d",
   "metadata": {},
   "source": [
    "Multiplos alinhamentos (formato phylip)"
   ]
  },
  {
   "cell_type": "code",
   "execution_count": null,
   "id": "eae46cdb",
   "metadata": {},
   "outputs": [],
   "source": [
    "alignments = AlignIO.parse(\"MTNR1B.phy\", \"phylip\") \n",
    "for alignment in alignments: \n",
    "    print (alignment)"
   ]
  },
  {
   "cell_type": "code",
   "execution_count": null,
   "id": "c15e0929",
   "metadata": {},
   "outputs": [],
   "source": [
    "lalignments = list(AlignIO.parse(\"MTNR1B.phy\", \"phylip\")) \n",
    "print (lalignments[-1])\n",
    "print (lalignments[0])"
   ]
  },
  {
   "attachments": {},
   "cell_type": "markdown",
   "id": "4d943faf",
   "metadata": {},
   "source": [
    "arvore filogeni"
   ]
  },
  {
   "cell_type": "code",
   "execution_count": null,
   "id": "bc3b6221",
   "metadata": {},
   "outputs": [],
   "source": [
    "tree = Phylo.read(\"example.dnd\", \"newick\")"
   ]
  },
  {
   "cell_type": "code",
   "execution_count": null,
   "id": "0a229e03",
   "metadata": {},
   "outputs": [],
   "source": [
    "Phylo.convert(\"int_node_labels.nwk\", \"newick\", \"tree.xml\", \"phyloxml\")"
   ]
  }
 ],
 "metadata": {
  "kernelspec": {
   "display_name": "Python 3.10.6 64-bit",
   "language": "python",
   "name": "python3"
  },
  "language_info": {
   "codemirror_mode": {
    "name": "ipython",
    "version": 3
   },
   "file_extension": ".py",
   "mimetype": "text/x-python",
   "name": "python",
   "nbconvert_exporter": "python",
   "pygments_lexer": "ipython3",
   "version": "3.10.6"
  },
  "vscode": {
   "interpreter": {
    "hash": "916dbcbb3f70747c44a77c7bcd40155683ae19c65e1c03b4aa3499c5328201f1"
   }
  }
 },
 "nbformat": 4,
 "nbformat_minor": 5
}
