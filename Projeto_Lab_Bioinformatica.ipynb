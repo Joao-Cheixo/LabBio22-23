{
 "cells": [
  {
   "cell_type": "markdown",
   "id": "2a41de01",
   "metadata": {},
   "source": [
    "## Análise da literatura"
   ]
  },
  {
   "cell_type": "code",
   "execution_count": 1,
   "id": "07b3c638",
   "metadata": {},
   "outputs": [],
   "source": [
    "from Bio import Entrez"
   ]
  },
  {
   "cell_type": "code",
   "execution_count": 2,
   "id": "c4a8c83d",
   "metadata": {},
   "outputs": [],
   "source": [
    "Entrez.email = \"pg49837@uminho.pt\"\n",
    "handle = Entrez.einfo()"
   ]
  },
  {
   "cell_type": "code",
   "execution_count": 3,
   "id": "a330619f",
   "metadata": {},
   "outputs": [],
   "source": [
    "result = Entrez.read(handle)\n",
    "#handle.close()"
   ]
  },
  {
   "cell_type": "code",
   "execution_count": 4,
   "id": "4813f2e1",
   "metadata": {},
   "outputs": [
    {
     "data": {
      "text/plain": [
       "['pubmed', 'protein', 'nuccore', 'ipg', 'nucleotide', 'structure', 'genome', 'annotinfo', 'assembly', 'bioproject', 'biosample', 'blastdbinfo', 'books', 'cdd', 'clinvar', 'gap', 'gapplus', 'grasp', 'dbvar', 'gene', 'gds', 'geoprofiles', 'homologene', 'medgen', 'mesh', 'nlmcatalog', 'omim', 'orgtrack', 'pmc', 'popset', 'proteinclusters', 'pcassay', 'protfam', 'pccompound', 'pcsubstance', 'seqannot', 'snp', 'sra', 'taxonomy', 'biocollections', 'gtr']"
      ]
     },
     "execution_count": 4,
     "metadata": {},
     "output_type": "execute_result"
    }
   ],
   "source": [
    "result[\"DbList\"]"
   ]
  },
  {
   "cell_type": "code",
   "execution_count": 5,
   "id": "4d4cf2b3",
   "metadata": {},
   "outputs": [
    {
     "data": {
      "text/plain": [
       "'PubMed bibliographic record'"
      ]
     },
     "execution_count": 5,
     "metadata": {},
     "output_type": "execute_result"
    }
   ],
   "source": [
    "handle = Entrez.einfo(db=\"pubmed\")\n",
    "record = Entrez.read(handle)\n",
    "record[\"DbInfo\"][\"Description\"]"
   ]
  },
  {
   "cell_type": "code",
   "execution_count": 6,
   "id": "96e40866",
   "metadata": {},
   "outputs": [
    {
     "name": "stdout",
     "output_type": "stream",
     "text": [
      "ALL, All Fields, All terms from all searchable fields\n",
      "UID, UID, Unique number assigned to publication\n",
      "FILT, Filter, Limits the records\n",
      "TITL, Title, Words in title of publication\n",
      "WORD, Text Word, Free text associated with publication\n",
      "MESH, MeSH Terms, Medical Subject Headings assigned to publication\n",
      "MAJR, MeSH Major Topic, MeSH terms of major importance to publication\n",
      "AUTH, Author, Author(s) of publication\n",
      "JOUR, Journal, Journal abbreviation of publication\n",
      "AFFL, Affiliation, Author's institutional affiliation and address\n",
      "ECNO, EC/RN Number, EC number for enzyme or CAS registry number\n",
      "SUBS, Supplementary Concept, CAS chemical name or MEDLINE Substance Name\n",
      "PDAT, Date - Publication, Date of publication\n",
      "EDAT, Date - Entrez, Date publication first accessible through Entrez\n",
      "VOL, Volume, Volume number of publication\n",
      "PAGE, Pagination, Page number(s) of publication\n",
      "PTYP, Publication Type, Type of publication (e.g., review)\n",
      "LANG, Language, Language of publication\n",
      "ISS, Issue, Issue number of publication\n",
      "SUBH, MeSH Subheading, Additional specificity for MeSH term\n",
      "SI, Secondary Source ID, Cross-reference from publication to other databases\n",
      "MHDA, Date - MeSH, Date publication was indexed with MeSH terms\n",
      "TIAB, Title/Abstract, Free text associated with Abstract/Title\n",
      "OTRM, Other Term, Other terms associated with publication\n",
      "INVR, Investigator, Investigator\n",
      "COLN, Author - Corporate, Corporate Author of publication\n",
      "CNTY, Place of Publication, Country of publication\n",
      "PAPX, Pharmacological Action, MeSH pharmacological action pre-explosions\n",
      "GRNT, Grant Number, NIH Grant Numbers\n",
      "MDAT, Date - Modification, Date of last modification\n",
      "CDAT, Date - Completion, Date of completion\n",
      "PID, Publisher ID, Publisher ID\n",
      "FAUT, Author - First, First Author of publication\n",
      "FULL, Author - Full, Full Author Name(s) of publication\n",
      "FINV, Investigator - Full, Full name of investigator\n",
      "TT, Transliterated Title, Words in transliterated title of publication\n",
      "LAUT, Author - Last, Last Author of publication\n",
      "PPDT, Print Publication Date, Date of print publication\n",
      "EPDT, Electronic Publication Date, Date of Electronic publication\n",
      "LID, Location ID, ELocation ID\n",
      "CRDT, Date - Create, Date publication first accessible through Entrez\n",
      "BOOK, Book, ID of the book that contains the document\n",
      "ED, Editor, Section's Editor\n",
      "ISBN, ISBN, ISBN\n",
      "PUBN, Publisher, Publisher's name\n",
      "AUCL, Author Cluster ID, Author Cluster ID\n",
      "EID, Extended PMID, Extended PMID\n",
      "DSO, DSO, Additional text from the summary\n",
      "AUID, Author - Identifier, Author Identifier\n",
      "PS, Subject - Personal Name, Personal Name as Subject\n",
      "COIS, Conflict of Interest Statements, Conflict of Interest Statements\n"
     ]
    }
   ],
   "source": [
    "for field in record[\"DbInfo\"][\"FieldList\"]:\n",
    "    print(\"%(Name)s, %(FullName)s, %(Description)s\" %field)"
   ]
  },
  {
   "cell_type": "code",
   "execution_count": 17,
   "id": "f0673160",
   "metadata": {},
   "outputs": [],
   "source": [
    "handle = Entrez.esearch(db = \"pubmed\", term = \"MTNR1B[title]\", retmax =\"40\")\n",
    "record = Entrez.read(handle)"
   ]
  },
  {
   "cell_type": "code",
   "execution_count": 18,
   "id": "7fcb2793",
   "metadata": {},
   "outputs": [
    {
     "data": {
      "text/plain": [
       "['35733780', '35467761', '35342351', '35064058', '35017578', '35015083', '34967052', '34669935', '34629798', '34118937', '34117605', '34020621', '33958070', '33525391', '33119394', '33095446', '32656703', '32616615', '32378356', '32373162', '32057567', '31884106', '31826236', '31787898', '31757795', '31623012', '31580701', '31563132', '31140197', '30991439', '30981681', '30834760', '30811895', '30477160', '30063936', '29871606', '29707428', '29691896', '29674279', '29590381']"
      ]
     },
     "execution_count": 18,
     "metadata": {},
     "output_type": "execute_result"
    }
   ],
   "source": [
    "record[\"IdList\"]"
   ]
  },
  {
   "cell_type": "code",
   "execution_count": 19,
   "id": "789ac0ae",
   "metadata": {},
   "outputs": [
    {
     "data": {
      "text/plain": [
       "'104'"
      ]
     },
     "execution_count": 19,
     "metadata": {},
     "output_type": "execute_result"
    }
   ],
   "source": [
    "record[\"Count\"]"
   ]
  },
  {
   "cell_type": "code",
   "execution_count": 20,
   "id": "fb8cd5e2",
   "metadata": {},
   "outputs": [],
   "source": [
    "handle = Entrez.esearch(db=\"nucleotide\", term = \"Homo sapiens[Orgn] AND MTNR1B[Gene]\", idtype='acc')"
   ]
  },
  {
   "cell_type": "code",
   "execution_count": 21,
   "id": "5a151c01",
   "metadata": {},
   "outputs": [],
   "source": [
    "record = Entrez.read(handle)"
   ]
  },
  {
   "cell_type": "code",
   "execution_count": 22,
   "id": "74ed500b",
   "metadata": {},
   "outputs": [
    {
     "data": {
      "text/plain": [
       "['NM_005959.5', 'NG_028160.1', 'NC_060935.1', 'NC_000011.10', 'XM_011542839.3', 'XM_017017777.2', 'AF467654.1', 'AY114100.1', 'CM000262.1', 'CH471065.1', 'BC069163.1', 'AY408030.1', 'U25341.1', 'AY521019.1']"
      ]
     },
     "execution_count": 22,
     "metadata": {},
     "output_type": "execute_result"
    }
   ],
   "source": [
    "record[\"IdList\"]\n",
    "#record[\"IdList\"][2] refere-se ao genoma humano"
   ]
  },
  {
   "cell_type": "markdown",
   "id": "d04f9a91",
   "metadata": {},
   "source": [
    "## Análise da sequência e das features presentes no NCBI"
   ]
  },
  {
   "cell_type": "markdown",
   "id": "989f7c6b",
   "metadata": {},
   "source": [
    "a) Aceder ao NCBI e guardar os ficheiros correspondentes aos genes escolhidos, podendo explorar possíveis variantes"
   ]
  },
  {
   "cell_type": "code",
   "execution_count": 13,
   "id": "c36fc7fe",
   "metadata": {},
   "outputs": [],
   "source": [
    "from Bio import Seq\n",
    "from Bio import SeqIO"
   ]
  },
  {
   "cell_type": "code",
   "execution_count": 25,
   "id": "2255143c",
   "metadata": {},
   "outputs": [
    {
     "data": {
      "text/plain": [
       "SeqRecord(seq=Seq('CGGCTCAGTACTGCGCGCGCCCTGCGGCTGTCCGGGGCCGCGCGGTGGCCAAAG...GAA'), id='NC_000011.10', name='NC_000011', description='Homo sapiens chromosome 11, GRCh38.p14 Primary Assembly', dbxrefs=['BioProject:PRJNA168', 'Assembly:GCF_000001405.40'])"
      ]
     },
     "execution_count": 25,
     "metadata": {},
     "output_type": "execute_result"
    }
   ],
   "source": [
    "record = SeqIO.read(\"MTNR1B.gb\", \"genbank\")\n",
    "record"
   ]
  },
  {
   "cell_type": "code",
   "execution_count": 26,
   "id": "8ddbbede",
   "metadata": {},
   "outputs": [
    {
     "data": {
      "text/plain": [
       "Seq('CGGCTCAGTACTGCGCGCGCCCTGCGGCTGTCCGGGGCCGCGCGGTGGCCAAAG...GAA')"
      ]
     },
     "execution_count": 26,
     "metadata": {},
     "output_type": "execute_result"
    }
   ],
   "source": [
    "record.seq"
   ]
  },
  {
   "cell_type": "code",
   "execution_count": 27,
   "id": "1066a63b",
   "metadata": {},
   "outputs": [
    {
     "name": "stdout",
     "output_type": "stream",
     "text": [
      "NC_000011.10\n",
      "NC_000011\n",
      "Homo sapiens chromosome 11, GRCh38.p14 Primary Assembly\n",
      "['BioProject:PRJNA168', 'Assembly:GCF_000001405.40']\n",
      "13\n",
      "Homo sapiens (human)\n",
      "16\n"
     ]
    }
   ],
   "source": [
    "print(record.id)\n",
    "print(record.name)\n",
    "print(record.description)\n",
    "print(record.dbxrefs)\n",
    "print(len(record.annotations) )\n",
    "print(record.annotations[\"source\"] )\n",
    "print(len(record.features))"
   ]
  },
  {
   "cell_type": "code",
   "execution_count": 28,
   "id": "65f85d4a",
   "metadata": {},
   "outputs": [
    {
     "data": {
      "text/plain": [
       "15310"
      ]
     },
     "execution_count": 28,
     "metadata": {},
     "output_type": "execute_result"
    }
   ],
   "source": [
    "len(record)"
   ]
  },
  {
   "cell_type": "markdown",
   "id": "40f46323",
   "metadata": {},
   "source": [
    "b) Verificar as anotações dos genes de interesse"
   ]
  },
  {
   "cell_type": "code",
   "execution_count": 29,
   "id": "ca2e8248",
   "metadata": {},
   "outputs": [
    {
     "data": {
      "text/plain": [
       "{'molecule_type': 'DNA',\n",
       " 'topology': 'linear',\n",
       " 'data_file_division': 'CON',\n",
       " 'date': '06-APR-2022',\n",
       " 'accessions': ['NC_000011', 'REGION:', '92969651..92984960'],\n",
       " 'sequence_version': 10,\n",
       " 'keywords': ['RefSeq'],\n",
       " 'source': 'Homo sapiens (human)',\n",
       " 'organism': 'Homo sapiens',\n",
       " 'taxonomy': ['Eukaryota',\n",
       "  'Metazoa',\n",
       "  'Chordata',\n",
       "  'Craniata',\n",
       "  'Vertebrata',\n",
       "  'Euteleostomi',\n",
       "  'Mammalia',\n",
       "  'Eutheria',\n",
       "  'Euarchontoglires',\n",
       "  'Primates',\n",
       "  'Haplorrhini',\n",
       "  'Catarrhini',\n",
       "  'Hominidae',\n",
       "  'Homo'],\n",
       " 'references': [Reference(title='Human chromosome 11 DNA sequence and analysis including novel gene identification', ...),\n",
       "  Reference(title='Finishing the euchromatic sequence of the human genome', ...),\n",
       "  Reference(title='Initial sequencing and analysis of the human genome', ...)],\n",
       " 'comment': 'REFSEQ INFORMATION: The reference sequence is identical to\\nCM000673.2.\\nOn Feb 3, 2014 this sequence version replaced NC_000011.9.\\nAssembly Name: GRCh38.p14 Primary Assembly\\nThe DNA sequence is composed of genomic sequence, primarily\\nfinished clones that were sequenced as part of the Human Genome\\nProject. PCR products and WGS shotgun sequence have been added\\nwhere necessary to fill gaps or correct errors. All such additions\\nare manually curated by GRC staff. For more information see:\\nhttps://genomereference.org.',\n",
       " 'structured_comment': OrderedDict([('Genome-Annotation-Data',\n",
       "               OrderedDict([('Annotation Provider', 'NCBI'),\n",
       "                            ('Annotation Status', 'Full annotation'),\n",
       "                            ('Annotation Name',\n",
       "                             'Homo sapiens Annotation Release 110'),\n",
       "                            ('Annotation Version', '110'),\n",
       "                            ('Annotation Pipeline',\n",
       "                             'NCBI eukaryotic genome annotation pipeline'),\n",
       "                            ('Annotation Software Version', '9.0'),\n",
       "                            ('Annotation Method',\n",
       "                             'Best-placed RefSeq; Gnomon'),\n",
       "                            ('Features Annotated',\n",
       "                             'Gene; mRNA; CDS; ncRNA')]))])}"
      ]
     },
     "execution_count": 29,
     "metadata": {},
     "output_type": "execute_result"
    }
   ],
   "source": [
    "record.annotations"
   ]
  },
  {
   "cell_type": "markdown",
   "id": "052d1387",
   "metadata": {},
   "source": [
    "c) Verificar e analisar a informação complementar fornecida pela lista de features e seus \n",
    "qualifiers"
   ]
  },
  {
   "cell_type": "code",
   "execution_count": 30,
   "id": "245cf188",
   "metadata": {
    "scrolled": false
   },
   "outputs": [
    {
     "name": "stdout",
     "output_type": "stream",
     "text": [
      "--> type: source\n",
      "location: [0:15310](+)\n",
      "qualifiers:\n",
      "    Key: chromosome, Value: ['11']\n",
      "    Key: db_xref, Value: ['taxon:9606']\n",
      "    Key: mol_type, Value: ['genomic DNA']\n",
      "    Key: organism, Value: ['Homo sapiens']\n",
      "\n",
      "--> type: gene\n",
      "location: [0:15310](+)\n",
      "qualifiers:\n",
      "    Key: db_xref, Value: ['GeneID:4544', 'HGNC:HGNC:7464', 'MIM:600804']\n",
      "    Key: gene, Value: ['MTNR1B']\n",
      "    Key: gene_synonym, Value: ['FGQTL2; MEL-1B-R; MT2']\n",
      "    Key: note, Value: ['melatonin receptor 1B; Derived by automated computational analysis using gene prediction method: BestRefSeq,Gnomon.']\n",
      "\n",
      "--> type: mRNA\n",
      "location: join{[0:298](+), [11796:13132](+)}\n",
      "qualifiers:\n",
      "    Key: db_xref, Value: ['Ensembl:ENST00000257068.3', 'GeneID:4544', 'HGNC:HGNC:7464', 'MIM:600804']\n",
      "    Key: gene, Value: ['MTNR1B']\n",
      "    Key: gene_synonym, Value: ['FGQTL2; MEL-1B-R; MT2']\n",
      "    Key: note, Value: ['Derived by automated computational analysis using gene prediction method: BestRefSeq.']\n",
      "    Key: product, Value: ['melatonin receptor 1B']\n",
      "    Key: transcript_id, Value: ['NM_005959.5']\n",
      "\n",
      "--> type: mRNA\n",
      "location: join{[75:298](+), [11796:13073](+), [15156:15310](+)}\n",
      "qualifiers:\n",
      "    Key: db_xref, Value: ['GeneID:4544', 'HGNC:HGNC:7464', 'MIM:600804']\n",
      "    Key: experiment, Value: ['COORDINATES: polyA evidence [ECO:0006239]']\n",
      "    Key: gene, Value: ['MTNR1B']\n",
      "    Key: gene_synonym, Value: ['FGQTL2; MEL-1B-R; MT2']\n",
      "    Key: product, Value: ['melatonin receptor 1B, transcript variant X2']\n",
      "    Key: transcript_id, Value: ['XM_011542839.3']\n",
      "\n",
      "--> type: CDS\n",
      "location: join{[75:298](+), [11796:12662](+)}\n",
      "qualifiers:\n",
      "    Key: codon_start, Value: ['1']\n",
      "    Key: db_xref, Value: ['CCDS:CCDS8290.1', 'Ensembl:ENSP00000257068.2', 'GeneID:4544', 'HGNC:HGNC:7464', 'MIM:600804']\n",
      "    Key: gene, Value: ['MTNR1B']\n",
      "    Key: gene_synonym, Value: ['FGQTL2; MEL-1B-R; MT2']\n",
      "    Key: note, Value: ['Derived by automated computational analysis using gene prediction method: BestRefSeq.']\n",
      "    Key: product, Value: ['melatonin receptor type 1B']\n",
      "    Key: protein_id, Value: ['NP_005950.1']\n",
      "    Key: translation, Value: ['MSENGSFANCCEAGGWAVRPGWSGAGSARPSRTPRPPWVAPALSAVLIVTTAVDVVGNLLVILSVLRNRKLRNAGNLFLVSLALADLVVAFYPYPLILVAIFYDGWALGEEHCKASAFVMGLSVIGSVFNITAIAINRYCYICHSMAYHRIYRRWHTPLHICLIWLLTVVALLPNFFVGSLEYDPRIYSCTFIQTASTQYTAAVVVIHFLLPIAVVSFCYLRIWVLVLQARRKAKPESRLCLKPSDLRSFLTMFVVFVIFAICWAPLNCIGLAVAINPQEMAPQIPEGLFVTSYLLAYFNSCLNAIVYGLLNQNFRREYKRILLALWNPRHCIQDASKGSHAEGLQSPAPPIIGVQHQADAL']\n",
      "\n",
      "--> type: misc_feature\n",
      "location: [84:87](+)\n",
      "qualifiers:\n",
      "    Key: gene, Value: ['MTNR1B']\n",
      "    Key: gene_synonym, Value: ['FGQTL2; MEL-1B-R; MT2']\n",
      "    Key: note, Value: ['N-linked (GlcNAc...) asparagine. /evidence=ECO:0000255; propagated from UniProtKB/Swiss-Prot (P49286.1); glycosylation site']\n",
      "\n",
      "--> type: misc_feature\n",
      "location: [201:264](+)\n",
      "qualifiers:\n",
      "    Key: gene, Value: ['MTNR1B']\n",
      "    Key: gene_synonym, Value: ['FGQTL2; MEL-1B-R; MT2']\n",
      "    Key: note, Value: ['propagated from UniProtKB/Swiss-Prot (P49286.1); transmembrane region']\n",
      "\n",
      "--> type: misc_feature\n",
      "location: [11801:11864](+)\n",
      "qualifiers:\n",
      "    Key: gene, Value: ['MTNR1B']\n",
      "    Key: gene_synonym, Value: ['FGQTL2; MEL-1B-R; MT2']\n",
      "    Key: note, Value: ['propagated from UniProtKB/Swiss-Prot (P49286.1); transmembrane region']\n",
      "\n",
      "--> type: misc_feature\n",
      "location: [11918:11981](+)\n",
      "qualifiers:\n",
      "    Key: gene, Value: ['MTNR1B']\n",
      "    Key: gene_synonym, Value: ['FGQTL2; MEL-1B-R; MT2']\n",
      "    Key: note, Value: ['propagated from UniProtKB/Swiss-Prot (P49286.1); transmembrane region']\n",
      "\n",
      "--> type: misc_feature\n",
      "location: [12038:12101](+)\n",
      "qualifiers:\n",
      "    Key: gene, Value: ['MTNR1B']\n",
      "    Key: gene_synonym, Value: ['FGQTL2; MEL-1B-R; MT2']\n",
      "    Key: note, Value: ['propagated from UniProtKB/Swiss-Prot (P49286.1); transmembrane region']\n",
      "\n",
      "--> type: misc_feature\n",
      "location: [12173:12236](+)\n",
      "qualifiers:\n",
      "    Key: gene, Value: ['MTNR1B']\n",
      "    Key: gene_synonym, Value: ['FGQTL2; MEL-1B-R; MT2']\n",
      "    Key: note, Value: ['propagated from UniProtKB/Swiss-Prot (P49286.1); transmembrane region']\n",
      "\n",
      "--> type: misc_feature\n",
      "location: [12332:12395](+)\n",
      "qualifiers:\n",
      "    Key: gene, Value: ['MTNR1B']\n",
      "    Key: gene_synonym, Value: ['FGQTL2; MEL-1B-R; MT2']\n",
      "    Key: note, Value: ['propagated from UniProtKB/Swiss-Prot (P49286.1); transmembrane region']\n",
      "\n",
      "--> type: misc_feature\n",
      "location: [12434:12497](+)\n",
      "qualifiers:\n",
      "    Key: gene, Value: ['MTNR1B']\n",
      "    Key: gene_synonym, Value: ['FGQTL2; MEL-1B-R; MT2']\n",
      "    Key: note, Value: ['propagated from UniProtKB/Swiss-Prot (P49286.1); transmembrane region']\n",
      "\n",
      "--> type: CDS\n",
      "location: join{[75:298](+), [11796:12662](+)}\n",
      "qualifiers:\n",
      "    Key: codon_start, Value: ['1']\n",
      "    Key: db_xref, Value: ['GeneID:4544', 'HGNC:HGNC:7464', 'MIM:600804']\n",
      "    Key: gene, Value: ['MTNR1B']\n",
      "    Key: gene_synonym, Value: ['FGQTL2; MEL-1B-R; MT2']\n",
      "    Key: note, Value: ['Derived by automated computational analysis using gene prediction method: Gnomon.']\n",
      "    Key: product, Value: ['melatonin receptor type 1B isoform X2']\n",
      "    Key: protein_id, Value: ['XP_011541141.1']\n",
      "    Key: translation, Value: ['MSENGSFANCCEAGGWAVRPGWSGAGSARPSRTPRPPWVAPALSAVLIVTTAVDVVGNLLVILSVLRNRKLRNAGNLFLVSLALADLVVAFYPYPLILVAIFYDGWALGEEHCKASAFVMGLSVIGSVFNITAIAINRYCYICHSMAYHRIYRRWHTPLHICLIWLLTVVALLPNFFVGSLEYDPRIYSCTFIQTASTQYTAAVVVIHFLLPIAVVSFCYLRIWVLVLQARRKAKPESRLCLKPSDLRSFLTMFVVFVIFAICWAPLNCIGLAVAINPQEMAPQIPEGLFVTSYLLAYFNSCLNAIVYGLLNQNFRREYKRILLALWNPRHCIQDASKGSHAEGLQSPAPPIIGVQHQADAL']\n",
      "\n",
      "--> type: mRNA\n",
      "location: join{[7508:8137](+), [11796:13073](+), [15156:15310](+)}\n",
      "qualifiers:\n",
      "    Key: db_xref, Value: ['GeneID:4544', 'HGNC:HGNC:7464', 'MIM:600804']\n",
      "    Key: experiment, Value: ['COORDINATES: polyA evidence [ECO:0006239]']\n",
      "    Key: gene, Value: ['MTNR1B']\n",
      "    Key: gene_synonym, Value: ['FGQTL2; MEL-1B-R; MT2']\n",
      "    Key: product, Value: ['melatonin receptor 1B, transcript variant X1']\n",
      "    Key: transcript_id, Value: ['XM_017017777.2']\n",
      "\n",
      "--> type: CDS\n",
      "location: join{[8040:8137](+), [11796:12662](+)}\n",
      "qualifiers:\n",
      "    Key: codon_start, Value: ['1']\n",
      "    Key: db_xref, Value: ['GeneID:4544', 'HGNC:HGNC:7464', 'MIM:600804']\n",
      "    Key: gene, Value: ['MTNR1B']\n",
      "    Key: gene_synonym, Value: ['FGQTL2; MEL-1B-R; MT2']\n",
      "    Key: note, Value: ['Derived by automated computational analysis using gene prediction method: Gnomon.']\n",
      "    Key: product, Value: ['melatonin receptor type 1B isoform X1']\n",
      "    Key: protein_id, Value: ['XP_016873266.1']\n",
      "    Key: translation, Value: ['MATVFFCFPNSSMGISMAGAMSFIHHCVLLECGNLFLVSLALADLVVAFYPYPLILVAIFYDGWALGEEHCKASAFVMGLSVIGSVFNITAIAINRYCYICHSMAYHRIYRRWHTPLHICLIWLLTVVALLPNFFVGSLEYDPRIYSCTFIQTASTQYTAAVVVIHFLLPIAVVSFCYLRIWVLVLQARRKAKPESRLCLKPSDLRSFLTMFVVFVIFAICWAPLNCIGLAVAINPQEMAPQIPEGLFVTSYLLAYFNSCLNAIVYGLLNQNFRREYKRILLALWNPRHCIQDASKGSHAEGLQSPAPPIIGVQHQADAL']\n",
      "\n",
      "Número de features: 16\n"
     ]
    }
   ],
   "source": [
    "# print(record.features)\n",
    "for feat in record.features:\n",
    "    print(\"-->\" , feat)\n",
    "print(f\"Número de features: {len(record.features)}\")"
   ]
  },
  {
   "cell_type": "markdown",
   "id": "403cf127",
   "metadata": {},
   "source": [
    "i) Localização e tipo"
   ]
  },
  {
   "cell_type": "code",
   "execution_count": 31,
   "id": "95c3ae3d",
   "metadata": {},
   "outputs": [
    {
     "name": "stdout",
     "output_type": "stream",
     "text": [
      "source\n",
      "[0:15310](+)\n",
      "gene\n",
      "[0:15310](+)\n",
      "mRNA\n",
      "join{[0:298](+), [11796:13132](+)}\n",
      "mRNA\n",
      "join{[75:298](+), [11796:13073](+), [15156:15310](+)}\n",
      "CDS\n",
      "join{[75:298](+), [11796:12662](+)}\n",
      "misc_feature\n",
      "[84:87](+)\n",
      "misc_feature\n",
      "[201:264](+)\n",
      "misc_feature\n",
      "[11801:11864](+)\n",
      "misc_feature\n",
      "[11918:11981](+)\n",
      "misc_feature\n",
      "[12038:12101](+)\n",
      "misc_feature\n",
      "[12173:12236](+)\n",
      "misc_feature\n",
      "[12332:12395](+)\n",
      "misc_feature\n",
      "[12434:12497](+)\n",
      "CDS\n",
      "join{[75:298](+), [11796:12662](+)}\n",
      "mRNA\n",
      "join{[7508:8137](+), [11796:13073](+), [15156:15310](+)}\n",
      "CDS\n",
      "join{[8040:8137](+), [11796:12662](+)}\n"
     ]
    }
   ],
   "source": [
    "from Bio.SeqFeature import SeqFeature, FeatureLocation\n",
    "for feat in record.features:\n",
    "    print(feat.type)\n",
    "    print(feat.location)"
   ]
  },
  {
   "cell_type": "markdown",
   "id": "b0b58021",
   "metadata": {},
   "source": [
    "ii ) Regiões codificantes"
   ]
  },
  {
   "cell_type": "code",
   "execution_count": 32,
   "id": "b9f98382",
   "metadata": {},
   "outputs": [
    {
     "name": "stdout",
     "output_type": "stream",
     "text": [
      "join{[75:298](+), [11796:12662](+)}\n",
      "join{[75:298](+), [11796:12662](+)}\n",
      "join{[8040:8137](+), [11796:12662](+)}\n",
      "ATGTCAGAGAACGGCTCCTTCGCCAACTGCTGCGAGGCGGGCGGGTGGGCAGTGCGCCCGGGCTGGTCGGGGGCTGGCAGCGCGCGGCCCTCCAGGACCCCTCGACCTCCCTGGGTGGCTCCAGCGCTGTCCGCGGTGCTCATCGTCACCACCGCCGTGGACGTCGTGGGCAACCTCCTGGTGATCCTCTCCGTGCTCAGGAACCGCAAGCTCCGGAACGCAGGTAATTTGTTCTTGGTGAGTCTGGCATTGGCTGACCTGGTGGTGGCCTTCTACCCCTACCCGCTAATCCTCGTGGCCATCTTCTATGACGGCTGGGCCCTGGGGGAGGAGCACTGCAAGGCCAGCGCCTTTGTGATGGGCCTGAGCGTCATCGGCTCTGTCTTCAATATCACTGCCATCGCCATTAACCGCTACTGCTACATCTGCCACAGCATGGCCTACCACCGAATCTACCGGCGCTGGCACACCCCTCTGCACATCTGCCTCATCTGGCTCCTCACCGTGGTGGCCTTGCTGCCCAACTTCTTTGTGGGGTCCCTGGAGTACGACCCACGCATCTATTCCTGCACCTTCATCCAGACCGCCAGCACCCAGTACACGGCGGCAGTGGTGGTCATCCACTTCCTCCTCCCTATCGCTGTCGTGTCCTTCTGCTACCTGCGCATCTGGGTGCTGGTGCTTCAGGCCCGCAGGAAAGCCAAGCCAGAGAGCAGGCTGTGCCTGAAGCCCAGCGACTTGCGGAGCTTTCTAACCATGTTTGTGGTGTTTGTGATCTTTGCCATCTGCTGGGCTCCACTTAACTGCATCGGCCTCGCTGTGGCCATCAACCCCCAAGAAATGGCTCCCCAGATCCCTGAGGGGCTATTTGTCACTAGCTACTTACTGGCTTATTTCAACAGCTGCCTGAATGCCATTGTCTATGGGCTCTTGAACCAAAACTTCCGCAGGGAATACAAGAGGATCCTCTTGGCCCTTTGGAACCCACGGCACTGCATTCAAGATGCTTCCAAGGGCAGCCACGCGGAGGGGCTGCAGAGCCCAGCTCCACCCATCATTGGTGTGCAGCACCAGGCAGATGCTCTCTAG\n",
      "ATGTCAGAGAACGGCTCCTTCGCCAACTGCTGCGAGGCGGGCGGGTGGGCAGTGCGCCCGGGCTGGTCGGGGGCTGGCAGCGCGCGGCCCTCCAGGACCCCTCGACCTCCCTGGGTGGCTCCAGCGCTGTCCGCGGTGCTCATCGTCACCACCGCCGTGGACGTCGTGGGCAACCTCCTGGTGATCCTCTCCGTGCTCAGGAACCGCAAGCTCCGGAACGCAGGTAATTTGTTCTTGGTGAGTCTGGCATTGGCTGACCTGGTGGTGGCCTTCTACCCCTACCCGCTAATCCTCGTGGCCATCTTCTATGACGGCTGGGCCCTGGGGGAGGAGCACTGCAAGGCCAGCGCCTTTGTGATGGGCCTGAGCGTCATCGGCTCTGTCTTCAATATCACTGCCATCGCCATTAACCGCTACTGCTACATCTGCCACAGCATGGCCTACCACCGAATCTACCGGCGCTGGCACACCCCTCTGCACATCTGCCTCATCTGGCTCCTCACCGTGGTGGCCTTGCTGCCCAACTTCTTTGTGGGGTCCCTGGAGTACGACCCACGCATCTATTCCTGCACCTTCATCCAGACCGCCAGCACCCAGTACACGGCGGCAGTGGTGGTCATCCACTTCCTCCTCCCTATCGCTGTCGTGTCCTTCTGCTACCTGCGCATCTGGGTGCTGGTGCTTCAGGCCCGCAGGAAAGCCAAGCCAGAGAGCAGGCTGTGCCTGAAGCCCAGCGACTTGCGGAGCTTTCTAACCATGTTTGTGGTGTTTGTGATCTTTGCCATCTGCTGGGCTCCACTTAACTGCATCGGCCTCGCTGTGGCCATCAACCCCCAAGAAATGGCTCCCCAGATCCCTGAGGGGCTATTTGTCACTAGCTACTTACTGGCTTATTTCAACAGCTGCCTGAATGCCATTGTCTATGGGCTCTTGAACCAAAACTTCCGCAGGGAATACAAGAGGATCCTCTTGGCCCTTTGGAACCCACGGCACTGCATTCAAGATGCTTCCAAGGGCAGCCACGCGGAGGGGCTGCAGAGCCCAGCTCCACCCATCATTGGTGTGCAGCACCAGGCAGATGCTCTCTAG\n",
      "ATGGCTACTGTTTTCTTTTGTTTCCCTAACAGTTCCATGGGCATCTCAATGGCAGGGGCCATGTCTTTCATCCATCACTGCGTCTTACTTGAATGTGGTAATTTGTTCTTGGTGAGTCTGGCATTGGCTGACCTGGTGGTGGCCTTCTACCCCTACCCGCTAATCCTCGTGGCCATCTTCTATGACGGCTGGGCCCTGGGGGAGGAGCACTGCAAGGCCAGCGCCTTTGTGATGGGCCTGAGCGTCATCGGCTCTGTCTTCAATATCACTGCCATCGCCATTAACCGCTACTGCTACATCTGCCACAGCATGGCCTACCACCGAATCTACCGGCGCTGGCACACCCCTCTGCACATCTGCCTCATCTGGCTCCTCACCGTGGTGGCCTTGCTGCCCAACTTCTTTGTGGGGTCCCTGGAGTACGACCCACGCATCTATTCCTGCACCTTCATCCAGACCGCCAGCACCCAGTACACGGCGGCAGTGGTGGTCATCCACTTCCTCCTCCCTATCGCTGTCGTGTCCTTCTGCTACCTGCGCATCTGGGTGCTGGTGCTTCAGGCCCGCAGGAAAGCCAAGCCAGAGAGCAGGCTGTGCCTGAAGCCCAGCGACTTGCGGAGCTTTCTAACCATGTTTGTGGTGTTTGTGATCTTTGCCATCTGCTGGGCTCCACTTAACTGCATCGGCCTCGCTGTGGCCATCAACCCCCAAGAAATGGCTCCCCAGATCCCTGAGGGGCTATTTGTCACTAGCTACTTACTGGCTTATTTCAACAGCTGCCTGAATGCCATTGTCTATGGGCTCTTGAACCAAAACTTCCGCAGGGAATACAAGAGGATCCTCTTGGCCCTTTGGAACCCACGGCACTGCATTCAAGATGCTTCCAAGGGCAGCCACGCGGAGGGGCTGCAGAGCCCAGCTCCACCCATCATTGGTGTGCAGCACCAGGCAGATGCTCTCTAG\n"
     ]
    }
   ],
   "source": [
    "featcds = [ ]\n",
    "for i in range(len(record.features)):\n",
    "    if record.features[i].type == \"CDS\":\n",
    "        featcds.append(i)\n",
    "for k in featcds:\n",
    "    print (record.features[k].location)\n",
    "for k in featcds:\n",
    "    print (record.features[k].extract(record.seq))"
   ]
  },
  {
   "cell_type": "code",
   "execution_count": 33,
   "id": "a6202ad7",
   "metadata": {},
   "outputs": [
    {
     "data": {
      "text/plain": [
       "[4, 13, 15]"
      ]
     },
     "execution_count": 33,
     "metadata": {},
     "output_type": "execute_result"
    }
   ],
   "source": [
    "featcds"
   ]
  },
  {
   "cell_type": "markdown",
   "id": "1439caa6",
   "metadata": {},
   "source": [
    "iii ) Proteína codificada e seu significado biológico (anotações do gene)"
   ]
  },
  {
   "cell_type": "code",
   "execution_count": 34,
   "id": "0ce1f056",
   "metadata": {},
   "outputs": [
    {
     "name": "stdout",
     "output_type": "stream",
     "text": [
      "['melatonin receptor type 1B']\n",
      "['melatonin receptor type 1B isoform X2']\n",
      "['melatonin receptor type 1B isoform X1']\n"
     ]
    }
   ],
   "source": [
    "from Bio.SeqFeature import SeqFeature, FeatureLocation\n",
    "for feat in record.features:\n",
    "    if feat.type == 'CDS':\n",
    "        print(feat.qualifiers['product'])"
   ]
  },
  {
   "cell_type": "code",
   "execution_count": 35,
   "id": "17516d14",
   "metadata": {},
   "outputs": [
    {
     "name": "stdout",
     "output_type": "stream",
     "text": [
      "['melatonin receptor 1B; Derived by automated computational analysis using gene prediction method: BestRefSeq,Gnomon.']\n"
     ]
    }
   ],
   "source": [
    "for feat in record.features:\n",
    "    if feat.type == 'gene':\n",
    "        print(feat.qualifiers[\"note\"])"
   ]
  },
  {
   "cell_type": "markdown",
   "id": "cfefff12",
   "metadata": {},
   "source": [
    "iv) Converter a FASTA"
   ]
  },
  {
   "cell_type": "code",
   "execution_count": 37,
   "id": "44d4e196",
   "metadata": {},
   "outputs": [
    {
     "name": "stdout",
     "output_type": "stream",
     "text": [
      "Foi convertido 1 registo.\n"
     ]
    }
   ],
   "source": [
    "from Bio import SeqIO\n",
    "records = SeqIO.parse(\"MTNR1B.gb\",\"genbank\")\n",
    "count = SeqIO.write(records, \"MTNR1B.fasta\",\"fasta\")\n",
    "print(f'Foi convertido {count} registo.')"
   ]
  },
  {
   "cell_type": "markdown",
   "id": "de26222e",
   "metadata": {},
   "source": [
    "## Análise de homologias por BLAST"
   ]
  },
  {
   "cell_type": "markdown",
   "id": "9e5724a6",
   "metadata": {},
   "source": [
    "##### Nesta parte também devemos ter que ir à base de dados NCBI para confirmar os resultados (rever aula 5)"
   ]
  },
  {
   "cell_type": "markdown",
   "id": "513fded5",
   "metadata": {},
   "source": [
    "As ferramentas de procura de homologias serão de especial relevo, nomeadamente para a \n",
    "procura de genes homólogos, bem como para a caracterização funcional dos genes \n",
    "selecionados. No primeiro caso, deverá configurar adequadamente as suas pesquisas ao nível \n",
    "da base de dados e desenvolver código para automatizar a decisão de existência de homologias \n",
    "significativas. No segundo caso, poderá analisar a lista de sequências homólogas e identificar \n",
    "padrões consistentes ao nível da função desempenhada por estas"
   ]
  },
  {
   "cell_type": "code",
   "execution_count": 40,
   "id": "27babb91",
   "metadata": {},
   "outputs": [],
   "source": [
    "from Bio.Blast import NCBIXML \n",
    "from Bio.Blast import NCBIWWW \n",
    "from Bio import SeqIO"
   ]
  },
  {
   "cell_type": "code",
   "execution_count": 38,
   "id": "5367371b",
   "metadata": {},
   "outputs": [
    {
     "name": "stdout",
     "output_type": "stream",
     "text": [
      "15310\n"
     ]
    }
   ],
   "source": [
    "record = SeqIO.read(open(\"MTNR1B.fasta\"), format= \"fasta\")\n",
    "print(len(record.seq))"
   ]
  },
  {
   "cell_type": "code",
   "execution_count": 41,
   "id": "fe8dcfd3",
   "metadata": {},
   "outputs": [],
   "source": [
    "result_handle = NCBIWWW.qblast(\"blastn\",\"nt\", record.seq)"
   ]
  },
  {
   "cell_type": "code",
   "execution_count": 42,
   "id": "996ecd71",
   "metadata": {},
   "outputs": [],
   "source": [
    "save_file = open(\"MTNR1B_b.xml\",\"w\")\n",
    "save_file.write(result_handle.read())\n",
    "save_file.close()\n",
    "result_handle.close()"
   ]
  },
  {
   "cell_type": "code",
   "execution_count": 90,
   "id": "ea1cf1f3",
   "metadata": {},
   "outputs": [
    {
     "name": "stdout",
     "output_type": "stream",
     "text": [
      "Matrix (?): \n",
      "Database: nt\n",
      "Gap penalty:(5, 2)\n"
     ]
    }
   ],
   "source": [
    "result_handle = open(\"MTNR1B_b.xml\")\n",
    "blast_record = NCBIXML.parse(result_handle)\n",
    "for br in blast_record:\n",
    "    print(f\"Matrix (?): {br.matrix}\")\n",
    "    print(f\"Database: {br.database}\")\n",
    "    print(f\"Gap penalty:{br.gap_penalties}\")"
   ]
  },
  {
   "cell_type": "markdown",
   "id": "d31e483e",
   "metadata": {},
   "source": [
    "Número de alinhamentos do registo\n",
    "\n",
    "Acession number, ID do hit, definicao\n",
    "\n",
    "nºs de HSP (high scoring pair) do alinhamento, e-value, score, tamanho do alinhamento, numero de caracteres iguais"
   ]
  },
  {
   "cell_type": "code",
   "execution_count": 92,
   "id": "860f2d2f",
   "metadata": {},
   "outputs": [
    {
     "name": "stdout",
     "output_type": "stream",
     "text": [
      "0\n"
     ]
    }
   ],
   "source": [
    "print(len(br.alignments))#???"
   ]
  },
  {
   "cell_type": "code",
   "execution_count": 93,
   "id": "20f1e206",
   "metadata": {
    "scrolled": false
   },
   "outputs": [],
   "source": [
    "for br_x in br.alignments:\n",
    "    print(f\"Acession number: {br_x.accession}\")\n",
    "    print(f\"ID do hit: {br_x.hit_id}\")\n",
    "    print(f\"Definição: {br_x.hit_def}\")\n",
    "    print(f\"HSP: {br_x.hsps}\")\n",
    "    break\n",
    "    #???"
   ]
  },
  {
   "cell_type": "code",
   "execution_count": 56,
   "id": "c14cbedb",
   "metadata": {
    "scrolled": true
   },
   "outputs": [],
   "source": [
    "for alignment in br.alignments:\n",
    "    for hsp in alignment.hsps:\n",
    "        print(\"        ***ALINHAMENTO***\")\n",
    "        print(f\"E-value: {hsp.expect}\")\n",
    "        print(f\"Score: {hsp.score}\")\n",
    "        print(f\"Tamanho: {hsp.align_length}\")\n",
    "        print(f\"Caracteres iguais: {len(hsp.match)}\")\n",
    "        print(\"Query \" + hsp.query[100:200] + \"...\")\n",
    "        print(\"Match \" + hsp.match[100:200] + \"...\")\n",
    "        print(\"Sbjct \" + hsp.sbjct[100:200] + \"...\")\n",
    "        print()"
   ]
  },
  {
   "cell_type": "code",
   "execution_count": 52,
   "id": "69040a7d",
   "metadata": {},
   "outputs": [],
   "source": [
    "from Bio import SearchIO"
   ]
  },
  {
   "cell_type": "code",
   "execution_count": 57,
   "id": "fd1ca6a2",
   "metadata": {},
   "outputs": [
    {
     "name": "stdout",
     "output_type": "stream",
     "text": [
      "Program: blastn (2.13.0+)\n",
      "  Query: No (15310)\n",
      "         definition line\n",
      " Target: nt\n",
      "   Hits: 0\n"
     ]
    }
   ],
   "source": [
    "blastq_result = SearchIO.read(\"MTNR1B_b.xml\", \"blast-xml\")\n",
    "print(blastq_result)"
   ]
  },
  {
   "cell_type": "code",
   "execution_count": 59,
   "id": "aab99254",
   "metadata": {},
   "outputs": [
    {
     "ename": "IndexError",
     "evalue": "list index out of range",
     "output_type": "error",
     "traceback": [
      "\u001b[0;31m---------------------------------------------------------------------------\u001b[0m",
      "\u001b[0;31mIndexError\u001b[0m                                Traceback (most recent call last)",
      "Cell \u001b[0;32mIn [59], line 2\u001b[0m\n\u001b[1;32m      1\u001b[0m \u001b[39m#Primeiro hit, primeiro HSP\u001b[39;00m\n\u001b[0;32m----> 2\u001b[0m blast_hsp \u001b[39m=\u001b[39m blastq_result[\u001b[39m0\u001b[39m][\u001b[39m0\u001b[39m]    \n\u001b[1;32m      3\u001b[0m \u001b[39mprint\u001b[39m(blast_hsp)\n",
      "File \u001b[0;32m~/.local/lib/python3.10/site-packages/Bio/SearchIO/_model/query.py:327\u001b[0m, in \u001b[0;36mQueryResult.__getitem__\u001b[0;34m(self, hit_key)\u001b[0m\n\u001b[1;32m    325\u001b[0m             \u001b[39mif\u001b[39;00m length \u001b[39m+\u001b[39m hit_key \u001b[39m==\u001b[39m idx:\n\u001b[1;32m    326\u001b[0m                 \u001b[39mreturn\u001b[39;00m item\n\u001b[0;32m--> 327\u001b[0m     \u001b[39mraise\u001b[39;00m \u001b[39mIndexError\u001b[39;00m(\u001b[39m\"\u001b[39m\u001b[39mlist index out of range\u001b[39m\u001b[39m\"\u001b[39m)\n\u001b[1;32m    329\u001b[0m \u001b[39m# if key is a string, then do a regular dictionary retrieval\u001b[39;00m\n\u001b[1;32m    330\u001b[0m \u001b[39m# falling back on alternative hit IDs\u001b[39;00m\n\u001b[1;32m    331\u001b[0m \u001b[39mtry\u001b[39;00m:\n",
      "\u001b[0;31mIndexError\u001b[0m: list index out of range"
     ]
    }
   ],
   "source": [
    "#Primeiro hit, primeiro HSP\n",
    "blast_hsp = blastq_result[0][0]    \n",
    "print(blast_hsp)"
   ]
  },
  {
   "cell_type": "code",
   "execution_count": 60,
   "id": "73d52dd8",
   "metadata": {},
   "outputs": [
    {
     "ename": "NameError",
     "evalue": "name 'blast_hsp' is not defined",
     "output_type": "error",
     "traceback": [
      "\u001b[0;31m---------------------------------------------------------------------------\u001b[0m",
      "\u001b[0;31mNameError\u001b[0m                                 Traceback (most recent call last)",
      "Cell \u001b[0;32mIn [60], line 1\u001b[0m\n\u001b[0;32m----> 1\u001b[0m blast_hsp\u001b[39m.\u001b[39mquery_range\n",
      "\u001b[0;31mNameError\u001b[0m: name 'blast_hsp' is not defined"
     ]
    }
   ],
   "source": [
    "blast_hsp.query_range"
   ]
  },
  {
   "cell_type": "code",
   "execution_count": null,
   "id": "d3ae6bae",
   "metadata": {},
   "outputs": [
    {
     "data": {
      "text/plain": [
       "0.0"
      ]
     },
     "execution_count": 106,
     "metadata": {},
     "output_type": "execute_result"
    }
   ],
   "source": [
    "blast_hsp.evalue"
   ]
  },
  {
   "cell_type": "code",
   "execution_count": null,
   "id": "30e250b1",
   "metadata": {},
   "outputs": [
    {
     "name": "stdout",
     "output_type": "stream",
     "text": [
      "Program: blastn (2.13.0+)\n",
      "  Query: No (5693)\n",
      "         definition line\n",
      " Target: nt\n",
      "   Hits: ----  -----  ----------------------------------------------------------\n",
      "            #  # HSP  ID + description\n",
      "         ----  -----  ----------------------------------------------------------\n",
      "            0      1  gi|21211761|emb|AL590080.25|  Human DNA sequence from c...\n",
      "            1      2  gi|2063803000|emb|OU343092.1|  Cervus elaphus genome as...\n",
      "            2      1  gi|2156558396|emb|LR962757.1|  Bos taurus genome assemb...\n"
     ]
    }
   ],
   "source": [
    "#Três primeiros hsp\n",
    "blast_slice = blastq_result[:3]\n",
    "print(blast_slice)"
   ]
  },
  {
   "cell_type": "code",
   "execution_count": null,
   "id": "42316bcd",
   "metadata": {},
   "outputs": [
    {
     "data": {
      "text/plain": [
       "True"
      ]
     },
     "execution_count": 102,
     "metadata": {},
     "output_type": "execute_result"
    }
   ],
   "source": [
    "#Para conhecer se um hit específico está nos resultados - inserir ID + description #???\n",
    "\"gi|21211761|emb|AL590080.25|\" in blastq_result"
   ]
  },
  {
   "cell_type": "markdown",
   "id": "a0f42508",
   "metadata": {},
   "source": [
    "## Ferramentas de análise das propriedades da proteína"
   ]
  },
  {
   "cell_type": "markdown",
   "id": "6d3d6a7a",
   "metadata": {},
   "source": [
    "##### Ver bases de dados curadas, UniProt, SwissProt pelo Biopyhton, PDB, CDD"
   ]
  },
  {
   "cell_type": "markdown",
   "id": "4e94745b",
   "metadata": {},
   "source": [
    "A base de dados UniProt permite aceder a toda a informação de um conjunto alargado de\n",
    "proteínas. Os ficheiros da SwissProt podem ser tratados automaticamente pelo BioPython (ver \n",
    "exemplos na secção 10.1 do tutorial).\n",
    "Note que os registos UniProt podem ter diferentes graus de revisão por parte dos curadores da \n",
    "base de dados, sendo nos casos em que o registo tenha sido manualmente curado uma fonte \n",
    "importante de informação."
   ]
  },
  {
   "cell_type": "code",
   "execution_count": null,
   "id": "24ba4434",
   "metadata": {},
   "outputs": [],
   "source": [
    "from Bio import ExPASy\n",
    "from Bio import SeqIO"
   ]
  },
  {
   "cell_type": "code",
   "execution_count": 61,
   "id": "1133420a",
   "metadata": {},
   "outputs": [
    {
     "data": {
      "text/plain": [
       "Seq('CGGCUCAGUACUGCGCGCGCCCUGCGGCUGUCCGGGGCCGCGCGGUGGCCAAAG...GAA')"
      ]
     },
     "execution_count": 61,
     "metadata": {},
     "output_type": "execute_result"
    }
   ],
   "source": [
    "#Transcrição\n",
    "\n",
    "mtnr1b_mrna = record.seq.transcribe()\n",
    "mtnr1b_mrna"
   ]
  },
  {
   "cell_type": "code",
   "execution_count": 62,
   "id": "01a13c94",
   "metadata": {},
   "outputs": [
    {
     "name": "stderr",
     "output_type": "stream",
     "text": [
      "/home/joao/.local/lib/python3.10/site-packages/Bio/Seq.py:2979: BiopythonWarning: Partial codon, len(sequence) not a multiple of three. Explicitly trim the sequence or add trailing N before translation. This may become an error in future.\n",
      "  warnings.warn(\n"
     ]
    },
    {
     "data": {
      "text/plain": [
       "Seq('RLSTARALRLSGAARWPKHSAGESAMSENGSFANCCEAGGWAVRPGWSGAGSAR...IWG')"
      ]
     },
     "execution_count": 62,
     "metadata": {},
     "output_type": "execute_result"
    }
   ],
   "source": [
    "#Tradução\n",
    "mtnr1b_prot = mtnr1b_mrna.translate()\n",
    "mtnr1b_prot"
   ]
  },
  {
   "cell_type": "code",
   "execution_count": 63,
   "id": "d5375c88",
   "metadata": {},
   "outputs": [
    {
     "data": {
      "text/plain": [
       "Counter({'R': 233,\n",
       "         'L': 604,\n",
       "         'S': 573,\n",
       "         'T': 276,\n",
       "         'A': 293,\n",
       "         'G': 302,\n",
       "         'W': 135,\n",
       "         'P': 365,\n",
       "         'K': 210,\n",
       "         'H': 192,\n",
       "         'E': 184,\n",
       "         'M': 100,\n",
       "         'N': 136,\n",
       "         'F': 219,\n",
       "         'C': 189,\n",
       "         'V': 255,\n",
       "         'I': 235,\n",
       "         'D': 108,\n",
       "         '*': 213,\n",
       "         'Q': 188,\n",
       "         'Y': 93})"
      ]
     },
     "execution_count": 63,
     "metadata": {},
     "output_type": "execute_result"
    }
   ],
   "source": [
    "from collections import Counter\n",
    "common_amino = Counter(mtnr1b_prot)\n",
    "common_amino"
   ]
  },
  {
   "cell_type": "code",
   "execution_count": 64,
   "id": "f214481e",
   "metadata": {},
   "outputs": [
    {
     "data": {
      "text/plain": [
       "[Seq('RLSTARALRLSGAARWPKHSAGESAMSENGSFANCCEAGGWAVRPGWSGAGSAR...HHS'),\n",
       " Seq('CWVLASGPSLSSDLVPDPGICAAFSLLSPGSPFPSL'),\n",
       " Seq('PIP'),\n",
       " Seq('V'),\n",
       " Seq('LCTQKLG'),\n",
       " Seq('VLPLRSAAAQDALGTEGIAESFTGALFGRAPALWEPTLLDAIATPSRSNACLSR...QAL'),\n",
       " Seq('LYVVVA'),\n",
       " Seq('KILAEKMS'),\n",
       " Seq('SMEAFQ'),\n",
       " Seq('VLCQKLISRSSEDPIPVDGE'),\n",
       " Seq('MQKLQILLGLN'),\n",
       " Seq('IALKYCGLFRRLGIPGINCEN'),\n",
       " Seq('SNDLAKSCCNPENIFPISIHSHFNIPLVRSSKKQNQSGGQYLNSSPHRSWGMMTTSA'),\n",
       " Seq('EGAQSPVC'),\n",
       " Seq('FCSFFKLGLGSKFKY'),\n",
       " Seq('SELKWKDSSSKTTI'),\n",
       " Seq('LKNAFLRSQTIFSK'),\n",
       " Seq(''),\n",
       " Seq('YVFGVACDSRNFFFLRWSLSLCHPGWSAVAWSRLTATSASQVQGILLPQPPE'),\n",
       " Seq('LGLQALATTPR'),\n",
       " Seq('FFIFLVDTVFHHVGQAGLELLTSSDPPASASQSAGITGMSHCARPTLGFLAKKT...LQL'),\n",
       " Seq('VSSHHMGNITLLRRSKLSNSLQ'),\n",
       " Seq('WWLFSGIHCSKYCVL'),\n",
       " Seq('RKAYILGKNRL'),\n",
       " Seq('LENCI'),\n",
       " Seq('YF'),\n",
       " Seq('HIVPCSHHKHSFPAQGSKRETTPGSMGEKWVLLVLTLAPSVPDLLSI'),\n",
       " Seq('SRSVRPWLPAQ'),\n",
       " Seq('FGLPTMRKVVEGSRSCFLLLEGEKHPSPPASYRGLAFSVILAGSAET'),\n",
       " Seq('PV'),\n",
       " Seq('EHHWGGS'),\n",
       " Seq('AC'),\n",
       " Seq('IAGISSVLSFLPPDVSATAQHPNKKK'),\n",
       " Seq(''),\n",
       " Seq(''),\n",
       " Seq('HYI'),\n",
       " Seq('MTSIPATAAVLQFNQFLCDLWLYW'),\n",
       " Seq('QSQTIVVLT'),\n",
       " Seq('TK'),\n",
       " Seq('SQQSEISKGA'),\n",
       " Seq('NLQLFE'),\n",
       " Seq('LAHILLLIRPCLTEEFGFNLRNASSDLSVLKSGSLNHWY'),\n",
       " Seq('KIKSVTMRIHIFPITKIHSPY'),\n",
       " Seq('GHSMFPRRHQYPLLAYHKPSSSMEQICIIPNSAAPDGRVSG'),\n",
       " Seq('INCLFFFRDILSVVSVAACGGLTSEIAPEKGRQGGVEARWEVGSGHRPNLKGKA...ESR'),\n",
       " Seq('ELSLLGSPLLP'),\n",
       " Seq('PLSYTSLIFISCIFELFLSLFWKLPPCYTHTRYTKSPVLKEQKTLFLTSCPPNF...CCV'),\n",
       " Seq('H'),\n",
       " Seq('GPLPLWDLSFPRLTWC'),\n",
       " Seq('FLDLLFLFISRIPVP'),\n",
       " Seq('KSSLVPPTLSFHMS'),\n",
       " Seq(''),\n",
       " Seq('FYLPLFLNFSLSCLLILTAPLHAFIIS'),\n",
       " Seq('ANTIHSA'),\n",
       " Seq('ELFLLPPPATVTTAKSFPVFSGCPPSPEQCPTPEHSSHGHLRLA'),\n",
       " Seq('PT'),\n",
       " Seq('LTASLPSSHQCHSELLLLPKGSALPDVLSLPLLPSQQLLLLQLLPQLP'),\n",
       " Seq('RIINVDY'),\n",
       " Seq('YHEGDSKCLPCWASKIPVPSPVQHPPHCTIVLCLSPLDRVPAESRHFHSVSVHR...ISD'),\n",
       " Seq('IGNG'),\n",
       " Seq('DTR'),\n",
       " Seq('WGKIN'),\n",
       " Seq('FCSMSWDRPQLQYSALHK'),\n",
       " Seq('SIQVFMKLNCFENSPKYISC'),\n",
       " Seq('ADYWHLLHEGMLVL'),\n",
       " Seq('FSCVSKVAQQFPAMPWLYPTDSSWGVCP'),\n",
       " Seq('YALAVSLPMSHLEFPHVVGGTWWEVIES'),\n",
       " Seq('EQVFPMLFSQ'),\n",
       " Seq(''),\n",
       " Seq('ISLMRSDGKRETPLHKLSLFACCQPHKT'),\n",
       " Seq('LALPCLPP'),\n",
       " Seq('LGGFPSHVEL'),\n",
       " Seq('AQ'),\n",
       " Seq('NLSFVSCTALGMSFVVVVFCETEFHSCCPGWSAMA'),\n",
       " Seq('SRLTATSPASAS'),\n",
       " Seq('VAGITGMSHHTWLIFFFSETESCCRPGWSAVAQSRLTASSAPWGSCHSLASASR...SPC'),\n",
       " Seq('PGWSRSPDLVIRPPWPPKVLGLQA'),\n",
       " Seq('ATAPGLILYFLVEMVFLHVGQAGLKLLTSGDPPTSASQSAGMTGVSHCARPWVC...SCL'),\n",
       " Seq('YAGHIRELREPCPHCNTQVLSTIREEVITTPVIPGSIGTATLIFQVAVRSCGLT...KIA'),\n",
       " Seq('ENMEDLLAEHTDLCPRSLCLCWQSCPSSRPPVMLRIHTISYPEPVTAWEVPDGN...FPG'),\n",
       " Seq('IRKQSALWPLFLASSLPTC'),\n",
       " Seq('LRQQMMLNKQHGSEQRLWKA'),\n",
       " Seq('SEMLNRPTAPTLQVIE'),\n",
       " Seq('SGAHSIKASILPPTTH'),\n",
       " Seq('DVTWHQVSFDLLSLQCLECHYQPKTKLGNLGLLPECFLSCPTLHFSCEYLIASS...LAE'),\n",
       " Seq('SGKLIILFNSSHVTFSSSRV'),\n",
       " Seq('RL'),\n",
       " Seq('CLPVFISRKLDSAFGYDIPQNSENTESSYWLFQFKILTAGGVEIENWEVKPQFL...LII'),\n",
       " Seq('NSNNK'),\n",
       " Seq(''),\n",
       " Seq('LILLVLVICQIQVSFL'),\n",
       " Seq('ERKKRQKKPSTVPYQRDIPS'),\n",
       " Seq('APLSISFF'),\n",
       " Seq('RQH'),\n",
       " Seq(''),\n",
       " Seq('SNLQGKTGSPSSQQNLFLLMSLLPS'),\n",
       " Seq('LPSPMSTFLSFLTFVDDQETLYTLSLNSLDISFLWFSPLLVLSQSFCVMAMSNS...PFM'),\n",
       " Seq('NYTINFTMLYQWLFCCY'),\n",
       " Seq('V'),\n",
       " Seq('SNKMLPIRISK'),\n",
       " Seq('SLLMVIEEYFVKHLSYVFKWMLMFLNIFSSFKWLKYPHIYLCTLLISQFLFSN'),\n",
       " Seq('IKVRFQLSSCMIHPHILRFS'),\n",
       " Seq('ICDFGRKKYLLSRDLGI'),\n",
       " Seq('LQAYNKCIVLVFV'),\n",
       " Seq('KSSCE'),\n",
       " Seq('IIWSIISNAHPQNIIRISHINLVIIVISHDLSHTTSYLR'),\n",
       " Seq('TAILGVRSSVAKVLVILCSSLVNCRA'),\n",
       " Seq('PTPYPAIVPSPKLTHKFPTVPTTLFWPFFQLSPN'),\n",
       " Seq('MATVFFCFPNSSMGISMAGAMSFIHHCVLLECGRHSINILHI'),\n",
       " Seq('TDGRVEEDLKAQKV'),\n",
       " Seq('HC'),\n",
       " Seq('KT'),\n",
       " Seq('IIC'),\n",
       " Seq('LPQHIPLGTLFLFV'),\n",
       " Seq('WSSLRDHKLYKGR'),\n",
       " Seq('PVHLA'),\n",
       " Seq('SKAEPSIYSAIFVT'),\n",
       " Seq('MT'),\n",
       " Seq(''),\n",
       " Seq('FSLSILSFSSMTKENLCLTKFFF'),\n",
       " Seq('AWRVSTEEGGKGYRELYLPEFSYLTNIR'),\n",
       " Seq('LSTGWLFPRLPDLH'),\n",
       " Seq('EIHFPERKREEEKREETVMVVCVKGCALRMNPEGDSMLVNKALLSKPLSTNTPY...QDP'),\n",
       " Seq('HKYSLCTR'),\n",
       " Seq('LQCCVHTE'),\n",
       " Seq('FLTCLGKKWMENWISP'),\n",
       " Seq('LSST'),\n",
       " Seq('DLASYRWKTKHKFYSSNLELCQESLETVGCLGR'),\n",
       " Seq('IYSRKWLISAF'),\n",
       " Seq('EQPE'),\n",
       " Seq(''),\n",
       " Seq('GIVIESLSTWS'),\n",
       " Seq('MCSSYYLQAVCQPLGHY'),\n",
       " Seq('GISHINTAELDSAFTGKQLAELAPAPSSS'),\n",
       " Seq('LSLLSLQVPRACVLLGQVPSGSYGDSSSCAGEK'),\n",
       " Seq('FSSQNQPYECAGGSDGRALKEKKGAHVGIVTKKGTRELAQIHSTIKWQDSDYPRFL'),\n",
       " Seq('LQHNPPDFKRTHKILRRQGFLIQLKTSNVREGIPHVLGTK'),\n",
       " Seq('GLCR'),\n",
       " Seq('VRDGDPAVETASGLRIKLKGTKPLHIPSRSLLHIFCLAVPTRKEMRSFLTHEVN...QAL'),\n",
       " Seq('LSRQSPFYSVTSCLPGFLT'),\n",
       " Seq('LWTQ'),\n",
       " Seq('YYS'),\n",
       " Seq('VLRTPRTPVDLCGFSVGLTPFL'),\n",
       " Seq('GQNRPFMKAS'),\n",
       " Seq('GSFKFPSPFGPCYGESSLRWGECGKAGGSPFPTLVGE'),\n",
       " Seq('VQVCHLLHLKG'),\n",
       " Seq('LR'),\n",
       " Seq('NPSWAALSLPFSVPRGIHTEPGLSNCCALGALSTCLTL'),\n",
       " Seq('TPKATTASVAMGQTHGGCGVSMSVSLLTWEFLLHTIPAALCIPPP'),\n",
       " Seq('GWRLHHVARDQKI'),\n",
       " Seq('NTMPSAHCITQGPCWRESLLSFEHTVGIQKVQHLVNEKIGISDGTAHTMSFVLP...LLE'),\n",
       " Seq('ALPLPWDSSLEHA'),\n",
       " Seq('SILIDGCIIS'),\n",
       " Seq('GSLWLTKLGDVG'),\n",
       " Seq('GSIQRINA'),\n",
       " Seq('IVQEGHHGAGKAGRPPRGCELRSADSPFSPHRAGALCRYCKCLSTWPQGWEYWT...LRK'),\n",
       " Seq('PVNQWGENAKGDNQRDVRGGEGM'),\n",
       " Seq('GSDDSDEKSTLLTFRLSSSEIFAGA'),\n",
       " Seq('MVQSP'),\n",
       " Seq('ASVPIMETVSMCQHLLNP'),\n",
       " Seq('ALCIINSYSYTMR'),\n",
       " Seq('VSLPLVHK'),\n",
       " Seq('GKWGSESLNSLPQSYS'),\n",
       " Seq(''),\n",
       " Seq('VAEMQSESSVLCL'),\n",
       " Seq('EPLGFHSHCQK'),\n",
       " Seq('LRGG'),\n",
       " Seq('DVLQNLSRGVSC'),\n",
       " Seq('LLLCLLLQVICSW'),\n",
       " Seq('VWHWLTWWWPSTPTR'),\n",
       " Seq('SSWPSSMTAGPWGRSTARPAPL'),\n",
       " Seq('WA'),\n",
       " Seq('ASSALSSISLPSPLTATATSATAWPTTESTGAGTPLCTSASSGSSPWWPCCPTS...GCA'),\n",
       " Seq('SPATCGAF'),\n",
       " Seq('PCLWCL'),\n",
       " Seq('SLPSAGLHLTASASLWPSTPKKWLPRSLRGYLSLATYWLISTAA'),\n",
       " Seq('MPLSMGS'),\n",
       " Seq('TKTSAGNTRGSSWPFGTHGTAFKMLPRAATRRGCRAQLHPSLVCSTRQMLSSLD...TNS'),\n",
       " Seq('NGGRESAARVRPGSLLGHTVLLASQPQGWGNFMLGQAAHQRHGFRLIQEMLTGH...RTE'),\n",
       " Seq('GKAWGRRAQLLLIADPHPPALASWLLSPLPPSVAGSLPVSKDERERSVGLELGN...IMP'),\n",
       " Seq('SASQVVVRILWDNTSAELRTVPDMWLAGSNH'),\n",
       " Seq('LLLLL'),\n",
       " Seq('LHKMKEKSHIQRKEGLSPDAVPHPCLSLNPGVQDQPKQHGKTLSLQKLAGHGGPFLWS'),\n",
       " Seq('LLRRLRWEDHFSSAG'),\n",
       " Seq('GYSELRLCHCTPDWVTK'),\n",
       " Seq('EQDPVSEKKKKRRRSRRTGREGEKMG'),\n",
       " Seq('GTWKWGKGSCTPIHFYGYVFVDFIFVEISDLCLAPTELIAFFSSTNTECPLWAR...TVC'),\n",
       " Seq(''),\n",
       " Seq('ISIK'),\n",
       " Seq('YPLVLSMYQALW'),\n",
       " Seq('GLDMHYVI'),\n",
       " Seq('SPQNSWKKIL'),\n",
       " Seq('SIFIVRN'),\n",
       " Seq('NSKMWNDCQNSDSYVQS'),\n",
       " Seq('MWSSSLSDDSTLLLSPIIPPRNMWQGQSAVG'),\n",
       " Seq('VLHVHNVPGVLSHPAAFLNEEPRIFLVC'),\n",
       " Seq('PLSIMLDPLSGLAM'),\n",
       " Seq('GI'),\n",
       " Seq('AGCCA'),\n",
       " Seq('SPSHLGACLKMQIFWALTTRFCGAGLGI'),\n",
       " Seq('FQYLRSLT'),\n",
       " Seq('LLGMKMS'),\n",
       " Seq('S'),\n",
       " Seq(''),\n",
       " Seq('WQW'),\n",
       " Seq('CAPPRETSQSTPQSQRGAEES'),\n",
       " Seq('GFSATFPGSGQSLQRPGQACIVFCSCCFPSP'),\n",
       " Seq('TQTTEICPLFLIWRRRRHQFLGNSMSTLPLLIPIFQC'),\n",
       " Seq('VECMARAQ'),\n",
       " Seq('IWIEGCLQFPGPIAVTWFARVRH'),\n",
       " Seq('QSTNWNFFLDP'),\n",
       " Seq('VFGDKPGAERIKKNGKAQAQDIKQCTYLE'),\n",
       " Seq('PHAVGPDCK'),\n",
       " Seq('KCFCGNSKIWG')]"
      ]
     },
     "execution_count": 64,
     "metadata": {},
     "output_type": "execute_result"
    }
   ],
   "source": [
    "#Codões STOP\n",
    "protein = mtnr1b_prot.split('*')\n",
    "protein"
   ]
  },
  {
   "cell_type": "markdown",
   "id": "22ed5ac1",
   "metadata": {},
   "source": [
    "Por outro lado, a base de dados PDB contém informação sobre a estrutura das proteínas. Poderá \n",
    "efetuar pesquisas nesta base de dados no sentido de identificar proteínas de interesse que \n",
    "estejam presentes nesta base de dados. As proteínas de interesse podem ser analisadas \n",
    "identificando zonas de possível ligação de compostos que possam regular o seu funcionamento.\n",
    "Complementarmente, foram estudadas ferramentas que permitem inferir características da \n",
    "proteína com base na sua sequência, como sejam a sua localização celular, a existência de \n",
    "domínios transmembranares ou alterações pós-tradução relevantes. Todas estas ferramentas \n",
    "permitem dar pistas sobre as proteínas de interesse."
   ]
  },
  {
   "cell_type": "code",
   "execution_count": 65,
   "id": "f6a2e723",
   "metadata": {},
   "outputs": [
    {
     "data": {
      "text/plain": [
       "[Seq('RLSTARALRLSGAARWPKHSAGESAMSENGSFANCCEAGGWAVRPGWSGAGSAR...HHS'),\n",
       " Seq('CWVLASGPSLSSDLVPDPGICAAFSLLSPGSPFPSL'),\n",
       " Seq('VLPLRSAAAQDALGTEGIAESFTGALFGRAPALWEPTLLDAIATPSRSNACLSR...QAL'),\n",
       " Seq('IALKYCGLFRRLGIPGINCEN'),\n",
       " Seq('SNDLAKSCCNPENIFPISIHSHFNIPLVRSSKKQNQSGGQYLNSSPHRSWGMMTTSA'),\n",
       " Seq('YVFGVACDSRNFFFLRWSLSLCHPGWSAVAWSRLTATSASQVQGILLPQPPE'),\n",
       " Seq('FFIFLVDTVFHHVGQAGLELLTSSDPPASASQSAGITGMSHCARPTLGFLAKKT...LQL'),\n",
       " Seq('VSSHHMGNITLLRRSKLSNSLQ'),\n",
       " Seq('HIVPCSHHKHSFPAQGSKRETTPGSMGEKWVLLVLTLAPSVPDLLSI'),\n",
       " Seq('FGLPTMRKVVEGSRSCFLLLEGEKHPSPPASYRGLAFSVILAGSAET'),\n",
       " Seq('IAGISSVLSFLPPDVSATAQHPNKKK'),\n",
       " Seq('MTSIPATAAVLQFNQFLCDLWLYW'),\n",
       " Seq('LAHILLLIRPCLTEEFGFNLRNASSDLSVLKSGSLNHWY'),\n",
       " Seq('KIKSVTMRIHIFPITKIHSPY'),\n",
       " Seq('GHSMFPRRHQYPLLAYHKPSSSMEQICIIPNSAAPDGRVSG'),\n",
       " Seq('INCLFFFRDILSVVSVAACGGLTSEIAPEKGRQGGVEARWEVGSGHRPNLKGKA...ESR'),\n",
       " Seq('PLSYTSLIFISCIFELFLSLFWKLPPCYTHTRYTKSPVLKEQKTLFLTSCPPNF...CCV'),\n",
       " Seq('FYLPLFLNFSLSCLLILTAPLHAFIIS'),\n",
       " Seq('ELFLLPPPATVTTAKSFPVFSGCPPSPEQCPTPEHSSHGHLRLA'),\n",
       " Seq('LTASLPSSHQCHSELLLLPKGSALPDVLSLPLLPSQQLLLLQLLPQLP'),\n",
       " Seq('YHEGDSKCLPCWASKIPVPSPVQHPPHCTIVLCLSPLDRVPAESRHFHSVSVHR...ISD'),\n",
       " Seq('FSCVSKVAQQFPAMPWLYPTDSSWGVCP'),\n",
       " Seq('YALAVSLPMSHLEFPHVVGGTWWEVIES'),\n",
       " Seq('ISLMRSDGKRETPLHKLSLFACCQPHKT'),\n",
       " Seq('NLSFVSCTALGMSFVVVVFCETEFHSCCPGWSAMA'),\n",
       " Seq('VAGITGMSHHTWLIFFFSETESCCRPGWSAVAQSRLTASSAPWGSCHSLASASR...SPC'),\n",
       " Seq('PGWSRSPDLVIRPPWPPKVLGLQA'),\n",
       " Seq('ATAPGLILYFLVEMVFLHVGQAGLKLLTSGDPPTSASQSAGMTGVSHCARPWVC...SCL'),\n",
       " Seq('YAGHIRELREPCPHCNTQVLSTIREEVITTPVIPGSIGTATLIFQVAVRSCGLT...KIA'),\n",
       " Seq('ENMEDLLAEHTDLCPRSLCLCWQSCPSSRPPVMLRIHTISYPEPVTAWEVPDGN...FPG'),\n",
       " Seq('DVTWHQVSFDLLSLQCLECHYQPKTKLGNLGLLPECFLSCPTLHFSCEYLIASS...LAE'),\n",
       " Seq('CLPVFISRKLDSAFGYDIPQNSENTESSYWLFQFKILTAGGVEIENWEVKPQFL...LII'),\n",
       " Seq('SNLQGKTGSPSSQQNLFLLMSLLPS'),\n",
       " Seq('LPSPMSTFLSFLTFVDDQETLYTLSLNSLDISFLWFSPLLVLSQSFCVMAMSNS...PFM'),\n",
       " Seq('SLLMVIEEYFVKHLSYVFKWMLMFLNIFSSFKWLKYPHIYLCTLLISQFLFSN'),\n",
       " Seq('IIWSIISNAHPQNIIRISHINLVIIVISHDLSHTTSYLR'),\n",
       " Seq('TAILGVRSSVAKVLVILCSSLVNCRA'),\n",
       " Seq('PTPYPAIVPSPKLTHKFPTVPTTLFWPFFQLSPN'),\n",
       " Seq('MATVFFCFPNSSMGISMAGAMSFIHHCVLLECGRHSINILHI'),\n",
       " Seq('FSLSILSFSSMTKENLCLTKFFF'),\n",
       " Seq('AWRVSTEEGGKGYRELYLPEFSYLTNIR'),\n",
       " Seq('EIHFPERKREEEKREETVMVVCVKGCALRMNPEGDSMLVNKALLSKPLSTNTPY...QDP'),\n",
       " Seq('DLASYRWKTKHKFYSSNLELCQESLETVGCLGR'),\n",
       " Seq('GISHINTAELDSAFTGKQLAELAPAPSSS'),\n",
       " Seq('LSLLSLQVPRACVLLGQVPSGSYGDSSSCAGEK'),\n",
       " Seq('FSSQNQPYECAGGSDGRALKEKKGAHVGIVTKKGTRELAQIHSTIKWQDSDYPRFL'),\n",
       " Seq('LQHNPPDFKRTHKILRRQGFLIQLKTSNVREGIPHVLGTK'),\n",
       " Seq('VRDGDPAVETASGLRIKLKGTKPLHIPSRSLLHIFCLAVPTRKEMRSFLTHEVN...QAL'),\n",
       " Seq('VLRTPRTPVDLCGFSVGLTPFL'),\n",
       " Seq('GSFKFPSPFGPCYGESSLRWGECGKAGGSPFPTLVGE'),\n",
       " Seq('NPSWAALSLPFSVPRGIHTEPGLSNCCALGALSTCLTL'),\n",
       " Seq('TPKATTASVAMGQTHGGCGVSMSVSLLTWEFLLHTIPAALCIPPP'),\n",
       " Seq('NTMPSAHCITQGPCWRESLLSFEHTVGIQKVQHLVNEKIGISDGTAHTMSFVLP...LLE'),\n",
       " Seq('IVQEGHHGAGKAGRPPRGCELRSADSPFSPHRAGALCRYCKCLSTWPQGWEYWT...LRK'),\n",
       " Seq('PVNQWGENAKGDNQRDVRGGEGM'),\n",
       " Seq('GSDDSDEKSTLLTFRLSSSEIFAGA'),\n",
       " Seq('SSWPSSMTAGPWGRSTARPAPL'),\n",
       " Seq('ASSALSSISLPSPLTATATSATAWPTTESTGAGTPLCTSASSGSSPWWPCCPTS...GCA'),\n",
       " Seq('SLPSAGLHLTASASLWPSTPKKWLPRSLRGYLSLATYWLISTAA'),\n",
       " Seq('TKTSAGNTRGSSWPFGTHGTAFKMLPRAATRRGCRAQLHPSLVCSTRQMLSSLD...TNS'),\n",
       " Seq('NGGRESAARVRPGSLLGHTVLLASQPQGWGNFMLGQAAHQRHGFRLIQEMLTGH...RTE'),\n",
       " Seq('GKAWGRRAQLLLIADPHPPALASWLLSPLPPSVAGSLPVSKDERERSVGLELGN...IMP'),\n",
       " Seq('SASQVVVRILWDNTSAELRTVPDMWLAGSNH'),\n",
       " Seq('LHKMKEKSHIQRKEGLSPDAVPHPCLSLNPGVQDQPKQHGKTLSLQKLAGHGGPFLWS'),\n",
       " Seq('EQDPVSEKKKKRRRSRRTGREGEKMG'),\n",
       " Seq('GTWKWGKGSCTPIHFYGYVFVDFIFVEISDLCLAPTELIAFFSSTNTECPLWAR...TVC'),\n",
       " Seq('MWSSSLSDDSTLLLSPIIPPRNMWQGQSAVG'),\n",
       " Seq('VLHVHNVPGVLSHPAAFLNEEPRIFLVC'),\n",
       " Seq('SPSHLGACLKMQIFWALTTRFCGAGLGI'),\n",
       " Seq('CAPPRETSQSTPQSQRGAEES'),\n",
       " Seq('GFSATFPGSGQSLQRPGQACIVFCSCCFPSP'),\n",
       " Seq('TQTTEICPLFLIWRRRRHQFLGNSMSTLPLLIPIFQC'),\n",
       " Seq('IWIEGCLQFPGPIAVTWFARVRH'),\n",
       " Seq('VFGDKPGAERIKKNGKAQAQDIKQCTYLE')]"
      ]
     },
     "execution_count": 65,
     "metadata": {},
     "output_type": "execute_result"
    }
   ],
   "source": [
    "prots = []\n",
    "for p in protein:\n",
    "    if len(p) > 20:\n",
    "        prots.append(p)\n",
    "prots"
   ]
  },
  {
   "cell_type": "code",
   "execution_count": 66,
   "id": "c39cb3c1",
   "metadata": {},
   "outputs": [],
   "source": [
    "with open (\"protein_seq.fasta\",\"w\") as file:\n",
    "    file.write(f\">Protein: \\n {prots[:]}\")"
   ]
  },
  {
   "cell_type": "code",
   "execution_count": 67,
   "id": "97a327d1",
   "metadata": {},
   "outputs": [],
   "source": [
    "from Bio import SeqIO\n",
    "protein_seq = SeqIO.read(\"protein_seq.fasta\",\"fasta\")"
   ]
  },
  {
   "cell_type": "code",
   "execution_count": 68,
   "id": "47262811",
   "metadata": {},
   "outputs": [
    {
     "data": {
      "text/plain": [
       "Seq('[Seq('RLSTARALRLSGAARWPKHSAGESAMSENGSFANCCEAGGWAVRPGWS...')]')"
      ]
     },
     "execution_count": 68,
     "metadata": {},
     "output_type": "execute_result"
    }
   ],
   "source": [
    "protein_seq.seq"
   ]
  },
  {
   "cell_type": "code",
   "execution_count": 69,
   "id": "fd1646fc",
   "metadata": {},
   "outputs": [],
   "source": [
    "#Protein BLAST\n",
    "from Bio.Blast import NCBIWWW\n",
    "result_handle = NCBIWWW.qblast(\"blastp\", \"pdb\", protein_seq)"
   ]
  },
  {
   "cell_type": "code",
   "execution_count": 70,
   "id": "8c6405b4",
   "metadata": {},
   "outputs": [],
   "source": [
    "from Bio import SearchIO\n",
    "blast_records = SearchIO.read(result_handle, \"blast-xml\")"
   ]
  },
  {
   "cell_type": "code",
   "execution_count": 71,
   "id": "143e888b",
   "metadata": {},
   "outputs": [
    {
     "name": "stdout",
     "output_type": "stream",
     "text": [
      "Program: blastp (2.13.0+)\n",
      "  Query: unnamed (108)\n",
      "         protein product\n",
      " Target: pdb\n",
      "   Hits: ----  -----  ----------------------------------------------------------\n",
      "            #  # HSP  ID + description\n",
      "         ----  -----  ----------------------------------------------------------\n",
      "            0      1  pdb|7VH0|A  Chain A, Melatonin receptor type 1B [Homo s...\n",
      "            1      1  pdb|6ZJ3|LR  Chain LR, Ribosomal protein uL4 [Euglena g...\n",
      "            2      1  pdb|6ZU5|LC0  Chain LC0, uL4 [Paranosema locustae]\n",
      "            3      1  pdb|5TQB|A  Chain A, 60S ribosomal protein L4-like prot...\n",
      "            4      1  pdb|7K58|C  Chain C, gamma heavy chain [Tetrahymena the...\n",
      "            5      1  pdb|7K5B|C  Chain C, gamma heavy chain [Tetrahymena the...\n",
      "            6      1  pdb|7OLC|LC  Chain LC, 60S ribosomal protein L4-like pr...\n",
      "            7      1  pdb|4V8M|Br  Chain Br, 60S RIBOSOMAL PROTEIN L4 [Trypan...\n",
      "            8      1  pdb|3JBN|AF  Chain AF, 60S ribosomal protein uL4 [Plasm...\n",
      "            9      1  pdb|6ZYW|A  Chain A, Dynein-1-alpha heavy chain, flagel...\n",
      "           10      1  pdb|3J79|F  Chain F, 60S ribosomal protein uL4 [Plasmod...\n"
     ]
    }
   ],
   "source": [
    "print(blast_records[:])"
   ]
  },
  {
   "cell_type": "markdown",
   "id": "514f732a",
   "metadata": {},
   "source": [
    "Foram ainda abordadas bases de dados de domínios de proteínas, das quais se destaca a NCBI \n",
    "CDD (conserved domain database) do NCBI. Esta base de dados, ou outras similares, pode ser \n",
    "usada para confirmar a anotação de proteínas de interesse, sendo de particular utilidade quando \n",
    "subsistem dúvidas sobre a anotação, quer esta provenha da anotação original, quer provenha \n",
    "de resultados de homologia (e.g. BLAST). Por outro lado, permite a análise dos domínios \n",
    "presentes na proteína, de forma a poder caracterizar potenciais pontos de ligação de compostos \n",
    "e outras proteínas que possam inibir o funcionamento da proteína"
   ]
  },
  {
   "cell_type": "markdown",
   "id": "87ba434d",
   "metadata": {},
   "source": [
    "## Alinhamentos múltiplos e filogenia"
   ]
  },
  {
   "cell_type": "markdown",
   "id": "806f1059",
   "metadata": {},
   "source": [
    "selecionar-se a sequência de interesse do organismo e um conjunto de\n",
    "sequências homólogas (e.g. provenientes de um processo de BLAST) de organismos\n",
    "selecionados, realizar o seu alinhamento múltiplo e complementarmente determinar a árvore\n",
    "filogenética correspondente"
   ]
  },
  {
   "cell_type": "code",
   "execution_count": 79,
   "id": "7d3af374",
   "metadata": {},
   "outputs": [],
   "source": [
    "from Bio import Phylo\n",
    "from Bio import AlignIO\n",
    "from Bio.SeqRecord import SeqRecord\n",
    "from Bio.Align import MultipleSeqAlignment\n",
    "from Bio.Seq import Seq"
   ]
  },
  {
   "cell_type": "code",
   "execution_count": 84,
   "id": "df5ae2a2",
   "metadata": {},
   "outputs": [
    {
     "name": "stdout",
     "output_type": "stream",
     "text": [
      "Alignment with 2 rows and 30 columns\n",
      "MHQAIFIYQIGYPLKSGYIQSIRSPEYDNW seq1\n",
      "MH--IFIYQIGYALKSGYIQSIRSPEY-NW seq2\n"
     ]
    }
   ],
   "source": [
    "seq1 = \"MHQAIFIYQIGYPLKSGYIQSIRSPEYDNW\"\n",
    "seq2 = \"MH--IFIYQIGYALKSGYIQSIRSPEY-NW\"\n",
    "\n",
    "seqr1 = SeqRecord(Seq(seq1),id=\"seq1\")\n",
    "seqr2 = SeqRecord(Seq(seq2),id=\"seq2\")\n",
    "alin = MultipleSeqAlignment([seqr1, seqr2])\n",
    "print (alin)\n"
   ]
  },
  {
   "cell_type": "code",
   "execution_count": 85,
   "id": "8a964ba2",
   "metadata": {},
   "outputs": [
    {
     "data": {
      "text/plain": [
       "2"
      ]
     },
     "execution_count": 85,
     "metadata": {},
     "output_type": "execute_result"
    }
   ],
   "source": [
    "align1 = MultipleSeqAlignment([SeqRecord(Seq(\"ACTGCTAGC\"), id=\"A\"), \n",
    "    SeqRecord(Seq(\"ACT-CTAGC\"), id=\"B\"), \n",
    "    SeqRecord(Seq(\"ACTGCTAGD\"), id=\"C\"), ]) \n",
    "align2 = MultipleSeqAlignment([ SeqRecord(Seq(\"TCAGC-AG\"), id=\"D\"), \n",
    "    SeqRecord(Seq(\"ACAGCTAG\"), id=\"E\"), \n",
    "    SeqRecord(Seq(\"TCAGCTAG\"), id=\"F\"), ])\n",
    "\n",
    "my_alignments = [align1, align2]\n",
    "\n",
    "AlignIO.write(my_alignments, \"my_example.phy\", \"phylip\") \n",
    "AlignIO.write(my_alignments, \"my_exampl.sth\", \"stockholm\")\n",
    "AlignIO.write(my_alignments, \"my_examp.faa\", \"fasta\")"
   ]
  },
  {
   "cell_type": "code",
   "execution_count": 83,
   "id": "a7e4e612",
   "metadata": {},
   "outputs": [
    {
     "ename": "ValueError",
     "evalue": "More than one record found in handle",
     "output_type": "error",
     "traceback": [
      "\u001b[0;31m---------------------------------------------------------------------------\u001b[0m",
      "\u001b[0;31mValueError\u001b[0m                                Traceback (most recent call last)",
      "Cell \u001b[0;32mIn [83], line 1\u001b[0m\n\u001b[0;32m----> 1\u001b[0m alignment \u001b[39m=\u001b[39m AlignIO\u001b[39m.\u001b[39mread(\u001b[39m\"\u001b[39m\u001b[39mmy_exampl.sth\u001b[39m\u001b[39m\"\u001b[39m, \u001b[39m\"\u001b[39m\u001b[39mstockholm\u001b[39m\u001b[39m\"\u001b[39m)\n\u001b[1;32m      2\u001b[0m \u001b[39mprint\u001b[39m (alignment)\n\u001b[1;32m      4\u001b[0m \u001b[39mprint\u001b[39m (\u001b[39m\"\u001b[39m\u001b[39mtamanho alinhamento \u001b[39m\u001b[39m%i\u001b[39;00m\u001b[39m\"\u001b[39m \u001b[39m%\u001b[39m alignment\u001b[39m.\u001b[39mget_alignment_length() )\n",
      "File \u001b[0;32m~/.local/lib/python3.10/site-packages/Bio/AlignIO/__init__.py:391\u001b[0m, in \u001b[0;36mread\u001b[0;34m(handle, format, seq_count)\u001b[0m\n\u001b[1;32m    389\u001b[0m \u001b[39mtry\u001b[39;00m:\n\u001b[1;32m    390\u001b[0m     \u001b[39mnext\u001b[39m(iterator)\n\u001b[0;32m--> 391\u001b[0m     \u001b[39mraise\u001b[39;00m \u001b[39mValueError\u001b[39;00m(\u001b[39m\"\u001b[39m\u001b[39mMore than one record found in handle\u001b[39m\u001b[39m\"\u001b[39m)\n\u001b[1;32m    392\u001b[0m \u001b[39mexcept\u001b[39;00m \u001b[39mStopIteration\u001b[39;00m:\n\u001b[1;32m    393\u001b[0m     \u001b[39mpass\u001b[39;00m\n",
      "\u001b[0;31mValueError\u001b[0m: More than one record found in handle"
     ]
    }
   ],
   "source": [
    "alignment = AlignIO.read(\"my_exampl.sth\", \"stockholm\")\n",
    "print (alignment)\n",
    " \n",
    "print (\"tamanho alinhamento %i\" % alignment.get_alignment_length() )\n",
    " \n",
    "for record in alignment:\n",
    "    print (\"%s - %s\" % (record.seq, record.id) )\n",
    "for record in alignment:\n",
    "    if record.dbxrefs: \n",
    "        print (record.id, record.dbxrefs)"
   ]
  },
  {
   "cell_type": "code",
   "execution_count": null,
   "id": "bc046cdc",
   "metadata": {},
   "outputs": [],
   "source": [
    "alignment = AlignIO.read(\"MTNR1B.faa\", \"fasta\")\n",
    "print (alignment )\n",
    "\n",
    "print (\"tam. alinhamento %i\" % alignment.get_alignment_length() )\n",
    " \n",
    "for record in alignment:\n",
    "    print (\"%s - %s\" % (record.seq, record.id) )"
   ]
  },
  {
   "cell_type": "markdown",
   "id": "af97e70d",
   "metadata": {},
   "source": [
    "Multiplos alinhamentos (formato phylip)"
   ]
  },
  {
   "cell_type": "code",
   "execution_count": null,
   "id": "eae46cdb",
   "metadata": {},
   "outputs": [],
   "source": [
    "alignments = AlignIO.parse(\"MTNR1B.phy\", \"phylip\") \n",
    "for alignment in alignments: \n",
    "    print (alignment)"
   ]
  },
  {
   "cell_type": "code",
   "execution_count": null,
   "id": "c15e0929",
   "metadata": {},
   "outputs": [],
   "source": [
    "lalignments = list(AlignIO.parse(\"MTNR1B.phy\", \"phylip\")) \n",
    "print (lalignments[-1])\n",
    "print (lalignments[0])"
   ]
  },
  {
   "cell_type": "markdown",
   "id": "4d943faf",
   "metadata": {},
   "source": [
    "arvore filo"
   ]
  },
  {
   "cell_type": "code",
   "execution_count": null,
   "id": "bc3b6221",
   "metadata": {},
   "outputs": [],
   "source": [
    "tree = Phylo.read(\"example.dnd\", \"newick\")"
   ]
  },
  {
   "cell_type": "code",
   "execution_count": null,
   "id": "79b77d09",
   "metadata": {},
   "outputs": [],
   "source": [
    "Phylo.draw_ascii(tree)"
   ]
  },
  {
   "cell_type": "code",
   "execution_count": null,
   "id": "0a229e03",
   "metadata": {},
   "outputs": [],
   "source": [
    "Phylo.convert(\"int_node_labels.nwk\", \"newick\", \"tree.xml\", \"phyloxml\")"
   ]
  }
 ],
 "metadata": {
  "kernelspec": {
   "display_name": "Python 3.10.6 64-bit",
   "language": "python",
   "name": "python3"
  },
  "language_info": {
   "codemirror_mode": {
    "name": "ipython",
    "version": 3
   },
   "file_extension": ".py",
   "mimetype": "text/x-python",
   "name": "python",
   "nbconvert_exporter": "python",
   "pygments_lexer": "ipython3",
   "version": "3.10.6"
  },
  "vscode": {
   "interpreter": {
    "hash": "916dbcbb3f70747c44a77c7bcd40155683ae19c65e1c03b4aa3499c5328201f1"
   }
  }
 },
 "nbformat": 4,
 "nbformat_minor": 5
}
