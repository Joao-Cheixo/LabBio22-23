{
 "cells": [
  {
   "cell_type": "markdown",
   "id": "2a41de01",
   "metadata": {},
   "source": [
    "## Análise da literatura"
   ]
  },
  {
   "cell_type": "code",
   "execution_count": 2,
   "id": "07b3c638",
   "metadata": {},
   "outputs": [],
   "source": [
    "from Bio import Entrez"
   ]
  },
  {
   "cell_type": "code",
   "execution_count": 3,
   "id": "c4a8c83d",
   "metadata": {},
   "outputs": [],
   "source": [
    "Entrez.email = \"pg49837@uminho.pt\"\n",
    "handle = Entrez.einfo()"
   ]
  },
  {
   "cell_type": "code",
   "execution_count": 4,
   "id": "a330619f",
   "metadata": {},
   "outputs": [],
   "source": [
    "result = Entrez.read(handle)\n",
    "#handle.close()"
   ]
  },
  {
   "cell_type": "code",
   "execution_count": 5,
   "id": "4813f2e1",
   "metadata": {},
   "outputs": [
    {
     "data": {
      "text/plain": [
       "['pubmed', 'protein', 'nuccore', 'ipg', 'nucleotide', 'structure', 'genome', 'annotinfo', 'assembly', 'bioproject', 'biosample', 'blastdbinfo', 'books', 'cdd', 'clinvar', 'gap', 'gapplus', 'grasp', 'dbvar', 'gene', 'gds', 'geoprofiles', 'homologene', 'medgen', 'mesh', 'nlmcatalog', 'omim', 'orgtrack', 'pmc', 'popset', 'proteinclusters', 'pcassay', 'protfam', 'pccompound', 'pcsubstance', 'seqannot', 'snp', 'sra', 'taxonomy', 'biocollections', 'gtr']"
      ]
     },
     "execution_count": 5,
     "metadata": {},
     "output_type": "execute_result"
    }
   ],
   "source": [
    "result[\"DbList\"]"
   ]
  },
  {
   "cell_type": "code",
   "execution_count": 6,
   "id": "4d4cf2b3",
   "metadata": {},
   "outputs": [
    {
     "data": {
      "text/plain": [
       "'PubMed bibliographic record'"
      ]
     },
     "execution_count": 6,
     "metadata": {},
     "output_type": "execute_result"
    }
   ],
   "source": [
    "handle = Entrez.einfo(db=\"pubmed\")\n",
    "record = Entrez.read(handle)\n",
    "record[\"DbInfo\"][\"Description\"]"
   ]
  },
  {
   "cell_type": "code",
   "execution_count": 7,
   "id": "96e40866",
   "metadata": {},
   "outputs": [
    {
     "name": "stdout",
     "output_type": "stream",
     "text": [
      "ALL, All Fields, All terms from all searchable fields\n",
      "UID, UID, Unique number assigned to publication\n",
      "FILT, Filter, Limits the records\n",
      "TITL, Title, Words in title of publication\n",
      "WORD, Text Word, Free text associated with publication\n",
      "MESH, MeSH Terms, Medical Subject Headings assigned to publication\n",
      "MAJR, MeSH Major Topic, MeSH terms of major importance to publication\n",
      "AUTH, Author, Author(s) of publication\n",
      "JOUR, Journal, Journal abbreviation of publication\n",
      "AFFL, Affiliation, Author's institutional affiliation and address\n",
      "ECNO, EC/RN Number, EC number for enzyme or CAS registry number\n",
      "SUBS, Supplementary Concept, CAS chemical name or MEDLINE Substance Name\n",
      "PDAT, Date - Publication, Date of publication\n",
      "EDAT, Date - Entrez, Date publication first accessible through Entrez\n",
      "VOL, Volume, Volume number of publication\n",
      "PAGE, Pagination, Page number(s) of publication\n",
      "PTYP, Publication Type, Type of publication (e.g., review)\n",
      "LANG, Language, Language of publication\n",
      "ISS, Issue, Issue number of publication\n",
      "SUBH, MeSH Subheading, Additional specificity for MeSH term\n",
      "SI, Secondary Source ID, Cross-reference from publication to other databases\n",
      "MHDA, Date - MeSH, Date publication was indexed with MeSH terms\n",
      "TIAB, Title/Abstract, Free text associated with Abstract/Title\n",
      "OTRM, Other Term, Other terms associated with publication\n",
      "INVR, Investigator, Investigator\n",
      "COLN, Author - Corporate, Corporate Author of publication\n",
      "CNTY, Place of Publication, Country of publication\n",
      "PAPX, Pharmacological Action, MeSH pharmacological action pre-explosions\n",
      "GRNT, Grant Number, NIH Grant Numbers\n",
      "MDAT, Date - Modification, Date of last modification\n",
      "CDAT, Date - Completion, Date of completion\n",
      "PID, Publisher ID, Publisher ID\n",
      "FAUT, Author - First, First Author of publication\n",
      "FULL, Author - Full, Full Author Name(s) of publication\n",
      "FINV, Investigator - Full, Full name of investigator\n",
      "TT, Transliterated Title, Words in transliterated title of publication\n",
      "LAUT, Author - Last, Last Author of publication\n",
      "PPDT, Print Publication Date, Date of print publication\n",
      "EPDT, Electronic Publication Date, Date of Electronic publication\n",
      "LID, Location ID, ELocation ID\n",
      "CRDT, Date - Create, Date publication first accessible through Entrez\n",
      "BOOK, Book, ID of the book that contains the document\n",
      "ED, Editor, Section's Editor\n",
      "ISBN, ISBN, ISBN\n",
      "PUBN, Publisher, Publisher's name\n",
      "AUCL, Author Cluster ID, Author Cluster ID\n",
      "EID, Extended PMID, Extended PMID\n",
      "DSO, DSO, Additional text from the summary\n",
      "AUID, Author - Identifier, Author Identifier\n",
      "PS, Subject - Personal Name, Personal Name as Subject\n",
      "COIS, Conflict of Interest Statements, Conflict of Interest Statements\n"
     ]
    }
   ],
   "source": [
    "for field in record[\"DbInfo\"][\"FieldList\"]:\n",
    "    print(\"%(Name)s, %(FullName)s, %(Description)s\" %field)"
   ]
  },
  {
   "cell_type": "code",
   "execution_count": 8,
   "id": "f0673160",
   "metadata": {},
   "outputs": [],
   "source": [
    "handle = Entrez.esearch(db = \"pubmed\", term = \"MTNR1B[title]\", retmax =\"40\")\n",
    "record = Entrez.read(handle)"
   ]
  },
  {
   "cell_type": "code",
   "execution_count": 9,
   "id": "7fcb2793",
   "metadata": {},
   "outputs": [],
   "source": [
    "id_List = record[\"IdList\"]"
   ]
  },
  {
   "cell_type": "code",
   "execution_count": 10,
   "id": "789ac0ae",
   "metadata": {},
   "outputs": [
    {
     "data": {
      "text/plain": [
       "'104'"
      ]
     },
     "execution_count": 10,
     "metadata": {},
     "output_type": "execute_result"
    }
   ],
   "source": [
    "record[\"Count\"]"
   ]
  },
  {
   "cell_type": "code",
   "execution_count": 11,
   "id": "fb8cd5e2",
   "metadata": {},
   "outputs": [],
   "source": [
    "handle = Entrez.esearch(db=\"nucleotide\", term = \"Homo sapiens[Orgn] AND MTNR1B[Gene]\", idtype='acc')"
   ]
  },
  {
   "cell_type": "code",
   "execution_count": 12,
   "id": "5a151c01",
   "metadata": {},
   "outputs": [],
   "source": [
    "record = Entrez.read(handle)"
   ]
  },
  {
   "cell_type": "code",
   "execution_count": 13,
   "id": "74ed500b",
   "metadata": {},
   "outputs": [
    {
     "data": {
      "text/plain": [
       "['NM_005959.5', 'NG_028160.1', 'NC_060935.1', 'NC_000011.10', 'XM_011542839.3', 'XM_017017777.2', 'AF467654.1', 'AY114100.1', 'CM000262.1', 'CH471065.1', 'BC069163.1', 'AY408030.1', 'U25341.1', 'AY521019.1']"
      ]
     },
     "execution_count": 13,
     "metadata": {},
     "output_type": "execute_result"
    }
   ],
   "source": [
    "record[\"IdList\"]\n",
    "#record[\"IdList\"][2] refere-se ao genoma humano"
   ]
  },
  {
   "cell_type": "code",
   "execution_count": 15,
   "id": "0f9d58dc",
   "metadata": {},
   "outputs": [
    {
     "name": "stdout",
     "output_type": "stream",
     "text": [
      "\n",
      "Titulo: The rs10830963 Polymorphism of the MTNR1B Gene: Association With Abnormal Glucose, Insulin and C-peptide Kinetics.\n",
      "\n",
      "Abstract: BACKGROUND: The MTNR1B gene encodes a receptor for melatonin, a hormone regulating biorhythms. Disruptions in biorhythms contribute to the development of type 2 diabetes mellitus (T2DM). Genetic studies suggest that variability in the MTNR1B gene affects T2DM development. Our aim was to compare the distribution of the genetic variant rs10830963 between persons differing in glucose tolerance in a sample of the Czech population (N=1206). We also evaluated possible associations of the polymorphism with insulin sensitivity, beta cell function, with the shape of glucose, insulin and C-peptide trajectories measured 7 times during a 3-hour oral glucose tolerance test (OGTT) and with glucagon response. In a subgroup of 268 volunteers we also evaluated sleep patterns and biorhythm. RESULTS: 13 persons were diagnosed with T2DM, 119 had impaired fasting blood glucose (IFG) and/or impaired glucose tolerance (IGT). 1074 participants showed normal results and formed a control group. A higher frequency of minor allele G was found in the IFG/IGT group in comparison with controls. The GG constellation was present in 23% of diabetics, in 17% of IFG/IGT probands and in 11% of controls. Compared to CC and CG genotypes, GG homozygotes showed higher stimulated glycemia levels during the OGTT. Homozygous as well as heterozygous carriers of the G allele showed lower very early phase of insulin and C-peptide secretion with unchanged insulin sensitivity. These differences remained significant after excluding diabetics and the IFG/IGT group from the analysis. No associations of the genotype with the shape of OGTT-based trajectories, with glucagon or with chronobiological patterns were observed. However, the shape of the trajectories differed significantly between men and women. CONCLUSION: In a representative sample of the Czech population, the G allele of the rs10830963 polymorphism is associated with impaired early phase of beta cell function, and this is evident even in healthy individuals.\n",
      "Autores: ['Vejrazkova D', 'Vankova M', 'Vcelak J', 'Krejci H', 'Anderlova K', 'Tura A', 'Pacini G', 'Sumova A', 'Sladek M', 'Bendlova B']\n",
      "Fonte: Front Endocrinol (Lausanne). 2022 Jun 6;13:868364. doi: 10.3389/fendo.2022.868364. eCollection 2022.\n",
      "============================================================================================================================================\n",
      "\n",
      "Titulo: The role of MTNR1B polymorphism on circadian rhythm-related cancer: A UK Biobank cohort study.\n",
      "\n",
      "Abstract: A common G risk allele in the melatonin receptor 1B (MTNR1B, rs10830963) gene has been associated with altered melatonin signaling and secretion. Given that melatonin possesses anticancerogenic properties, we hypothesized that breast and prostate cancer risks vary by rs10830963 genotype. A total of 216 702 participants from the UK Biobank without cancer at baseline (aged 56.4 +/- 8.0 years, 50.79% female) were included. Multivariable Cox regression adjusting for known risk factors for breast or prostate cancer was used to estimate the independent effects of the rs10830963 SNP and chronotype on cancer risk. Over a median follow-up of 8 years, 2367 (2.15% of women) incidences of breast cancer and 2866 (2.69% of men) incidences of prostate cancer were documented in females and males, respectively. rs10830963 genotype is not associated with cancer risk independently (female P(trend)  = .103, male P(trend)  = .281). A late chronotype is associated with breast cancer risk in females (P(trend)  = .014), but not prostate cancer risk in males (P(trend)  = .915). Further stratification analysis revealed that the rs10830963 genotype is associated with a breast cancer risk in females with moderate evening chronotype (P(trend)  = .001) and late chronotype is associated with breast cancer risk in females who carry rs10830963 G risk allele (P(trend)  = .015). Our study suggests that having a late chronotype might increase the risk of breast cancer among females, while the effect of MTNR1B rs10830963 genotype on breast cancer risk is mediated by chronotype.\n",
      "Autores: ['Wu J', 'Tan X']\n",
      "Fonte: Int J Cancer. 2022 Sep 15;151(6):888-896. doi: 10.1002/ijc.34047. Epub 2022 May 9.\n",
      "============================================================================================================================================\n",
      "\n",
      "Titulo: Melatonin reverses tumor necrosis factor-alpha-induced metabolic disturbance of human nucleus pulposus cells via MTNR1B/Galphai2/YAP signaling.\n",
      "\n",
      "Abstract: Background: Intervertebral disc degeneration (IDD), the main cause of low back pain, is closely related to the inflammatory microenvironment in the nucleus pulposus (NP). Tumor necrosis factor-alpha (TNF-alpha) plays an important role in inflammation-related metabolic disturbance of NP cells. Melatonin has been proven to regulate the metabolism of NP cells, but whether it can protect NP cells from TNF-alpha-induced damage is still unclear. Therefore, this study aims to investigate the role and specific mechanism of melatonin on regulating the metabolism of NP cells in the inflammatory microenvironment. Methods: Western blotting, RT-qPCR and immunohistochemistry were used to detect the expression of melatonin membrane receptors (MTNR1A/B) and TNF-alpha in human NP tissues. In vitro, human primary NP cells were treated with or without vehicle, TNF-alpha and melatonin. And the metabolic markers were also detected by western blotting and RT-qPCR. The activity of NF-kappaB signaling and Hippo/YAP signaling were assessed by western blotting and immunofluorescence. Membrane receptors inhibitors, pathway inhibitors, lentiviral infection, plasmids transfection and immunoprecipitation were used to explore the specific mechanism of melatonin. In vivo, the rat IDD model was constructed and melatonin was injected intraperitoneally to evaluate its therapeutical effect on IDD. Results: The upregulation of TNF-alpha and downregulation of melatonin membrane receptors (MTNR1A/B) were observed in degenerative NP tissues. Then we demonstrated that melatonin could alleviate the development of IDD in a rat model and reverse TNF-alpha-impaired metabolism of NP cells in vitro. Further investigation revealed that the protective effects of melatonin on NP cells mainly rely on MTNR1B, which subsequently activates Galphai2 protein. The activation of Galphai2 could upregulate the yes-associated protein (YAP) level, resulting in anabolic enhancement of NP cells. In addition, melatonin-mediated YAP upregulation increased the expression of IkappaBalpha and suppressed the TNF-alpha-induced activation of the NF-kappaB pathway, thereby inhibiting the catabolism of NP cells. Conclusions: Our results revealed that melatonin can reverse TNF-alpha-impaired metabolism of NP cells via the MTNR1B/Galphai2/YAP axis and suggested that melatonin can be used as a potential therapeutic drug in the treatment of IDD.\n",
      "Autores: ['Qiu X', 'Liang T', 'Wu Z', 'Zhu Y', 'Gao W', 'Gao B', 'Qiu J', 'Wang X', 'Chen T', 'Deng Z', 'Li P', 'Chen Y', 'Zhou H', 'Peng Y', 'Xu C', 'Su P', 'Liang A', 'Huang D']\n",
      "Fonte: Int J Biol Sci. 2022 Mar 6;18(5):2202-2219. doi: 10.7150/ijbs.65973. eCollection 2022.\n",
      "============================================================================================================================================\n",
      "\n",
      "Titulo: Night Shift Work, MTNR1B rs10830963 Polymorphism, and Prostate Cancer Risk: Findings from a Prospective, Population-Based Study.\n",
      "\n",
      "Abstract: BACKGROUND: The association between night shift work and prostate cancer is controversial. Evidence shows that genetic and environmental factors both contribute to the development of prostate cancer. It is well known that melatonin plays a protective role in prostate cancer. Melatonin receptor 1B gene (MTNR1B) rs10830963 influences the dynamics of melatonin secretion, and night shift work, which disrupts our internal circadian rhythms, also dysregulates the production of melatonin. Therefore, we aimed to examine the interaction between night shift work and rs10830963 polymorphism on prostate cancer. METHODS: This is a prospective cohort study based on UK Biobank that included 133,416 employed male participants. Exposures included night shift work and rs10830963 polymorphism. The primary outcome was the incidence of prostate cancer. Cox regression analysis was used to estimate the association of night shift work and MTNR1B rs10830963 with prostate cancer. RESULTS: A significant interaction was found between night shift work and MTNR1B rs10830963 on the incidence of prostate cancer (P = 0.009). Among non-night shift workers, rs10830963 polymorphism was not significantly associated with the risk of prostate cancer. Among night shift workers, compared with CC carriers, GC carriers had a significantly lower risk of prostate cancer [HR: 0.69; 95% confidence interval (CI): 0.51-0.93], and similar associations were more evident for GG carriers (HR: 0.33; 95% CI: 0.15-0.75). CONCLUSIONS: Compared with MTNR1B rs10830963 CC, carrying allele G may reduce the risk of prostate cancer when exposed to night shift work. IMPACT: These results suggest that rs10830963 G carriers may have a lower risk of prostate cancer when taking night shifts.\n",
      "Autores: ['Yang L', 'Chen J', 'Feng H', 'Ai S', 'Liu Y', 'Chen X', 'Lei B', 'Chan JWY', 'Chau SWH', 'Tse LA', 'Ho AW', 'Ho CS', 'Wing YK', 'Zhang J']\n",
      "Fonte: Cancer Epidemiol Biomarkers Prev. 2022 Apr 1;31(4):728-735. doi: 10.1158/1055-9965.EPI-21-1108.\n",
      "============================================================================================================================================\n",
      "\n",
      "Titulo: KIBRA, MTNR1B, and FKBP5 genotypes are associated with decreased odds of incident delirium in elderly post-surgical patients.\n",
      "\n",
      "Abstract: Despite the association between cognitive impairment and delirium, little is known about whether genetic differences that confer cognitive resilience also confer resistance to delirium. To investigate whether older adults without postoperative delirium, compared with those with postoperative delirium, are more likely to have specific single nucleotide polymorphisms (SNPs) in the FKBP5, KIBRA, KLOTHO, MTNR1B, and SIRT1 genes known to be associated with cognition or delirium. This prospective nested matched exploratory case-control study included 94 older adults who underwent orthopedic surgery and screened for postoperative delirium. Forty-seven subjects had incident delirium, and 47 age-matched controls were not delirious. The primary study outcome was genotype frequency for the five SNPs. Compared with participants with delirium, those without delirium had higher adjusted odds of KIBRA SNP rs17070145 CT/TT [vs. CC; adjusted odds ratio (aOR) 2.80, 95% confidence interval (CI) 1.03, 7.54; p = 0.04] and MTNR1B SNP rs10830963 CG/GG (vs. CC; aOR 4.14, 95% CI 1.36, 12.59; p = 0.01). FKBP5 SNP rs1360780 CT/TT (vs. CC) demonstrated borderline increased adjusted odds of not developing delirium (aOR 2.51, 95% CI 1.00, 7.34; p = 0.05). Our results highlight the relevance of KIBRA, MTNR1B, and FKBP5 in understanding the complex relationship between delirium, cognition, and sleep, which warrant further study in larger, more diverse populations.\n",
      "Autores: ['Terrelonge M', 'LaHue SC', 'Tang C', 'Movsesyan I', 'Pullinger CR', 'Dubal DB', 'Leung J', 'Douglas VC']\n",
      "Fonte: Sci Rep. 2022 Jan 11;12(1):556. doi: 10.1038/s41598-021-04416-z.\n",
      "============================================================================================================================================\n",
      "\n",
      "Titulo: Interplay of Dinner Timing and MTNR1B Type 2 Diabetes Risk Variant on Glucose Tolerance and Insulin Secretion: A Randomized Crossover Trial.\n",
      "\n",
      "Abstract: OBJECTIVE: We tested whether the concurrence of food intake and elevated concentrations of endogenous melatonin, as occurs with late eating, results in impaired glucose control, in particular in carriers of the type 2 diabetes-associated G allele in the melatonin receptor-1B gene (MTNR1B). RESEARCH DESIGN AND METHODS: In a Spanish natural late-eating population, a randomized, crossover study was performed. Each participant (n = 845) underwent two evening 2-h 75-g oral glucose tolerance tests following an 8-h fast: an early condition scheduled 4 h prior to habitual bedtime (\"early dinner timing\") and a late condition scheduled 1 h prior to habitual bedtime (\"late dinner timing\"), simulating an early and a late dinner timing, respectively. Differences in postprandial glucose and insulin responses between early and late dinner timing were determined using incremental area under the curve (AUC) calculated by the trapezoidal method. RESULTS: Melatonin serum levels were 3.5-fold higher in the late versus early condition, with late dinner timing resulting in 6.7% lower insulin AUC and 8.3% higher glucose AUC. The effect of late eating impairing glucose tolerance was stronger in the MTNR1B G-allele carriers than in noncarriers. Genotype differences in glucose tolerance were attributed to reductions in beta-cell function (P for interaction, Pint glucose area under the curve = 0.009, Pint corrected insulin response = 0.022, and Pint disposition index = 0.018). CONCLUSIONS: Concurrently high endogenous melatonin and carbohydrate intake, as typical for late eating, impairs glucose tolerance, especially in MTNR1B G-risk allele carriers, attributable to insulin secretion defects.\n",
      "Autores: ['Garaulet M', 'Lopez-Minguez J', 'Dashti HS', 'Vetter C', 'Hernandez-Martinez AM', 'Perez-Ayala M', 'Baraza JC', 'Wang W', 'Florez JC', 'Scheer FAJL', 'Saxena R']\n",
      "Fonte: Diabetes Care. 2022 Mar 1;45(3):512-519. doi: 10.2337/dc21-1314.\n",
      "============================================================================================================================================\n",
      "\n",
      "Titulo: No association between a common type 2 diabetes risk gene variant in the melatonin receptor gene (MTNR1B) and mortality among type 2 diabetes patients.\n",
      "\n",
      "Abstract: The minor G risk allele in the common melatonin receptor gene (MTNR1B, rs10830963) has been associated with an increased risk of myocardial infarction among patients with type 2 diabetes (T2D). Furthermore, activating the melatonin receptor 1B through melatonin has been shown to promote cell proliferation, which could be hypothesized to increase cancer risk. Cardiovascular disease (CVD) and cancer are common causes of death among patients with T2D. Using data from 14 736  patients with T2D who participated in the UK Biobank investigation, we hypothesized an additive effect of the G risk allele on all-cause mortality, CVD mortality, and cancer mortality. As shown by Cox regression adjusted for confounders such as age, glucose-lowering medication, and socioeconomic status, no significant trend between the number of G risk alleles and mortality outcomes was found during the follow-up period of 11.1 years. Our negative findings do not speak against the role of this gene variant in the development of T2D, as repeatedly shown by previous large-scale studies. Instead, they may suggest that rs10830963 is less relevant for mortality risk in patients with T2D.\n",
      "Autores: ['Xue P', 'Tan X', 'Wu J', 'Tang X', 'Benedict C']\n",
      "Fonte: J Pineal Res. 2022 Mar;72(2):e12785. doi: 10.1111/jpi.12785. Epub 2022 Jan 8.\n",
      "============================================================================================================================================\n",
      "\n",
      "Titulo: Interaction between rs10830962 polymorphism in MTNR1B and lifestyle intervention on maternal and neonatal outcomes: secondary analyses of the DALI lifestyle randomized controlled trial.\n",
      "\n",
      "Abstract: BACKGROUND: Interactions between polymorphisms of the melatonin receptor 1B (MTNR1B) gene and lifestyle intervention for gestational diabetes have been described. Whether these are specific for physical activity or the healthy eating intervention is unknown. OBJECTIVES: The aim was to assess the interaction between MTNR1B rs10830962 and rs10830963 polymorphisms and lifestyle interventions during pregnancy. METHODS: Women with a BMI (in kg/m2) of >/=29 (n = 436) received counseling on healthy eating (HE), physical activity (PA), or both. The control group received usual care. This secondary analysis had a factorial design with comparison of HE compared with no HE and PA compared with no PA. Maternal outcomes at 24-28 wk were gestational weight gain (GWG), maternal fasting glucose, insulin, insulin resistance (HOMA-IR), disposition index, and development of GDM. Neonatal outcomes were cord blood leptin and C-peptide and estimated neonatal fat percentage. The interaction between receiving either the HE or PA intervention and genotypes of both rs10830962 and rs10830963 was assessed using multilevel regression analysis. RESULTS: GDM risk was increased in women homozygous for the G allele of rs10830962 (OR: 2.60; 95% CI: 1.34, 5.06) or rs10830963 (OR: 2.83; 95% CI: 1.24, 6.47). Significant interactions between rs10830962 and interventions were found: in women homozygous for the G allele but not in the other genotypes, the PA intervention reduced maternal fasting insulin (beta: -0.16; 95% CI: -0.33, 0.02; P = 0.08) and HOMA-IR (beta: -0.17; 95% CI: -0.35, 0.01; P = 0.06), and reduced cord blood leptin (beta: -0.84; 95% CI: -1.42, -0.25; P = 0.01) and C-peptide (beta: -0.62; 95% CI: -1.07, -0.17; P = 0.01). In heterozygous women, the HE intervention had no effect, whereas in women homozygous for the C allele, HE intervention reduced GWG (beta: -1.6 kg; 95% CI: -2.4, -0.8 kg). No interactions were found. CONCLUSIONS: In women homozygous for the risk allele of MTNR1B rs10830962, GDM risk was increased and PA intervention might be more beneficial than HE intervention for reducing maternal insulin resistance, cord blood C-peptide, and cord blood leptin.\n",
      "Autores: ['van Poppel MNM', 'Corcoy R', 'Hill D', 'Simmons D', 'Mendizabal L', 'Zulueta M', 'Simon L', 'Desoye G']\n",
      "Fonte: Am J Clin Nutr. 2022 Feb 9;115(2):388-396. doi: 10.1093/ajcn/nqab347.\n",
      "============================================================================================================================================\n",
      "\n",
      "Titulo: MTNR1B polymorphisms with CDKN2A and MGMT methylation status are associated with poor prognosis of colorectal cancer in Taiwan.\n",
      "\n",
      "Abstract: BACKGROUND: Identifying novel colorectal cancer (CRC) prognostic biomarkers is crucial to helping clinicians make appropriate therapy decisions. Melatonin plays a major role in managing the circadian rhythm and exerts oncostatic effects on different kinds of tumours. AIM: To explore the relationship between MTNR1B single-nucleotide polymorphism (SNPs) combined with gene hypermethylation and CRC prognosis. METHODS: A total of 94 CRC tumour tissues were investigated. Genotyping for the four MTNR1B SNPs (rs1387153, rs2166706, rs10830963, and rs1447352) was performed using multiplex polymerase chain reaction. The relationships between the MTNR1B SNPs and CRC 5-year overall survival (OS) was assessed by calculating hazard ratios with 95%CIs. RESULTS: All SNPs (rs1387153, rs2166706, rs10830963, and rs1447352) were correlated with decreased 5-year OS. In stratified analysis, rs1387153, rs10830963, and rs1447352 risk genotype combined with CDKN2A and MGMT methylation status were associated with 5-year OS. A strong cumulative effect of the four polymorphisms on CRC prognosis was observed. Four haplotypes of MTNR1B SNPs were also associated with the 5-year OS. MTNR1B SNPs combined with CDKN2A and MGMT gene methylation status could be used to predict shorter CRC survival. CONCLUSION: The novel genetic biomarkers combined with epigenetic biomarkers may be predictive tool for CRC prognosis and thus could be used to individualise treatment for patients with CRC.\n",
      "Autores: ['Lee CC', 'Kuo YC', 'Hu JM', 'Chang PK', 'Sun CA', 'Yang T', 'Li CW', 'Chen CY', 'Lin FH', 'Hsu CH', 'Chou YC']\n",
      "Fonte: World J Gastroenterol. 2021 Sep 14;27(34):5737-5752. doi: 10.3748/wjg.v27.i34.5737.\n",
      "============================================================================================================================================\n",
      "\n",
      "Titulo: Evaluation of the effect of MTNR1B rs10830963 gene variant on the therapeutic efficacy of nateglinide in treating type 2 diabetes among Chinese Han patients.\n",
      "\n",
      "Abstract: Genetic polymorphisms in the MTNR1B gene is associated with type 2 diabetes mellitus (T2DM); however, there is no evidence about its impact on the therapeutic efficacy of nateglinide. This prospective case-control study was designed to investigate the effect of MTNR1B rs10830963 gene variant on the therapeutic efficacy of nateglinide in treating T2DM. We genotyped untreated T2DM patients (N = 200) and healthy controls (N = 200) using the method of the high resolution of melting curve (HRM). Newly diagnosed T2DM patients (n = 60) with CYP2C9*1 and SLCO1B1 521TT genotypes were enrolled and given oral nateglinide (360 mg/d) for 8 weeks. The outcome was measured by collecting the venous blood samples before and at the 8th week of the treatment. The risk G allelic frequency of MTNR1B rs10830963 was higher in T2DM patients than the healthy subjects (P < 0.05). Post 8-week of treatment, newly diagnosed T2DM patients showed a less reduction in fasting plasma glucose levels and less increase in the carriers of genotype CG + GG at rs10830963 when compared with the CC genotype (P < 0.05). MTNR1B rs10830963 polymorphism was associated with the therapeutic efficacy of nateglinide in T2DM patients. Also, the CC homozygotes had a better effect than G allele carriers.Trial registration Chinese Clinical Trial Register ChiCTR13003536, date of registration: May 14, 2013.\n",
      "Autores: ['Song JF', 'Zhang J', 'Zhang MZ', 'Ni J', 'Wang T', 'Zhao YQ', 'Khan NU']\n",
      "Fonte: BMC Med Genomics. 2021 Jun 12;14(1):156. doi: 10.1186/s12920-021-01004-y.\n",
      "============================================================================================================================================\n",
      "\n",
      "Titulo: Type 2 diabetes is associated with the MTNR1B gene, a genetic bridge between circadian rhythm and glucose metabolism, in a Turkish population.\n",
      "\n",
      "Abstract: Type 2 diabetes (T2D) is a complicated public health problem in Turkey as well as worldwide. Genome-wide approaches have been guiding in very challenging situations, such as the elucidation of genetic variations underlying complex diseases such as T2D. Despite intensive studies worldwide, few studies have determined the genetic susceptibility to T2D in Turkish populations. In this study, we investigated the effect of genes that are strongly associated with T2D in genome-wide association (GWA) studies, including MTNR1B, CDKAL1, THADA, ADAMTS9 and ENPP1, on T2D and its characteristic traits in a Turkish population. In 824 nonobese individuals (454 T2D patients and 370 healthy individuals), prominent variants of these GWA genes were genotyped by real-time PCR using the LightSNiP Genotyping Assay System. The SNP rs1387153 C/T, which is located 28 kb upstream of the MTNR1B gene, was significantly associated with T2D and fasting blood glucose levels (P < 0.05). The intronic SNP rs10830963 C/G in the MTNR1B gene was not associated with T2D, but it was associated with fasting blood glucose, HbA1C and LDL levels (P < 0.05). The other important GWA loci investigated in our study were not found to be associated with T2D or its traits. Only the SNP rs1044498 (A/C variation) in the ENPP1 gene was determined to be related to fasting blood glucose (P < 0.05). Our study suggests, consistent with the literature, that the MTNR1B locus, which has a prominent role in glucose regulation, is associated with T2D development by affecting blood glucose levels in our population.\n",
      "Autores: ['Arikoglu H', 'Erkoc-Kaya D', 'Ipekci SH', 'Gokturk F', 'Iscioglu F', 'Korez MK', 'Baldane S', 'Gonen MS']\n",
      "Fonte: Mol Biol Rep. 2021 May;48(5):4181-4189. doi: 10.1007/s11033-021-06431-9. Epub 2021 Jun 11.\n",
      "============================================================================================================================================\n",
      "\n",
      "Titulo: Association between MTNR1B polymorphisms and obesity in African American: findings from the Jackson Heart Study.\n",
      "\n",
      "Abstract: BACKGROUND: Melatonin is a hormone that is secreted at night by the pineal gland. It exerts its function by binding to the MT(1) and MT(2) receptors, which are encoded by the MTNR1A and MTNR1B genes, respectively. Previous studies reveal that MTNR1B variants are associated with insulin secretion impairments and an increased body mass index (BMI) in individuals of European and Asian ancestries. Obesity is highly prevalent in the US and disproportionately affects African Americans. Here, we hypothesized that common single nucleotide polymorphisms (SNPs) imputed in 1000 Genomes in the MTNR1B gene are associated with adiposity in African American adult men and women and that the association is modified by insomnia. METHODS: We used an additive genetic model to describe the association between the adiposity traits (BMI and waist circumference) and selected MTNR1B variants in 3,029 Jackson Heart Study participants, with an average age of 55.13 +/- 12.84 years, and 62% were women. We regressed the adiposity measures on the estimated allelic or genotypic dosage at every selected SNP and adjusted for age, sex, population stratification, and insomnia. Thirty common SNPs, spanning the MTNR1B gene, with a minor allele frequency >/= 5%, a call rate >/= 90%, a Hardy-Weinberg equilibrium p value > 10(-6), were available for the analysis. RESULTS: The allele T of rs76371840 was associated with adiposity (OR = 1.47 [1.13-1.82]; P(FDR-adjusted) = 0.0499), and the allele A of rs8192552 showed a significant association with waist circumference (beta = 0.023 +/- 0.007; P(FDR-adjusted) = 0.0077) after correcting for multiple testing. When insomnia was included in the adiposity analysis model, the following four variants became significantly associated with adiposity: rs6483208; rs4388843; rs4601728; and rs12804291. CONCLUSIONS: Our data indicate that polymorphisms in the MTNR1B gene are associated with obesity traits in African Americans. To the best of our knowledge, this is the first study to explore the effect of insomnia on the association between the circadian MTNR1B genetic variants and metabolic traits in an African American sample population. We observed that insomnia affected the association between the MTNR1B variants and adiposity.\n",
      "Autores: ['Tchio C', 'Musani SK', 'Quarshie A', 'Tosini G']\n",
      "Fonte: BMC Med Genomics. 2021 May 21;14(1):136. doi: 10.1186/s12920-021-00983-2.\n",
      "============================================================================================================================================\n",
      "\n",
      "Titulo: Does the Common Type 2 Diabetes-Susceptibility Variant in the MTNR1B Gene Matter for Glycemic Control Among Patients on Antidiabetic Pharmacotherapy?\n",
      "\n",
      "Abstract: Vazio\n",
      "Autores: ['Tan X', 'Benedict C']\n",
      "Fonte: Mayo Clin Proc. 2021 May;96(5):1372-1374. doi: 10.1016/j.mayocp.2021.03.005.\n",
      "============================================================================================================================================\n",
      "\n",
      "Titulo: Melatonin Alleviates Hypoxia-Induced Apoptosis of Granulosa Cells by Reducing ROS and Activating MTNR1B-PKA-Caspase8/9 Pathway.\n",
      "\n",
      "Abstract: In mammalian ovaries, the avascular environment within follicular cavity is supposed to cause hypoxic status in granulosa cells (GCs), leading to apoptotic cell death accompanied by cumulative reactive oxygen species (ROS) production. Melatonin (N-acetyl-5-methoxytryptamine, MT), a broad-spectrum antioxidant that exists in porcine follicle fluid, was suggested to maintain GCs survival under stress conditions. In this study, using the established hypoxic model (1% O(2)) of cultured porcine GCs, we explored the effect of MT on GCs apoptosis. The results showed that MT restored cell viability and reduced the apoptosis of GCs during hypoxia exposure. In addition, GCs treated with MT exhibited decreased ROS levels and increased expression of antioxidant enzymes including heme oxygenase-1 (HO-1), glutathione S-transferase (GST), superoxide dismutase 1 (SOD1), and catalase (CAT) upon hypoxia incubation. Moreover, the hypoxia-induced expression of cleaved caspase 3, 8, and 9 was significantly inhibited after MT treatment. In contrast, blocking melatonin receptor 2 (MTNR1B) with a competitive antagonist 4-phenyl-2-propionamidotetralin (4P-PDOT) diminished the inhibitory effects of MT on caspase 3 activation. By detecting levels of protein kinase (PKA), a downstream kinase of MTNR1B, we further confirmed the involvement of MT-MTNR1B signaling in mediating GCs protection during hypoxia stress. Together, the present data provide mechanistic evidence suggesting the role of MT in defending GCs from hypoxia-induced apoptosis.\n",
      "Autores: ['Tao JL', 'Zhang X', 'Zhou JQ', 'Li CY', 'Yang MH', 'Liu ZJ', 'Zhang LL', 'Deng SL', 'Zhang L', 'Shen M', 'Liu GS', 'Liu HL']\n",
      "Fonte: Antioxidants (Basel). 2021 Jan 28;10(2):184. doi: 10.3390/antiox10020184.\n",
      "============================================================================================================================================\n",
      "\n",
      "Titulo: A circadian rhythm-related MTNR1B genetic variant (rs10830963) modulates glucose metabolism and insulin resistance after body weight loss secondary to biliopancreatic diversion surgery.\n",
      "\n",
      "Abstract: Objective: the rs10830963 SNP of the MTNR1B gene may be related with biochemical changes after weight loss induced by caloric restriction. We investigated the role of this SNP on biochemical parameters after biliopancreatic diversion (BPD) surgery in morbid obese subjects. Patients and methods: one hundred and fifty-four patients with morbid obesity, without diabetes mellitus type 2, were enrolled. Their biochemical and anthropometric parameters were recorded before the procedure and after one, two, and three years of follow-up. All subjects were genotyped (rs10830963) at baseline. Results: the decrease in fasting insulin levels seen after the first year (delta: -3.9 +/- 1.2 mIU/L vs. -1.8 +/- 1.1 mIU/L; p = 0.03), the second year (delta: -5.0 +/- 0.3 mIU/L vs. -2.3 +/- 0.2 mIU/L; p = 0.01) and the third year (delta: -5.1 +/- 1.9 mIU/L vs. -2.8 +/- 1.1 mIU/L; p = 0.02) was higher in non-G-allele carriers than in G-allele carriers. Additionally, the improvement of HOMA-IR levels at year one (delta: -0.7 +/- 0.2 mIU/L vs. -0.2 +/- 0.2 mIU/L; p = 0.03), year two (delta: -1.0 +/- 0.3 mIU/L vs. -0.5 +/- 0.2 mIU/L; p = 0.01) and year three (delta: -1.2 +/- 0.3 mIU/L vs. -0.4 +/- 0.2 mIU/L; p = 0.03) was also higher in non-G-allele carriers than in G-allele carriers. Finally, basal glucose levels after the first year (delta: -10.1 +/- 2.4 mg/dL vs. -3.6 +/- 1.8 mg/dL; p = 0.02), the second year (delta: -16.0 +/- 2.3 mg/dL vs. -8.4 +/- 2.2 mg/dL; p = 0.01) and the third year (delta: -17.4 +/- 3.1 mg/dL vs. -8.8 +/- 2.9 mg/dL; p = 0.03) were higher in non-G-allele carriers than in G-allele carriers, too. Improvements seen in comorbidities were similar in both genotype groups. Conclusion: our study showed an association of the rs10830963 MTNR1B polymorphism after massive weight loss with lower glucose response, insulin resistance, and fasting insulin levels in G-allele carriers.\n",
      "Autores: ['Pacheco D', 'Izaola Jauregui O', 'Primo Martin D', 'de Luis Roman DA']\n",
      "Fonte: Nutr Hosp. 2020 Dec 16;37(6):1143-1149. doi: 10.20960/nh.03153.\n",
      "============================================================================================================================================\n",
      "\n",
      "Titulo: Comparative analyses of site-directed mutagenesis of human melatonin MTNR1A and MTNR1B receptors using a yeast fluorescent biosensor.\n",
      "\n",
      "Abstract: Melatonin is an indoleamine neurohormone made by the pineal gland. Its receptors, MTNR1A and MTNR1B, are members of the G-protein-coupled receptor (GPCR) family and are involved in sleep, circadian rhythm, and mood disorders, and in the inhibition of cancer growth. These receptors, therefore, represent significant molecular targets for insomnia, circadian sleep disorders, and cancer. The yeast Saccharomyces cerevisiae is an attractive host for assaying agonistic activity for human GPCR. We previously constructed a GPCR-based biosensor employing a high-sensitivity yeast strain that incorporated both a chimeric yeast-human Galpha protein and a bright fluorescent reporter gene (ZsGreen). Similar approaches have been used for simple and convenient measurements of various GPCR activities. In the current study, we constructed a fluorescence-based yeast biosensor for monitoring the signaling activation of human melatonin receptors. We used this system to analyze point mutations, including previously unreported mutations of the consensus sequences of MTNR1A and MTNR1B melatonin receptors and compared their effects. Most mutations in the consensus sequences significantly affected the signaling capacities of both receptors, but several mutations showed differences between these subtype receptors. Thus, this yeast biosensor holds promise for revealing the functions of melatonin receptors.\n",
      "Autores: ['Nakamura Y', 'Asama R', 'Tabata T', 'Morita K', 'Maruyama T', 'Kondo A', 'Ishii J']\n",
      "Fonte: Biotechnol Bioeng. 2021 Feb;118(2):863-876. doi: 10.1002/bit.27609. Epub 2020 Nov 6.\n",
      "============================================================================================================================================\n",
      "\n",
      "Titulo: MTNR1B gene on susceptibility to gestational diabetes mellitus: a two-stage hospital-based study in Southern China.\n",
      "\n",
      "Abstract: Large-scale studies on genetic risk loci for melatonin receptor 1B (MTNR1B) gene and GDM risk have not been well generalized to the Chinese population. In this study, we performed two-stage case-control study: 1.429 pregnant women: 753 GDM/676 controls in the Southern Chinese population by genotyping 5 SNPs (rs10830963, rs1387153, rs2166706, rs1447352, and rs4753426) in MTNR1B. Genotypes were determined using the Sequenom MassARRAY platform and TaqMan allelic discrimination assay. Interactions between genetic variants and age/BMI as predictors of GDM risk were evaluated under the logistic regression model. In the first stage, the SNP rs10830963 was discovered to be potentially related to GDM risk (additive model: OR = 1.27, 95%CI = 1.05-1.55, P = 0.025), which was further confirmed in the second stage with a similar effect (additive model: OR = 1.53, 95%CI = 1.19-1.98, P = 0.005). In the combined stage, the G allele of rs10830963 was potentially associated with GDM risk (additive model: OR = 1.36, 95%CI = 1.17-1.59, P < 0.001; dominant model: OR = 1.45, 95%CI = 1.15-1.83, P = 0.005). The rs10830963 interacted with age and BMI to contribute to GDM risk in the combined participants. And, the similar interactive effects for the other four SNPs also exist. These findings offer the potential to improve our understanding of the etiology of GDM, and particularly of biological mechanisms.\n",
      "Autores: ['Jia Y', 'Shen Y', 'Shi X', 'Gu X', 'Zhang P', 'Liu Y', 'Zhu A', 'Jiang L']\n",
      "Fonte: Mol Genet Genomics. 2020 Nov;295(6):1369-1378. doi: 10.1007/s00438-020-01706-5. Epub 2020 Jul 12.\n",
      "============================================================================================================================================\n",
      "\n",
      "Titulo: Increased Risk of Myocardial Infarction Among Patients With Type 2 Diabetes Who Carry the Common rs10830963 Variant in the MTNR1B Gene.\n",
      "\n",
      "Abstract: OBJECTIVE: The common MTNR1B single nucleotide polymorphism rs10830963 associates with risk of type 2 diabetes (T2D). Here, we examine the association between this gene variant and the risk of myocardial infarction (MCI) among patients with T2D. MCI is a main cause of death and disability among such individuals. RESEARCH DESIGN AND METHODS: Data from the UK Biobank cohort were used in order to examine the association between rs10830963 and incidence of MCI (fatal and nonfatal) among 13,655 participants with probable T2D during a follow-up period of 6.8 years. RESULTS: Assuming an additive genetic model, a positive association was found between the rs10830963 variant in the MTNR1B gene and the risk for incident MCI during the 6.8-year follow-up (adjusted hazard ratio per G allele 1.19 [95% CI 1.02, 1.40], P = 0.03). CONCLUSIONS: The rs10830963 polymorphism may be a useful genetic marker for MCI in patients with T2D.\n",
      "Autores: ['Tan X', 'Benedict C']\n",
      "Fonte: Diabetes Care. 2020 Sep;43(9):2289-2292. doi: 10.2337/dc20-0507. Epub 2020 Jul 2.\n",
      "============================================================================================================================================\n",
      "\n",
      "Titulo: The effect of SNP rs400827589 in exon 2 of the MTNR1B gene on reproductive seasonality and litter size in sheep.\n",
      "\n",
      "Abstract: In mammals, the melatonin receptor gene has been widely studied since it has a great influence on reproductive traits. However, little is known about the association between polymorphism of the coding region of the MTNR1B gene and year-round oestrus or the litter size in Small Tail Han sheep. To better understand the effects of single nucleotide polymorphism (SNP) rs400827589 in MTNR1B, a population polymorphism analysis was conducted using genotyping data in 45 sheep breeds around the world. The results indicated that TT was the dominant genotype in all sheep breeds. The associations of this SNP with reproductive seasonality and litter size in Small Tail Han sheep showed rs400827589 was correlated with fecundity as assessed by reproductive seasonality and litter size (p < .05). Bioinformatics analysis indicated the change in amino acid from Ile to Leu may affect the function of the MTNR1B protein by impacting the secondary and tertiary protein structures. The present results demonstrate that rs400827589 could be used in the marker-assisted selection of the litter size in Small Tail Han sheep.\n",
      "Autores: ['He X', 'Zhang Z', 'Chu M']\n",
      "Fonte: Vet Med Sci. 2020 Nov;6(4):804-812. doi: 10.1002/vms3.280. Epub 2020 May 6.\n",
      "============================================================================================================================================\n",
      "\n",
      "Titulo: Identification and Potential Clinical Utility of the MTNR1B rs10830963 Core Gene Variant Associated to Endophenotypes in Gestational Diabetes Mellitus.\n",
      "\n",
      "Abstract: Vazio\n",
      "Autores: ['Firneisz G', 'Rosta K', 'Rigo J', 'Nadasdi A', 'Harreiter J', 'Kautzky-Willer A', 'Somogyi A']\n",
      "Fonte: Front Genet. 2020 Apr 21;11:332. doi: 10.3389/fgene.2020.00332. eCollection 2020.\n",
      "============================================================================================================================================\n",
      "\n",
      "Titulo: A circadian rhythm-related MTNR1B genetic variant (rs10830963) modulate body weight change and insulin resistance after 9 months of a high protein/low carbohydrate vs a standard hypocaloric diet.\n",
      "\n",
      "Abstract: BACKGROUND & AIMS: The risk allele (G) of rs10830963 in the melatonin receptor 1 B (MTNR1B) gene presents an association with biochemical parameters and obesity. We study the effect of this SNP on insulin resistance and weight loss secondary to two hypocaloric diets. METHODS: 270 obese subjects were randomly allocated during 9 months (Diet HP: a high protein/low carbohydrate vs. Diet S: a standard severe hypocaloric diets). Anthropometric parameters, fasting blood glucose, C-reactive protein (CRP), insulin concentration, insulin resistance (HOMA-IR), lipid profile and adipocytokines levels were measured. Genotype of MTNR1B gene polymorphism (rs10830963) was evaluated. RESULTS: All adiposity parameters, systolic blood pressure and leptin levels decreased in all subjects after both diets. This improvement of adiposity parameters was higher in non-G allele carriers than G allele carriers. After weight loss with Diet HP, (CC vs. CG + GG at 9 months); total cholesterol (delta: -9.9 +/- 2.4 mg/dl vs. -4.8 +/- 2.2 mg/dl:p < 0.05), LDL-cholesterol (delta: -8.3 +/- 1.9 mg/dl vs. -5.1 +/- 2.2 mg/dl: p < 0.05), insulin (delta: -4.7 +/- 0.8 UI/L vs. -0.9 +/- 1.0 UI/L: p < 0.05), triglycerides (delta: -17.7 +/- 3.9 mg/dl vs. -6.1 +/- 2.8 mg/dl: p < 0.05) and HOMA IR (delta: -0.8 +/- 0.2 units vs. -0.2 +/- 0.1 units: p < 0.05) improved only in no G allele carriers. After weight loss with Diet S in non G allele carriers, insulin levels (delta (CC vs. CG + GG): -3.4 +/- 0.6 UI/L vs. -1.2 +/- 0.4 UI/L: p < 0.05), triglycerides (delta: -29.2 +/- 3.4 mg/dl vs. -8.2 +/- 3.8 mg/dl: p < 0.05), HOMA-IR (delta (CC vs. CG + GG): -1.1 +/- 0.2 units vs. -0.1 +/- 0.1 units: p < 0.05), total cholesterol (delta: -15.9 +/- 7.4 mg/dl vs. -5.8 +/- 2.9 mg/dl:ns) and LDL-cholesterol (delta: -13.7 +/- 5.9 mg/dl vs. -6.0 +/- 2.9 mg/dl: ns) decreased, too. CONCLUSIONS: our study detected a relationship of rs10830963 variant of MTNR1B gene with adiposity changes, cholesterol changes and insulin resistance modification induced by two different hypocaloric during 9 months.\n",
      "Autores: ['de Luis DA', 'Izaola O', 'Primo D', 'Aller R']\n",
      "Fonte: J Diabetes Complications. 2020 Apr;34(4):107534. doi: 10.1016/j.jdiacomp.2020.107534. Epub 2020 Jan 13.\n",
      "============================================================================================================================================\n",
      "\n",
      "Titulo: The roles of ADIPOQ rs266729 and MTNR1B rs10830963 polymorphisms in patients with gestational diabetes mellitus: A meta-analysis.\n",
      "\n",
      "Abstract: OBJECTIVES: This study aimed to investigate the roles of adiponectin (ADIPOQ) rs266729 and melatonin receptor 1B (MTNR1B) rs10830963 polymorphisms in patients with gestational diabetes mellitus (GDM). METHODS: The databases including Web of science, PubMed, Embase and Cochrane Library were searched for case-control studies updating on Feb 15th, 2019. 12 studies were finally included containing 3759 GDM patients and 4422 controls. The associations between two polymorphic sites (rs266729 and rs10830963) and GDM susceptibility were analyzed according to the pooled odds ratios (OR) and corresponding 95% confidence intervals (CI). RESULTS: Our pooled results indicated that ADIPOQ rs266729 can increase the GDM risk in Asian (dominant: GG+CG vs. CC, OR = 2.079, 95%CI: 1.012-4.270, P = 0.046) and European (allele: G vs. C, OR = 1.353, 95%CI: 1.001-1.829, P = 0.049 dominant: GG+CG vs. CC, OR = 1.522, 95%CI: 1.031-2.245, P = 0.034 heterozygote: CG vs. CC, OR = 1.517, 95%CI: 1.006-2.287, P = 0.047), but decrease in American population (allele: G vs. C, OR = 0.663, 95%CI: 0.501-0.878, P = 0.004 (dominant: GG+CG vs. CC, OR = 0.642, 95%CI: 0.456-0.903, P = 0.011 recessive: GG vs. CC+CG, OR = 0.496, 95%CI: 0.250-0.981, P = 0.044). The data demonstrated that the correlation between MTNR1B rs10830963 and GDM susceptibility is significant in Asian (allele: G vs. C, OR = 1.236, 95%CI: 1.109-1.378, P < 0.001 dominant: GG+CG vs. CC, OR = 1.285, 95%CI: 1.135-1.455, P < 0.001 recessive: GG vs. CC+CG, OR = 1.884, 95%CI: 1.307-2.716, P = 0.001 homozygote: GG vs. CC, OR = 1.514, 95%CI: 1.231-1.864, P < 0.001 heterozygote: CG vs. CC, OR = 1.198, 95%CI: 1.050-1.367, P = 0.007), and European (heterozygote: CG vs. CC, OR = 1.302, 95%CI: 1.011-1.677, P = 0.041). CONCLUSIONS: This Meta-analysis suggests that the variation of ADIPOQ rs266729 can increase the risk of GDM in Asian and European, while reduce in American population. Additionally, the association between MTNR1B rs10830963 and GDM susceptibility is significant in Asian, European and when using TaqMan assay.\n",
      "Autores: ['Bai Y', 'Tang L', 'Li L', 'Li L']\n",
      "Fonte: Gene. 2020 Mar 10;730:144302. doi: 10.1016/j.gene.2019.144302. Epub 2019 Dec 26.\n",
      "============================================================================================================================================\n",
      "\n",
      "Titulo: Maternal MTNR1B genotype, maternal gestational weight gain, and childhood obesity.\n",
      "\n",
      "Abstract: BACKGROUND: Maternal metabolic abnormalities have been related to offspring obesity especially during childhood. OBJECTIVES: We analyzed whether the gestational diabetes mellitus (GDM)-associated melatonin receptor 1B (MTNR1B) genotype of mothers modified the relation between maternal gestational weight gain and childhood obesity. METHODS: A total of 1114 Chinese mother-child pairs (mothers with or without prior GDM) were included. Mothers' MTNR1B rs10830962 genotype and gestational weight gain were assessed. Indicators of childhood obesity included BMI-for-age z-score, weight-for-age z-score, waist circumference, and body fat. Childhood overweight and obesity were also analyzed. RESULTS: We found that the maternal MTNR1B genotype significantly interacted with gestational weight gain on indicators of offspring's obesity (all P for interaction < 0.05). After multivariable adjustment, BMI-for-age z-scores associated with 1-kg gestational weight gain were 0.009 (SE 0.018), 0.026 (SE 0.010), and 0.061 (SE 0.010) in children with the maternal MTNR1B genotype CC, CG, and GG, respectively (P-interaction = 0.012). Similar interactions were observed for weight-for-age z-score, waist circumference, and body fat (P-interaction = 0.001, 0.003, and 0.012, respectively). The associations remained consistently significant in women with and without GDM. We also found significant interactions between the maternal MTNR1B genotype and gestational weight gain on the offspring's childhood overweight and obesity (P-interaction = 0.005 and 0.026, respectively). CONCLUSIONS: The maternal MTNR1B genotype might interact with gestational weight gain on offspring's obesity risk during childhood.\n",
      "Autores: ['Liang Z', 'Liu H', 'Wang L', 'Chen Y', 'Zhou T', 'Heianza Y', 'Li W', 'Leng J', 'Wang J', 'Gao R', 'Hu G', 'Qi L']\n",
      "Fonte: Am J Clin Nutr. 2020 Feb 1;111(2):360-368. doi: 10.1093/ajcn/nqz296.\n",
      "============================================================================================================================================\n",
      "\n",
      "Titulo: MTNR1B Gene Polymorphisms Are Associated With the Therapeutic Responses to Repaglinide in Chinese Patients With Type 2 Diabetes Mellitus.\n",
      "\n",
      "Abstract: The objective of this study was to investigate whether MTNR1B gene variants influence repaglinide response in Chinese patients with newly diagnosed type 2 diabetes mellitus (T2DM). A total of 300 patients with T2DM and 200 control subjects were enrolled to identify MTNR1B rs10830963 and rs1387153 genotypes by real-time polymerase chain reaction (PCR), with subsequent high-resolution melting (HRM) analysis. Ninety-five patients with newly diagnosed T2DM were randomly selected to undergo 8 weeks of repaglinide treatment (3 mg/day). After 8-week repaglinide monotherapy, patients with at least one G allele of MTNR1B rs10830963 showed a smaller decrease in fasting plasma glucose (FPG) (P = 0.031) and a smaller increase in homeostasis model assessment for beta cell function (HOMA-B) (P = 0.002) levels than those with the CC genotype did. The T allele carriers at rs1387153 exhibited a smaller decrease in FPG (P = 0.007) and smaller increases in postprandial serum insulin (PINS) (P = 0.016) and HOMA-B (P < 0.001) levels compared to individuals with the CC genotype. These data suggest that the MTNR1B rs10830963 and rs1387153 polymorphisms are associated with repaglinide monotherapy efficacy in Chinese patients with T2DM.\n",
      "Autores: ['Wang T', 'Wang XT', 'Lai R', 'Ling HW', 'Zhang F', 'Lu Q', 'Lv DM', 'Yin XX']\n",
      "Fonte: Front Pharmacol. 2019 Nov 7;10:1318. doi: 10.3389/fphar.2019.01318. eCollection 2019.\n",
      "============================================================================================================================================\n",
      "\n",
      "Titulo: Assessment of MTNR1B Type 2 Diabetes Genetic Risk Modification by Shift Work and Morningness-Eveningness Preference in the UK Biobank.\n",
      "\n",
      "Abstract: Night shift work, behavioral rhythms, and the common MTNR1B risk single nucleotide polymorphism (SNP), rs10830963, associate with type 2 diabetes; however, whether they exert joint effects to exacerbate type 2 diabetes risk is unknown. Among employed participants of European ancestry in the UK Biobank (N = 189,488), we aimed to test the cross-sectional independent associations and joint interaction effects of these risk factors on odds of type 2 diabetes (n = 5,042 cases) and HbA(1c) levels (n = 175,156). Current shift work, definite morning or evening preference, and MTNR1B rs10830963 risk allele associated with type 2 diabetes and HbA(1c) levels. The effect of rs10830963 was not modified by shift work schedules. While marginal evidence of interaction between self-reported morningness-eveningness preference and rs10830963 on risk of type 2 diabetes was seen, this interaction did not persist when analysis was expanded to include all participants regardless of employment status and when accelerometer-derived sleep midpoint was used as an objective measure of morningness-eveningness preference. Our findings suggest that MTNR1B risk allele carriers who carry out shift work or have more extreme morningness-eveningness preference may not have enhanced risk of type 2 diabetes.\n",
      "Autores: ['Dashti HS', 'Vetter C', 'Lane JM', 'Smith MC', 'Wood AR', 'Weedon MN', 'Rutter MK', 'Garaulet M', 'Scheer FAJL', 'Saxena R']\n",
      "Fonte: Diabetes. 2020 Feb;69(2):259-266. doi: 10.2337/db19-0606. Epub 2019 Nov 22.\n",
      "============================================================================================================================================\n",
      "\n",
      "Titulo: Associations between chronotype, MTNR1B genotype and risk of type 2 diabetes in UK Biobank.\n",
      "\n",
      "Abstract: OBJECTIVE: To examine the association between the MTNR1B G risk allele, type 2 diabetes (T2D) and chronotype in the UK Biobank. METHODS: Data from the baseline investigation of the UK Biobank were utilized (n = 337 083 White British; mean age: 56.9 years; 54% women). MTNR1B rs10830963 was directly genotyped [CC (reference group), CG and GG]. Chronotype was divided into four categories: definitely morning (reference group); more morning than evening; more evening than morning; and definitely evening. Logistic regression analyses were performed to estimate odds ratios and 95% confidence intervals (CIs) for T2D, controlling for age, sex and other confounders. RESULTS: Carriers of the rs10830963 risk allele had a higher risk of T2D [CG vs. CC: OR (95% CI) 1.10 (1.07, 1.15); GG vs. CC: 1.21 (1.14, 1.29)]. Compared with definitely morning chronotype, participants with definitely evening chronotype exhibited the highest risk of T2D [1.25 (1.17, 1.33)]. Despite a nonsignificant interaction between chronotype and the risk allele [0.98 (0.94, 1.01), P = 0.176 for interaction term], we found that definitely evening chronotype (vs. definitely morning) was linked with a higher risk of T2D amongst CC and CG but not GG carriers. Additionally, we saw that the GG genotype (vs. CC) was associated with a higher risk of T2D across all chronotype categories, except for definitely evening. CONCLUSION: Our findings suggest that the MTNR1B G risk allele and late chronotype increase the risk of T2D. The association between late chronotype and higher risk of T2D appears to vary across MTNR1B rs10830963 genotypes.\n",
      "Autores: ['Tan X', 'Ciuculete DM', 'Schioth HB', 'Benedict C']\n",
      "Fonte: J Intern Med. 2020 Feb;287(2):189-196. doi: 10.1111/joim.12994. Epub 2019 Nov 6.\n",
      "============================================================================================================================================\n",
      "\n",
      "Titulo: MTNR1B genetic polymorphisms as risk factors for gestational diabetes mellitus: a case-control study in a single tertiary care center.\n",
      "\n",
      "Abstract: BACKGROUND: Gestational diabetes mellitus (GDM) is a metabolic disease in pregnancy that causes carbohydrate intolerance and hyper-glycemia. Genome-wide association studies and meta-analyses have found that the single nucleotide polymorphisms (SNPs) rs1387153 and rs10830963 of the melatonin receptor 1B ( MTNR1B) gene are associated with GDM. No studies on the MTNR1B gene effect on GDM have been performed in Saudis, other Arabs, or other Middle Eastern populations. OBJECTIVES: Investigate the association of genotype or allele frequencies of the two SNPs with GDM and with clinical parameters related to GDM. DESIGN: Case-control study. SETTINGS: Tertiary care center, Riyadh. PATIENTS AND METHODS: We recruited 400 pregnant Saudi women ages 18-45 years (200 were diagnosed with GDM, and 200 were healthy controls). Biochemical assays were performed, and rs1387153 and rs10830963 polymorphisms were analyzed by polymerase chain reaction-restriction fragment length polymorphism analysis and real-time polymerase chain reaction with TaqMan genotyping. MAIN OUTCOME MEASURES: The association of MTNR1B gene (rs1387153 and rs10830963 polymorphisms) with GDM and with biochemical parameters related to GDM. SAMPLE SIZE: 200 GDM cases and 200 non-GDM controls. RESULTS: Differences in allele frequencies for GDM vs non-GMD were statistically significant or nearly significant for both SNPs after adjustment for age and body mass index. In a logistic regression analysis, genotype TT was positively associated with post-prandial blood glucose (P=.018), but other associations were not statistically significant. CONCLUSION: The odds ratios for the associations between the rs1387153 and rs10830963 SNPs and GDM exceeded 1.5-fold, which is higher than typically reported for diseases with complex genetic background. These effect sizes for GDM suggest pregnancy-specific factors related to the MTNR1B risk genotypes. LIMITATIONS: Only two SNPs were studied. CONFLICT OF INTEREST: None.\n",
      "Autores: ['Alharbi KK', 'Al-Sulaiman AM', 'Shedaid KMB', 'Al-Shangiti AM', 'Marie M', 'Al-Sheikh YA', 'Ali Khan I']\n",
      "Fonte: Ann Saudi Med. 2019 Sep-Oct;39(5):309-318. doi: 10.5144/0256-4947.2019.309. Epub 2019 Oct 3.\n",
      "============================================================================================================================================\n",
      "\n",
      "Titulo: Comments on \"Effects of MTNR1B Genetic Variants on Individual Susceptibility to Gestational Diabetes Mellitus: A Meta-Analysis\".\n",
      "\n",
      "Abstract: Vazio\n",
      "Autores: ['Gholami M', 'Amoli MM']\n",
      "Fonte: Am J Perinatol. 2021 Feb;38(3):310-312. doi: 10.1055/s-0039-1695777. Epub 2019 Sep 28.\n",
      "============================================================================================================================================\n",
      "\n",
      "Titulo: MTNR1B loss promotes chordoma recurrence by abrogating melatonin-mediated beta-catenin signaling repression.\n",
      "\n",
      "Abstract: Chordoma is an extremely rare malignant bone tumor with a high rate of relapse. While cancer stem cells (CSCs) are closely associated with tumor recurrence, which depend on its capacity to self-renew and induce chemo-/radioresistance, whether and how CSCs participate in chordoma recurrence remains unclear. The current study found that tumor cells in recurrent chordoma displayed more dedifferentiated CSC-like properties than those in corresponding primary tumor tissues. Meanwhile, MTNR1B deletion along with melatonin receptor 1B (MTNR1B) down-regulation was observed in recurrent chordoma. Further investigation revealed that activation of Galphai2 by MTNR1B upon melatonin stimulation could inhibit SRC kinase activity via recruiting CSK and SRC, increasing SRC Y530 phosphorylation, and decreasing SRC Y419 phosphorylation. This subsequently suppressed beta-catenin signaling and stemness via decreasing beta-catenin p-Y86/Y333/Y654. However, MTNR1B loss in chordoma mediated increased CSC properties, chemoresistance, and tumor progression by releasing melatonin's repression of beta-catenin signaling. Clinically, MTNR1B deletion was found to correlate with patients' survival. Together, our study establishes a novel convergence between melatonin and beta-catenin signaling pathways and reveals the significance of this cross talk in chordoma recurrence. Besides, we propose that MTNR1B is a potential biomarker for prediction of chordoma prognosis and selection of treatment options, and chordoma patients might benefit from targeting MTNR1B/Galphai2/SRC/beta-catenin axis.\n",
      "Autores: ['Liu L', 'Wang T', 'Yang X', 'Xu C', 'Liao Z', 'Wang X', 'Su D', 'Li Y', 'Zhou H', 'Qiu X', 'Chen Y', 'Huang D', 'Lian C', 'Su P']\n",
      "Fonte: J Pineal Res. 2019 Sep;67(2):e12588. doi: 10.1111/jpi.12588. Epub 2019 Jun 28.\n",
      "============================================================================================================================================\n",
      "\n",
      "Titulo: Effects of MTNR1B Genetic Variants on Individual Susceptibility to Gestational Diabetes Mellitus: A Meta-Analysis.\n",
      "\n",
      "Abstract: OBJECTIVE: Whether melatonin receptor 1B (MTNR1B) variants are implicated in gestational diabetes mellitus (GDM) remains unclear. Therefore, we performed this meta-analysis to obtain a more conclusive result on associations between MTNR1B variants and GDM. STUDY DESIGN: Literature research was performed in PubMed, Web of Science, Embase, and China National Knowledge Infrastructure. Odds ratios (ORs) and 95% confidence intervals (CIs) were calculated. RESULTS: A total of 17 studies were eligible for analyses. Pooled overall analyses showed that rs1387153 (dominant model: p = 0.0002, OR = 0.78, 95% CI: 0.68-0.89; recessive model: p < 0.0001, OR = 1.46, 95% CI: 1.24-1.73; allele model: p < 0.0001, OR = 0.78, 95% CI: 0.72-0.84), rs4753426 (recessive model: p = 0.01, OR = 1.75, 95% CI: 1.14-2.68; allele model: p = 0.01, OR = 0.69, 95% CI: 0.51-0.93), and rs10830963 (dominant model: p < 0.0001, OR = 0.72, 95% CI: 0.65-0.78; recessive model: p < 0.0001, OR = 1.56, 95% CI: 1.40-1.74; allele model: p < 0.0001, OR = 0.73, 95% CI: 0.69-0.78) variants were all significantly associated with the susceptibility to GDM. Further subgroup analyses by ethnicity of participants yielded similar positive results. CONCLUSION: Our findings indicated that MTNR1B rs1387153, rs4753426, and rs10830963 variants might serve as genetic biomarkers of GDM.\n",
      "Autores: ['Jia G', 'Gao Y', 'Li C', 'Zhang Y']\n",
      "Fonte: Am J Perinatol. 2020 May;37(6):607-612. doi: 10.1055/s-0039-1685446. Epub 2019 Apr 16.\n",
      "============================================================================================================================================\n",
      "\n",
      "Titulo: Dietary-fat effect of the rs10830963 polymorphism in MTNR1B on insulin resistance in response to 3 months weight-loss diets.\n",
      "\n",
      "Abstract: BACKGROUND & AIMS: The risk allele (G) of rs10830963 in the melatonin receptor 1 B (MTNR1B) gene presents an association with obesity. We study the effect of this SNP on cardiovascular risk factors and weight loss secondary to 2hypocaloric diets. METHODS: 361 obese subjects were randomly allocated during 3 months (Diet M - high monounsaturated fat hypocaloric diet vs. Diet P - high polyunsaturated fat hypocaloric diet). Anthropometric parameters, fasting blood glucose, C-reactive protein (CRP), insulin concentration, insulin resistance (HOMA-IR), lipid profile and adipocytokines levels were measured. Genotype of MTNR1B gene polymorphism (rs10830963) was evaluated. RESULTS: All anthropometric parameters, systolic blood pressure and leptin levels decreased in all subjects after both diets. This improvement of anthropometric parameters was higher in non G allele carriers than G allele carriers. After dietary intervention with Diet M, (CC vs. CG + GG); total cholesterol (delta: -10.4 +/- 2.1mg/dl vs. -6.4 +/- 1.2mg/dl: P <.05), LDL-cholesterol (delta:-7.1 +/- 0.9mg/dl vs. -2.8 +/- 0.8mg/dl: P <.05), insulin (delta:-3.0 +/- 0.8 UI/L vs. -2.0 +/- 1.0 UI/L: P<.05) and HOMA-IR (delta:-3.4 +/- 1.0 units vs. -2.9 +/- 0.9 units: P<.05) improved in no G allele carriers. After Diet P, in the group of subjects without G allele CC, insulin levels (delta: -2.9 +/- 1.0 UI/L vs. -0.6 +/- 0.2 UI/L: P <.05) and HOMA-IR (delta (CC vs. CG + GG): -0.8 +/- 0.2 units vs. -0.4 +/- 0.3 units: P <.05) decreased, too. CONCLUSIONS: Our study detected a relationship of rs10830963 MTNR1B SNP with body weight loss and insulin resistance modification induced by 2different hypocaloric. Only monounsaturated enriched hypocaloric diet and in no-G allele carriers showed a significant effect on lipoproteins.\n",
      "Autores: ['de Luis DA', 'Izaola O', 'Primo D', 'Aller R']\n",
      "Fonte: Endocrinol Diabetes Nutr (Engl Ed). 2020 Jan;67(1):43-52. doi: 10.1016/j.endinu.2019.02.007. Epub 2019 Apr 10.\n",
      "============================================================================================================================================\n",
      "\n",
      "Titulo: Association of the rs10830963 polymorphism in MTNR1B with fasting glucose, serum adipokine levels and components of metabolic syndrome in adult obese subjects.\n",
      "\n",
      "Abstract: Background and objectives: the aim of the present investigation was to describe the association of this single nucleotide polymorphism (SNP) with fasting glucose levels, serum adipokine levels and diabetes mellitus. Methods: the study involved a population of 1,002 adult obese subjects. Measurements of anthropometric parameters, blood pressure, fasting blood glucose, C-reactive protein (CRP), insulin concentration, insulin resistance (HOMA-IR), HOMA-B, lipid profi le and adipocytokines levels were performed. Genotype of MTNR1B gene polymorphism (rs10830963) was evaluated. Results: fasting glucose levels (GG: 101.5 +/- 19.1 mg/dl vs GT: 103.5 +/- 8.1 units vs TT: 107.2 +/- 8.0 mg/dl; p = 0.01) and HOMA-IR (GG: 3.1 +/- 1.6 units vs GT: 3.4 +/- 1.1 units vs TT: 3.7 +/- 1.0 units; p = 0.02) were higher in subjects with GG genotype than in other genotypes. Total adiponectin levels (CC: 20.5 +/- 8.4 ng/dl vs CG: 21.8 +/- 5.4 ng/dl vs GG: 15.4 +/- 1.4 ng/dl; p = 0.02) and HOMA-B (CC: 2.3 +/- 0.8 units vs CG: 2.2 +/- 1.1 units vs GG: 1.9 +/- 0.9 units; p = 0.01) were lower in subjects with GG genotype than GC or CC genotypes. Logistic regression analysis showed an increased risk of hyperglicemia (OR = 1.31, 95% CI = 1.12-2.78, p = 0.03) and diabetes mellitus (OR = 1.37, 95% CI = 1.14-2.86, p = 0.04). Conclusions: this study showed that the MTNR1B rs10830963 polymorphism was associated with increased fasting glucose levels, HOMA-IR, and risk of DM2. This SNP was associated with decreased adiponectin levels and HOMA-B.\n",
      "Autores: ['de Luis Roman DA', 'Primo D', 'Aller R', 'Izaola O']\n",
      "Fonte: Nutr Hosp. 2019 Mar 7;36(1):60-65. doi: 10.20960/nh.2013.\n",
      "============================================================================================================================================\n",
      "\n",
      "Titulo: Effects of MTNR1B genetic variants on the risk of type 2 diabetes mellitus: A meta-analysis.\n",
      "\n",
      "Abstract: BACKGROUND: Whether melatonin receptor 1B (MTNR1B) variants are associated with type 2 diabetes mellitus (T2DM) remains unclear. Therefore, we performed this meta-analysis to better explore correlations between MTNR1B variants and T2DM. METHODS: Literature research was performed in PubMed, Medline, and Embase. Odds ratios (ORs) and 95% confidence intervals (CIs) were calculated. RESULTS: Totally 21 studies were enrolled to analyses. Pooled overall analyses showed that MTNR1B rs10830963 variant was significantly correlated with the susceptibility to T2DM (allele model: p = 0.02, OR = 0.97, 95% CI 0.95-1.00). Further subgroup analyses by ethnicity of participants revealed that rs10830963 variant was significantly correlated with the susceptibility to T2DM in South Asians, but not in Caucasians or East Asians. No any other positive results were found in overall and subgroup analyses. CONCLUSIONS: Our findings indicated that MTNR1B rs10830963 variant might serve as a genetic biomarker of T2DM, especially in South Asians.\n",
      "Autores: ['Shen LL', 'Jin Y']\n",
      "Fonte: Mol Genet Genomic Med. 2019 May;7(5):e611. doi: 10.1002/mgg3.611. Epub 2019 Feb 27.\n",
      "============================================================================================================================================\n",
      "\n",
      "Titulo: The MTNR1B rs10830963 Variant in Interaction with Pre-Pregnancy BMI is a Pharmacogenetic Marker for the Initiation of Antenatal Insulin Therapy in Gestational Diabetes Mellitus.\n",
      "\n",
      "Abstract: The rs10830963 variant of the Melatonin Receptor 1B (MTNR1B) gene is associated with the development of gestational diabetes mellitus (GDM). We hypothesized that carrying the rs10830963/G risk allele had effect on antenatal insulin therapy (AIT) initiation in GDM in a body mass index (BMI)-dependent manner. Design: In this post hoc analysis the MTNR1B rs10830963 genotype and the clinical data of 211 Caucasian GDM patients were assessed. As a first step, a pre-pregnancy BMI threshold was determined where the effect of MTNR1B rs10830963/G allele carrying on AIT initiation was the most significant using logistic regression. Maternal age adjusted real-life odds ratios (OR) values were calculated. The chi-square test was also used to calculate the p value and 10.000 bootstrap simulations were performed in each case to re-assess the statistical power and the OR. Carrying the MTNR1B rs10830963/G allele increased the odds of AIT initiation (OR = 5.2, p = 0.02 [chi(2) test], statistical power = 0.53) in GDM patients with pre-pregnancy BMI >/= 29 kg/m(2). The statistical power reached 0.77, when the pre-pregnancy BMI cutoff of 27 kg/m(2) was used and the genetic effect on AIT initiation was still significant, but only using the logistic regression model. Carrying the MTNR1B rs10830963/G risk allele-in interaction with pre-pregnancy BMI-is likely be considered as a candidate pharmacogenetic marker of antenatal insulin therapy initiation and should be further assessed in precision medicine trials in GDM.\n",
      "Autores: ['Firneisz G', 'Rosta K', 'Al-Aissa Z', 'Hadarits O', 'Harreiter J', 'Nadasdi A', 'Bancher-Todesca D', 'Nemeth L', 'Igaz P', 'Rigo J Jr', 'Sziller I', 'Kautzky-Willer A', 'Somogyi A']\n",
      "Fonte: Int J Mol Sci. 2018 Nov 23;19(12):3734. doi: 10.3390/ijms19123734.\n",
      "============================================================================================================================================\n",
      "\n",
      "Titulo: Association of Native American ancestry and common variants in ACE, ADIPOR2, MTNR1B, GCK, TCF7L2 and FTO genes with glycemic traits in Colombian population.\n",
      "\n",
      "Abstract: Insulin resistance and defects in other related glycemic traits are common findings in the context of Metabolic Syndrome. Although genetic factors are clearly implied in susceptibility, and some gene variants have been identified mainly in populations of European ancestry, little is known about this aspect in admixed populations. The association of insulin resistance, beta-cell function, fasting insulin and glucose levels with 48 gene variants, previously related to metabolic syndrome components, and with the ancestral genetic composition, estimated on 50 ancestry informative markers, was evaluated in 417 individuals from the Colombian admixed population. The Native American genetic ancestry was associated with a low beta-cell function (odds ratio (OR) of 1.73 and 95% confidence interval (95% CI) of 1.07-2.81, p = 0.026). Significant genotypic associations were obtained (q-value < 0.05) for gene variants in ACE (rs4340; OR (95% CI): 2.79 (1.58-4.91), insulin resistance; mean difference (95% CI): 0.273 (0.141; 0.406), fasting insulin), ADIPOR2 (rs11061971; OR (95% CI): 0.14 (0.04-0.48), low beta-cell function), MTNR1B (rs10830963; mean difference (95% CI): 0.032 (0.013; 0.051), fasting glucose) and GCK (rs4607517; mean difference (95% CI): 0.038 (0.020;0.056) and rs1799884; mean difference (95% CI): 0.027 (0.013-0.041), fasting glucose). Also the well-known gene variants rs7903146 in TCF7L2, and rs17817449 in FTO, were nominally associated with hyperglycemia (rs7903146), as well as with higher fasting insulin levels (rs17817449). Our findings indicate that gene variants in ACE, ADIPOR2, MTNR1B, GCK, TCF7L2 and FTO, are associated with glycemic traits in the admixed Colombian population, while a higher Native American genetic component is related to lower beta-cell function.\n",
      "Autores: ['Caro-Gomez MA', 'Naranjo-Gonzalez CA', 'Gallego-Lopera N', 'Parra-Marin MV', 'Valencia DM', 'Arcos EG', 'Villegas-Perrasse A', 'Bedoya-Berrio G']\n",
      "Fonte: Gene. 2018 Nov 30;677:198-210. doi: 10.1016/j.gene.2018.07.066. Epub 2018 Jul 29.\n",
      "============================================================================================================================================\n",
      "\n",
      "Titulo: Impact of KCNQ1, CDKN2A/2B, CDKAL1, HHEX, MTNR1B, SLC30A8, TCF7L2, and UBE2E2 on risk of developing type 2 diabetes in Thai population.\n",
      "\n",
      "Abstract: BACKGROUND: Several type 2 diabetes (T2D) susceptibility loci identified via genome-wide association studies were found to be replicated among various populations. However, the influence of these loci on T2D in Thai population is unknown. The aim of this study was to investigate the influence of eight single nucleotide polymorphisms (SNPs) reported in GWA studies on T2D and related quantitative traits in Thai population. METHODS: Eight SNPs in or near the KCNQ1, CDKN2A/2B, SLC30A8, HHEX, CDKAL1, TCF7L2, MTNR1B, and UBE2E2 genes were genotyped. A case-control association study comprising 500 Thai patients with T2D and 500 ethnically-matched control subjects was conducted. Associations between SNPs and T2D were examined by logistic regression analysis. The impact of these SNPs on quantitative traits was examined by linear regression among case and control subjects. RESULTS: Five SNPs in KCNQ1 (rs2237892), CDK2A/2B (rs108116610, SLC30A8 (rs13266634), TCF7L2 (rs7903146) and MTNR1B (rs1387153) were found to be marginally associated with risk of developing T2D, with odds ratios ranging from 1.43 to 2.02 (p = 0.047 to 3.0 x 10-4) with adjustments for age, sex, and body mass index. Interestingly, SNP rs13266634 of SLC30A8 gene reached statistical significance after correcting for multiple testing (p = 0.0003) (p < 0.006 after Bonferroni correction). However, no significant association was detected between HHEX (rs1111875), CDKAL1 (rs7756992), or UBE2E2 (rs7612463) and T2D. We also observed association between rs10811661 and both waist circumference and waist-hip ratio (p = 0.007 and p = 0.023, respectively). In addition, rs13266634 in SLC30A8 was associated with glycated hemoglobin (p = 0.018), and rs7903146 in TCF7L2 was associated with high-density lipoprotein cholesterol level (p = 0.023). CONCLUSION: Of the eight genes included in our analysis, significant association was observed between KCNQ1, CDKN2A/2B, SLC30A8, TCF7L2, and MTNR1B loci and T2D in our Thai study population. Of these, CDKN2A/2B, SLC30A8, and TCF7L2 genes were also significantly associated with anthropometric, glycemic and lipid characteristics. Larger cohort studies and meta-analyses are needed to further confirm the effect of these variants in Thai population.\n",
      "Autores: ['Plengvidhya N', 'Chanprasert C', 'Chongjaroen N', 'Yenchitsomanus PT', 'Homsanit M', 'Tangjittipokin W']\n",
      "Fonte: BMC Med Genet. 2018 Jun 5;19(1):93. doi: 10.1186/s12881-018-0614-9.\n",
      "============================================================================================================================================\n",
      "\n",
      "Titulo: RNAi-mediated knockdown of MTNR1B without disrupting the effects of melatonin on apoptosis and cell cycle in bovine granulose cells.\n",
      "\n",
      "Abstract: Melatonin is well known as a powerful free radical scavenger and exhibits the ability to prevent cell apoptosis. In the present study, we investigated the role of melatonin and its receptor MTNR1B in regulating the function of bovine granulosa cells (GCs) and hypothesized the involvement of MTNR1B in mediating the effect of melatonin on GCs. Our results showed that MTNR1B knockdown significantly promoted GCs apoptosis but did not affect the cell cycle. These results were further verified by increasing the expression of pro-apoptosis genes (BAX and CASP3), decreasing expression of the anti-apoptosis genes (BCL2 and BCL-XL) and anti-oxidant genes (SOD1 and GPX4) without affecting cell cycle factors (CCND1, CCNE1 and CDKN1A) and TP53. In addition, MTNR1B knockdown did not disrupt the effects of melatonin in suppressing the GCs apoptosis or blocking the cell cycle. Moreover, MTNR1B knockdown did not affect the role of melatonin in increasing BCL2, BCL-XL, and CDKN1A expression, or decreasing BAX, CASP3, TP53, CCND1 and CCNE1 expression. The expression of MTNR1A was upregulated after MTNR1B knockdown, and melatonin promoted MTNR1A expression with or without MTNR1B knockdown. However, despite melatonin supplementation, the expression of SOD1 and GPX4 was still suppressed after MTNR1B knockdown. In conclusion, these findings indicate that melatonin and MTNR1B are involved in BCL2 family and CASP3-dependent apoptotic pathways in bovine GCs. MTNR1A and MTNR1B may coordinate the work of medicating the appropriate melatonin responses to GCs.\n",
      "Autores: ['Liu W', 'Wang S', 'Zhou J', 'Pang X', 'Wang L']\n",
      "Fonte: PeerJ. 2018 Apr 23;6:e4463. doi: 10.7717/peerj.4463. eCollection 2018.\n",
      "============================================================================================================================================\n",
      "\n",
      "Titulo: Genome-wide interaction with the insulin secretion locus MTNR1B reveals CMIP as a novel type 2 diabetes susceptibility gene in African Americans.\n",
      "\n",
      "Abstract: Although type 2 diabetes (T2D) results from metabolic defects in insulin secretion and insulin sensitivity, most of the genetic risk loci identified to date relates to insulin secretion. We reported that T2D loci influencing insulin sensitivity may be identified through interactions with insulin secretion loci, thereby leading to T2D. Here, we hypothesize that joint testing of variant main effects and interaction effects with an insulin secretion locus increases power to identify genetic interactions leading to T2D. We tested this hypothesis with an intronic MTNR1B SNP, rs10830963, which is associated with acute insulin response to glucose, a dynamic measure of insulin secretion. rs10830963 was tested for interaction and joint (main + interaction) effects with genome-wide data in African Americans (2,452 cases and 3,772 controls) from five cohorts. Genome-wide genotype data (Affymetrix Human Genome 6.0 array) was imputed to a 1000 Genomes Project reference panel. T2D risk was modeled using logistic regression with rs10830963 dosage, age, sex, and principal component as predictors. Joint effects were captured using the Kraft two degrees of freedom test. Genome-wide significant (P < 5 x 10(-8) ) interaction with MTNR1B and joint effects were detected for CMIP intronic SNP rs17197883 (P(interaction ) = 1.43 x 10(-8) ; P(joint ) = 4.70 x 10(-8) ). CMIP variants have been nominally associated with T2D, fasting glucose, and adiponectin in individuals of East Asian ancestry, with high-density lipoprotein, and with waist-to-hip ratio adjusted for body mass index in Europeans. These data support the hypothesis that additional genetic factors contributing to T2D risk, including insulin sensitivity loci, can be identified through interactions with insulin secretion loci.\n",
      "Autores: ['Keaton JM', 'Gao C', 'Guan M', 'Hellwege JN', 'Palmer ND', 'Pankow JS', 'Fornage M', 'Wilson JG', 'Correa A', 'Rasmussen-Torvik LJ', 'Rotter JI', 'Chen YI', 'Taylor KD', 'Rich SS', 'Wagenknecht LE', 'Freedman BI', 'Ng MCY', 'Bowden DW']\n",
      "Fonte: Genet Epidemiol. 2018 Sep;42(6):559-570. doi: 10.1002/gepi.22126. Epub 2018 Apr 24.\n",
      "============================================================================================================================================\n",
      "\n",
      "Titulo: Association of melatonin &MTNR1B variants with type 2 diabetes in Gujarat population.\n",
      "\n",
      "Abstract: AIM/HYPOTHESIS: Melatonin is a circadian rhythm regulator and any imbalance in its levels can be related to various metabolic disorders. Melatonin and the genetic variants of Melatonin Receptor 1B (MTNR1B) are reported to be associated with Type 2 Diabetes (T2D) susceptibility. The aim of the present study was to investigate i) plasma melatonin levels ii) Single Nucleotide Polymorphisms (SNPs) of MTNR1B and iii) Genotype-phenotype correlation analysis in T2D patients. METHODS: Plasma and PBMCs were separated from venous blood of 478 diabetes patients and 502 controls. Genomic DNA was isolated from PBMCs. PCR-RFLP was used for genotyping. Melatonin was estimated from plasma samples by ELISA. RESULTS: Our study suggests: i) decreased plasma melatonin levels in T2D patients and, ii) association of MTNR1B rs10830963 GG genotype with increased Fasting Blood Glucose (FBG). CONCLUSION: It can be concluded that reduced titer of melatonin along with altered FBG due to MTNR1B genetic variant could act as a potent risk factor towards T2D in Gujarat population.\n",
      "Autores: ['Patel R', 'Rathwa N', 'Palit SP', 'Ramachandran AV', 'Begum R']\n",
      "Fonte: Biomed Pharmacother. 2018 Jul;103:429-434. doi: 10.1016/j.biopha.2018.04.058. Epub 2018 Apr 24.\n",
      "============================================================================================================================================\n",
      "\n",
      "Titulo: The Circadian Rhythm-Related MTNR1B Genotype, Gestational Weight Gain, and Postpartum Glycemic Changes.\n",
      "\n",
      "Abstract: CONTEXT: Disturbed circadian rhythms and sleep quality during pregnancy have been related to gestational weight gain and gestational diabetes mellitus (GDM), which affect postpartum glucose metabolism and future risk of type 2 diabetes. OBJECTIVE: We assessed whether the circadian rhythm-related melatonin receptor 1B (MTNR1B) genotype was associated with 1 to 5 years of postpartum glycemic changes among women with a history of GDM and whether gestational weight gain modified such associations. DESIGN, SETTINGS, AND PARTICIPANTS: The established circadian rhythm-associated MTNR1B genetic variant (rs10830963) was genotyped in 1025 Chinese women with a history of GDM. Body weight and glycemic traits, during and after pregnancy, were longitudinally collected. MAIN OUTCOME MEASURES: The main outcome measure was postpartum glycemic changes. RESULTS: We found that women carrying different MTNR1B genotypes showed distinct postpartum changes in 2-hour oral glucose tolerance test: 0.36, 0.20, and -0.19 mM per additional copy of the shorter sleep duration-related G allele in women with inadequate, adequate, and excessive gestational weight gain, respectively (for interaction, P = 0.028). The corresponding changes in fasting glucose were 0.14, 0.13, and 0.01 mM, although the modification effect of gestational weight gain on the genetic association was marginally significant (for interaction, P = 0.067). CONCLUSIONS: Our findings suggest that gestational weight gain may modify the circadian rhythm-related MTNR1B genetic variant on long-term glycemic changes, highlighting the significance of gestational weight management in diabetes prevention among women with GDM.\n",
      "Autores: ['Nisa H', 'Qi KHT', 'Leng J', 'Zhou T', 'Liu H', 'Li W', 'Wang L', 'Li N', 'Hu G', 'Qi L']\n",
      "Fonte: J Clin Endocrinol Metab. 2018 Jun 1;103(6):2284-2290. doi: 10.1210/jc.2018-00071.\n",
      "============================================================================================================================================\n",
      "\n"
     ]
    }
   ],
   "source": [
    "from Bio import Medline\n",
    "handle = Entrez.efetch(db = \"pubmed\", id= id_List, rettype = \"medline\", retmode = \"text\")\n",
    "records = Medline.parse(handle)\n",
    "print()\n",
    "\n",
    "for record in records :\n",
    "    print(\"Titulo:\", record.get(\"TI\", \"Vazio\"))                                     \n",
    "    print()\n",
    "    print(\"Abstract:\", record.get(\"AB\", \"Vazio\"))\n",
    "    print(\"Autores:\", record.get(\"AU\", \"Vazio\"))\n",
    "    print(\"Fonte:\", record.get(\"SO\", \"Vazio\"))\n",
    "    print(\"=\"*140)\n",
    "    print()"
   ]
  },
  {
   "cell_type": "code",
   "execution_count": 16,
   "id": "bf25cbf8",
   "metadata": {},
   "outputs": [],
   "source": [
    "handle = Entrez.esearch(db=\"nucleotide\", term = \"Homo sapiens[Orgn] AND MTNR1B[Gene]\", idtype='acc')"
   ]
  },
  {
   "cell_type": "code",
   "execution_count": 17,
   "id": "f8f1bba9",
   "metadata": {},
   "outputs": [],
   "source": [
    "record = Entrez.read(handle)"
   ]
  },
  {
   "cell_type": "code",
   "execution_count": 18,
   "id": "45f0c402",
   "metadata": {},
   "outputs": [
    {
     "data": {
      "text/plain": [
       "['NM_005959.5', 'NG_028160.1', 'NC_060935.1', 'NC_000011.10', 'XM_011542839.3', 'XM_017017777.2', 'AF467654.1', 'AY114100.1', 'CM000262.1', 'CH471065.1', 'BC069163.1', 'AY408030.1', 'U25341.1', 'AY521019.1']"
      ]
     },
     "execution_count": 18,
     "metadata": {},
     "output_type": "execute_result"
    }
   ],
   "source": [
    "record[\"IdList\"]"
   ]
  },
  {
   "cell_type": "markdown",
   "id": "d04f9a91",
   "metadata": {},
   "source": [
    "## Análise da sequência e das features presentes no NCBI"
   ]
  },
  {
   "cell_type": "markdown",
   "id": "989f7c6b",
   "metadata": {},
   "source": [
    "a) Aceder ao NCBI e guardar os ficheiros correspondentes aos genes escolhidos, podendo explorar possíveis variantes"
   ]
  },
  {
   "cell_type": "code",
   "execution_count": 19,
   "id": "c36fc7fe",
   "metadata": {},
   "outputs": [],
   "source": [
    "from Bio import Seq\n",
    "from Bio import SeqIO"
   ]
  },
  {
   "cell_type": "code",
   "execution_count": 34,
   "id": "2255143c",
   "metadata": {},
   "outputs": [
    {
     "data": {
      "text/plain": [
       "SeqRecord(seq=Seq('CGGCTCAGTACTGCGCGCGCCCTGCGGCTGTCCGGGGCCGCGCGGTGGCCAAAG...GAA'), id='NC_000011.10', name='NC_000011', description='Homo sapiens chromosome 11, GRCh38.p14 Primary Assembly', dbxrefs=['BioProject:PRJNA168', 'Assembly:GCF_000001405.40'])"
      ]
     },
     "execution_count": 34,
     "metadata": {},
     "output_type": "execute_result"
    }
   ],
   "source": [
    "record = SeqIO.read(\"MTNR1B.gb\", \"genbank\")\n",
    "record"
   ]
  },
  {
   "cell_type": "code",
   "execution_count": 35,
   "id": "8ddbbede",
   "metadata": {},
   "outputs": [
    {
     "data": {
      "text/plain": [
       "Seq('CGGCTCAGTACTGCGCGCGCCCTGCGGCTGTCCGGGGCCGCGCGGTGGCCAAAG...GAA')"
      ]
     },
     "execution_count": 35,
     "metadata": {},
     "output_type": "execute_result"
    }
   ],
   "source": [
    "record.seq"
   ]
  },
  {
   "cell_type": "code",
   "execution_count": 36,
   "id": "1066a63b",
   "metadata": {},
   "outputs": [
    {
     "name": "stdout",
     "output_type": "stream",
     "text": [
      "NC_000011.10\n",
      "NC_000011\n",
      "Homo sapiens chromosome 11, GRCh38.p14 Primary Assembly\n",
      "['BioProject:PRJNA168', 'Assembly:GCF_000001405.40']\n",
      "13\n",
      "Homo sapiens (human)\n",
      "16\n"
     ]
    }
   ],
   "source": [
    "print(record.id)\n",
    "print(record.name)\n",
    "print(record.description)\n",
    "print(record.dbxrefs)\n",
    "print(len(record.annotations) )\n",
    "print(record.annotations[\"source\"] )\n",
    "print(len(record.features))"
   ]
  },
  {
   "cell_type": "code",
   "execution_count": 37,
   "id": "65f85d4a",
   "metadata": {},
   "outputs": [
    {
     "data": {
      "text/plain": [
       "15310"
      ]
     },
     "execution_count": 37,
     "metadata": {},
     "output_type": "execute_result"
    }
   ],
   "source": [
    "len(record)"
   ]
  },
  {
   "cell_type": "markdown",
   "id": "40f46323",
   "metadata": {},
   "source": [
    "b) Verificar as anotações dos genes de interesse"
   ]
  },
  {
   "cell_type": "code",
   "execution_count": 38,
   "id": "ca2e8248",
   "metadata": {},
   "outputs": [
    {
     "data": {
      "text/plain": [
       "{'molecule_type': 'DNA',\n",
       " 'topology': 'linear',\n",
       " 'data_file_division': 'CON',\n",
       " 'date': '06-APR-2022',\n",
       " 'accessions': ['NC_000011', 'REGION:', '92969651..92984960'],\n",
       " 'sequence_version': 10,\n",
       " 'keywords': ['RefSeq'],\n",
       " 'source': 'Homo sapiens (human)',\n",
       " 'organism': 'Homo sapiens',\n",
       " 'taxonomy': ['Eukaryota',\n",
       "  'Metazoa',\n",
       "  'Chordata',\n",
       "  'Craniata',\n",
       "  'Vertebrata',\n",
       "  'Euteleostomi',\n",
       "  'Mammalia',\n",
       "  'Eutheria',\n",
       "  'Euarchontoglires',\n",
       "  'Primates',\n",
       "  'Haplorrhini',\n",
       "  'Catarrhini',\n",
       "  'Hominidae',\n",
       "  'Homo'],\n",
       " 'references': [Reference(title='Human chromosome 11 DNA sequence and analysis including novel gene identification', ...),\n",
       "  Reference(title='Finishing the euchromatic sequence of the human genome', ...),\n",
       "  Reference(title='Initial sequencing and analysis of the human genome', ...)],\n",
       " 'comment': 'REFSEQ INFORMATION: The reference sequence is identical to\\nCM000673.2.\\nOn Feb 3, 2014 this sequence version replaced NC_000011.9.\\nAssembly Name: GRCh38.p14 Primary Assembly\\nThe DNA sequence is composed of genomic sequence, primarily\\nfinished clones that were sequenced as part of the Human Genome\\nProject. PCR products and WGS shotgun sequence have been added\\nwhere necessary to fill gaps or correct errors. All such additions\\nare manually curated by GRC staff. For more information see:\\nhttps://genomereference.org.',\n",
       " 'structured_comment': OrderedDict([('Genome-Annotation-Data',\n",
       "               OrderedDict([('Annotation Provider', 'NCBI'),\n",
       "                            ('Annotation Status', 'Full annotation'),\n",
       "                            ('Annotation Name',\n",
       "                             'Homo sapiens Annotation Release 110'),\n",
       "                            ('Annotation Version', '110'),\n",
       "                            ('Annotation Pipeline',\n",
       "                             'NCBI eukaryotic genome annotation pipeline'),\n",
       "                            ('Annotation Software Version', '9.0'),\n",
       "                            ('Annotation Method',\n",
       "                             'Best-placed RefSeq; Gnomon'),\n",
       "                            ('Features Annotated',\n",
       "                             'Gene; mRNA; CDS; ncRNA')]))])}"
      ]
     },
     "execution_count": 38,
     "metadata": {},
     "output_type": "execute_result"
    }
   ],
   "source": [
    "record.annotations"
   ]
  },
  {
   "cell_type": "markdown",
   "id": "052d1387",
   "metadata": {},
   "source": [
    "c) Verificar e analisar a informação complementar fornecida pela lista de features e seus \n",
    "qualifiers"
   ]
  },
  {
   "cell_type": "code",
   "execution_count": 39,
   "id": "245cf188",
   "metadata": {
    "scrolled": false
   },
   "outputs": [
    {
     "name": "stdout",
     "output_type": "stream",
     "text": [
      "--> type: source\n",
      "location: [0:15310](+)\n",
      "qualifiers:\n",
      "    Key: chromosome, Value: ['11']\n",
      "    Key: db_xref, Value: ['taxon:9606']\n",
      "    Key: mol_type, Value: ['genomic DNA']\n",
      "    Key: organism, Value: ['Homo sapiens']\n",
      "\n",
      "--> type: gene\n",
      "location: [0:15310](+)\n",
      "qualifiers:\n",
      "    Key: db_xref, Value: ['GeneID:4544', 'HGNC:HGNC:7464', 'MIM:600804']\n",
      "    Key: gene, Value: ['MTNR1B']\n",
      "    Key: gene_synonym, Value: ['FGQTL2; MEL-1B-R; MT2']\n",
      "    Key: note, Value: ['melatonin receptor 1B; Derived by automated computational analysis using gene prediction method: BestRefSeq,Gnomon.']\n",
      "\n",
      "--> type: mRNA\n",
      "location: join{[0:298](+), [11796:13132](+)}\n",
      "qualifiers:\n",
      "    Key: db_xref, Value: ['Ensembl:ENST00000257068.3', 'GeneID:4544', 'HGNC:HGNC:7464', 'MIM:600804']\n",
      "    Key: gene, Value: ['MTNR1B']\n",
      "    Key: gene_synonym, Value: ['FGQTL2; MEL-1B-R; MT2']\n",
      "    Key: note, Value: ['Derived by automated computational analysis using gene prediction method: BestRefSeq.']\n",
      "    Key: product, Value: ['melatonin receptor 1B']\n",
      "    Key: transcript_id, Value: ['NM_005959.5']\n",
      "\n",
      "--> type: mRNA\n",
      "location: join{[75:298](+), [11796:13073](+), [15156:15310](+)}\n",
      "qualifiers:\n",
      "    Key: db_xref, Value: ['GeneID:4544', 'HGNC:HGNC:7464', 'MIM:600804']\n",
      "    Key: experiment, Value: ['COORDINATES: polyA evidence [ECO:0006239]']\n",
      "    Key: gene, Value: ['MTNR1B']\n",
      "    Key: gene_synonym, Value: ['FGQTL2; MEL-1B-R; MT2']\n",
      "    Key: product, Value: ['melatonin receptor 1B, transcript variant X2']\n",
      "    Key: transcript_id, Value: ['XM_011542839.3']\n",
      "\n",
      "--> type: CDS\n",
      "location: join{[75:298](+), [11796:12662](+)}\n",
      "qualifiers:\n",
      "    Key: codon_start, Value: ['1']\n",
      "    Key: db_xref, Value: ['CCDS:CCDS8290.1', 'Ensembl:ENSP00000257068.2', 'GeneID:4544', 'HGNC:HGNC:7464', 'MIM:600804']\n",
      "    Key: gene, Value: ['MTNR1B']\n",
      "    Key: gene_synonym, Value: ['FGQTL2; MEL-1B-R; MT2']\n",
      "    Key: note, Value: ['Derived by automated computational analysis using gene prediction method: BestRefSeq.']\n",
      "    Key: product, Value: ['melatonin receptor type 1B']\n",
      "    Key: protein_id, Value: ['NP_005950.1']\n",
      "    Key: translation, Value: ['MSENGSFANCCEAGGWAVRPGWSGAGSARPSRTPRPPWVAPALSAVLIVTTAVDVVGNLLVILSVLRNRKLRNAGNLFLVSLALADLVVAFYPYPLILVAIFYDGWALGEEHCKASAFVMGLSVIGSVFNITAIAINRYCYICHSMAYHRIYRRWHTPLHICLIWLLTVVALLPNFFVGSLEYDPRIYSCTFIQTASTQYTAAVVVIHFLLPIAVVSFCYLRIWVLVLQARRKAKPESRLCLKPSDLRSFLTMFVVFVIFAICWAPLNCIGLAVAINPQEMAPQIPEGLFVTSYLLAYFNSCLNAIVYGLLNQNFRREYKRILLALWNPRHCIQDASKGSHAEGLQSPAPPIIGVQHQADAL']\n",
      "\n",
      "--> type: misc_feature\n",
      "location: [84:87](+)\n",
      "qualifiers:\n",
      "    Key: gene, Value: ['MTNR1B']\n",
      "    Key: gene_synonym, Value: ['FGQTL2; MEL-1B-R; MT2']\n",
      "    Key: note, Value: ['N-linked (GlcNAc...) asparagine. /evidence=ECO:0000255; propagated from UniProtKB/Swiss-Prot (P49286.1); glycosylation site']\n",
      "\n",
      "--> type: misc_feature\n",
      "location: [201:264](+)\n",
      "qualifiers:\n",
      "    Key: gene, Value: ['MTNR1B']\n",
      "    Key: gene_synonym, Value: ['FGQTL2; MEL-1B-R; MT2']\n",
      "    Key: note, Value: ['propagated from UniProtKB/Swiss-Prot (P49286.1); transmembrane region']\n",
      "\n",
      "--> type: misc_feature\n",
      "location: [11801:11864](+)\n",
      "qualifiers:\n",
      "    Key: gene, Value: ['MTNR1B']\n",
      "    Key: gene_synonym, Value: ['FGQTL2; MEL-1B-R; MT2']\n",
      "    Key: note, Value: ['propagated from UniProtKB/Swiss-Prot (P49286.1); transmembrane region']\n",
      "\n",
      "--> type: misc_feature\n",
      "location: [11918:11981](+)\n",
      "qualifiers:\n",
      "    Key: gene, Value: ['MTNR1B']\n",
      "    Key: gene_synonym, Value: ['FGQTL2; MEL-1B-R; MT2']\n",
      "    Key: note, Value: ['propagated from UniProtKB/Swiss-Prot (P49286.1); transmembrane region']\n",
      "\n",
      "--> type: misc_feature\n",
      "location: [12038:12101](+)\n",
      "qualifiers:\n",
      "    Key: gene, Value: ['MTNR1B']\n",
      "    Key: gene_synonym, Value: ['FGQTL2; MEL-1B-R; MT2']\n",
      "    Key: note, Value: ['propagated from UniProtKB/Swiss-Prot (P49286.1); transmembrane region']\n",
      "\n",
      "--> type: misc_feature\n",
      "location: [12173:12236](+)\n",
      "qualifiers:\n",
      "    Key: gene, Value: ['MTNR1B']\n",
      "    Key: gene_synonym, Value: ['FGQTL2; MEL-1B-R; MT2']\n",
      "    Key: note, Value: ['propagated from UniProtKB/Swiss-Prot (P49286.1); transmembrane region']\n",
      "\n",
      "--> type: misc_feature\n",
      "location: [12332:12395](+)\n",
      "qualifiers:\n",
      "    Key: gene, Value: ['MTNR1B']\n",
      "    Key: gene_synonym, Value: ['FGQTL2; MEL-1B-R; MT2']\n",
      "    Key: note, Value: ['propagated from UniProtKB/Swiss-Prot (P49286.1); transmembrane region']\n",
      "\n",
      "--> type: misc_feature\n",
      "location: [12434:12497](+)\n",
      "qualifiers:\n",
      "    Key: gene, Value: ['MTNR1B']\n",
      "    Key: gene_synonym, Value: ['FGQTL2; MEL-1B-R; MT2']\n",
      "    Key: note, Value: ['propagated from UniProtKB/Swiss-Prot (P49286.1); transmembrane region']\n",
      "\n",
      "--> type: CDS\n",
      "location: join{[75:298](+), [11796:12662](+)}\n",
      "qualifiers:\n",
      "    Key: codon_start, Value: ['1']\n",
      "    Key: db_xref, Value: ['GeneID:4544', 'HGNC:HGNC:7464', 'MIM:600804']\n",
      "    Key: gene, Value: ['MTNR1B']\n",
      "    Key: gene_synonym, Value: ['FGQTL2; MEL-1B-R; MT2']\n",
      "    Key: note, Value: ['Derived by automated computational analysis using gene prediction method: Gnomon.']\n",
      "    Key: product, Value: ['melatonin receptor type 1B isoform X2']\n",
      "    Key: protein_id, Value: ['XP_011541141.1']\n",
      "    Key: translation, Value: ['MSENGSFANCCEAGGWAVRPGWSGAGSARPSRTPRPPWVAPALSAVLIVTTAVDVVGNLLVILSVLRNRKLRNAGNLFLVSLALADLVVAFYPYPLILVAIFYDGWALGEEHCKASAFVMGLSVIGSVFNITAIAINRYCYICHSMAYHRIYRRWHTPLHICLIWLLTVVALLPNFFVGSLEYDPRIYSCTFIQTASTQYTAAVVVIHFLLPIAVVSFCYLRIWVLVLQARRKAKPESRLCLKPSDLRSFLTMFVVFVIFAICWAPLNCIGLAVAINPQEMAPQIPEGLFVTSYLLAYFNSCLNAIVYGLLNQNFRREYKRILLALWNPRHCIQDASKGSHAEGLQSPAPPIIGVQHQADAL']\n",
      "\n",
      "--> type: mRNA\n",
      "location: join{[7508:8137](+), [11796:13073](+), [15156:15310](+)}\n",
      "qualifiers:\n",
      "    Key: db_xref, Value: ['GeneID:4544', 'HGNC:HGNC:7464', 'MIM:600804']\n",
      "    Key: experiment, Value: ['COORDINATES: polyA evidence [ECO:0006239]']\n",
      "    Key: gene, Value: ['MTNR1B']\n",
      "    Key: gene_synonym, Value: ['FGQTL2; MEL-1B-R; MT2']\n",
      "    Key: product, Value: ['melatonin receptor 1B, transcript variant X1']\n",
      "    Key: transcript_id, Value: ['XM_017017777.2']\n",
      "\n",
      "--> type: CDS\n",
      "location: join{[8040:8137](+), [11796:12662](+)}\n",
      "qualifiers:\n",
      "    Key: codon_start, Value: ['1']\n",
      "    Key: db_xref, Value: ['GeneID:4544', 'HGNC:HGNC:7464', 'MIM:600804']\n",
      "    Key: gene, Value: ['MTNR1B']\n",
      "    Key: gene_synonym, Value: ['FGQTL2; MEL-1B-R; MT2']\n",
      "    Key: note, Value: ['Derived by automated computational analysis using gene prediction method: Gnomon.']\n",
      "    Key: product, Value: ['melatonin receptor type 1B isoform X1']\n",
      "    Key: protein_id, Value: ['XP_016873266.1']\n",
      "    Key: translation, Value: ['MATVFFCFPNSSMGISMAGAMSFIHHCVLLECGNLFLVSLALADLVVAFYPYPLILVAIFYDGWALGEEHCKASAFVMGLSVIGSVFNITAIAINRYCYICHSMAYHRIYRRWHTPLHICLIWLLTVVALLPNFFVGSLEYDPRIYSCTFIQTASTQYTAAVVVIHFLLPIAVVSFCYLRIWVLVLQARRKAKPESRLCLKPSDLRSFLTMFVVFVIFAICWAPLNCIGLAVAINPQEMAPQIPEGLFVTSYLLAYFNSCLNAIVYGLLNQNFRREYKRILLALWNPRHCIQDASKGSHAEGLQSPAPPIIGVQHQADAL']\n",
      "\n",
      "Número de features: 16\n"
     ]
    }
   ],
   "source": [
    "# print(record.features)\n",
    "for feat in record.features:\n",
    "    print(\"-->\" , feat)\n",
    "print(f\"Número de features: {len(record.features)}\")"
   ]
  },
  {
   "cell_type": "markdown",
   "id": "403cf127",
   "metadata": {},
   "source": [
    "i) Localização e tipo"
   ]
  },
  {
   "cell_type": "code",
   "execution_count": 40,
   "id": "95c3ae3d",
   "metadata": {},
   "outputs": [
    {
     "name": "stdout",
     "output_type": "stream",
     "text": [
      "source\n",
      "[0:15310](+)\n",
      "gene\n",
      "[0:15310](+)\n",
      "mRNA\n",
      "join{[0:298](+), [11796:13132](+)}\n",
      "mRNA\n",
      "join{[75:298](+), [11796:13073](+), [15156:15310](+)}\n",
      "CDS\n",
      "join{[75:298](+), [11796:12662](+)}\n",
      "misc_feature\n",
      "[84:87](+)\n",
      "misc_feature\n",
      "[201:264](+)\n",
      "misc_feature\n",
      "[11801:11864](+)\n",
      "misc_feature\n",
      "[11918:11981](+)\n",
      "misc_feature\n",
      "[12038:12101](+)\n",
      "misc_feature\n",
      "[12173:12236](+)\n",
      "misc_feature\n",
      "[12332:12395](+)\n",
      "misc_feature\n",
      "[12434:12497](+)\n",
      "CDS\n",
      "join{[75:298](+), [11796:12662](+)}\n",
      "mRNA\n",
      "join{[7508:8137](+), [11796:13073](+), [15156:15310](+)}\n",
      "CDS\n",
      "join{[8040:8137](+), [11796:12662](+)}\n"
     ]
    }
   ],
   "source": [
    "from Bio.SeqFeature import SeqFeature, FeatureLocation\n",
    "for feat in record.features:\n",
    "    print(feat.type)\n",
    "    print(feat.location)"
   ]
  },
  {
   "cell_type": "markdown",
   "id": "b0b58021",
   "metadata": {},
   "source": [
    "ii ) Regiões codificantes"
   ]
  },
  {
   "cell_type": "code",
   "execution_count": 41,
   "id": "b9f98382",
   "metadata": {},
   "outputs": [
    {
     "name": "stdout",
     "output_type": "stream",
     "text": [
      "join{[75:298](+), [11796:12662](+)}\n",
      "join{[75:298](+), [11796:12662](+)}\n",
      "join{[8040:8137](+), [11796:12662](+)}\n",
      "ATGTCAGAGAACGGCTCCTTCGCCAACTGCTGCGAGGCGGGCGGGTGGGCAGTGCGCCCGGGCTGGTCGGGGGCTGGCAGCGCGCGGCCCTCCAGGACCCCTCGACCTCCCTGGGTGGCTCCAGCGCTGTCCGCGGTGCTCATCGTCACCACCGCCGTGGACGTCGTGGGCAACCTCCTGGTGATCCTCTCCGTGCTCAGGAACCGCAAGCTCCGGAACGCAGGTAATTTGTTCTTGGTGAGTCTGGCATTGGCTGACCTGGTGGTGGCCTTCTACCCCTACCCGCTAATCCTCGTGGCCATCTTCTATGACGGCTGGGCCCTGGGGGAGGAGCACTGCAAGGCCAGCGCCTTTGTGATGGGCCTGAGCGTCATCGGCTCTGTCTTCAATATCACTGCCATCGCCATTAACCGCTACTGCTACATCTGCCACAGCATGGCCTACCACCGAATCTACCGGCGCTGGCACACCCCTCTGCACATCTGCCTCATCTGGCTCCTCACCGTGGTGGCCTTGCTGCCCAACTTCTTTGTGGGGTCCCTGGAGTACGACCCACGCATCTATTCCTGCACCTTCATCCAGACCGCCAGCACCCAGTACACGGCGGCAGTGGTGGTCATCCACTTCCTCCTCCCTATCGCTGTCGTGTCCTTCTGCTACCTGCGCATCTGGGTGCTGGTGCTTCAGGCCCGCAGGAAAGCCAAGCCAGAGAGCAGGCTGTGCCTGAAGCCCAGCGACTTGCGGAGCTTTCTAACCATGTTTGTGGTGTTTGTGATCTTTGCCATCTGCTGGGCTCCACTTAACTGCATCGGCCTCGCTGTGGCCATCAACCCCCAAGAAATGGCTCCCCAGATCCCTGAGGGGCTATTTGTCACTAGCTACTTACTGGCTTATTTCAACAGCTGCCTGAATGCCATTGTCTATGGGCTCTTGAACCAAAACTTCCGCAGGGAATACAAGAGGATCCTCTTGGCCCTTTGGAACCCACGGCACTGCATTCAAGATGCTTCCAAGGGCAGCCACGCGGAGGGGCTGCAGAGCCCAGCTCCACCCATCATTGGTGTGCAGCACCAGGCAGATGCTCTCTAG\n",
      "ATGTCAGAGAACGGCTCCTTCGCCAACTGCTGCGAGGCGGGCGGGTGGGCAGTGCGCCCGGGCTGGTCGGGGGCTGGCAGCGCGCGGCCCTCCAGGACCCCTCGACCTCCCTGGGTGGCTCCAGCGCTGTCCGCGGTGCTCATCGTCACCACCGCCGTGGACGTCGTGGGCAACCTCCTGGTGATCCTCTCCGTGCTCAGGAACCGCAAGCTCCGGAACGCAGGTAATTTGTTCTTGGTGAGTCTGGCATTGGCTGACCTGGTGGTGGCCTTCTACCCCTACCCGCTAATCCTCGTGGCCATCTTCTATGACGGCTGGGCCCTGGGGGAGGAGCACTGCAAGGCCAGCGCCTTTGTGATGGGCCTGAGCGTCATCGGCTCTGTCTTCAATATCACTGCCATCGCCATTAACCGCTACTGCTACATCTGCCACAGCATGGCCTACCACCGAATCTACCGGCGCTGGCACACCCCTCTGCACATCTGCCTCATCTGGCTCCTCACCGTGGTGGCCTTGCTGCCCAACTTCTTTGTGGGGTCCCTGGAGTACGACCCACGCATCTATTCCTGCACCTTCATCCAGACCGCCAGCACCCAGTACACGGCGGCAGTGGTGGTCATCCACTTCCTCCTCCCTATCGCTGTCGTGTCCTTCTGCTACCTGCGCATCTGGGTGCTGGTGCTTCAGGCCCGCAGGAAAGCCAAGCCAGAGAGCAGGCTGTGCCTGAAGCCCAGCGACTTGCGGAGCTTTCTAACCATGTTTGTGGTGTTTGTGATCTTTGCCATCTGCTGGGCTCCACTTAACTGCATCGGCCTCGCTGTGGCCATCAACCCCCAAGAAATGGCTCCCCAGATCCCTGAGGGGCTATTTGTCACTAGCTACTTACTGGCTTATTTCAACAGCTGCCTGAATGCCATTGTCTATGGGCTCTTGAACCAAAACTTCCGCAGGGAATACAAGAGGATCCTCTTGGCCCTTTGGAACCCACGGCACTGCATTCAAGATGCTTCCAAGGGCAGCCACGCGGAGGGGCTGCAGAGCCCAGCTCCACCCATCATTGGTGTGCAGCACCAGGCAGATGCTCTCTAG\n",
      "ATGGCTACTGTTTTCTTTTGTTTCCCTAACAGTTCCATGGGCATCTCAATGGCAGGGGCCATGTCTTTCATCCATCACTGCGTCTTACTTGAATGTGGTAATTTGTTCTTGGTGAGTCTGGCATTGGCTGACCTGGTGGTGGCCTTCTACCCCTACCCGCTAATCCTCGTGGCCATCTTCTATGACGGCTGGGCCCTGGGGGAGGAGCACTGCAAGGCCAGCGCCTTTGTGATGGGCCTGAGCGTCATCGGCTCTGTCTTCAATATCACTGCCATCGCCATTAACCGCTACTGCTACATCTGCCACAGCATGGCCTACCACCGAATCTACCGGCGCTGGCACACCCCTCTGCACATCTGCCTCATCTGGCTCCTCACCGTGGTGGCCTTGCTGCCCAACTTCTTTGTGGGGTCCCTGGAGTACGACCCACGCATCTATTCCTGCACCTTCATCCAGACCGCCAGCACCCAGTACACGGCGGCAGTGGTGGTCATCCACTTCCTCCTCCCTATCGCTGTCGTGTCCTTCTGCTACCTGCGCATCTGGGTGCTGGTGCTTCAGGCCCGCAGGAAAGCCAAGCCAGAGAGCAGGCTGTGCCTGAAGCCCAGCGACTTGCGGAGCTTTCTAACCATGTTTGTGGTGTTTGTGATCTTTGCCATCTGCTGGGCTCCACTTAACTGCATCGGCCTCGCTGTGGCCATCAACCCCCAAGAAATGGCTCCCCAGATCCCTGAGGGGCTATTTGTCACTAGCTACTTACTGGCTTATTTCAACAGCTGCCTGAATGCCATTGTCTATGGGCTCTTGAACCAAAACTTCCGCAGGGAATACAAGAGGATCCTCTTGGCCCTTTGGAACCCACGGCACTGCATTCAAGATGCTTCCAAGGGCAGCCACGCGGAGGGGCTGCAGAGCCCAGCTCCACCCATCATTGGTGTGCAGCACCAGGCAGATGCTCTCTAG\n"
     ]
    }
   ],
   "source": [
    "featcds = [ ]\n",
    "for i in range(len(record.features)):\n",
    "    if record.features[i].type == \"CDS\":\n",
    "        featcds.append(i)\n",
    "for k in featcds:\n",
    "    print (record.features[k].location)\n",
    "for k in featcds:\n",
    "    print (record.features[k].extract(record.seq))"
   ]
  },
  {
   "cell_type": "code",
   "execution_count": 42,
   "id": "a6202ad7",
   "metadata": {},
   "outputs": [
    {
     "data": {
      "text/plain": [
       "[4, 13, 15]"
      ]
     },
     "execution_count": 42,
     "metadata": {},
     "output_type": "execute_result"
    }
   ],
   "source": [
    "featcds"
   ]
  },
  {
   "cell_type": "markdown",
   "id": "1439caa6",
   "metadata": {},
   "source": [
    "iii ) Proteína codificada e seu significado biológico (anotações do gene)"
   ]
  },
  {
   "cell_type": "code",
   "execution_count": 43,
   "id": "0ce1f056",
   "metadata": {},
   "outputs": [
    {
     "name": "stdout",
     "output_type": "stream",
     "text": [
      "['melatonin receptor type 1B']\n",
      "['melatonin receptor type 1B isoform X2']\n",
      "['melatonin receptor type 1B isoform X1']\n"
     ]
    }
   ],
   "source": [
    "from Bio.SeqFeature import SeqFeature, FeatureLocation\n",
    "for feat in record.features:\n",
    "    if feat.type == 'CDS':\n",
    "        print(feat.qualifiers['product'])"
   ]
  },
  {
   "cell_type": "code",
   "execution_count": 44,
   "id": "17516d14",
   "metadata": {},
   "outputs": [
    {
     "name": "stdout",
     "output_type": "stream",
     "text": [
      "['melatonin receptor 1B; Derived by automated computational analysis using gene prediction method: BestRefSeq,Gnomon.']\n"
     ]
    }
   ],
   "source": [
    "for feat in record.features:\n",
    "    if feat.type == 'gene':\n",
    "        print(feat.qualifiers[\"note\"])"
   ]
  },
  {
   "cell_type": "code",
   "execution_count": 45,
   "id": "0744de52",
   "metadata": {},
   "outputs": [
    {
     "name": "stdout",
     "output_type": "stream",
     "text": [
      "type: CDS\n",
      "location: join{[75:298](+), [11796:12662](+)}\n",
      "qualifiers:\n",
      "    Key: codon_start, Value: ['1']\n",
      "    Key: db_xref, Value: ['CCDS:CCDS8290.1', 'Ensembl:ENSP00000257068.2', 'GeneID:4544', 'HGNC:HGNC:7464', 'MIM:600804']\n",
      "    Key: gene, Value: ['MTNR1B']\n",
      "    Key: gene_synonym, Value: ['FGQTL2; MEL-1B-R; MT2']\n",
      "    Key: note, Value: ['Derived by automated computational analysis using gene prediction method: BestRefSeq.']\n",
      "    Key: product, Value: ['melatonin receptor type 1B']\n",
      "    Key: protein_id, Value: ['NP_005950.1']\n",
      "    Key: translation, Value: ['MSENGSFANCCEAGGWAVRPGWSGAGSARPSRTPRPPWVAPALSAVLIVTTAVDVVGNLLVILSVLRNRKLRNAGNLFLVSLALADLVVAFYPYPLILVAIFYDGWALGEEHCKASAFVMGLSVIGSVFNITAIAINRYCYICHSMAYHRIYRRWHTPLHICLIWLLTVVALLPNFFVGSLEYDPRIYSCTFIQTASTQYTAAVVVIHFLLPIAVVSFCYLRIWVLVLQARRKAKPESRLCLKPSDLRSFLTMFVVFVIFAICWAPLNCIGLAVAINPQEMAPQIPEGLFVTSYLLAYFNSCLNAIVYGLLNQNFRREYKRILLALWNPRHCIQDASKGSHAEGLQSPAPPIIGVQHQADAL']\n",
      "\n",
      "type: CDS\n",
      "location: join{[75:298](+), [11796:12662](+)}\n",
      "qualifiers:\n",
      "    Key: codon_start, Value: ['1']\n",
      "    Key: db_xref, Value: ['GeneID:4544', 'HGNC:HGNC:7464', 'MIM:600804']\n",
      "    Key: gene, Value: ['MTNR1B']\n",
      "    Key: gene_synonym, Value: ['FGQTL2; MEL-1B-R; MT2']\n",
      "    Key: note, Value: ['Derived by automated computational analysis using gene prediction method: Gnomon.']\n",
      "    Key: product, Value: ['melatonin receptor type 1B isoform X2']\n",
      "    Key: protein_id, Value: ['XP_011541141.1']\n",
      "    Key: translation, Value: ['MSENGSFANCCEAGGWAVRPGWSGAGSARPSRTPRPPWVAPALSAVLIVTTAVDVVGNLLVILSVLRNRKLRNAGNLFLVSLALADLVVAFYPYPLILVAIFYDGWALGEEHCKASAFVMGLSVIGSVFNITAIAINRYCYICHSMAYHRIYRRWHTPLHICLIWLLTVVALLPNFFVGSLEYDPRIYSCTFIQTASTQYTAAVVVIHFLLPIAVVSFCYLRIWVLVLQARRKAKPESRLCLKPSDLRSFLTMFVVFVIFAICWAPLNCIGLAVAINPQEMAPQIPEGLFVTSYLLAYFNSCLNAIVYGLLNQNFRREYKRILLALWNPRHCIQDASKGSHAEGLQSPAPPIIGVQHQADAL']\n",
      "\n",
      "type: CDS\n",
      "location: join{[8040:8137](+), [11796:12662](+)}\n",
      "qualifiers:\n",
      "    Key: codon_start, Value: ['1']\n",
      "    Key: db_xref, Value: ['GeneID:4544', 'HGNC:HGNC:7464', 'MIM:600804']\n",
      "    Key: gene, Value: ['MTNR1B']\n",
      "    Key: gene_synonym, Value: ['FGQTL2; MEL-1B-R; MT2']\n",
      "    Key: note, Value: ['Derived by automated computational analysis using gene prediction method: Gnomon.']\n",
      "    Key: product, Value: ['melatonin receptor type 1B isoform X1']\n",
      "    Key: protein_id, Value: ['XP_016873266.1']\n",
      "    Key: translation, Value: ['MATVFFCFPNSSMGISMAGAMSFIHHCVLLECGNLFLVSLALADLVVAFYPYPLILVAIFYDGWALGEEHCKASAFVMGLSVIGSVFNITAIAINRYCYICHSMAYHRIYRRWHTPLHICLIWLLTVVALLPNFFVGSLEYDPRIYSCTFIQTASTQYTAAVVVIHFLLPIAVVSFCYLRIWVLVLQARRKAKPESRLCLKPSDLRSFLTMFVVFVIFAICWAPLNCIGLAVAINPQEMAPQIPEGLFVTSYLLAYFNSCLNAIVYGLLNQNFRREYKRILLALWNPRHCIQDASKGSHAEGLQSPAPPIIGVQHQADAL']\n",
      "\n"
     ]
    }
   ],
   "source": [
    "for feat in record.features:\n",
    "    if feat.type == \"CDS\":\n",
    "        print(feat)"
   ]
  },
  {
   "cell_type": "markdown",
   "id": "cfefff12",
   "metadata": {},
   "source": [
    "iv) Converter a FASTA"
   ]
  },
  {
   "cell_type": "code",
   "execution_count": 47,
   "id": "44d4e196",
   "metadata": {},
   "outputs": [
    {
     "name": "stdout",
     "output_type": "stream",
     "text": [
      "Foi convertido 1 registo.\n"
     ]
    }
   ],
   "source": [
    "from Bio import SeqIO\n",
    "records = SeqIO.parse(\"MTNR1B.gb\",\"genbank\")\n",
    "count = SeqIO.write(records, \"MTNR1B.fasta\",\"fasta\")\n",
    "print(f'Foi convertido {count} registo.')"
   ]
  },
  {
   "cell_type": "markdown",
   "id": "de26222e",
   "metadata": {},
   "source": [
    "## Análise de homologias por BLAST"
   ]
  },
  {
   "cell_type": "markdown",
   "id": "9e5724a6",
   "metadata": {},
   "source": [
    "##### Nesta parte também devemos ter que ir à base de dados NCBI para confirmar os resultados (rever aula 5)"
   ]
  },
  {
   "cell_type": "markdown",
   "id": "513fded5",
   "metadata": {},
   "source": [
    "As ferramentas de procura de homologias serão de especial relevo, nomeadamente para a \n",
    "procura de genes homólogos, bem como para a caracterização funcional dos genes \n",
    "selecionados. No primeiro caso, deverá configurar adequadamente as suas pesquisas ao nível \n",
    "da base de dados e desenvolver código para automatizar a decisão de existência de homologias \n",
    "significativas. No segundo caso, poderá analisar a lista de sequências homólogas e identificar \n",
    "padrões consistentes ao nível da função desempenhada por estas"
   ]
  },
  {
   "cell_type": "code",
   "execution_count": 48,
   "id": "27babb91",
   "metadata": {},
   "outputs": [],
   "source": [
    "from Bio.Blast import NCBIXML \n",
    "from Bio.Blast import NCBIWWW \n",
    "from Bio import SeqIO"
   ]
  },
  {
   "cell_type": "code",
   "execution_count": 49,
   "id": "5367371b",
   "metadata": {},
   "outputs": [
    {
     "name": "stdout",
     "output_type": "stream",
     "text": [
      "15310\n"
     ]
    }
   ],
   "source": [
    "record = SeqIO.read(open(\"MTNR1B.fasta\"), format= \"fasta\")\n",
    "print(len(record.seq))"
   ]
  },
  {
   "cell_type": "code",
   "execution_count": 50,
   "id": "fe8dcfd3",
   "metadata": {},
   "outputs": [],
   "source": [
    "result_handle = NCBIWWW.qblast(\"blastn\",\"nt\", record.seq)"
   ]
  },
  {
   "cell_type": "code",
   "execution_count": 51,
   "id": "996ecd71",
   "metadata": {},
   "outputs": [],
   "source": [
    "save_file = open(\"MTNR1B_b.xml\",\"w\")\n",
    "save_file.write(result_handle.read())\n",
    "save_file.close()\n",
    "result_handle.close()"
   ]
  },
  {
   "cell_type": "code",
   "execution_count": 52,
   "id": "ea1cf1f3",
   "metadata": {},
   "outputs": [
    {
     "name": "stdout",
     "output_type": "stream",
     "text": [
      "Database: nt\n",
      "Gap penalty:(5, 2)\n"
     ]
    }
   ],
   "source": [
    "result_handle = open(\"MTNR1B_b.xml\")\n",
    "blast_record = NCBIXML.parse(result_handle)\n",
    "for br in blast_record:\n",
    "    print(f\"Database: {br.database}\")\n",
    "    print(f\"Gap penalty:{br.gap_penalties}\")"
   ]
  },
  {
   "cell_type": "markdown",
   "id": "d31e483e",
   "metadata": {},
   "source": [
    "Número de alinhamentos do registo\n",
    "\n",
    "Acession number, ID do hit, definicao\n",
    "\n",
    "nºs de HSP (high scoring pair) do alinhamento, e-value, score, tamanho do alinhamento, numero de caracteres iguais"
   ]
  },
  {
   "cell_type": "code",
   "execution_count": 53,
   "id": "860f2d2f",
   "metadata": {},
   "outputs": [
    {
     "name": "stdout",
     "output_type": "stream",
     "text": [
      "0\n"
     ]
    }
   ],
   "source": [
    "print(len(br.alignments))"
   ]
  },
  {
   "cell_type": "code",
   "execution_count": 54,
   "id": "20f1e206",
   "metadata": {
    "scrolled": false
   },
   "outputs": [],
   "source": [
    "for br_x in br.alignments:\n",
    "    print(f\"Acession number: {br_x.accession}\")\n",
    "    print(f\"ID do hit: {br_x.hit_id}\")\n",
    "    print(f\"Definição: {br_x.hit_def}\")\n",
    "    print(f\"HSP: {br_x.hsps}\")\n",
    "    break\n",
    "    #???"
   ]
  },
  {
   "cell_type": "code",
   "execution_count": 55,
   "id": "c14cbedb",
   "metadata": {
    "scrolled": true
   },
   "outputs": [],
   "source": [
    "for alignment in br.alignments:\n",
    "    for hsp in alignment.hsps:\n",
    "        print(\"        ***ALINHAMENTO***\")\n",
    "        print(f\"E-value: {hsp.expect}\")\n",
    "        print(f\"Score: {hsp.score}\")\n",
    "        print(f\"Tamanho: {hsp.align_length}\")\n",
    "        print(f\"Caracteres iguais: {len(hsp.match)}\")\n",
    "        print(\"Query \" + hsp.query[100:200] + \"...\")\n",
    "        print(\"Match \" + hsp.match[100:200] + \"...\")\n",
    "        print(\"Sbjct \" + hsp.sbjct[100:200] + \"...\")\n",
    "        print()"
   ]
  },
  {
   "cell_type": "code",
   "execution_count": 56,
   "id": "69040a7d",
   "metadata": {},
   "outputs": [],
   "source": [
    "from Bio import SearchIO"
   ]
  },
  {
   "cell_type": "code",
   "execution_count": 57,
   "id": "fd1ca6a2",
   "metadata": {},
   "outputs": [
    {
     "name": "stdout",
     "output_type": "stream",
     "text": [
      "Program: blastn (2.13.0+)\n",
      "  Query: No (15310)\n",
      "         definition line\n",
      " Target: nt\n",
      "   Hits: 0\n"
     ]
    }
   ],
   "source": [
    "blastq_result = SearchIO.read(\"MTNR1B_b.xml\", \"blast-xml\")\n",
    "print(blastq_result)"
   ]
  },
  {
   "cell_type": "code",
   "execution_count": 58,
   "id": "aab99254",
   "metadata": {},
   "outputs": [
    {
     "ename": "IndexError",
     "evalue": "list index out of range",
     "output_type": "error",
     "traceback": [
      "\u001b[0;31m---------------------------------------------------------------------------\u001b[0m",
      "\u001b[0;31mIndexError\u001b[0m                                Traceback (most recent call last)",
      "Cell \u001b[0;32mIn [58], line 2\u001b[0m\n\u001b[1;32m      1\u001b[0m \u001b[39m#Primeiro hit, primeiro HSP\u001b[39;00m\n\u001b[0;32m----> 2\u001b[0m blast_hsp \u001b[39m=\u001b[39m blastq_result[\u001b[39m0\u001b[39m][\u001b[39m0\u001b[39m]    \n\u001b[1;32m      3\u001b[0m \u001b[39mprint\u001b[39m(blast_hsp)\n",
      "File \u001b[0;32m~/.local/lib/python3.10/site-packages/Bio/SearchIO/_model/query.py:327\u001b[0m, in \u001b[0;36mQueryResult.__getitem__\u001b[0;34m(self, hit_key)\u001b[0m\n\u001b[1;32m    325\u001b[0m             \u001b[39mif\u001b[39;00m length \u001b[39m+\u001b[39m hit_key \u001b[39m==\u001b[39m idx:\n\u001b[1;32m    326\u001b[0m                 \u001b[39mreturn\u001b[39;00m item\n\u001b[0;32m--> 327\u001b[0m     \u001b[39mraise\u001b[39;00m \u001b[39mIndexError\u001b[39;00m(\u001b[39m\"\u001b[39m\u001b[39mlist index out of range\u001b[39m\u001b[39m\"\u001b[39m)\n\u001b[1;32m    329\u001b[0m \u001b[39m# if key is a string, then do a regular dictionary retrieval\u001b[39;00m\n\u001b[1;32m    330\u001b[0m \u001b[39m# falling back on alternative hit IDs\u001b[39;00m\n\u001b[1;32m    331\u001b[0m \u001b[39mtry\u001b[39;00m:\n",
      "\u001b[0;31mIndexError\u001b[0m: list index out of range"
     ]
    }
   ],
   "source": [
    "#Primeiro hit, primeiro HSP\n",
    "blast_hsp = blastq_result[0][0]    \n",
    "print(blast_hsp)"
   ]
  },
  {
   "cell_type": "code",
   "execution_count": 59,
   "id": "73d52dd8",
   "metadata": {},
   "outputs": [
    {
     "ename": "NameError",
     "evalue": "name 'blast_hsp' is not defined",
     "output_type": "error",
     "traceback": [
      "\u001b[0;31m---------------------------------------------------------------------------\u001b[0m",
      "\u001b[0;31mNameError\u001b[0m                                 Traceback (most recent call last)",
      "Cell \u001b[0;32mIn [59], line 1\u001b[0m\n\u001b[0;32m----> 1\u001b[0m blast_hsp\u001b[39m.\u001b[39mquery_range\n",
      "\u001b[0;31mNameError\u001b[0m: name 'blast_hsp' is not defined"
     ]
    }
   ],
   "source": [
    "blast_hsp.query_range"
   ]
  },
  {
   "cell_type": "code",
   "execution_count": null,
   "id": "d3ae6bae",
   "metadata": {},
   "outputs": [],
   "source": [
    "blast_hsp.evalue"
   ]
  },
  {
   "cell_type": "code",
   "execution_count": null,
   "id": "30e250b1",
   "metadata": {},
   "outputs": [],
   "source": [
    "#Três primeiros hsp\n",
    "blast_slice = blastq_result[:3]\n",
    "print(blast_slice)"
   ]
  },
  {
   "cell_type": "markdown",
   "id": "a0f42508",
   "metadata": {},
   "source": [
    "## Ferramentas de análise das propriedades da proteína"
   ]
  },
  {
   "cell_type": "markdown",
   "id": "6d3d6a7a",
   "metadata": {},
   "source": [
    "##### Ver bases de dados curadas, UniProt, SwissProt pelo Biopyhton, PDB, CDD"
   ]
  },
  {
   "cell_type": "markdown",
   "id": "4e94745b",
   "metadata": {},
   "source": [
    "A base de dados UniProt permite aceder a toda a informação de um conjunto alargado de\n",
    "proteínas. Os ficheiros da SwissProt podem ser tratados automaticamente pelo BioPython (ver \n",
    "exemplos na secção 10.1 do tutorial).\n",
    "Note que os registos UniProt podem ter diferentes graus de revisão por parte dos curadores da \n",
    "base de dados, sendo nos casos em que o registo tenha sido manualmente curado uma fonte \n",
    "importante de informação."
   ]
  },
  {
   "cell_type": "code",
   "execution_count": null,
   "id": "24ba4434",
   "metadata": {},
   "outputs": [],
   "source": [
    "from Bio import ExPASy\n",
    "from Bio import SeqIO"
   ]
  },
  {
   "cell_type": "code",
   "execution_count": null,
   "id": "1133420a",
   "metadata": {},
   "outputs": [],
   "source": [
    "#Transcrição\n",
    "\n",
    "mtnr1b_mrna = record.seq.transcribe()\n",
    "mtnr1b_mrna"
   ]
  },
  {
   "cell_type": "code",
   "execution_count": null,
   "id": "01a13c94",
   "metadata": {},
   "outputs": [],
   "source": [
    "#Tradução\n",
    "mtnr1b_prot = mtnr1b_mrna.translate()\n",
    "mtnr1b_prot"
   ]
  },
  {
   "cell_type": "code",
   "execution_count": null,
   "id": "d5375c88",
   "metadata": {},
   "outputs": [],
   "source": [
    "from collections import Counter\n",
    "common_amino = Counter(mtnr1b_prot)\n",
    "common_amino"
   ]
  },
  {
   "cell_type": "code",
   "execution_count": null,
   "id": "f214481e",
   "metadata": {},
   "outputs": [],
   "source": [
    "#Codões STOP\n",
    "protein = mtnr1b_prot.split('*')\n",
    "protein"
   ]
  },
  {
   "cell_type": "code",
   "execution_count": null,
   "id": "78943845",
   "metadata": {},
   "outputs": [],
   "source": [
    "handle = ExPASy.get_sprot_raw(\"P49286\")\n",
    "seq_record = SeqIO.read(handle, \"swiss\")\n",
    "id = seq_record.id\n",
    "seq = seq_record.seq\n",
    "tam = len(seq_record.seq)\n",
    "name = seq_record.name\n",
    "desc = seq_record.description\n",
    "com = seq_record.annotations[\"comment\"]\n",
    "taxon = seq_record.annotations[\"taxonomy\"]\n",
    "organism = seq_record.annotations[\"organism\"]\n",
    "key = seq_record.annotations[\"keywords\"]\n",
    "print(f\"ID {id} \\n Sequência: {seq} \\n Tamanho da sequência: {tam} bp\")\n",
    "print(f\"Nome: {name} \\n Descrição: {desc} \\n Taxonomia: {taxon} \\n Organismo: {organism} \\n Keywords: {key}\")"
   ]
  },
  {
   "cell_type": "code",
   "execution_count": null,
   "id": "21447ddf",
   "metadata": {},
   "outputs": [],
   "source": [
    "seq_prot = seq_record.seq\n",
    "result_handle = NCBIWWW.qblast('blastp','swissprot', seq_prot)\n",
    "save_file = open(\"prot_blast_swiss.xml\",\"w\")\n",
    "save_file.write(result_handle.read())\n",
    "save_file.close()\n",
    "\n",
    "blast_record = NCBIXML.parse(result_handle)"
   ]
  },
  {
   "cell_type": "code",
   "execution_count": null,
   "id": "6bfc0204",
   "metadata": {},
   "outputs": [],
   "source": [
    "#Protein BLAST swissprot\n",
    "from Bio.Blast import NCBIWWW\n",
    "result_handle = NCBIWWW.qblast(\"blastp\", \"swissprot\", seq_record.seq)"
   ]
  },
  {
   "cell_type": "code",
   "execution_count": null,
   "id": "368a4533",
   "metadata": {},
   "outputs": [],
   "source": [
    "from Bio import SearchIO\n",
    "blast_records = SearchIO.read(result_handle, \"blast-xml\")"
   ]
  },
  {
   "cell_type": "code",
   "execution_count": null,
   "id": "08776c54",
   "metadata": {},
   "outputs": [],
   "source": [
    "print(blast_records[:])"
   ]
  },
  {
   "cell_type": "code",
   "execution_count": null,
   "id": "656ee440",
   "metadata": {},
   "outputs": [],
   "source": [
    "for br in blast_records:\n",
    "    print(f'Sequence ID: {br.id}')\n",
    "    print(f'Description: {br.description}')\n",
    "    print(f'E-value: {br[0].evalue}')\n",
    "    print(f'Bit Score: {br[0].bitscore}')\n",
    "    print(f'Alignment:\\n{br[0].aln}')\n",
    "    print()"
   ]
  },
  {
   "cell_type": "code",
   "execution_count": null,
   "id": "b2c9215e",
   "metadata": {},
   "outputs": [],
   "source": [
    "print(blast_records[:])"
   ]
  },
  {
   "cell_type": "code",
   "execution_count": null,
   "id": "e3d16629",
   "metadata": {},
   "outputs": [],
   "source": [
    "protein_seq = SeqIO.read(\"protein_seq.fasta\",\"fasta\")"
   ]
  },
  {
   "cell_type": "code",
   "execution_count": null,
   "id": "a6e59e31",
   "metadata": {},
   "outputs": [],
   "source": [
    "\n",
    "protein_seq.seq"
   ]
  },
  {
   "cell_type": "markdown",
   "id": "22ed5ac1",
   "metadata": {},
   "source": [
    "Por outro lado, a base de dados PDB contém informação sobre a estrutura das proteínas. Poderá \n",
    "efetuar pesquisas nesta base de dados no sentido de identificar proteínas de interesse que \n",
    "estejam presentes nesta base de dados. As proteínas de interesse podem ser analisadas \n",
    "identificando zonas de possível ligação de compostos que possam regular o seu funcionamento.\n",
    "Complementarmente, foram estudadas ferramentas que permitem inferir características da \n",
    "proteína com base na sua sequência, como sejam a sua localização celular, a existência de \n",
    "domínios transmembranares ou alterações pós-tradução relevantes. Todas estas ferramentas \n",
    "permitem dar pistas sobre as proteínas de interesse."
   ]
  },
  {
   "attachments": {},
   "cell_type": "markdown",
   "id": "ee620e9f",
   "metadata": {},
   "source": [
    "Foram ainda abordadas bases de dados de domínios de proteínas, das quais se destaca a NCBI \n",
    "CDD (conserved domain database) do NCBI. Esta base de dados, ou outras similares, pode ser \n",
    "usada para confirmar a anotação de proteínas de interesse, sendo de particular utilidade quando \n",
    "subsistem dúvidas sobre a anotação, quer esta provenha da anotação original, quer provenha \n",
    "de resultados de homologia (e.g. BLAST). Por outro lado, permite a análise dos domínios \n",
    "presentes na proteína, de forma a poder caracterizar potenciais pontos de ligação de compostos \n",
    "e outras proteínas que possam inibir o funcionamento da proteína"
   ]
  },
  {
   "cell_type": "code",
   "execution_count": null,
   "id": "9a89f2a2",
   "metadata": {},
   "outputs": [],
   "source": [
    "from Bio.PDB.PDBParser import PDBParser"
   ]
  },
  {
   "cell_type": "code",
   "execution_count": null,
   "id": "aef440bc",
   "metadata": {},
   "outputs": [],
   "source": [
    "#Protein BLAST cdd\n",
    "from Bio.Blast import NCBIWWW\n",
    "result_handle = NCBIWWW.qblast(\"blastp\", \"CDD\", seq_record.seq)"
   ]
  },
  {
   "cell_type": "code",
   "execution_count": null,
   "id": "63a35503",
   "metadata": {},
   "outputs": [],
   "source": [
    "blast_records = SearchIO.read(result_handle, \"blast-xml\")"
   ]
  },
  {
   "cell_type": "code",
   "execution_count": null,
   "id": "077ed9c7",
   "metadata": {},
   "outputs": [],
   "source": [
    "print(blast_records[:])"
   ]
  },
  {
   "cell_type": "code",
   "execution_count": null,
   "id": "eae6cee2",
   "metadata": {},
   "outputs": [],
   "source": [
    "for br in blast_records:\n",
    "    print(f'Sequence ID: {br.id}')\n",
    "    print(f'Description: {br.description}')\n",
    "    print(f'E-value: {br[0].evalue}')\n",
    "    print(f'Bit Score: {br[0].bitscore}')\n",
    "    print(f'Alignment:\\n{br[0].aln}')\n",
    "    print()"
   ]
  },
  {
   "cell_type": "code",
   "execution_count": null,
   "id": "f6a2e723",
   "metadata": {},
   "outputs": [],
   "source": [
    "prots = []\n",
    "for p in protein:\n",
    "    if len(p) > 20:\n",
    "        prots.append(p)\n",
    "prots"
   ]
  },
  {
   "cell_type": "code",
   "execution_count": null,
   "id": "c39cb3c1",
   "metadata": {},
   "outputs": [],
   "source": [
    "with open (\"protein_seq.fasta\",\"w\") as file:\n",
    "    file.write(f\">Protein: \\n {prots[:]}\")"
   ]
  },
  {
   "cell_type": "code",
   "execution_count": null,
   "id": "97a327d1",
   "metadata": {},
   "outputs": [],
   "source": [
    "from Bio import SeqIO\n",
    "protein_seq = SeqIO.read(\"protein_seq.fasta\",\"fasta\")"
   ]
  },
  {
   "cell_type": "code",
   "execution_count": null,
   "id": "47262811",
   "metadata": {},
   "outputs": [],
   "source": [
    "protein_seq.seq"
   ]
  },
  {
   "cell_type": "code",
   "execution_count": null,
   "id": "fd1646fc",
   "metadata": {},
   "outputs": [],
   "source": [
    "#Protein BLAST\n",
    "from Bio.Blast import NCBIWWW\n",
    "result_handle = NCBIWWW.qblast(\"blastp\", \"pdb\", protein_seq)"
   ]
  },
  {
   "cell_type": "code",
   "execution_count": null,
   "id": "8c6405b4",
   "metadata": {},
   "outputs": [],
   "source": [
    "from Bio import SearchIO\n",
    "blast_records = SearchIO.read(result_handle, \"blast-xml\")"
   ]
  },
  {
   "cell_type": "code",
   "execution_count": null,
   "id": "143e888b",
   "metadata": {},
   "outputs": [],
   "source": [
    "print(blast_records[:])"
   ]
  },
  {
   "cell_type": "markdown",
   "id": "87ba434d",
   "metadata": {},
   "source": [
    "## Alinhamentos múltiplos e filogenia"
   ]
  },
  {
   "cell_type": "markdown",
   "id": "806f1059",
   "metadata": {},
   "source": [
    "selecionar-se a sequência de interesse do organismo e um conjunto de\n",
    "sequências homólogas (e.g. provenientes de um processo de BLAST) de organismos\n",
    "selecionados, realizar o seu alinhamento múltiplo e complementarmente determinar a árvore\n",
    "filogenética correspondente"
   ]
  },
  {
   "cell_type": "code",
   "execution_count": null,
   "id": "7d3af374",
   "metadata": {},
   "outputs": [],
   "source": [
    "from Bio import Phylo\n",
    "from Bio import AlignIO\n",
    "from Bio.SeqRecord import SeqRecord\n",
    "from Bio.Align import MultipleSeqAlignment\n",
    "from Bio.Seq import Seq\n",
    "from Bio import SeqIO\n",
    "from Bio.Align import AlignInfo"
   ]
  },
  {
   "cell_type": "code",
   "execution_count": null,
   "id": "9e79fa71",
   "metadata": {},
   "outputs": [],
   "source": [
    "result_blast = open(\"MTNR1B_b.xml\")\n",
    "blast_records = NCBIXML.read(result_blast)\n",
    "for alignment in blast_records.alignments:\n",
    "    for hsp in alignment.hsps:\n",
    "        print(\">\", alignment.title, \"\\n\", hsp.query[0:45])\n",
    "        print()"
   ]
  },
  {
   "cell_type": "code",
   "execution_count": null,
   "id": "25ecd8b3",
   "metadata": {},
   "outputs": [],
   "source": [
    "#guardou se manualmente o alinhamento anterior no ficheiro mtnr1b_blast.txt\n",
    "alignments = AlignIO.parse(\"MTNR1B_BLAST.txt\",format = \"fasta\")\n",
    "for alignment in alignments:\n",
    "    print(alignment)"
   ]
  },
  {
   "cell_type": "code",
   "execution_count": null,
   "id": "1349d364",
   "metadata": {},
   "outputs": [],
   "source": [
    "AlignIO.write(alignment, \"align_results_mtnr1b\", \"fasta\")"
   ]
  },
  {
   "cell_type": "code",
   "execution_count": null,
   "id": "5538fe2f",
   "metadata": {},
   "outputs": [],
   "source": [
    "summary_align = AlignInfo.SummaryInfo(alignment)\n",
    "consensus = summary_align.dumb_consensus()\n",
    "consensus"
   ]
  },
  {
   "cell_type": "code",
   "execution_count": null,
   "id": "54669f6a",
   "metadata": {},
   "outputs": [],
   "source": [
    "alignment = AlignIO.read(open(\"align_results_mtnr1b.sth\"),\"stockholm\")\n",
    "print(alignment)"
   ]
  },
  {
   "cell_type": "code",
   "execution_count": null,
   "id": "593fce7d",
   "metadata": {},
   "outputs": [],
   "source": [
    "from Bio.Phylo.TreeConstruction import DistanceCalculator\n",
    "from Bio import AlignIO\n",
    "from Bio.Phylo.TreeConstruction import DistanceTreeConstructor\n",
    "calculator = DistanceCalculator('blosum62')\n",
    "dm = calculator.get_distance(alignment)\n",
    "print(dm)"
   ]
  },
  {
   "cell_type": "code",
   "execution_count": null,
   "id": "86460dd8",
   "metadata": {},
   "outputs": [],
   "source": [
    "constructor = DistanceTreeConstructor()\n",
    "upgmatree = constructor.upgma(dm)\n",
    "print(upgmatree)"
   ]
  },
  {
   "cell_type": "code",
   "execution_count": null,
   "id": "df5ae2a2",
   "metadata": {},
   "outputs": [],
   "source": [
    "seq1 = \"MHQAIFIYQIGYPLKSGYIQSIRSPEYDNW\"\n",
    "seq2 = \"MH--IFIYQIGYALKSGYIQSIRSPEY-NW\"\n",
    "\n",
    "seqr1 = SeqRecord(Seq(seq1),id=\"seq1\")\n",
    "seqr2 = SeqRecord(Seq(seq2),id=\"seq2\")\n",
    "alin = MultipleSeqAlignment([seqr1, seqr2])\n",
    "print (alin)\n"
   ]
  },
  {
   "cell_type": "code",
   "execution_count": null,
   "id": "8a964ba2",
   "metadata": {},
   "outputs": [],
   "source": [
    "align1 = MultipleSeqAlignment([SeqRecord(Seq(\"ACTGCTAGC\"), id=\"A\"), \n",
    "    SeqRecord(Seq(\"ACT-CTAGC\"), id=\"B\"), \n",
    "    SeqRecord(Seq(\"ACTGCTAGD\"), id=\"C\"), ]) \n",
    "align2 = MultipleSeqAlignment([ SeqRecord(Seq(\"TCAGC-AG\"), id=\"D\"), \n",
    "    SeqRecord(Seq(\"ACAGCTAG\"), id=\"E\"), \n",
    "    SeqRecord(Seq(\"TCAGCTAG\"), id=\"F\"), ])\n",
    "\n",
    "my_alignments = [align1, align2]\n",
    "\n",
    "AlignIO.write(my_alignments, \"my_example.phy\", \"phylip\") \n",
    "AlignIO.write(my_alignments, \"my_exampl.sth\", \"stockholm\")\n",
    "AlignIO.write(my_alignments, \"my_examp.faa\", \"fasta\")"
   ]
  },
  {
   "cell_type": "code",
   "execution_count": null,
   "id": "a7e4e612",
   "metadata": {},
   "outputs": [],
   "source": [
    "alignment = AlignIO.read(\"my_exampl.sth\", \"stockholm\")\n",
    "print (alignment)\n",
    " \n",
    "print (\"tamanho alinhamento %i\" % alignment.get_alignment_length() )\n",
    " \n",
    "for record in alignment:\n",
    "    print (\"%s - %s\" % (record.seq, record.id) )\n",
    "for record in alignment:\n",
    "    if record.dbxrefs: \n",
    "        print (record.id, record.dbxrefs)"
   ]
  },
  {
   "cell_type": "code",
   "execution_count": null,
   "id": "bc046cdc",
   "metadata": {},
   "outputs": [],
   "source": [
    "alignment = AlignIO.read(\"MTNR1B.faa\", \"fasta\")\n",
    "print (alignment )\n",
    "\n",
    "print (\"tam. alinhamento %i\" % alignment.get_alignment_length() )\n",
    " \n",
    "for record in alignment:\n",
    "    print (\"%s - %s\" % (record.seq, record.id) )"
   ]
  },
  {
   "cell_type": "markdown",
   "id": "af97e70d",
   "metadata": {},
   "source": [
    "Multiplos alinhamentos (formato phylip)"
   ]
  },
  {
   "cell_type": "code",
   "execution_count": null,
   "id": "eae46cdb",
   "metadata": {},
   "outputs": [],
   "source": [
    "alignments = AlignIO.parse(\"MTNR1B.phy\", \"phylip\") \n",
    "for alignment in alignments: \n",
    "    print (alignment)"
   ]
  },
  {
   "cell_type": "code",
   "execution_count": null,
   "id": "c15e0929",
   "metadata": {},
   "outputs": [],
   "source": [
    "lalignments = list(AlignIO.parse(\"MTNR1B.phy\", \"phylip\")) \n",
    "print (lalignments[-1])\n",
    "print (lalignments[0])"
   ]
  },
  {
   "attachments": {},
   "cell_type": "markdown",
   "id": "4d943faf",
   "metadata": {},
   "source": [
    "arvore filogeni"
   ]
  },
  {
   "cell_type": "code",
   "execution_count": null,
   "id": "bc3b6221",
   "metadata": {},
   "outputs": [],
   "source": [
    "tree = Phylo.read(\"example.dnd\", \"newick\")"
   ]
  },
  {
   "cell_type": "code",
   "execution_count": null,
   "id": "79b77d09",
   "metadata": {},
   "outputs": [],
   "source": [
    "Phylo.draw_ascii(tree)"
   ]
  },
  {
   "cell_type": "code",
   "execution_count": null,
   "id": "0a229e03",
   "metadata": {},
   "outputs": [],
   "source": [
    "Phylo.convert(\"int_node_labels.nwk\", \"newick\", \"tree.xml\", \"phyloxml\")"
   ]
  }
 ],
 "metadata": {
  "kernelspec": {
   "display_name": "Python 3.10.6 64-bit",
   "language": "python",
   "name": "python3"
  },
  "language_info": {
   "codemirror_mode": {
    "name": "ipython",
    "version": 3
   },
   "file_extension": ".py",
   "mimetype": "text/x-python",
   "name": "python",
   "nbconvert_exporter": "python",
   "pygments_lexer": "ipython3",
   "version": "3.10.6"
  },
  "vscode": {
   "interpreter": {
    "hash": "916dbcbb3f70747c44a77c7bcd40155683ae19c65e1c03b4aa3499c5328201f1"
   }
  }
 },
 "nbformat": 4,
 "nbformat_minor": 5
}
